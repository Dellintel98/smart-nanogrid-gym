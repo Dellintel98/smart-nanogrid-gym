{
 "cells": [
  {
   "cell_type": "markdown",
   "id": "9ad757fc",
   "metadata": {},
   "source": [
    "# Trained Smart Nanogrid Model Predictor with Visualisation"
   ]
  },
  {
   "cell_type": "code",
   "execution_count": 1,
   "id": "b84492f8",
   "metadata": {},
   "outputs": [],
   "source": [
    "import gym\n",
    "import numpy as np\n",
    "import os\n",
    "import argparse\n",
    "import time\n",
    "\n",
    "import pandas as pd\n",
    "import plotly\n",
    "import plotly.express as px\n",
    "from plotly.subplots import make_subplots, go\n",
    "import plotly.io as pio\n",
    "import plotly.figure_factory as ff\n",
    "\n",
    "import json\n",
    "\n",
    "from stable_baselines3 import PPO\n",
    "from smart_nanogrid_gym.utils.config import solvers_files_directory_path"
   ]
  },
  {
   "cell_type": "code",
   "execution_count": 2,
   "id": "9f4638d4",
   "metadata": {},
   "outputs": [],
   "source": [
    "pd.options.plotting.backend = \"plotly\"\n",
    "pio.templates.default = \"plotly_white\"\n",
    "pd.set_option('display.max_columns', None)"
   ]
  },
  {
   "cell_type": "code",
   "execution_count": 3,
   "id": "b361c25b",
   "metadata": {},
   "outputs": [],
   "source": [
    "def predict_single_day(current_model, env, kwargs):\n",
    "    rewards_list = []\n",
    "    actions_list = []\n",
    "    \n",
    "\n",
    "    obs, _ = env.reset(**kwargs)\n",
    "    done = False\n",
    "    while not done:\n",
    "        action, _states = current_model.predict(obs)\n",
    "        obs, reward, terminated, truncated, info = env.step(action)\n",
    "        done = terminated or truncated\n",
    "        rewards_list.append(reward)\n",
    "        actions_list.append(action)\n",
    "\n",
    "    return rewards_list, actions_list"
   ]
  },
  {
   "cell_type": "code",
   "execution_count": 4,
   "id": "ff0dad74",
   "metadata": {},
   "outputs": [],
   "source": [
    "environment_mode = 'prediction'\n",
    "# Modes: 'no_penalty', 'on_departure', 'sparse', 'dense'\n",
    "penalty_mode = 'sparse'\n",
    "# Variants: \n",
    "#    -'basic'(only vehicle charging from the grid)\n",
    "#    -'b-pv'(vehicle charging alongside grid, solar energy from the PV system and dis/charging battery system)\n",
    "model_variant = 'b-pv'\n",
    "\n",
    "charging_mode = 'bounded'\n",
    "number_of_chargers = 4\n",
    "\n",
    "# Time intervals: '15min'(0.25), '30min'(0.5), '45min'(0.75), '1h'(1), '2h'(2)\n",
    "time_interval_string = '1h'\n",
    "time_interval = 1\n",
    "\n",
    "agent_algorithm = 'PPO'\n",
    "timesteps_per_episode = 24 / time_interval\n",
    "\n",
    "prediction_episodes = 1\n",
    "prediction_steps = timesteps_per_episode\n",
    "\n",
    "device = 'cuda' if number_of_chargers >= 8 else 'cpu'\n",
    "\n",
    "data_directory = 'single_prediction_files'"
   ]
  },
  {
   "cell_type": "code",
   "execution_count": 5,
   "id": "05abb920",
   "metadata": {},
   "outputs": [
    {
     "data": {
      "text/plain": [
       "'PPO-b-pv-bounded-sparse-4ch-1h'"
      ]
     },
     "execution_count": 5,
     "metadata": {},
     "output_type": "execute_result"
    }
   ],
   "source": [
    "file_name = f'{agent_algorithm}-{model_variant}-{charging_mode}-{penalty_mode}-{number_of_chargers}ch-{time_interval_string}'\n",
    "file_name"
   ]
  },
  {
   "cell_type": "markdown",
   "id": "91551e9d",
   "metadata": {},
   "source": [
    "JSON file containing INITIAL model values used"
   ]
  },
  {
   "cell_type": "code",
   "execution_count": 6,
   "id": "e1f4b94a",
   "metadata": {},
   "outputs": [
    {
     "data": {
      "text/plain": [
       "'solvers/RL/single_prediction_files/PPO-b-pv-bounded-sparse-4ch-1h-initial_values.json'"
      ]
     },
     "execution_count": 6,
     "metadata": {},
     "output_type": "execute_result"
    }
   ],
   "source": [
    "initial_values_path = f'solvers/RL/{data_directory}/{file_name}-initial_values.json'\n",
    "initial_values_path"
   ]
  },
  {
   "cell_type": "markdown",
   "id": "e9c03502",
   "metadata": {},
   "source": [
    "JSON file containing PREDICTED model values"
   ]
  },
  {
   "cell_type": "code",
   "execution_count": 7,
   "id": "409e28a0",
   "metadata": {},
   "outputs": [
    {
     "data": {
      "text/plain": [
       "'solvers/RL/single_prediction_files/PPO-b-pv-bounded-sparse-4ch-1h-prediction_results.json'"
      ]
     },
     "execution_count": 7,
     "metadata": {},
     "output_type": "execute_result"
    }
   ],
   "source": [
    "prediction_results_path = f'solvers/RL/{data_directory}/{file_name}-prediction_results.json'\n",
    "prediction_results_path"
   ]
  },
  {
   "cell_type": "code",
   "execution_count": 8,
   "id": "e1d65bb0",
   "metadata": {},
   "outputs": [],
   "source": [
    "env_variants = [\n",
    "    {\n",
    "        'variant_name': 'basic',\n",
    "        'config': {\n",
    "            'vehicle_to_everything': False,\n",
    "            'pv_system_available_in_model': False,\n",
    "            'battery_system_available_in_model': False,\n",
    "            'environment_mode': 'training',\n",
    "            'algorithm_used': 'PPO',\n",
    "            'number_of_chargers': number_of_chargers,\n",
    "            'charging_mode': charging_mode,\n",
    "            'vehicle_uncharged_penalty_mode': penalty_mode,\n",
    "            'time_interval': time_interval_string\n",
    "        }},\n",
    "    {\n",
    "        'variant_name': 'b-pv',\n",
    "        'config': {\n",
    "            'vehicle_to_everything': False,\n",
    "            'pv_system_available_in_model': True,\n",
    "            'battery_system_available_in_model': True,\n",
    "            'environment_mode': 'training',\n",
    "            'algorithm_used': 'PPO',\n",
    "            'number_of_chargers': number_of_chargers,\n",
    "            'charging_mode': charging_mode,\n",
    "            'vehicle_uncharged_penalty_mode': penalty_mode,\n",
    "            'time_interval': time_interval_string\n",
    "        }}\n",
    "]\n",
    "\n",
    "current_env = env_variants[1]\n",
    "current_env_name = current_env['variant_name']"
   ]
  },
  {
   "cell_type": "code",
   "execution_count": 9,
   "id": "3402880b",
   "metadata": {},
   "outputs": [
    {
     "data": {
      "text/plain": [
       "{'vehicle_to_everything': False,\n",
       " 'pv_system_available_in_model': True,\n",
       " 'battery_system_available_in_model': True,\n",
       " 'environment_mode': 'training',\n",
       " 'algorithm_used': 'PPO',\n",
       " 'number_of_chargers': 4,\n",
       " 'charging_mode': 'bounded',\n",
       " 'vehicle_uncharged_penalty_mode': 'sparse',\n",
       " 'time_interval': '1h'}"
      ]
     },
     "execution_count": 9,
     "metadata": {},
     "output_type": "execute_result"
    }
   ],
   "source": [
    "current_env_configuration = current_env['config']\n",
    "current_env_configuration"
   ]
  },
  {
   "cell_type": "markdown",
   "id": "bb1f482c",
   "metadata": {},
   "source": [
    "## ! Za vizualizaciju posljednjeg predviđanja za određeni tip modela (ukoliko postoji) - Preskočiti retke ispod do kategorije \"MODEL PREDICTIONS VISUALISATION\" i od tamo nastaviti pokretati kod !"
   ]
  },
  {
   "cell_type": "code",
   "execution_count": 87,
   "id": "4f6f1eb9",
   "metadata": {},
   "outputs": [],
   "source": [
    "env = gym.make('SmartNanogridEnv-v0', **current_env_configuration)"
   ]
  },
  {
   "cell_type": "code",
   "execution_count": 88,
   "id": "a7014a56",
   "metadata": {},
   "outputs": [
    {
     "data": {
      "text/plain": [
       "'D:\\\\Development\\\\PyCharmProjects\\\\smart-nanogrid-gym\\\\solvers\\\\\\\\RL\\\\models\\\\PPO-b-pv-bounded-sparse-4ch-1h'"
      ]
     },
     "execution_count": 88,
     "metadata": {},
     "output_type": "execute_result"
    }
   ],
   "source": [
    "model_dir = f\"{solvers_files_directory_path}\\\\RL\\\\models\\\\{file_name}\"\n",
    "model_path = f\"{model_dir}\\\\999600\"\n",
    "model_dir"
   ]
  },
  {
   "cell_type": "code",
   "execution_count": 89,
   "id": "21a37294",
   "metadata": {},
   "outputs": [
    {
     "data": {
      "text/plain": [
       "'b-pv'"
      ]
     },
     "execution_count": 89,
     "metadata": {},
     "output_type": "execute_result"
    }
   ],
   "source": [
    "current_env_name"
   ]
  },
  {
   "cell_type": "code",
   "execution_count": 90,
   "id": "2ab6c583",
   "metadata": {},
   "outputs": [
    {
     "name": "stdout",
     "output_type": "stream",
     "text": [
      "Wrapping the env with a `Monitor` wrapper\n",
      "Wrapping the env in a DummyVecEnv.\n"
     ]
    }
   ],
   "source": [
    "uppercase_name = file_name.upper()\n",
    "new_model = None\n",
    "model = None\n",
    "if 'DDPG' in uppercase_name:\n",
    "    new_model = DDPG.load(model_path, env=env, device=device)\n",
    "    model = {'name': file_name, 'model': new_model, 'env_name': current_env_name, 'info': {'algorithm': 'DDPG'}}\n",
    "elif 'PPO' in uppercase_name:\n",
    "    new_model = PPO.load(model_path, env=env, device=device)\n",
    "    model = {'name': file_name, 'model': new_model, 'env_name': current_env_name, 'info': {'algorithm': 'PPO'}}"
   ]
  },
  {
   "cell_type": "code",
   "execution_count": 91,
   "id": "67cc5ef2",
   "metadata": {},
   "outputs": [],
   "source": [
    "final_rewards = {}\n",
    "mean_rewards = {}\n",
    "final_rewards[file_name] = 0\n",
    "mean_rewards[file_name] = 0"
   ]
  },
  {
   "cell_type": "code",
   "execution_count": 92,
   "id": "7cabaa00",
   "metadata": {},
   "outputs": [],
   "source": [
    "reset_config = {'generate_new_initial_values': True}"
   ]
  },
  {
   "cell_type": "code",
   "execution_count": 93,
   "id": "6567b6a1",
   "metadata": {},
   "outputs": [
    {
     "name": "stderr",
     "output_type": "stream",
     "text": [
      "D:\\Development\\PyCharmProjects\\smart-nanogrid-gym\\venv\\lib\\site-packages\\gym\\utils\\passive_env_checker.py:233: DeprecationWarning:\n",
      "\n",
      "`np.bool8` is a deprecated alias for `np.bool_`.  (Deprecated NumPy 1.24)\n",
      "\n"
     ]
    }
   ],
   "source": [
    "reset_config['algorithm_used'] = model['info']['algorithm']\n",
    "reset_config['environment_mode'] = 'prediction'\n",
    "\n",
    "rewards, actions = predict_single_day(model['model'], env, reset_config)\n",
    "\n",
    "model_name = model['name']\n",
    "final_rewards[model_name] = sum(rewards)"
   ]
  },
  {
   "cell_type": "code",
   "execution_count": 94,
   "id": "0843250b",
   "metadata": {},
   "outputs": [],
   "source": [
    "mean_rewards[file_name] = np.mean(final_rewards[file_name])"
   ]
  },
  {
   "cell_type": "markdown",
   "id": "0b372be8",
   "metadata": {},
   "source": [
    "### MODEL PREDICTIONS VISUALISATION"
   ]
  },
  {
   "cell_type": "markdown",
   "id": "e091e2b6",
   "metadata": {},
   "source": [
    "Initial values used in prediction"
   ]
  },
  {
   "cell_type": "code",
   "execution_count": 95,
   "id": "79287fab",
   "metadata": {},
   "outputs": [],
   "source": [
    "grid_tariff_high = 0.028\n",
    "grid_tariff_low = 0.013333333\n",
    "energy_tariff_high = 0.148933333\n",
    "energy_tariff_low = 0.087613333\n",
    "res_incentive = 0.014\n",
    "\n",
    "high_tariff = grid_tariff_high + energy_tariff_high + res_incentive\n",
    "low_tariff = grid_tariff_low + energy_tariff_low + res_incentive\n",
    "\n",
    "del grid_tariff_high, energy_tariff_high, grid_tariff_low, energy_tariff_low, res_incentive"
   ]
  },
  {
   "cell_type": "code",
   "execution_count": 96,
   "id": "bd18a4fd",
   "metadata": {},
   "outputs": [
    {
     "data": {
      "text/html": [
       "<div>\n",
       "<style scoped>\n",
       "    .dataframe tbody tr th:only-of-type {\n",
       "        vertical-align: middle;\n",
       "    }\n",
       "\n",
       "    .dataframe tbody tr th {\n",
       "        vertical-align: top;\n",
       "    }\n",
       "\n",
       "    .dataframe thead th {\n",
       "        text-align: right;\n",
       "    }\n",
       "</style>\n",
       "<table border=\"1\" class=\"dataframe\">\n",
       "  <thead>\n",
       "    <tr style=\"text-align: right;\">\n",
       "      <th></th>\n",
       "      <th>0</th>\n",
       "      <th>1</th>\n",
       "      <th>2</th>\n",
       "      <th>3</th>\n",
       "      <th>4</th>\n",
       "      <th>5</th>\n",
       "      <th>6</th>\n",
       "      <th>7</th>\n",
       "      <th>8</th>\n",
       "      <th>9</th>\n",
       "      <th>10</th>\n",
       "      <th>11</th>\n",
       "      <th>12</th>\n",
       "      <th>13</th>\n",
       "      <th>14</th>\n",
       "      <th>15</th>\n",
       "      <th>16</th>\n",
       "      <th>17</th>\n",
       "      <th>18</th>\n",
       "      <th>19</th>\n",
       "      <th>20</th>\n",
       "      <th>21</th>\n",
       "      <th>22</th>\n",
       "      <th>23</th>\n",
       "      <th>24</th>\n",
       "    </tr>\n",
       "  </thead>\n",
       "  <tbody>\n",
       "    <tr>\n",
       "      <th>Day Tariff</th>\n",
       "      <td>0.114947</td>\n",
       "      <td>0.114947</td>\n",
       "      <td>0.114947</td>\n",
       "      <td>0.114947</td>\n",
       "      <td>0.114947</td>\n",
       "      <td>0.114947</td>\n",
       "      <td>0.114947</td>\n",
       "      <td>0.190933</td>\n",
       "      <td>0.190933</td>\n",
       "      <td>0.190933</td>\n",
       "      <td>0.190933</td>\n",
       "      <td>0.190933</td>\n",
       "      <td>0.190933</td>\n",
       "      <td>0.190933</td>\n",
       "      <td>0.190933</td>\n",
       "      <td>0.190933</td>\n",
       "      <td>0.190933</td>\n",
       "      <td>0.190933</td>\n",
       "      <td>0.190933</td>\n",
       "      <td>0.190933</td>\n",
       "      <td>0.114947</td>\n",
       "      <td>0.114947</td>\n",
       "      <td>0.114947</td>\n",
       "      <td>0.114947</td>\n",
       "      <td>0.114947</td>\n",
       "    </tr>\n",
       "  </tbody>\n",
       "</table>\n",
       "</div>"
      ],
      "text/plain": [
       "                  0         1         2         3         4         5   \\\n",
       "Day Tariff  0.114947  0.114947  0.114947  0.114947  0.114947  0.114947   \n",
       "\n",
       "                  6         7         8         9         10        11  \\\n",
       "Day Tariff  0.114947  0.190933  0.190933  0.190933  0.190933  0.190933   \n",
       "\n",
       "                  12        13        14        15        16        17  \\\n",
       "Day Tariff  0.190933  0.190933  0.190933  0.190933  0.190933  0.190933   \n",
       "\n",
       "                  18        19        20        21        22        23  \\\n",
       "Day Tariff  0.190933  0.190933  0.114947  0.114947  0.114947  0.114947   \n",
       "\n",
       "                  24  \n",
       "Day Tariff  0.114947  "
      ]
     },
     "execution_count": 96,
     "metadata": {},
     "output_type": "execute_result"
    }
   ],
   "source": [
    "tariffs = []\n",
    "for i in range(int(timesteps_per_episode) + 1):\n",
    "    if i < 7 / time_interval or i > 19 / time_interval:\n",
    "        tariffs.append(low_tariff)\n",
    "    else:\n",
    "        tariffs.append(high_tariff)\n",
    "\n",
    "day_tariffs = pd.DataFrame({'Day Tariff': tariffs})\n",
    "\n",
    "del tariffs, high_tariff, low_tariff\n",
    "day_tariffs.T"
   ]
  },
  {
   "cell_type": "code",
   "execution_count": 97,
   "id": "2189bf8d",
   "metadata": {},
   "outputs": [],
   "source": [
    "def load_initial_values(soc, arrivals, departures, capacities, requested_soc):\n",
    "    vehicles = [i for i in arrivals.columns]\n",
    "    \n",
    "    initial_data = pd.DataFrame()\n",
    "    for charger in range(number_of_chargers):\n",
    "        for vehicle in vehicles:\n",
    "            arrival = arrivals.loc[arrivals.index == charger, [vehicle]]\n",
    "            arrival = arrival[arrival.columns[0]].item()\n",
    "\n",
    "            if not pd.isna(arrival):\n",
    "                df = pd.DataFrame()\n",
    "                df['Arrival'] = [arrival]\n",
    "\n",
    "                departure = departures.loc[departures.index == charger, [vehicle]]\n",
    "                departure = departure[departure.columns[0]].item()\n",
    "                df['Departure'] = departure\n",
    "\n",
    "                df['Vehicle ID'] = str(vehicle)\n",
    "                df['Charger ID'] = str(charger)\n",
    "                \n",
    "                df['EV Capacity'] = capacities[charger][arrival]\n",
    "                \n",
    "                df['Initial State of Charge'] = soc[charger][arrival]\n",
    "                df['Requested State of Charge'] = requested_soc[charger][arrival]\n",
    "                \n",
    "                initial_data = pd.concat([initial_data.loc[:], df]).reset_index(drop=True)\n",
    "\n",
    "    initial_data = initial_data[['Arrival', 'Departure', 'EV Capacity', 'Initial State of Charge', \n",
    "                                 'Requested State of Charge', 'Vehicle ID', 'Charger ID']]\n",
    "    return initial_data"
   ]
  },
  {
   "cell_type": "code",
   "execution_count": 98,
   "id": "876399f6",
   "metadata": {},
   "outputs": [],
   "source": [
    "with open(initial_values_path) as json_data:\n",
    "    initial_data = json.load(json_data)\n",
    "    \n",
    "    df_charger_occupancy = pd.DataFrame(initial_data['Charger_occupancy']).T\n",
    "    df_vehicle_capacities = pd.DataFrame(initial_data['Vehicle_capacities']).T\n",
    "    \n",
    "    initial_training_data = load_initial_values(soc=pd.DataFrame(initial_data['SOC']).T,\n",
    "                                                requested_soc=pd.DataFrame(initial_data['Requested_SOC']).T,\n",
    "                                                arrivals=pd.DataFrame(initial_data['Arrivals']),\n",
    "                                                departures=pd.DataFrame(initial_data['Departures']),\n",
    "                                                capacities=df_vehicle_capacities)\n",
    "    \n",
    "    del initial_data"
   ]
  },
  {
   "cell_type": "code",
   "execution_count": 99,
   "id": "015f374f",
   "metadata": {},
   "outputs": [],
   "source": [
    "charger_occupancy = pd.DataFrame()\n",
    "\n",
    "for charger in df_charger_occupancy.columns:\n",
    "    temp_df = pd.DataFrame(df_charger_occupancy[charger])\n",
    "    temp_df.columns = ['Charger Occupation State']\n",
    "    temp_df['Charger ID'] = charger\n",
    "    charger_occupancy = pd.concat([charger_occupancy, temp_df])\n",
    "\n",
    "del df_charger_occupancy, temp_df\n",
    "# charger_occupancy"
   ]
  },
  {
   "cell_type": "code",
   "execution_count": 100,
   "id": "3879fcd3",
   "metadata": {},
   "outputs": [],
   "source": [
    "vehicle_capacities = pd.DataFrame()\n",
    "\n",
    "for charger in df_vehicle_capacities.columns:\n",
    "    temp_df = pd.DataFrame(df_vehicle_capacities[charger])\n",
    "    temp_df.columns = ['Vehicle Capacities']\n",
    "    temp_df['Charger ID'] = charger\n",
    "    vehicle_capacities = pd.concat([vehicle_capacities, temp_df])\n",
    "\n",
    "del df_vehicle_capacities, temp_df\n",
    "# vehicle_capacities"
   ]
  },
  {
   "cell_type": "markdown",
   "id": "3b8cba11",
   "metadata": {},
   "source": [
    "Predicted values"
   ]
  },
  {
   "cell_type": "code",
   "execution_count": 101,
   "id": "ca877690",
   "metadata": {},
   "outputs": [],
   "source": [
    "with open(prediction_results_path) as json_data:\n",
    "    prediction_data = json.load(json_data)\n",
    "    \n",
    "    df_soc = pd.DataFrame(prediction_data['SOC']).T\n",
    "    df_charger_actions = pd.DataFrame(prediction_data['Charger_actions'])\n",
    "    df_charger_power_values = pd.DataFrame(prediction_data['Charger_power_values'])\n",
    "    \n",
    "    chargers_predictions = pd.DataFrame()\n",
    "    for charger in df_soc.columns:\n",
    "        temp_df = pd.DataFrame(df_soc[charger])\n",
    "        temp_df.columns = ['Vehicle State of Charge']\n",
    "        temp_df['Charger Action'] = df_charger_actions[charger]\n",
    "        temp_df['Charger Power Value'] = df_charger_power_values[charger]\n",
    "        temp_df['Charger ID'] = charger\n",
    "        chargers_predictions = pd.concat([chargers_predictions, temp_df])\n",
    "        del temp_df\n",
    "    \n",
    "    del df_soc, df_charger_actions, df_charger_power_values\n",
    "    \n",
    "    if 'Initial_battery_state_of_charge' in prediction_data:\n",
    "        initial_battery_soc = float(prediction_data['Initial_battery_state_of_charge']) \n",
    "    else: \n",
    "        initial_battery_soc = 0.5\n",
    "    df_battery_soc = pd.DataFrame(prediction_data['Battery_state_of_charge'])\n",
    "    df_battery_action = pd.DataFrame(prediction_data['Battery_action'])\n",
    "    df_battery_power_value = pd.DataFrame(prediction_data['Battery_power_value'])\n",
    "    df_battery_calculated_power_value = pd.DataFrame(prediction_data['Battery_calculated_power_value'])\n",
    "    \n",
    "    battery_predictions= pd.DataFrame()\n",
    "    battery_predictions['Battery SOC'] = df_battery_soc\n",
    "    battery_predictions['Battery Action'] = df_battery_action\n",
    "    battery_predictions['Battery Power Value'] = df_battery_power_value\n",
    "    battery_predictions['Battery Calculated Power Value'] = df_battery_calculated_power_value\n",
    "    \n",
    "    del df_battery_soc, df_battery_action, df_battery_power_value, df_battery_calculated_power_value\n",
    "\n",
    "    df_total_cost = pd.DataFrame(prediction_data['Total_cost'])\n",
    "    df_total_reward = df_total_cost * (-1)\n",
    "    df_total_penalties = pd.DataFrame(prediction_data['Total_penalties'])\n",
    "    df_grid_energy_cost = pd.DataFrame(prediction_data['Grid_energy_cost'])\n",
    "    \n",
    "    costs_predictions = pd.DataFrame()\n",
    "    costs_predictions['Total Cost'] = df_total_cost\n",
    "    costs_predictions['Total Reward'] = df_total_reward\n",
    "    costs_predictions['Total Penalty'] = df_total_penalties\n",
    "    costs_predictions['Grid Energy Cost'] = df_grid_energy_cost\n",
    "    costs_predictions['Electricity Day Tariffs'] = day_tariffs\n",
    "    \n",
    "    del df_total_cost, df_total_reward, df_grid_energy_cost, day_tariffs\n",
    "    \n",
    "    df_total_vehicle_penalties = pd.DataFrame(prediction_data['Total_vehicle_penalties'])\n",
    "    df_insufficient_vehicle_charging_penalties = pd.DataFrame(prediction_data['Insufficiently_charged_vehicle_penalties'])\n",
    "    df_needless_vehicle_charging_penalties = pd.DataFrame(prediction_data['Needlessly_charged_vehicle_penalties'])\n",
    "    df_overcharged_vehicle_penalties = pd.DataFrame(prediction_data['Overcharged_vehicle_penalties'])\n",
    "    df_over_discharged_vehicle_penalties = pd.DataFrame(prediction_data['Over_discharged_vehicle_penalties'])\n",
    "    df_total_battery_penalties = pd.DataFrame(prediction_data['Total_battery_penalties'])\n",
    "    df_battery_soc_below_dod_penalties = pd.DataFrame(prediction_data['Battery_SOC_below_DoD_penalties'])\n",
    "    df_battery_overcharging_penalties = pd.DataFrame(prediction_data['Battery_overcharging_penalties'])\n",
    "    df_battery_over_discharging_penalties = pd.DataFrame(prediction_data['Battery_over_discharging_penalties'])\n",
    "    df_low_resource_utilisation_penalties = pd.DataFrame(prediction_data['Low_resource_utilisation_penalties'])\n",
    "    df_discharging_nonexistent_vehicles_penalties = pd.DataFrame(prediction_data['DisCharging_nonexistent_vehicles_penalties'])\n",
    "#     df_excess_battery_charging_penalties = pd.DataFrame(prediction_data['Excessively_charged_battery_penalties'])\n",
    "#     df_excess_battery_discharging_penalties = pd.DataFrame(prediction_data['Excessively_discharged_battery_penalties'])\n",
    "    \n",
    "    penalties = pd.DataFrame()\n",
    "    penalties['Total Penalty'] = df_total_penalties\n",
    "    penalties['Total Vehicle Penalty'] = df_total_vehicle_penalties\n",
    "    penalties['Insufficiently Charged Vehicle Penalty'] = df_insufficient_vehicle_charging_penalties\n",
    "    penalties['Needless Vehicle Charging Penalty'] = df_needless_vehicle_charging_penalties\n",
    "    penalties['Overcharged Vehicle Penalty'] = df_overcharged_vehicle_penalties\n",
    "    penalties['Over Discharged Vehicle Penalty'] = df_over_discharged_vehicle_penalties\n",
    "    penalties['Total Battery Penalty'] = df_total_battery_penalties\n",
    "    penalties['Battery SOC Below DoD Penalty'] = df_battery_soc_below_dod_penalties\n",
    "    penalties['Battery Overcharging Penalty'] = df_battery_overcharging_penalties\n",
    "    penalties['Battery Over Discharging Penalty'] = df_battery_over_discharging_penalties\n",
    "    penalties['Low Resource Utilisation Penalty'] = df_low_resource_utilisation_penalties\n",
    "    penalties['DisCharging Nonexistent Vehicles Penalty'] = df_discharging_nonexistent_vehicles_penalties\n",
    "    \n",
    "    del df_total_penalties, df_total_vehicle_penalties, df_total_battery_penalties, df_overcharged_vehicle_penalties\n",
    "    del df_insufficient_vehicle_charging_penalties, df_over_discharged_vehicle_penalties\n",
    "    del df_needless_vehicle_charging_penalties, df_battery_soc_below_dod_penalties, df_low_resource_utilisation_penalties\n",
    "    del df_discharging_nonexistent_vehicles_penalties, df_battery_overcharging_penalties\n",
    "    del df_battery_over_discharging_penalties\n",
    "    \n",
    "    df_grid_power = pd.DataFrame(prediction_data['Grid_power'])\n",
    "    df_grid_energy = pd.DataFrame(prediction_data['Grid_energy'])\n",
    "    df_utilised_solar_energy = pd.DataFrame(prediction_data['Utilized_solar_energy'])\n",
    "    df_available_solar_energy = pd.DataFrame(prediction_data['Available_solar_energy']).T\n",
    "    df_total_charging_power = pd.DataFrame(prediction_data['Total_charging_power'])\n",
    "    df_total_discharging_power = pd.DataFrame(prediction_data['Total_discharging_power'])\n",
    "    \n",
    "    energy_predictions = pd.DataFrame()\n",
    "    energy_predictions['Grid Power'] = df_grid_power\n",
    "    energy_predictions['Grid Energy'] = df_grid_energy\n",
    "    energy_predictions['Utilised Solar Power'] = df_utilised_solar_energy\n",
    "    \n",
    "    if len(df_available_solar_energy) > 1:\n",
    "        energy_predictions['Available Solar Energy - 0-24h'] = df_available_solar_energy.loc[0:24]\n",
    "        energy_predictions['Available Solar Energy - 24-48h'] = df_available_solar_energy.loc[24:47][0].tolist()\n",
    "    else:\n",
    "        energy_predictions['Available Solar Energy - 0-24h'] = [0]*24\n",
    "        energy_predictions['Available Solar Energy - 24-48h'] = [0]*24    \n",
    "    \n",
    "    energy_predictions['Total Charging Power'] = df_total_charging_power\n",
    "    energy_predictions['Total Discharging Power'] = df_total_discharging_power\n",
    "    \n",
    "    del df_grid_power, df_grid_energy, df_utilised_solar_energy, df_available_solar_energy\n",
    "    del df_total_charging_power, df_total_discharging_power\n",
    "    \n",
    "    del prediction_data"
   ]
  },
  {
   "cell_type": "code",
   "execution_count": 102,
   "id": "09233138",
   "metadata": {},
   "outputs": [],
   "source": [
    "# chargers_predictions.T\n",
    "# battery_predictions.T\n",
    "# costs_predictions.T\n",
    "# penalties.T\n",
    "# energy_and_power_predictions.T"
   ]
  },
  {
   "cell_type": "markdown",
   "id": "6ece1a74",
   "metadata": {},
   "source": [
    "# Initial values"
   ]
  },
  {
   "cell_type": "markdown",
   "id": "0c76d049",
   "metadata": {},
   "source": [
    "#### Initial Model Info"
   ]
  },
  {
   "cell_type": "code",
   "execution_count": 103,
   "id": "c6c13f54",
   "metadata": {},
   "outputs": [
    {
     "data": {
      "application/vnd.plotly.v1+json": {
       "config": {
        "plotlyServerURL": "https://plot.ly"
       },
       "data": [
        {
         "fill": "tozeroy",
         "fillcolor": "rgba(71, 164, 235, 0.4)",
         "fillpattern": {
          "fgcolor": "rgba(71, 164, 235, 0.5)",
          "fgopacity": 0.5,
          "shape": "/"
         },
         "legendgroup": "Charger occupancy",
         "legendgrouptitle": {
          "text": "Charger"
         },
         "line": {
          "shape": "hv",
          "width": 0
         },
         "name": "Occupied",
         "showlegend": true,
         "type": "scatter",
         "xaxis": "x4",
         "y": [
          1,
          1,
          1,
          1,
          1,
          0,
          1,
          1,
          1,
          1,
          1,
          0,
          0,
          0,
          0,
          1,
          1,
          1,
          1,
          1,
          1,
          0,
          0,
          1,
          0
         ],
         "yaxis": "y4"
        },
        {
         "fill": "tozeroy",
         "fillcolor": "rgba(71, 164, 235, 0.5)",
         "legendgroup": "Charger occupancy",
         "line": {
          "shape": "hv",
          "width": 0
         },
         "name": "Vehicle Capacity [kWh]",
         "showlegend": true,
         "type": "scatter",
         "xaxis": "x4",
         "y": [
          0.38392857142857145,
          0.38392857142857145,
          0.38392857142857145,
          0.38392857142857145,
          0.38392857142857145,
          0,
          0.8214285714285714,
          0.8214285714285714,
          0.8214285714285714,
          0.8214285714285714,
          0.8214285714285714,
          0,
          0,
          0,
          0,
          0.8035714285714286,
          0.8035714285714286,
          0.8035714285714286,
          0.8035714285714286,
          0.8035714285714286,
          0.8035714285714286,
          0,
          0,
          0.2857142857142857,
          0
         ],
         "yaxis": "y4"
        },
        {
         "legendgroup": "State of Charge",
         "legendgrouptitle": {
          "text": "State of Charge"
         },
         "marker": {
          "color": "teal",
          "line": {
           "width": 0
          },
          "opacity": 0.8
         },
         "name": "Requested - on departure",
         "showlegend": true,
         "type": "bar",
         "width": 0.5,
         "x": [
          5,
          11,
          21,
          27
         ],
         "xaxis": "x4",
         "y": [
          1,
          1,
          1,
          1
         ],
         "yaxis": "y4"
        },
        {
         "legendgroup": "State of Charge",
         "marker": {
          "color": "crimson",
          "line": {
           "width": 0
          },
          "opacity": 0.8
         },
         "name": "Initial - on arrival",
         "showlegend": true,
         "type": "bar",
         "width": 0.5,
         "x": [
          0,
          6,
          15,
          23
         ],
         "xaxis": "x4",
         "y": [
          0.2687361909855251,
          0.32282656265978293,
          0.6462237987846088,
          0.658021582938183
         ],
         "yaxis": "y4"
        },
        {
         "fill": "tozeroy",
         "fillcolor": "rgba(71, 164, 235, 0.4)",
         "fillpattern": {
          "fgcolor": "rgba(71, 164, 235, 0.5)",
          "fgopacity": 0.5,
          "shape": "/"
         },
         "legendgroup": "Charger occupancy",
         "legendgrouptitle": {
          "text": "Charger"
         },
         "line": {
          "shape": "hv",
          "width": 0
         },
         "name": "Occupied",
         "showlegend": false,
         "type": "scatter",
         "xaxis": "x3",
         "y": [
          1,
          1,
          1,
          1,
          1,
          1,
          1,
          1,
          0,
          0,
          1,
          1,
          1,
          1,
          1,
          1,
          1,
          1,
          1,
          0,
          0,
          0,
          0,
          0,
          0
         ],
         "yaxis": "y3"
        },
        {
         "fill": "tozeroy",
         "fillcolor": "rgba(71, 164, 235, 0.5)",
         "legendgroup": "Charger occupancy",
         "line": {
          "shape": "hv",
          "width": 0
         },
         "name": "Vehicle Capacity [kWh]",
         "showlegend": false,
         "type": "scatter",
         "xaxis": "x3",
         "y": [
          0.7946428571428571,
          0.7946428571428571,
          0.7946428571428571,
          0.7946428571428571,
          0.7946428571428571,
          0.7946428571428571,
          0.7946428571428571,
          0.7946428571428571,
          0,
          0,
          0.41964285714285715,
          0.41964285714285715,
          0.41964285714285715,
          0.41964285714285715,
          0.41964285714285715,
          0.41964285714285715,
          0.41964285714285715,
          0.41964285714285715,
          0.41964285714285715,
          0,
          0,
          0,
          0,
          0,
          0
         ],
         "yaxis": "y3"
        },
        {
         "legendgroup": "State of Charge",
         "legendgrouptitle": {
          "text": "State of Charge"
         },
         "marker": {
          "color": "teal",
          "line": {
           "width": 0
          },
          "opacity": 0.8
         },
         "name": "Requested - on departure",
         "showlegend": false,
         "type": "bar",
         "width": 0.5,
         "x": [
          8,
          19
         ],
         "xaxis": "x3",
         "y": [
          1,
          1
         ],
         "yaxis": "y3"
        },
        {
         "legendgroup": "State of Charge",
         "marker": {
          "color": "crimson",
          "line": {
           "width": 0
          },
          "opacity": 0.8
         },
         "name": "Initial - on arrival",
         "showlegend": false,
         "type": "bar",
         "width": 0.5,
         "x": [
          0,
          10
         ],
         "xaxis": "x3",
         "y": [
          0.8509042414912792,
          0.8196674239363752
         ],
         "yaxis": "y3"
        },
        {
         "fill": "tozeroy",
         "fillcolor": "rgba(71, 164, 235, 0.4)",
         "fillpattern": {
          "fgcolor": "rgba(71, 164, 235, 0.5)",
          "fgopacity": 0.5,
          "shape": "/"
         },
         "legendgroup": "Charger occupancy",
         "legendgrouptitle": {
          "text": "Charger"
         },
         "line": {
          "shape": "hv",
          "width": 0
         },
         "name": "Occupied",
         "showlegend": false,
         "type": "scatter",
         "xaxis": "x2",
         "y": [
          0,
          0,
          0,
          1,
          1,
          1,
          1,
          1,
          1,
          0,
          0,
          1,
          1,
          1,
          1,
          1,
          0,
          1,
          1,
          1,
          1,
          1,
          0,
          0,
          0
         ],
         "yaxis": "y2"
        },
        {
         "fill": "tozeroy",
         "fillcolor": "rgba(71, 164, 235, 0.5)",
         "legendgroup": "Charger occupancy",
         "line": {
          "shape": "hv",
          "width": 0
         },
         "name": "Vehicle Capacity [kWh]",
         "showlegend": false,
         "type": "scatter",
         "xaxis": "x2",
         "y": [
          0,
          0,
          0,
          0.4375,
          0.4375,
          0.4375,
          0.4375,
          0.4375,
          0.4375,
          0,
          0,
          1,
          1,
          1,
          1,
          1,
          0,
          0.9732142857142857,
          0.9732142857142857,
          0.9732142857142857,
          0.9732142857142857,
          0.9732142857142857,
          0,
          0,
          0
         ],
         "yaxis": "y2"
        },
        {
         "legendgroup": "State of Charge",
         "legendgrouptitle": {
          "text": "State of Charge"
         },
         "marker": {
          "color": "teal",
          "line": {
           "width": 0
          },
          "opacity": 0.8
         },
         "name": "Requested - on departure",
         "showlegend": false,
         "type": "bar",
         "width": 0.5,
         "x": [
          9,
          16,
          22
         ],
         "xaxis": "x2",
         "y": [
          1,
          1,
          1
         ],
         "yaxis": "y2"
        },
        {
         "legendgroup": "State of Charge",
         "marker": {
          "color": "crimson",
          "line": {
           "width": 0
          },
          "opacity": 0.8
         },
         "name": "Initial - on arrival",
         "showlegend": false,
         "type": "bar",
         "width": 0.5,
         "x": [
          3,
          11,
          17
         ],
         "xaxis": "x2",
         "y": [
          0.16303800535708285,
          0.40647634454652404,
          0.1745497713578087
         ],
         "yaxis": "y2"
        },
        {
         "fill": "tozeroy",
         "fillcolor": "rgba(71, 164, 235, 0.4)",
         "fillpattern": {
          "fgcolor": "rgba(71, 164, 235, 0.5)",
          "fgopacity": 0.5,
          "shape": "/"
         },
         "legendgroup": "Charger occupancy",
         "legendgrouptitle": {
          "text": "Charger"
         },
         "line": {
          "shape": "hv",
          "width": 0
         },
         "name": "Occupied",
         "showlegend": false,
         "type": "scatter",
         "xaxis": "x",
         "y": [
          1,
          1,
          1,
          1,
          1,
          1,
          0,
          1,
          1,
          1,
          1,
          1,
          1,
          1,
          1,
          0,
          1,
          1,
          1,
          1,
          1,
          1,
          1,
          0,
          0
         ],
         "yaxis": "y"
        },
        {
         "fill": "tozeroy",
         "fillcolor": "rgba(71, 164, 235, 0.5)",
         "legendgroup": "Charger occupancy",
         "line": {
          "shape": "hv",
          "width": 0
         },
         "name": "Vehicle Capacity [kWh]",
         "showlegend": false,
         "type": "scatter",
         "xaxis": "x",
         "y": [
          0.14285714285714285,
          0.14285714285714285,
          0.14285714285714285,
          0.14285714285714285,
          0.14285714285714285,
          0.14285714285714285,
          0,
          0.21428571428571427,
          0.21428571428571427,
          0.21428571428571427,
          0.21428571428571427,
          0.21428571428571427,
          0.21428571428571427,
          0.21428571428571427,
          0.21428571428571427,
          0,
          0.2767857142857143,
          0.2767857142857143,
          0.2767857142857143,
          0.2767857142857143,
          0.2767857142857143,
          0.2767857142857143,
          0.2767857142857143,
          0,
          0
         ],
         "yaxis": "y"
        },
        {
         "legendgroup": "State of Charge",
         "legendgrouptitle": {
          "text": "State of Charge"
         },
         "marker": {
          "color": "teal",
          "line": {
           "width": 0
          },
          "opacity": 0.8
         },
         "name": "Requested - on departure",
         "showlegend": false,
         "type": "bar",
         "width": 0.5,
         "x": [
          6,
          15,
          23
         ],
         "xaxis": "x",
         "y": [
          1,
          1,
          1
         ],
         "yaxis": "y"
        },
        {
         "legendgroup": "State of Charge",
         "marker": {
          "color": "crimson",
          "line": {
           "width": 0
          },
          "opacity": 0.8
         },
         "name": "Initial - on arrival",
         "showlegend": false,
         "type": "bar",
         "width": 0.5,
         "x": [
          0,
          7,
          16
         ],
         "xaxis": "x",
         "y": [
          0.45773601125327257,
          0.27619602375201013,
          0.6520423769879261
         ],
         "yaxis": "y"
        }
       ],
       "layout": {
        "annotations": [
         {
          "font": {
           "color": "grey",
           "size": 13
          },
          "opacity": 0.9,
          "showarrow": false,
          "text": "<i>Charger 0</i>",
          "textangle": 0,
          "x": 23,
          "xref": "x",
          "y": 1.2,
          "yref": "y"
         },
         {
          "font": {
           "color": "white",
           "size": 14
          },
          "opacity": 0.9,
          "showarrow": false,
          "text": "<i>16.0</i>",
          "textangle": 0,
          "x": 3,
          "xref": "x",
          "y": 0.12,
          "yref": "y"
         },
         {
          "font": {
           "color": "white",
           "size": 14
          },
          "opacity": 0.9,
          "showarrow": false,
          "text": "<i>24.0</i>",
          "textangle": 0,
          "x": 11,
          "xref": "x",
          "y": 0.12,
          "yref": "y"
         },
         {
          "font": {
           "color": "white",
           "size": 14
          },
          "opacity": 0.9,
          "showarrow": false,
          "text": "<i>31.0</i>",
          "textangle": 0,
          "x": 19.5,
          "xref": "x",
          "y": 0.12,
          "yref": "y"
         },
         {
          "font": {
           "color": "grey",
           "size": 13
          },
          "opacity": 0.9,
          "showarrow": false,
          "text": "<i>Charger 1</i>",
          "textangle": 0,
          "x": 23,
          "xref": "x2",
          "y": 1.2,
          "yref": "y2"
         },
         {
          "font": {
           "color": "white",
           "size": 14
          },
          "opacity": 0.9,
          "showarrow": false,
          "text": "<i>49.0</i>",
          "textangle": 0,
          "x": 6,
          "xref": "x2",
          "y": 0.12,
          "yref": "y2"
         },
         {
          "font": {
           "color": "white",
           "size": 14
          },
          "opacity": 0.9,
          "showarrow": false,
          "text": "<i>112.0</i>",
          "textangle": 0,
          "x": 13.5,
          "xref": "x2",
          "y": 0.12,
          "yref": "y2"
         },
         {
          "font": {
           "color": "white",
           "size": 14
          },
          "opacity": 0.9,
          "showarrow": false,
          "text": "<i>109.0</i>",
          "textangle": 0,
          "x": 19.5,
          "xref": "x2",
          "y": 0.12,
          "yref": "y2"
         },
         {
          "font": {
           "color": "grey",
           "size": 13
          },
          "opacity": 0.9,
          "showarrow": false,
          "text": "<i>Charger 2</i>",
          "textangle": 0,
          "x": 23,
          "xref": "x3",
          "y": 1.2,
          "yref": "y3"
         },
         {
          "font": {
           "color": "white",
           "size": 14
          },
          "opacity": 0.9,
          "showarrow": false,
          "text": "<i>89.0</i>",
          "textangle": 0,
          "x": 4,
          "xref": "x3",
          "y": 0.12,
          "yref": "y3"
         },
         {
          "font": {
           "color": "white",
           "size": 14
          },
          "opacity": 0.9,
          "showarrow": false,
          "text": "<i>47.0</i>",
          "textangle": 0,
          "x": 14.5,
          "xref": "x3",
          "y": 0.12,
          "yref": "y3"
         },
         {
          "font": {
           "color": "grey",
           "size": 13
          },
          "opacity": 0.9,
          "showarrow": false,
          "text": "<i>Charger 3</i>",
          "textangle": 0,
          "x": 23,
          "xref": "x4",
          "y": 1.2,
          "yref": "y4"
         },
         {
          "font": {
           "color": "white",
           "size": 14
          },
          "opacity": 0.9,
          "showarrow": false,
          "text": "<i>43.0</i>",
          "textangle": 0,
          "x": 2.5,
          "xref": "x4",
          "y": 0.12,
          "yref": "y4"
         },
         {
          "font": {
           "color": "white",
           "size": 14
          },
          "opacity": 0.9,
          "showarrow": false,
          "text": "<i>92.0</i>",
          "textangle": 0,
          "x": 8.5,
          "xref": "x4",
          "y": 0.12,
          "yref": "y4"
         },
         {
          "font": {
           "color": "white",
           "size": 14
          },
          "opacity": 0.9,
          "showarrow": false,
          "text": "<i>90.0</i>",
          "textangle": 0,
          "x": 18,
          "xref": "x4",
          "y": 0.12,
          "yref": "y4"
         },
         {
          "font": {
           "color": "white",
           "size": 14
          },
          "opacity": 0.9,
          "showarrow": false,
          "text": "<i>32.0</i>",
          "textangle": -90,
          "x": 23.5,
          "xref": "x4",
          "y": 0.4,
          "yref": "y4"
         },
         {
          "font": {
           "size": 14
          },
          "showarrow": false,
          "text": "State of Charge",
          "textangle": -90,
          "x": -0.15,
          "xref": "paper",
          "y": 0.5,
          "yref": "paper"
         },
         {
          "font": {
           "size": 14
          },
          "showarrow": false,
          "text": "Timestep (Hour) in a Day",
          "textangle": 0,
          "x": 0.5,
          "xref": "paper",
          "y": -0.1,
          "yref": "paper"
         }
        ],
        "barmode": "overlay",
        "height": 650,
        "legend": {
         "groupclick": "togglegroup",
         "x": 1.03,
         "y": 0.97
        },
        "shapes": [
         {
          "layer": "above",
          "line": {
           "color": "crimson",
           "width": 1.5
          },
          "type": "line",
          "x0": 0,
          "x1": 0,
          "xref": "x",
          "y0": 0,
          "y1": 1,
          "yref": "y"
         },
         {
          "layer": "above",
          "line": {
           "color": "teal",
           "width": 1.5
          },
          "type": "line",
          "x0": 6,
          "x1": 6,
          "xref": "x",
          "y0": 0,
          "y1": 1,
          "yref": "y"
         },
         {
          "layer": "above",
          "line": {
           "color": "crimson",
           "width": 1.5
          },
          "type": "line",
          "x0": 7,
          "x1": 7,
          "xref": "x",
          "y0": 0,
          "y1": 1,
          "yref": "y"
         },
         {
          "layer": "above",
          "line": {
           "color": "teal",
           "width": 1.5
          },
          "type": "line",
          "x0": 15,
          "x1": 15,
          "xref": "x",
          "y0": 0,
          "y1": 1,
          "yref": "y"
         },
         {
          "layer": "above",
          "line": {
           "color": "crimson",
           "width": 1.5
          },
          "type": "line",
          "x0": 16,
          "x1": 16,
          "xref": "x",
          "y0": 0,
          "y1": 1,
          "yref": "y"
         },
         {
          "layer": "above",
          "line": {
           "color": "teal",
           "width": 1.5
          },
          "type": "line",
          "x0": 23,
          "x1": 23,
          "xref": "x",
          "y0": 0,
          "y1": 1,
          "yref": "y"
         },
         {
          "layer": "above",
          "line": {
           "color": "crimson",
           "width": 1.5
          },
          "type": "line",
          "x0": 3,
          "x1": 3,
          "xref": "x2",
          "y0": 0,
          "y1": 1,
          "yref": "y2"
         },
         {
          "layer": "above",
          "line": {
           "color": "teal",
           "width": 1.5
          },
          "type": "line",
          "x0": 9,
          "x1": 9,
          "xref": "x2",
          "y0": 0,
          "y1": 1,
          "yref": "y2"
         },
         {
          "layer": "above",
          "line": {
           "color": "crimson",
           "width": 1.5
          },
          "type": "line",
          "x0": 11,
          "x1": 11,
          "xref": "x2",
          "y0": 0,
          "y1": 1,
          "yref": "y2"
         },
         {
          "layer": "above",
          "line": {
           "color": "teal",
           "width": 1.5
          },
          "type": "line",
          "x0": 16,
          "x1": 16,
          "xref": "x2",
          "y0": 0,
          "y1": 1,
          "yref": "y2"
         },
         {
          "layer": "above",
          "line": {
           "color": "crimson",
           "width": 1.5
          },
          "type": "line",
          "x0": 17,
          "x1": 17,
          "xref": "x2",
          "y0": 0,
          "y1": 1,
          "yref": "y2"
         },
         {
          "layer": "above",
          "line": {
           "color": "teal",
           "width": 1.5
          },
          "type": "line",
          "x0": 22,
          "x1": 22,
          "xref": "x2",
          "y0": 0,
          "y1": 1,
          "yref": "y2"
         },
         {
          "layer": "above",
          "line": {
           "color": "crimson",
           "width": 1.5
          },
          "type": "line",
          "x0": 0,
          "x1": 0,
          "xref": "x3",
          "y0": 0,
          "y1": 1,
          "yref": "y3"
         },
         {
          "layer": "above",
          "line": {
           "color": "teal",
           "width": 1.5
          },
          "type": "line",
          "x0": 8,
          "x1": 8,
          "xref": "x3",
          "y0": 0,
          "y1": 1,
          "yref": "y3"
         },
         {
          "layer": "above",
          "line": {
           "color": "crimson",
           "width": 1.5
          },
          "type": "line",
          "x0": 10,
          "x1": 10,
          "xref": "x3",
          "y0": 0,
          "y1": 1,
          "yref": "y3"
         },
         {
          "layer": "above",
          "line": {
           "color": "teal",
           "width": 1.5
          },
          "type": "line",
          "x0": 19,
          "x1": 19,
          "xref": "x3",
          "y0": 0,
          "y1": 1,
          "yref": "y3"
         },
         {
          "layer": "above",
          "line": {
           "color": "crimson",
           "width": 1.5
          },
          "type": "line",
          "x0": 0,
          "x1": 0,
          "xref": "x4",
          "y0": 0,
          "y1": 1,
          "yref": "y4"
         },
         {
          "layer": "above",
          "line": {
           "color": "teal",
           "width": 1.5
          },
          "type": "line",
          "x0": 5,
          "x1": 5,
          "xref": "x4",
          "y0": 0,
          "y1": 1,
          "yref": "y4"
         },
         {
          "layer": "above",
          "line": {
           "color": "crimson",
           "width": 1.5
          },
          "type": "line",
          "x0": 6,
          "x1": 6,
          "xref": "x4",
          "y0": 0,
          "y1": 1,
          "yref": "y4"
         },
         {
          "layer": "above",
          "line": {
           "color": "teal",
           "width": 1.5
          },
          "type": "line",
          "x0": 11,
          "x1": 11,
          "xref": "x4",
          "y0": 0,
          "y1": 1,
          "yref": "y4"
         },
         {
          "layer": "above",
          "line": {
           "color": "crimson",
           "width": 1.5
          },
          "type": "line",
          "x0": 15,
          "x1": 15,
          "xref": "x4",
          "y0": 0,
          "y1": 1,
          "yref": "y4"
         },
         {
          "layer": "above",
          "line": {
           "color": "teal",
           "width": 1.5
          },
          "type": "line",
          "x0": 21,
          "x1": 21,
          "xref": "x4",
          "y0": 0,
          "y1": 1,
          "yref": "y4"
         },
         {
          "layer": "above",
          "line": {
           "color": "crimson",
           "width": 1.5
          },
          "type": "line",
          "x0": 23,
          "x1": 23,
          "xref": "x4",
          "y0": 0,
          "y1": 1,
          "yref": "y4"
         },
         {
          "layer": "above",
          "line": {
           "color": "teal",
           "width": 1.5
          },
          "type": "line",
          "x0": 27,
          "x1": 27,
          "xref": "x4",
          "y0": 0,
          "y1": 1,
          "yref": "y4"
         }
        ],
        "showlegend": true,
        "template": {
         "data": {
          "bar": [
           {
            "error_x": {
             "color": "#2a3f5f"
            },
            "error_y": {
             "color": "#2a3f5f"
            },
            "marker": {
             "line": {
              "color": "white",
              "width": 0.5
             },
             "pattern": {
              "fillmode": "overlay",
              "size": 10,
              "solidity": 0.2
             }
            },
            "type": "bar"
           }
          ],
          "barpolar": [
           {
            "marker": {
             "line": {
              "color": "white",
              "width": 0.5
             },
             "pattern": {
              "fillmode": "overlay",
              "size": 10,
              "solidity": 0.2
             }
            },
            "type": "barpolar"
           }
          ],
          "carpet": [
           {
            "aaxis": {
             "endlinecolor": "#2a3f5f",
             "gridcolor": "#C8D4E3",
             "linecolor": "#C8D4E3",
             "minorgridcolor": "#C8D4E3",
             "startlinecolor": "#2a3f5f"
            },
            "baxis": {
             "endlinecolor": "#2a3f5f",
             "gridcolor": "#C8D4E3",
             "linecolor": "#C8D4E3",
             "minorgridcolor": "#C8D4E3",
             "startlinecolor": "#2a3f5f"
            },
            "type": "carpet"
           }
          ],
          "choropleth": [
           {
            "colorbar": {
             "outlinewidth": 0,
             "ticks": ""
            },
            "type": "choropleth"
           }
          ],
          "contour": [
           {
            "colorbar": {
             "outlinewidth": 0,
             "ticks": ""
            },
            "colorscale": [
             [
              0,
              "#0d0887"
             ],
             [
              0.1111111111111111,
              "#46039f"
             ],
             [
              0.2222222222222222,
              "#7201a8"
             ],
             [
              0.3333333333333333,
              "#9c179e"
             ],
             [
              0.4444444444444444,
              "#bd3786"
             ],
             [
              0.5555555555555556,
              "#d8576b"
             ],
             [
              0.6666666666666666,
              "#ed7953"
             ],
             [
              0.7777777777777778,
              "#fb9f3a"
             ],
             [
              0.8888888888888888,
              "#fdca26"
             ],
             [
              1,
              "#f0f921"
             ]
            ],
            "type": "contour"
           }
          ],
          "contourcarpet": [
           {
            "colorbar": {
             "outlinewidth": 0,
             "ticks": ""
            },
            "type": "contourcarpet"
           }
          ],
          "heatmap": [
           {
            "colorbar": {
             "outlinewidth": 0,
             "ticks": ""
            },
            "colorscale": [
             [
              0,
              "#0d0887"
             ],
             [
              0.1111111111111111,
              "#46039f"
             ],
             [
              0.2222222222222222,
              "#7201a8"
             ],
             [
              0.3333333333333333,
              "#9c179e"
             ],
             [
              0.4444444444444444,
              "#bd3786"
             ],
             [
              0.5555555555555556,
              "#d8576b"
             ],
             [
              0.6666666666666666,
              "#ed7953"
             ],
             [
              0.7777777777777778,
              "#fb9f3a"
             ],
             [
              0.8888888888888888,
              "#fdca26"
             ],
             [
              1,
              "#f0f921"
             ]
            ],
            "type": "heatmap"
           }
          ],
          "heatmapgl": [
           {
            "colorbar": {
             "outlinewidth": 0,
             "ticks": ""
            },
            "colorscale": [
             [
              0,
              "#0d0887"
             ],
             [
              0.1111111111111111,
              "#46039f"
             ],
             [
              0.2222222222222222,
              "#7201a8"
             ],
             [
              0.3333333333333333,
              "#9c179e"
             ],
             [
              0.4444444444444444,
              "#bd3786"
             ],
             [
              0.5555555555555556,
              "#d8576b"
             ],
             [
              0.6666666666666666,
              "#ed7953"
             ],
             [
              0.7777777777777778,
              "#fb9f3a"
             ],
             [
              0.8888888888888888,
              "#fdca26"
             ],
             [
              1,
              "#f0f921"
             ]
            ],
            "type": "heatmapgl"
           }
          ],
          "histogram": [
           {
            "marker": {
             "pattern": {
              "fillmode": "overlay",
              "size": 10,
              "solidity": 0.2
             }
            },
            "type": "histogram"
           }
          ],
          "histogram2d": [
           {
            "colorbar": {
             "outlinewidth": 0,
             "ticks": ""
            },
            "colorscale": [
             [
              0,
              "#0d0887"
             ],
             [
              0.1111111111111111,
              "#46039f"
             ],
             [
              0.2222222222222222,
              "#7201a8"
             ],
             [
              0.3333333333333333,
              "#9c179e"
             ],
             [
              0.4444444444444444,
              "#bd3786"
             ],
             [
              0.5555555555555556,
              "#d8576b"
             ],
             [
              0.6666666666666666,
              "#ed7953"
             ],
             [
              0.7777777777777778,
              "#fb9f3a"
             ],
             [
              0.8888888888888888,
              "#fdca26"
             ],
             [
              1,
              "#f0f921"
             ]
            ],
            "type": "histogram2d"
           }
          ],
          "histogram2dcontour": [
           {
            "colorbar": {
             "outlinewidth": 0,
             "ticks": ""
            },
            "colorscale": [
             [
              0,
              "#0d0887"
             ],
             [
              0.1111111111111111,
              "#46039f"
             ],
             [
              0.2222222222222222,
              "#7201a8"
             ],
             [
              0.3333333333333333,
              "#9c179e"
             ],
             [
              0.4444444444444444,
              "#bd3786"
             ],
             [
              0.5555555555555556,
              "#d8576b"
             ],
             [
              0.6666666666666666,
              "#ed7953"
             ],
             [
              0.7777777777777778,
              "#fb9f3a"
             ],
             [
              0.8888888888888888,
              "#fdca26"
             ],
             [
              1,
              "#f0f921"
             ]
            ],
            "type": "histogram2dcontour"
           }
          ],
          "mesh3d": [
           {
            "colorbar": {
             "outlinewidth": 0,
             "ticks": ""
            },
            "type": "mesh3d"
           }
          ],
          "parcoords": [
           {
            "line": {
             "colorbar": {
              "outlinewidth": 0,
              "ticks": ""
             }
            },
            "type": "parcoords"
           }
          ],
          "pie": [
           {
            "automargin": true,
            "type": "pie"
           }
          ],
          "scatter": [
           {
            "fillpattern": {
             "fillmode": "overlay",
             "size": 10,
             "solidity": 0.2
            },
            "type": "scatter"
           }
          ],
          "scatter3d": [
           {
            "line": {
             "colorbar": {
              "outlinewidth": 0,
              "ticks": ""
             }
            },
            "marker": {
             "colorbar": {
              "outlinewidth": 0,
              "ticks": ""
             }
            },
            "type": "scatter3d"
           }
          ],
          "scattercarpet": [
           {
            "marker": {
             "colorbar": {
              "outlinewidth": 0,
              "ticks": ""
             }
            },
            "type": "scattercarpet"
           }
          ],
          "scattergeo": [
           {
            "marker": {
             "colorbar": {
              "outlinewidth": 0,
              "ticks": ""
             }
            },
            "type": "scattergeo"
           }
          ],
          "scattergl": [
           {
            "marker": {
             "colorbar": {
              "outlinewidth": 0,
              "ticks": ""
             }
            },
            "type": "scattergl"
           }
          ],
          "scattermapbox": [
           {
            "marker": {
             "colorbar": {
              "outlinewidth": 0,
              "ticks": ""
             }
            },
            "type": "scattermapbox"
           }
          ],
          "scatterpolar": [
           {
            "marker": {
             "colorbar": {
              "outlinewidth": 0,
              "ticks": ""
             }
            },
            "type": "scatterpolar"
           }
          ],
          "scatterpolargl": [
           {
            "marker": {
             "colorbar": {
              "outlinewidth": 0,
              "ticks": ""
             }
            },
            "type": "scatterpolargl"
           }
          ],
          "scatterternary": [
           {
            "marker": {
             "colorbar": {
              "outlinewidth": 0,
              "ticks": ""
             }
            },
            "type": "scatterternary"
           }
          ],
          "surface": [
           {
            "colorbar": {
             "outlinewidth": 0,
             "ticks": ""
            },
            "colorscale": [
             [
              0,
              "#0d0887"
             ],
             [
              0.1111111111111111,
              "#46039f"
             ],
             [
              0.2222222222222222,
              "#7201a8"
             ],
             [
              0.3333333333333333,
              "#9c179e"
             ],
             [
              0.4444444444444444,
              "#bd3786"
             ],
             [
              0.5555555555555556,
              "#d8576b"
             ],
             [
              0.6666666666666666,
              "#ed7953"
             ],
             [
              0.7777777777777778,
              "#fb9f3a"
             ],
             [
              0.8888888888888888,
              "#fdca26"
             ],
             [
              1,
              "#f0f921"
             ]
            ],
            "type": "surface"
           }
          ],
          "table": [
           {
            "cells": {
             "fill": {
              "color": "#EBF0F8"
             },
             "line": {
              "color": "white"
             }
            },
            "header": {
             "fill": {
              "color": "#C8D4E3"
             },
             "line": {
              "color": "white"
             }
            },
            "type": "table"
           }
          ]
         },
         "layout": {
          "annotationdefaults": {
           "arrowcolor": "#2a3f5f",
           "arrowhead": 0,
           "arrowwidth": 1
          },
          "autotypenumbers": "strict",
          "coloraxis": {
           "colorbar": {
            "outlinewidth": 0,
            "ticks": ""
           }
          },
          "colorscale": {
           "diverging": [
            [
             0,
             "#8e0152"
            ],
            [
             0.1,
             "#c51b7d"
            ],
            [
             0.2,
             "#de77ae"
            ],
            [
             0.3,
             "#f1b6da"
            ],
            [
             0.4,
             "#fde0ef"
            ],
            [
             0.5,
             "#f7f7f7"
            ],
            [
             0.6,
             "#e6f5d0"
            ],
            [
             0.7,
             "#b8e186"
            ],
            [
             0.8,
             "#7fbc41"
            ],
            [
             0.9,
             "#4d9221"
            ],
            [
             1,
             "#276419"
            ]
           ],
           "sequential": [
            [
             0,
             "#0d0887"
            ],
            [
             0.1111111111111111,
             "#46039f"
            ],
            [
             0.2222222222222222,
             "#7201a8"
            ],
            [
             0.3333333333333333,
             "#9c179e"
            ],
            [
             0.4444444444444444,
             "#bd3786"
            ],
            [
             0.5555555555555556,
             "#d8576b"
            ],
            [
             0.6666666666666666,
             "#ed7953"
            ],
            [
             0.7777777777777778,
             "#fb9f3a"
            ],
            [
             0.8888888888888888,
             "#fdca26"
            ],
            [
             1,
             "#f0f921"
            ]
           ],
           "sequentialminus": [
            [
             0,
             "#0d0887"
            ],
            [
             0.1111111111111111,
             "#46039f"
            ],
            [
             0.2222222222222222,
             "#7201a8"
            ],
            [
             0.3333333333333333,
             "#9c179e"
            ],
            [
             0.4444444444444444,
             "#bd3786"
            ],
            [
             0.5555555555555556,
             "#d8576b"
            ],
            [
             0.6666666666666666,
             "#ed7953"
            ],
            [
             0.7777777777777778,
             "#fb9f3a"
            ],
            [
             0.8888888888888888,
             "#fdca26"
            ],
            [
             1,
             "#f0f921"
            ]
           ]
          },
          "colorway": [
           "#636efa",
           "#EF553B",
           "#00cc96",
           "#ab63fa",
           "#FFA15A",
           "#19d3f3",
           "#FF6692",
           "#B6E880",
           "#FF97FF",
           "#FECB52"
          ],
          "font": {
           "color": "#2a3f5f"
          },
          "geo": {
           "bgcolor": "white",
           "lakecolor": "white",
           "landcolor": "white",
           "showlakes": true,
           "showland": true,
           "subunitcolor": "#C8D4E3"
          },
          "hoverlabel": {
           "align": "left"
          },
          "hovermode": "closest",
          "mapbox": {
           "style": "light"
          },
          "paper_bgcolor": "white",
          "plot_bgcolor": "white",
          "polar": {
           "angularaxis": {
            "gridcolor": "#EBF0F8",
            "linecolor": "#EBF0F8",
            "ticks": ""
           },
           "bgcolor": "white",
           "radialaxis": {
            "gridcolor": "#EBF0F8",
            "linecolor": "#EBF0F8",
            "ticks": ""
           }
          },
          "scene": {
           "xaxis": {
            "backgroundcolor": "white",
            "gridcolor": "#DFE8F3",
            "gridwidth": 2,
            "linecolor": "#EBF0F8",
            "showbackground": true,
            "ticks": "",
            "zerolinecolor": "#EBF0F8"
           },
           "yaxis": {
            "backgroundcolor": "white",
            "gridcolor": "#DFE8F3",
            "gridwidth": 2,
            "linecolor": "#EBF0F8",
            "showbackground": true,
            "ticks": "",
            "zerolinecolor": "#EBF0F8"
           },
           "zaxis": {
            "backgroundcolor": "white",
            "gridcolor": "#DFE8F3",
            "gridwidth": 2,
            "linecolor": "#EBF0F8",
            "showbackground": true,
            "ticks": "",
            "zerolinecolor": "#EBF0F8"
           }
          },
          "shapedefaults": {
           "line": {
            "color": "#2a3f5f"
           }
          },
          "ternary": {
           "aaxis": {
            "gridcolor": "#DFE8F3",
            "linecolor": "#A2B1C6",
            "ticks": ""
           },
           "baxis": {
            "gridcolor": "#DFE8F3",
            "linecolor": "#A2B1C6",
            "ticks": ""
           },
           "bgcolor": "white",
           "caxis": {
            "gridcolor": "#DFE8F3",
            "linecolor": "#A2B1C6",
            "ticks": ""
           }
          },
          "title": {
           "x": 0.05
          },
          "xaxis": {
           "automargin": true,
           "gridcolor": "#EBF0F8",
           "linecolor": "#EBF0F8",
           "ticks": "",
           "title": {
            "standoff": 15
           },
           "zerolinecolor": "#EBF0F8",
           "zerolinewidth": 2
          },
          "yaxis": {
           "automargin": true,
           "gridcolor": "#EBF0F8",
           "linecolor": "#EBF0F8",
           "ticks": "",
           "title": {
            "standoff": 15
           },
           "zerolinecolor": "#EBF0F8",
           "zerolinewidth": 2
          }
         }
        },
        "title": {
         "font": {
          "size": 24
         },
         "text": "Initial Model Info",
         "x": 0.43,
         "xanchor": "center",
         "y": 0.9
        },
        "width": 850,
        "xaxis": {
         "anchor": "y",
         "domain": [
          0,
          1
         ],
         "griddash": "dot",
         "matches": "x4",
         "range": [
          -0.2,
          24.2
         ],
         "showticklabels": false,
         "ticktext": [
          "0",
          "1",
          "2",
          "3",
          "4",
          "5",
          "6",
          "7",
          "8",
          "9",
          "10",
          "11",
          "12",
          "13",
          "14",
          "15",
          "16",
          "17",
          "18",
          "19",
          "20",
          "21",
          "22",
          "23",
          "0",
          "1",
          "2",
          "3"
         ],
         "tickvals": [
          0,
          1,
          2,
          3,
          4,
          5,
          6,
          7,
          8,
          9,
          10,
          11,
          12,
          13,
          14,
          15,
          16,
          17,
          18,
          19,
          20,
          21,
          22,
          23,
          24,
          25,
          26,
          27
         ]
        },
        "xaxis2": {
         "anchor": "y2",
         "domain": [
          0,
          1
         ],
         "griddash": "dot",
         "matches": "x4",
         "range": [
          -0.2,
          24.2
         ],
         "showticklabels": false,
         "ticktext": [
          "0",
          "1",
          "2",
          "3",
          "4",
          "5",
          "6",
          "7",
          "8",
          "9",
          "10",
          "11",
          "12",
          "13",
          "14",
          "15",
          "16",
          "17",
          "18",
          "19",
          "20",
          "21",
          "22",
          "23",
          "0",
          "1",
          "2",
          "3"
         ],
         "tickvals": [
          0,
          1,
          2,
          3,
          4,
          5,
          6,
          7,
          8,
          9,
          10,
          11,
          12,
          13,
          14,
          15,
          16,
          17,
          18,
          19,
          20,
          21,
          22,
          23,
          24,
          25,
          26,
          27
         ]
        },
        "xaxis3": {
         "anchor": "y3",
         "domain": [
          0,
          1
         ],
         "griddash": "dot",
         "matches": "x4",
         "range": [
          -0.2,
          24.2
         ],
         "showticklabels": false,
         "ticktext": [
          "0",
          "1",
          "2",
          "3",
          "4",
          "5",
          "6",
          "7",
          "8",
          "9",
          "10",
          "11",
          "12",
          "13",
          "14",
          "15",
          "16",
          "17",
          "18",
          "19",
          "20",
          "21",
          "22",
          "23",
          "0",
          "1",
          "2",
          "3"
         ],
         "tickvals": [
          0,
          1,
          2,
          3,
          4,
          5,
          6,
          7,
          8,
          9,
          10,
          11,
          12,
          13,
          14,
          15,
          16,
          17,
          18,
          19,
          20,
          21,
          22,
          23,
          24,
          25,
          26,
          27
         ]
        },
        "xaxis4": {
         "anchor": "y4",
         "domain": [
          0,
          1
         ],
         "griddash": "dot",
         "range": [
          -0.2,
          24.2
         ],
         "ticktext": [
          "0",
          "1",
          "2",
          "3",
          "4",
          "5",
          "6",
          "7",
          "8",
          "9",
          "10",
          "11",
          "12",
          "13",
          "14",
          "15",
          "16",
          "17",
          "18",
          "19",
          "20",
          "21",
          "22",
          "23",
          "0",
          "1",
          "2",
          "3"
         ],
         "tickvals": [
          0,
          1,
          2,
          3,
          4,
          5,
          6,
          7,
          8,
          9,
          10,
          11,
          12,
          13,
          14,
          15,
          16,
          17,
          18,
          19,
          20,
          21,
          22,
          23,
          24,
          25,
          26,
          27
         ]
        },
        "yaxis": {
         "anchor": "x",
         "domain": [
          0.7649999999999999,
          0.9999999999999999
         ],
         "dtick": 0.25,
         "nticks": 5,
         "range": [
          0,
          1.1
         ],
         "tickformat": " ,~%"
        },
        "yaxis2": {
         "anchor": "x2",
         "domain": [
          0.51,
          0.745
         ],
         "dtick": 0.25,
         "nticks": 5,
         "range": [
          0,
          1.1
         ],
         "tickformat": " ,~%"
        },
        "yaxis3": {
         "anchor": "x3",
         "domain": [
          0.255,
          0.49
         ],
         "dtick": 0.25,
         "nticks": 5,
         "range": [
          0,
          1.1
         ],
         "tickformat": " ,~%"
        },
        "yaxis4": {
         "anchor": "x4",
         "domain": [
          0,
          0.235
         ],
         "dtick": 0.25,
         "nticks": 5,
         "range": [
          0,
          1.1
         ],
         "tickformat": " ,~%"
        }
       }
      },
      "text/html": [
       "<div>                            <div id=\"ea5da6cf-2e4c-4f79-a893-f8129fb5a78f\" class=\"plotly-graph-div\" style=\"height:650px; width:850px;\"></div>            <script type=\"text/javascript\">                require([\"plotly\"], function(Plotly) {                    window.PLOTLYENV=window.PLOTLYENV || {};                                    if (document.getElementById(\"ea5da6cf-2e4c-4f79-a893-f8129fb5a78f\")) {                    Plotly.newPlot(                        \"ea5da6cf-2e4c-4f79-a893-f8129fb5a78f\",                        [{\"fill\":\"tozeroy\",\"fillcolor\":\"rgba(71, 164, 235, 0.4)\",\"fillpattern\":{\"fgcolor\":\"rgba(71, 164, 235, 0.5)\",\"fgopacity\":0.5,\"shape\":\"/\"},\"legendgroup\":\"Charger occupancy\",\"legendgrouptitle\":{\"text\":\"Charger\"},\"line\":{\"shape\":\"hv\",\"width\":0},\"name\":\"Occupied\",\"showlegend\":true,\"y\":[1.0,1.0,1.0,1.0,1.0,0.0,1.0,1.0,1.0,1.0,1.0,0.0,0.0,0.0,0.0,1.0,1.0,1.0,1.0,1.0,1.0,0.0,0.0,1.0,0.0],\"type\":\"scatter\",\"xaxis\":\"x4\",\"yaxis\":\"y4\"},{\"fill\":\"tozeroy\",\"fillcolor\":\"rgba(71, 164, 235, 0.5)\",\"legendgroup\":\"Charger occupancy\",\"line\":{\"shape\":\"hv\",\"width\":0},\"name\":\"Vehicle Capacity [kWh]\",\"showlegend\":true,\"y\":[0.38392857142857145,0.38392857142857145,0.38392857142857145,0.38392857142857145,0.38392857142857145,0.0,0.8214285714285714,0.8214285714285714,0.8214285714285714,0.8214285714285714,0.8214285714285714,0.0,0.0,0.0,0.0,0.8035714285714286,0.8035714285714286,0.8035714285714286,0.8035714285714286,0.8035714285714286,0.8035714285714286,0.0,0.0,0.2857142857142857,0.0],\"type\":\"scatter\",\"xaxis\":\"x4\",\"yaxis\":\"y4\"},{\"legendgroup\":\"State of Charge\",\"legendgrouptitle\":{\"text\":\"State of Charge\"},\"marker\":{\"color\":\"teal\",\"line\":{\"width\":0},\"opacity\":0.8},\"name\":\"Requested - on departure\",\"showlegend\":true,\"width\":0.5,\"x\":[5.0,11.0,21.0,27.0],\"y\":[1.0,1.0,1.0,1.0],\"type\":\"bar\",\"xaxis\":\"x4\",\"yaxis\":\"y4\"},{\"legendgroup\":\"State of Charge\",\"marker\":{\"color\":\"crimson\",\"line\":{\"width\":0},\"opacity\":0.8},\"name\":\"Initial - on arrival\",\"showlegend\":true,\"width\":0.5,\"x\":[0.0,6.0,15.0,23.0],\"y\":[0.2687361909855251,0.32282656265978293,0.6462237987846088,0.658021582938183],\"type\":\"bar\",\"xaxis\":\"x4\",\"yaxis\":\"y4\"},{\"fill\":\"tozeroy\",\"fillcolor\":\"rgba(71, 164, 235, 0.4)\",\"fillpattern\":{\"fgcolor\":\"rgba(71, 164, 235, 0.5)\",\"fgopacity\":0.5,\"shape\":\"/\"},\"legendgroup\":\"Charger occupancy\",\"legendgrouptitle\":{\"text\":\"Charger\"},\"line\":{\"shape\":\"hv\",\"width\":0},\"name\":\"Occupied\",\"showlegend\":false,\"y\":[1.0,1.0,1.0,1.0,1.0,1.0,1.0,1.0,0.0,0.0,1.0,1.0,1.0,1.0,1.0,1.0,1.0,1.0,1.0,0.0,0.0,0.0,0.0,0.0,0.0],\"type\":\"scatter\",\"xaxis\":\"x3\",\"yaxis\":\"y3\"},{\"fill\":\"tozeroy\",\"fillcolor\":\"rgba(71, 164, 235, 0.5)\",\"legendgroup\":\"Charger occupancy\",\"line\":{\"shape\":\"hv\",\"width\":0},\"name\":\"Vehicle Capacity [kWh]\",\"showlegend\":false,\"y\":[0.7946428571428571,0.7946428571428571,0.7946428571428571,0.7946428571428571,0.7946428571428571,0.7946428571428571,0.7946428571428571,0.7946428571428571,0.0,0.0,0.41964285714285715,0.41964285714285715,0.41964285714285715,0.41964285714285715,0.41964285714285715,0.41964285714285715,0.41964285714285715,0.41964285714285715,0.41964285714285715,0.0,0.0,0.0,0.0,0.0,0.0],\"type\":\"scatter\",\"xaxis\":\"x3\",\"yaxis\":\"y3\"},{\"legendgroup\":\"State of Charge\",\"legendgrouptitle\":{\"text\":\"State of Charge\"},\"marker\":{\"color\":\"teal\",\"line\":{\"width\":0},\"opacity\":0.8},\"name\":\"Requested - on departure\",\"showlegend\":false,\"width\":0.5,\"x\":[8.0,19.0],\"y\":[1.0,1.0],\"type\":\"bar\",\"xaxis\":\"x3\",\"yaxis\":\"y3\"},{\"legendgroup\":\"State of Charge\",\"marker\":{\"color\":\"crimson\",\"line\":{\"width\":0},\"opacity\":0.8},\"name\":\"Initial - on arrival\",\"showlegend\":false,\"width\":0.5,\"x\":[0.0,10.0],\"y\":[0.8509042414912792,0.8196674239363752],\"type\":\"bar\",\"xaxis\":\"x3\",\"yaxis\":\"y3\"},{\"fill\":\"tozeroy\",\"fillcolor\":\"rgba(71, 164, 235, 0.4)\",\"fillpattern\":{\"fgcolor\":\"rgba(71, 164, 235, 0.5)\",\"fgopacity\":0.5,\"shape\":\"/\"},\"legendgroup\":\"Charger occupancy\",\"legendgrouptitle\":{\"text\":\"Charger\"},\"line\":{\"shape\":\"hv\",\"width\":0},\"name\":\"Occupied\",\"showlegend\":false,\"y\":[0.0,0.0,0.0,1.0,1.0,1.0,1.0,1.0,1.0,0.0,0.0,1.0,1.0,1.0,1.0,1.0,0.0,1.0,1.0,1.0,1.0,1.0,0.0,0.0,0.0],\"type\":\"scatter\",\"xaxis\":\"x2\",\"yaxis\":\"y2\"},{\"fill\":\"tozeroy\",\"fillcolor\":\"rgba(71, 164, 235, 0.5)\",\"legendgroup\":\"Charger occupancy\",\"line\":{\"shape\":\"hv\",\"width\":0},\"name\":\"Vehicle Capacity [kWh]\",\"showlegend\":false,\"y\":[0.0,0.0,0.0,0.4375,0.4375,0.4375,0.4375,0.4375,0.4375,0.0,0.0,1.0,1.0,1.0,1.0,1.0,0.0,0.9732142857142857,0.9732142857142857,0.9732142857142857,0.9732142857142857,0.9732142857142857,0.0,0.0,0.0],\"type\":\"scatter\",\"xaxis\":\"x2\",\"yaxis\":\"y2\"},{\"legendgroup\":\"State of Charge\",\"legendgrouptitle\":{\"text\":\"State of Charge\"},\"marker\":{\"color\":\"teal\",\"line\":{\"width\":0},\"opacity\":0.8},\"name\":\"Requested - on departure\",\"showlegend\":false,\"width\":0.5,\"x\":[9.0,16.0,22.0],\"y\":[1.0,1.0,1.0],\"type\":\"bar\",\"xaxis\":\"x2\",\"yaxis\":\"y2\"},{\"legendgroup\":\"State of Charge\",\"marker\":{\"color\":\"crimson\",\"line\":{\"width\":0},\"opacity\":0.8},\"name\":\"Initial - on arrival\",\"showlegend\":false,\"width\":0.5,\"x\":[3.0,11.0,17.0],\"y\":[0.16303800535708285,0.40647634454652404,0.1745497713578087],\"type\":\"bar\",\"xaxis\":\"x2\",\"yaxis\":\"y2\"},{\"fill\":\"tozeroy\",\"fillcolor\":\"rgba(71, 164, 235, 0.4)\",\"fillpattern\":{\"fgcolor\":\"rgba(71, 164, 235, 0.5)\",\"fgopacity\":0.5,\"shape\":\"/\"},\"legendgroup\":\"Charger occupancy\",\"legendgrouptitle\":{\"text\":\"Charger\"},\"line\":{\"shape\":\"hv\",\"width\":0},\"name\":\"Occupied\",\"showlegend\":false,\"y\":[1.0,1.0,1.0,1.0,1.0,1.0,0.0,1.0,1.0,1.0,1.0,1.0,1.0,1.0,1.0,0.0,1.0,1.0,1.0,1.0,1.0,1.0,1.0,0.0,0.0],\"type\":\"scatter\",\"xaxis\":\"x\",\"yaxis\":\"y\"},{\"fill\":\"tozeroy\",\"fillcolor\":\"rgba(71, 164, 235, 0.5)\",\"legendgroup\":\"Charger occupancy\",\"line\":{\"shape\":\"hv\",\"width\":0},\"name\":\"Vehicle Capacity [kWh]\",\"showlegend\":false,\"y\":[0.14285714285714285,0.14285714285714285,0.14285714285714285,0.14285714285714285,0.14285714285714285,0.14285714285714285,0.0,0.21428571428571427,0.21428571428571427,0.21428571428571427,0.21428571428571427,0.21428571428571427,0.21428571428571427,0.21428571428571427,0.21428571428571427,0.0,0.2767857142857143,0.2767857142857143,0.2767857142857143,0.2767857142857143,0.2767857142857143,0.2767857142857143,0.2767857142857143,0.0,0.0],\"type\":\"scatter\",\"xaxis\":\"x\",\"yaxis\":\"y\"},{\"legendgroup\":\"State of Charge\",\"legendgrouptitle\":{\"text\":\"State of Charge\"},\"marker\":{\"color\":\"teal\",\"line\":{\"width\":0},\"opacity\":0.8},\"name\":\"Requested - on departure\",\"showlegend\":false,\"width\":0.5,\"x\":[6.0,15.0,23.0],\"y\":[1.0,1.0,1.0],\"type\":\"bar\",\"xaxis\":\"x\",\"yaxis\":\"y\"},{\"legendgroup\":\"State of Charge\",\"marker\":{\"color\":\"crimson\",\"line\":{\"width\":0},\"opacity\":0.8},\"name\":\"Initial - on arrival\",\"showlegend\":false,\"width\":0.5,\"x\":[0.0,7.0,16.0],\"y\":[0.45773601125327257,0.27619602375201013,0.6520423769879261],\"type\":\"bar\",\"xaxis\":\"x\",\"yaxis\":\"y\"}],                        {\"template\":{\"data\":{\"histogram2dcontour\":[{\"type\":\"histogram2dcontour\",\"colorbar\":{\"outlinewidth\":0,\"ticks\":\"\"},\"colorscale\":[[0.0,\"#0d0887\"],[0.1111111111111111,\"#46039f\"],[0.2222222222222222,\"#7201a8\"],[0.3333333333333333,\"#9c179e\"],[0.4444444444444444,\"#bd3786\"],[0.5555555555555556,\"#d8576b\"],[0.6666666666666666,\"#ed7953\"],[0.7777777777777778,\"#fb9f3a\"],[0.8888888888888888,\"#fdca26\"],[1.0,\"#f0f921\"]]}],\"choropleth\":[{\"type\":\"choropleth\",\"colorbar\":{\"outlinewidth\":0,\"ticks\":\"\"}}],\"histogram2d\":[{\"type\":\"histogram2d\",\"colorbar\":{\"outlinewidth\":0,\"ticks\":\"\"},\"colorscale\":[[0.0,\"#0d0887\"],[0.1111111111111111,\"#46039f\"],[0.2222222222222222,\"#7201a8\"],[0.3333333333333333,\"#9c179e\"],[0.4444444444444444,\"#bd3786\"],[0.5555555555555556,\"#d8576b\"],[0.6666666666666666,\"#ed7953\"],[0.7777777777777778,\"#fb9f3a\"],[0.8888888888888888,\"#fdca26\"],[1.0,\"#f0f921\"]]}],\"heatmap\":[{\"type\":\"heatmap\",\"colorbar\":{\"outlinewidth\":0,\"ticks\":\"\"},\"colorscale\":[[0.0,\"#0d0887\"],[0.1111111111111111,\"#46039f\"],[0.2222222222222222,\"#7201a8\"],[0.3333333333333333,\"#9c179e\"],[0.4444444444444444,\"#bd3786\"],[0.5555555555555556,\"#d8576b\"],[0.6666666666666666,\"#ed7953\"],[0.7777777777777778,\"#fb9f3a\"],[0.8888888888888888,\"#fdca26\"],[1.0,\"#f0f921\"]]}],\"heatmapgl\":[{\"type\":\"heatmapgl\",\"colorbar\":{\"outlinewidth\":0,\"ticks\":\"\"},\"colorscale\":[[0.0,\"#0d0887\"],[0.1111111111111111,\"#46039f\"],[0.2222222222222222,\"#7201a8\"],[0.3333333333333333,\"#9c179e\"],[0.4444444444444444,\"#bd3786\"],[0.5555555555555556,\"#d8576b\"],[0.6666666666666666,\"#ed7953\"],[0.7777777777777778,\"#fb9f3a\"],[0.8888888888888888,\"#fdca26\"],[1.0,\"#f0f921\"]]}],\"contourcarpet\":[{\"type\":\"contourcarpet\",\"colorbar\":{\"outlinewidth\":0,\"ticks\":\"\"}}],\"contour\":[{\"type\":\"contour\",\"colorbar\":{\"outlinewidth\":0,\"ticks\":\"\"},\"colorscale\":[[0.0,\"#0d0887\"],[0.1111111111111111,\"#46039f\"],[0.2222222222222222,\"#7201a8\"],[0.3333333333333333,\"#9c179e\"],[0.4444444444444444,\"#bd3786\"],[0.5555555555555556,\"#d8576b\"],[0.6666666666666666,\"#ed7953\"],[0.7777777777777778,\"#fb9f3a\"],[0.8888888888888888,\"#fdca26\"],[1.0,\"#f0f921\"]]}],\"surface\":[{\"type\":\"surface\",\"colorbar\":{\"outlinewidth\":0,\"ticks\":\"\"},\"colorscale\":[[0.0,\"#0d0887\"],[0.1111111111111111,\"#46039f\"],[0.2222222222222222,\"#7201a8\"],[0.3333333333333333,\"#9c179e\"],[0.4444444444444444,\"#bd3786\"],[0.5555555555555556,\"#d8576b\"],[0.6666666666666666,\"#ed7953\"],[0.7777777777777778,\"#fb9f3a\"],[0.8888888888888888,\"#fdca26\"],[1.0,\"#f0f921\"]]}],\"mesh3d\":[{\"type\":\"mesh3d\",\"colorbar\":{\"outlinewidth\":0,\"ticks\":\"\"}}],\"scatter\":[{\"fillpattern\":{\"fillmode\":\"overlay\",\"size\":10,\"solidity\":0.2},\"type\":\"scatter\"}],\"parcoords\":[{\"type\":\"parcoords\",\"line\":{\"colorbar\":{\"outlinewidth\":0,\"ticks\":\"\"}}}],\"scatterpolargl\":[{\"type\":\"scatterpolargl\",\"marker\":{\"colorbar\":{\"outlinewidth\":0,\"ticks\":\"\"}}}],\"bar\":[{\"error_x\":{\"color\":\"#2a3f5f\"},\"error_y\":{\"color\":\"#2a3f5f\"},\"marker\":{\"line\":{\"color\":\"white\",\"width\":0.5},\"pattern\":{\"fillmode\":\"overlay\",\"size\":10,\"solidity\":0.2}},\"type\":\"bar\"}],\"scattergeo\":[{\"type\":\"scattergeo\",\"marker\":{\"colorbar\":{\"outlinewidth\":0,\"ticks\":\"\"}}}],\"scatterpolar\":[{\"type\":\"scatterpolar\",\"marker\":{\"colorbar\":{\"outlinewidth\":0,\"ticks\":\"\"}}}],\"histogram\":[{\"marker\":{\"pattern\":{\"fillmode\":\"overlay\",\"size\":10,\"solidity\":0.2}},\"type\":\"histogram\"}],\"scattergl\":[{\"type\":\"scattergl\",\"marker\":{\"colorbar\":{\"outlinewidth\":0,\"ticks\":\"\"}}}],\"scatter3d\":[{\"type\":\"scatter3d\",\"line\":{\"colorbar\":{\"outlinewidth\":0,\"ticks\":\"\"}},\"marker\":{\"colorbar\":{\"outlinewidth\":0,\"ticks\":\"\"}}}],\"scattermapbox\":[{\"type\":\"scattermapbox\",\"marker\":{\"colorbar\":{\"outlinewidth\":0,\"ticks\":\"\"}}}],\"scatterternary\":[{\"type\":\"scatterternary\",\"marker\":{\"colorbar\":{\"outlinewidth\":0,\"ticks\":\"\"}}}],\"scattercarpet\":[{\"type\":\"scattercarpet\",\"marker\":{\"colorbar\":{\"outlinewidth\":0,\"ticks\":\"\"}}}],\"carpet\":[{\"aaxis\":{\"endlinecolor\":\"#2a3f5f\",\"gridcolor\":\"#C8D4E3\",\"linecolor\":\"#C8D4E3\",\"minorgridcolor\":\"#C8D4E3\",\"startlinecolor\":\"#2a3f5f\"},\"baxis\":{\"endlinecolor\":\"#2a3f5f\",\"gridcolor\":\"#C8D4E3\",\"linecolor\":\"#C8D4E3\",\"minorgridcolor\":\"#C8D4E3\",\"startlinecolor\":\"#2a3f5f\"},\"type\":\"carpet\"}],\"table\":[{\"cells\":{\"fill\":{\"color\":\"#EBF0F8\"},\"line\":{\"color\":\"white\"}},\"header\":{\"fill\":{\"color\":\"#C8D4E3\"},\"line\":{\"color\":\"white\"}},\"type\":\"table\"}],\"barpolar\":[{\"marker\":{\"line\":{\"color\":\"white\",\"width\":0.5},\"pattern\":{\"fillmode\":\"overlay\",\"size\":10,\"solidity\":0.2}},\"type\":\"barpolar\"}],\"pie\":[{\"automargin\":true,\"type\":\"pie\"}]},\"layout\":{\"autotypenumbers\":\"strict\",\"colorway\":[\"#636efa\",\"#EF553B\",\"#00cc96\",\"#ab63fa\",\"#FFA15A\",\"#19d3f3\",\"#FF6692\",\"#B6E880\",\"#FF97FF\",\"#FECB52\"],\"font\":{\"color\":\"#2a3f5f\"},\"hovermode\":\"closest\",\"hoverlabel\":{\"align\":\"left\"},\"paper_bgcolor\":\"white\",\"plot_bgcolor\":\"white\",\"polar\":{\"bgcolor\":\"white\",\"angularaxis\":{\"gridcolor\":\"#EBF0F8\",\"linecolor\":\"#EBF0F8\",\"ticks\":\"\"},\"radialaxis\":{\"gridcolor\":\"#EBF0F8\",\"linecolor\":\"#EBF0F8\",\"ticks\":\"\"}},\"ternary\":{\"bgcolor\":\"white\",\"aaxis\":{\"gridcolor\":\"#DFE8F3\",\"linecolor\":\"#A2B1C6\",\"ticks\":\"\"},\"baxis\":{\"gridcolor\":\"#DFE8F3\",\"linecolor\":\"#A2B1C6\",\"ticks\":\"\"},\"caxis\":{\"gridcolor\":\"#DFE8F3\",\"linecolor\":\"#A2B1C6\",\"ticks\":\"\"}},\"coloraxis\":{\"colorbar\":{\"outlinewidth\":0,\"ticks\":\"\"}},\"colorscale\":{\"sequential\":[[0.0,\"#0d0887\"],[0.1111111111111111,\"#46039f\"],[0.2222222222222222,\"#7201a8\"],[0.3333333333333333,\"#9c179e\"],[0.4444444444444444,\"#bd3786\"],[0.5555555555555556,\"#d8576b\"],[0.6666666666666666,\"#ed7953\"],[0.7777777777777778,\"#fb9f3a\"],[0.8888888888888888,\"#fdca26\"],[1.0,\"#f0f921\"]],\"sequentialminus\":[[0.0,\"#0d0887\"],[0.1111111111111111,\"#46039f\"],[0.2222222222222222,\"#7201a8\"],[0.3333333333333333,\"#9c179e\"],[0.4444444444444444,\"#bd3786\"],[0.5555555555555556,\"#d8576b\"],[0.6666666666666666,\"#ed7953\"],[0.7777777777777778,\"#fb9f3a\"],[0.8888888888888888,\"#fdca26\"],[1.0,\"#f0f921\"]],\"diverging\":[[0,\"#8e0152\"],[0.1,\"#c51b7d\"],[0.2,\"#de77ae\"],[0.3,\"#f1b6da\"],[0.4,\"#fde0ef\"],[0.5,\"#f7f7f7\"],[0.6,\"#e6f5d0\"],[0.7,\"#b8e186\"],[0.8,\"#7fbc41\"],[0.9,\"#4d9221\"],[1,\"#276419\"]]},\"xaxis\":{\"gridcolor\":\"#EBF0F8\",\"linecolor\":\"#EBF0F8\",\"ticks\":\"\",\"title\":{\"standoff\":15},\"zerolinecolor\":\"#EBF0F8\",\"automargin\":true,\"zerolinewidth\":2},\"yaxis\":{\"gridcolor\":\"#EBF0F8\",\"linecolor\":\"#EBF0F8\",\"ticks\":\"\",\"title\":{\"standoff\":15},\"zerolinecolor\":\"#EBF0F8\",\"automargin\":true,\"zerolinewidth\":2},\"scene\":{\"xaxis\":{\"backgroundcolor\":\"white\",\"gridcolor\":\"#DFE8F3\",\"linecolor\":\"#EBF0F8\",\"showbackground\":true,\"ticks\":\"\",\"zerolinecolor\":\"#EBF0F8\",\"gridwidth\":2},\"yaxis\":{\"backgroundcolor\":\"white\",\"gridcolor\":\"#DFE8F3\",\"linecolor\":\"#EBF0F8\",\"showbackground\":true,\"ticks\":\"\",\"zerolinecolor\":\"#EBF0F8\",\"gridwidth\":2},\"zaxis\":{\"backgroundcolor\":\"white\",\"gridcolor\":\"#DFE8F3\",\"linecolor\":\"#EBF0F8\",\"showbackground\":true,\"ticks\":\"\",\"zerolinecolor\":\"#EBF0F8\",\"gridwidth\":2}},\"shapedefaults\":{\"line\":{\"color\":\"#2a3f5f\"}},\"annotationdefaults\":{\"arrowcolor\":\"#2a3f5f\",\"arrowhead\":0,\"arrowwidth\":1},\"geo\":{\"bgcolor\":\"white\",\"landcolor\":\"white\",\"subunitcolor\":\"#C8D4E3\",\"showland\":true,\"showlakes\":true,\"lakecolor\":\"white\"},\"title\":{\"x\":0.05},\"mapbox\":{\"style\":\"light\"}}},\"xaxis\":{\"anchor\":\"y\",\"domain\":[0.0,1.0],\"matches\":\"x4\",\"showticklabels\":false,\"griddash\":\"dot\",\"range\":[-0.2,24.2],\"tickvals\":[0,1,2,3,4,5,6,7,8,9,10,11,12,13,14,15,16,17,18,19,20,21,22,23,24,25,26,27],\"ticktext\":[\"0\",\"1\",\"2\",\"3\",\"4\",\"5\",\"6\",\"7\",\"8\",\"9\",\"10\",\"11\",\"12\",\"13\",\"14\",\"15\",\"16\",\"17\",\"18\",\"19\",\"20\",\"21\",\"22\",\"23\",\"0\",\"1\",\"2\",\"3\"]},\"yaxis\":{\"anchor\":\"x\",\"domain\":[0.7649999999999999,0.9999999999999999],\"tickformat\":\" ,~%\",\"nticks\":5,\"range\":[0,1.1],\"dtick\":0.25},\"xaxis2\":{\"anchor\":\"y2\",\"domain\":[0.0,1.0],\"matches\":\"x4\",\"showticklabels\":false,\"griddash\":\"dot\",\"range\":[-0.2,24.2],\"tickvals\":[0,1,2,3,4,5,6,7,8,9,10,11,12,13,14,15,16,17,18,19,20,21,22,23,24,25,26,27],\"ticktext\":[\"0\",\"1\",\"2\",\"3\",\"4\",\"5\",\"6\",\"7\",\"8\",\"9\",\"10\",\"11\",\"12\",\"13\",\"14\",\"15\",\"16\",\"17\",\"18\",\"19\",\"20\",\"21\",\"22\",\"23\",\"0\",\"1\",\"2\",\"3\"]},\"yaxis2\":{\"anchor\":\"x2\",\"domain\":[0.51,0.745],\"tickformat\":\" ,~%\",\"nticks\":5,\"range\":[0,1.1],\"dtick\":0.25},\"xaxis3\":{\"anchor\":\"y3\",\"domain\":[0.0,1.0],\"matches\":\"x4\",\"showticklabels\":false,\"griddash\":\"dot\",\"range\":[-0.2,24.2],\"tickvals\":[0,1,2,3,4,5,6,7,8,9,10,11,12,13,14,15,16,17,18,19,20,21,22,23,24,25,26,27],\"ticktext\":[\"0\",\"1\",\"2\",\"3\",\"4\",\"5\",\"6\",\"7\",\"8\",\"9\",\"10\",\"11\",\"12\",\"13\",\"14\",\"15\",\"16\",\"17\",\"18\",\"19\",\"20\",\"21\",\"22\",\"23\",\"0\",\"1\",\"2\",\"3\"]},\"yaxis3\":{\"anchor\":\"x3\",\"domain\":[0.255,0.49],\"tickformat\":\" ,~%\",\"nticks\":5,\"range\":[0,1.1],\"dtick\":0.25},\"xaxis4\":{\"anchor\":\"y4\",\"domain\":[0.0,1.0],\"griddash\":\"dot\",\"range\":[-0.2,24.2],\"tickvals\":[0,1,2,3,4,5,6,7,8,9,10,11,12,13,14,15,16,17,18,19,20,21,22,23,24,25,26,27],\"ticktext\":[\"0\",\"1\",\"2\",\"3\",\"4\",\"5\",\"6\",\"7\",\"8\",\"9\",\"10\",\"11\",\"12\",\"13\",\"14\",\"15\",\"16\",\"17\",\"18\",\"19\",\"20\",\"21\",\"22\",\"23\",\"0\",\"1\",\"2\",\"3\"]},\"yaxis4\":{\"anchor\":\"x4\",\"domain\":[0.0,0.235],\"tickformat\":\" ,~%\",\"nticks\":5,\"range\":[0,1.1],\"dtick\":0.25},\"annotations\":[{\"font\":{\"color\":\"grey\",\"size\":13},\"opacity\":0.9,\"showarrow\":false,\"text\":\"<i>Charger 0</i>\",\"textangle\":0,\"x\":23,\"xref\":\"x\",\"y\":1.2,\"yref\":\"y\"},{\"font\":{\"color\":\"white\",\"size\":14},\"opacity\":0.9,\"showarrow\":false,\"text\":\"<i>16.0</i>\",\"textangle\":0,\"x\":3.0,\"xref\":\"x\",\"y\":0.12,\"yref\":\"y\"},{\"font\":{\"color\":\"white\",\"size\":14},\"opacity\":0.9,\"showarrow\":false,\"text\":\"<i>24.0</i>\",\"textangle\":0,\"x\":11.0,\"xref\":\"x\",\"y\":0.12,\"yref\":\"y\"},{\"font\":{\"color\":\"white\",\"size\":14},\"opacity\":0.9,\"showarrow\":false,\"text\":\"<i>31.0</i>\",\"textangle\":0,\"x\":19.5,\"xref\":\"x\",\"y\":0.12,\"yref\":\"y\"},{\"font\":{\"color\":\"grey\",\"size\":13},\"opacity\":0.9,\"showarrow\":false,\"text\":\"<i>Charger 1</i>\",\"textangle\":0,\"x\":23,\"xref\":\"x2\",\"y\":1.2,\"yref\":\"y2\"},{\"font\":{\"color\":\"white\",\"size\":14},\"opacity\":0.9,\"showarrow\":false,\"text\":\"<i>49.0</i>\",\"textangle\":0,\"x\":6.0,\"xref\":\"x2\",\"y\":0.12,\"yref\":\"y2\"},{\"font\":{\"color\":\"white\",\"size\":14},\"opacity\":0.9,\"showarrow\":false,\"text\":\"<i>112.0</i>\",\"textangle\":0,\"x\":13.5,\"xref\":\"x2\",\"y\":0.12,\"yref\":\"y2\"},{\"font\":{\"color\":\"white\",\"size\":14},\"opacity\":0.9,\"showarrow\":false,\"text\":\"<i>109.0</i>\",\"textangle\":0,\"x\":19.5,\"xref\":\"x2\",\"y\":0.12,\"yref\":\"y2\"},{\"font\":{\"color\":\"grey\",\"size\":13},\"opacity\":0.9,\"showarrow\":false,\"text\":\"<i>Charger 2</i>\",\"textangle\":0,\"x\":23,\"xref\":\"x3\",\"y\":1.2,\"yref\":\"y3\"},{\"font\":{\"color\":\"white\",\"size\":14},\"opacity\":0.9,\"showarrow\":false,\"text\":\"<i>89.0</i>\",\"textangle\":0,\"x\":4.0,\"xref\":\"x3\",\"y\":0.12,\"yref\":\"y3\"},{\"font\":{\"color\":\"white\",\"size\":14},\"opacity\":0.9,\"showarrow\":false,\"text\":\"<i>47.0</i>\",\"textangle\":0,\"x\":14.5,\"xref\":\"x3\",\"y\":0.12,\"yref\":\"y3\"},{\"font\":{\"color\":\"grey\",\"size\":13},\"opacity\":0.9,\"showarrow\":false,\"text\":\"<i>Charger 3</i>\",\"textangle\":0,\"x\":23,\"xref\":\"x4\",\"y\":1.2,\"yref\":\"y4\"},{\"font\":{\"color\":\"white\",\"size\":14},\"opacity\":0.9,\"showarrow\":false,\"text\":\"<i>43.0</i>\",\"textangle\":0,\"x\":2.5,\"xref\":\"x4\",\"y\":0.12,\"yref\":\"y4\"},{\"font\":{\"color\":\"white\",\"size\":14},\"opacity\":0.9,\"showarrow\":false,\"text\":\"<i>92.0</i>\",\"textangle\":0,\"x\":8.5,\"xref\":\"x4\",\"y\":0.12,\"yref\":\"y4\"},{\"font\":{\"color\":\"white\",\"size\":14},\"opacity\":0.9,\"showarrow\":false,\"text\":\"<i>90.0</i>\",\"textangle\":0,\"x\":18.0,\"xref\":\"x4\",\"y\":0.12,\"yref\":\"y4\"},{\"font\":{\"color\":\"white\",\"size\":14},\"opacity\":0.9,\"showarrow\":false,\"text\":\"<i>32.0</i>\",\"textangle\":-90,\"x\":23.5,\"xref\":\"x4\",\"y\":0.4,\"yref\":\"y4\"},{\"font\":{\"size\":14},\"showarrow\":false,\"text\":\"State of Charge\",\"textangle\":-90,\"x\":-0.15,\"xref\":\"paper\",\"y\":0.5,\"yref\":\"paper\"},{\"font\":{\"size\":14},\"showarrow\":false,\"text\":\"Timestep (Hour) in a Day\",\"textangle\":0,\"x\":0.5,\"xref\":\"paper\",\"y\":-0.1,\"yref\":\"paper\"}],\"shapes\":[{\"layer\":\"above\",\"line\":{\"color\":\"crimson\",\"width\":1.5},\"type\":\"line\",\"x0\":0,\"x1\":0,\"xref\":\"x\",\"y0\":0,\"y1\":1,\"yref\":\"y\"},{\"layer\":\"above\",\"line\":{\"color\":\"teal\",\"width\":1.5},\"type\":\"line\",\"x0\":6,\"x1\":6,\"xref\":\"x\",\"y0\":0,\"y1\":1,\"yref\":\"y\"},{\"layer\":\"above\",\"line\":{\"color\":\"crimson\",\"width\":1.5},\"type\":\"line\",\"x0\":7,\"x1\":7,\"xref\":\"x\",\"y0\":0,\"y1\":1,\"yref\":\"y\"},{\"layer\":\"above\",\"line\":{\"color\":\"teal\",\"width\":1.5},\"type\":\"line\",\"x0\":15,\"x1\":15,\"xref\":\"x\",\"y0\":0,\"y1\":1,\"yref\":\"y\"},{\"layer\":\"above\",\"line\":{\"color\":\"crimson\",\"width\":1.5},\"type\":\"line\",\"x0\":16,\"x1\":16,\"xref\":\"x\",\"y0\":0,\"y1\":1,\"yref\":\"y\"},{\"layer\":\"above\",\"line\":{\"color\":\"teal\",\"width\":1.5},\"type\":\"line\",\"x0\":23,\"x1\":23,\"xref\":\"x\",\"y0\":0,\"y1\":1,\"yref\":\"y\"},{\"layer\":\"above\",\"line\":{\"color\":\"crimson\",\"width\":1.5},\"type\":\"line\",\"x0\":3,\"x1\":3,\"xref\":\"x2\",\"y0\":0,\"y1\":1,\"yref\":\"y2\"},{\"layer\":\"above\",\"line\":{\"color\":\"teal\",\"width\":1.5},\"type\":\"line\",\"x0\":9,\"x1\":9,\"xref\":\"x2\",\"y0\":0,\"y1\":1,\"yref\":\"y2\"},{\"layer\":\"above\",\"line\":{\"color\":\"crimson\",\"width\":1.5},\"type\":\"line\",\"x0\":11,\"x1\":11,\"xref\":\"x2\",\"y0\":0,\"y1\":1,\"yref\":\"y2\"},{\"layer\":\"above\",\"line\":{\"color\":\"teal\",\"width\":1.5},\"type\":\"line\",\"x0\":16,\"x1\":16,\"xref\":\"x2\",\"y0\":0,\"y1\":1,\"yref\":\"y2\"},{\"layer\":\"above\",\"line\":{\"color\":\"crimson\",\"width\":1.5},\"type\":\"line\",\"x0\":17,\"x1\":17,\"xref\":\"x2\",\"y0\":0,\"y1\":1,\"yref\":\"y2\"},{\"layer\":\"above\",\"line\":{\"color\":\"teal\",\"width\":1.5},\"type\":\"line\",\"x0\":22,\"x1\":22,\"xref\":\"x2\",\"y0\":0,\"y1\":1,\"yref\":\"y2\"},{\"layer\":\"above\",\"line\":{\"color\":\"crimson\",\"width\":1.5},\"type\":\"line\",\"x0\":0,\"x1\":0,\"xref\":\"x3\",\"y0\":0,\"y1\":1,\"yref\":\"y3\"},{\"layer\":\"above\",\"line\":{\"color\":\"teal\",\"width\":1.5},\"type\":\"line\",\"x0\":8,\"x1\":8,\"xref\":\"x3\",\"y0\":0,\"y1\":1,\"yref\":\"y3\"},{\"layer\":\"above\",\"line\":{\"color\":\"crimson\",\"width\":1.5},\"type\":\"line\",\"x0\":10,\"x1\":10,\"xref\":\"x3\",\"y0\":0,\"y1\":1,\"yref\":\"y3\"},{\"layer\":\"above\",\"line\":{\"color\":\"teal\",\"width\":1.5},\"type\":\"line\",\"x0\":19,\"x1\":19,\"xref\":\"x3\",\"y0\":0,\"y1\":1,\"yref\":\"y3\"},{\"layer\":\"above\",\"line\":{\"color\":\"crimson\",\"width\":1.5},\"type\":\"line\",\"x0\":0,\"x1\":0,\"xref\":\"x4\",\"y0\":0,\"y1\":1,\"yref\":\"y4\"},{\"layer\":\"above\",\"line\":{\"color\":\"teal\",\"width\":1.5},\"type\":\"line\",\"x0\":5,\"x1\":5,\"xref\":\"x4\",\"y0\":0,\"y1\":1,\"yref\":\"y4\"},{\"layer\":\"above\",\"line\":{\"color\":\"crimson\",\"width\":1.5},\"type\":\"line\",\"x0\":6,\"x1\":6,\"xref\":\"x4\",\"y0\":0,\"y1\":1,\"yref\":\"y4\"},{\"layer\":\"above\",\"line\":{\"color\":\"teal\",\"width\":1.5},\"type\":\"line\",\"x0\":11,\"x1\":11,\"xref\":\"x4\",\"y0\":0,\"y1\":1,\"yref\":\"y4\"},{\"layer\":\"above\",\"line\":{\"color\":\"crimson\",\"width\":1.5},\"type\":\"line\",\"x0\":15,\"x1\":15,\"xref\":\"x4\",\"y0\":0,\"y1\":1,\"yref\":\"y4\"},{\"layer\":\"above\",\"line\":{\"color\":\"teal\",\"width\":1.5},\"type\":\"line\",\"x0\":21,\"x1\":21,\"xref\":\"x4\",\"y0\":0,\"y1\":1,\"yref\":\"y4\"},{\"layer\":\"above\",\"line\":{\"color\":\"crimson\",\"width\":1.5},\"type\":\"line\",\"x0\":23,\"x1\":23,\"xref\":\"x4\",\"y0\":0,\"y1\":1,\"yref\":\"y4\"},{\"layer\":\"above\",\"line\":{\"color\":\"teal\",\"width\":1.5},\"type\":\"line\",\"x0\":27,\"x1\":27,\"xref\":\"x4\",\"y0\":0,\"y1\":1,\"yref\":\"y4\"}],\"title\":{\"text\":\"Initial Model Info\",\"font\":{\"size\":24},\"xanchor\":\"center\",\"x\":0.43,\"y\":0.9},\"barmode\":\"overlay\",\"legend\":{\"groupclick\":\"togglegroup\",\"x\":1.03,\"y\":0.97},\"height\":650,\"width\":850,\"showlegend\":true},                        {\"responsive\": true}                    ).then(function(){\n",
       "                            \n",
       "var gd = document.getElementById('ea5da6cf-2e4c-4f79-a893-f8129fb5a78f');\n",
       "var x = new MutationObserver(function (mutations, observer) {{\n",
       "        var display = window.getComputedStyle(gd).display;\n",
       "        if (!display || display === 'none') {{\n",
       "            console.log([gd, 'removed!']);\n",
       "            Plotly.purge(gd);\n",
       "            observer.disconnect();\n",
       "        }}\n",
       "}});\n",
       "\n",
       "// Listen for the removal of the full notebook cells\n",
       "var notebookContainer = gd.closest('#notebook-container');\n",
       "if (notebookContainer) {{\n",
       "    x.observe(notebookContainer, {childList: true});\n",
       "}}\n",
       "\n",
       "// Listen for the clearing of the current output cell\n",
       "var outputEl = gd.closest('.output');\n",
       "if (outputEl) {{\n",
       "    x.observe(outputEl, {childList: true});\n",
       "}}\n",
       "\n",
       "                        })                };                });            </script>        </div>"
      ]
     },
     "metadata": {},
     "output_type": "display_data"
    }
   ],
   "source": [
    "subplot_fig = make_subplots(rows=4, cols=1, shared_xaxes=True, vertical_spacing=0.02)\n",
    "\n",
    "max_ev_cap = vehicle_capacities['Vehicle Capacities'].max()\n",
    "\n",
    "for v_id in initial_training_data.index:\n",
    "    charger_id = int(initial_training_data.loc[v_id, 'Charger ID'])\n",
    "    counter = number_of_chargers - charger_id\n",
    "    charger = counter - 1\n",
    "    \n",
    "    arr = int(initial_training_data.loc[v_id, 'Arrival'])\n",
    "    dep = int(initial_training_data.loc[v_id, 'Departure'])\n",
    "    \n",
    "    ev_cap_text = str(initial_training_data.loc[v_id, 'EV Capacity'])\n",
    "    \n",
    "    \n",
    "    if initial_training_data.loc[v_id, 'Vehicle ID'] == '0':\n",
    "        subplot_fig.add_scatter(line_shape='hv',\n",
    "                                y=charger_occupancy.loc[charger_occupancy['Charger ID']==charger,'Charger Occupation State'], \n",
    "                                row=counter, col=1, name=f'Occupied', \n",
    "                                fillpattern=dict(shape='/', fgcolor='rgba(71, 164, 235, 0.5)', fgopacity=0.5),\n",
    "                                fillcolor=f'rgba(71, 164, 235, 0.4)', \n",
    "                                line_width=0, fill='tozeroy', \n",
    "                                legendgroup='Charger occupancy', showlegend=(not v_id), \n",
    "                                legendgrouptitle=dict(text='Charger'))\n",
    "        subplot_fig.add_scatter(line_shape='hv',\n",
    "                                y=vehicle_capacities.loc[vehicle_capacities['Charger ID']==charger,'Vehicle Capacities']/max_ev_cap, \n",
    "                                row=counter, col=1, name='Vehicle Capacity [kWh]',\n",
    "                                fillcolor=f'rgba(71, 164, 235, 0.5)', \n",
    "                                line_width=0, fill='tozeroy', legendgroup='Charger occupancy',\n",
    "                                showlegend=(not v_id))\n",
    "        \n",
    "        subplot_fig.add_bar(x=initial_training_data.loc[(initial_training_data['Charger ID']==str(charger))&(initial_training_data.index[v_id]==v_id), 'Departure'], \n",
    "                            row=counter, col=1,\n",
    "                            y=initial_training_data.loc[(initial_training_data['Charger ID']==str(charger))&(initial_training_data.index[v_id]==v_id), 'Requested State of Charge'], \n",
    "                            name=f'Requested - on departure',\n",
    "                            width=0.5, marker=dict(color='teal', opacity=0.8, line_width=0), \n",
    "                            legendgroup='State of Charge', showlegend=(not v_id),\n",
    "                            legendgrouptitle=dict(text='State of Charge'))\n",
    "        subplot_fig.add_bar(x=initial_training_data.loc[initial_training_data['Charger ID']==str(charger), 'Arrival'], \n",
    "                            row=counter, col=1,\n",
    "                            y=initial_training_data.loc[initial_training_data['Charger ID']==str(charger), 'Initial State of Charge'], \n",
    "                            name=f'Initial - on arrival', width=0.5, \n",
    "                            marker=dict(color='crimson', opacity=0.8, line_width=0), \n",
    "                            legendgroup='State of Charge', showlegend=(not v_id))\n",
    "        \n",
    "        subplot_fig.add_annotation(x=23, y=1.2, text=f'<i>Charger {charger_id}</i>', textangle=0, opacity=0.9, \n",
    "                                   row=charger_id+1, col=1, font_size=13, showarrow=False, font_color='grey')\n",
    "        \n",
    "    if dep > 24 and arr == 23:\n",
    "        subplot_fig.add_annotation(x=arr+0.5, y=0.4, text=f'<i>{ev_cap_text}</i>', textangle=-90, opacity=0.9, \n",
    "                                   font_size=14, row=charger_id+1, col=1, showarrow=False, font_color='white')\n",
    "    elif dep > 24 and arr == 22:\n",
    "        subplot_fig.add_annotation(x=(arr+24)/2, y=0.4, text=f'<i>{ev_cap_text}</i>', textangle=-90, opacity=0.9, \n",
    "                                   font_size=14, row=charger_id+1, col=1, showarrow=False, font_color='white')\n",
    "    elif dep > 24:\n",
    "        subplot_fig.add_annotation(x=(arr+24)/2, y=0.12, text=f'<i>{ev_cap_text}</i>', textangle=0, opacity=0.9, \n",
    "                                   font_size=14, row=charger_id+1, col=1, showarrow=False, font_color='white')\n",
    "    else:\n",
    "        subplot_fig.add_annotation(x=(arr+dep)/2, y=0.12, text=f'<i>{ev_cap_text}</i>', textangle=0, opacity=0.9, \n",
    "                                   font_size=14, row=charger_id+1, col=1, showarrow=False, font_color='white')\n",
    "    \n",
    "    subplot_fig.add_shape(type='line', x0=arr, x1=arr, y0=0, y1=1, layer='above',\n",
    "                          line_color='crimson', line_width=1.5, row=charger_id+1, col=1)\n",
    "    subplot_fig.add_shape(type='line', x0=dep, x1=dep, y0=0, y1=1, layer='above',\n",
    "                          line_color='teal', line_width=1.5, row=charger_id+1, col=1)\n",
    "\n",
    "subplot_fig.add_annotation(x=-0.15, y=0.5, text=\"State of Charge\", textangle=-90, xref=\"paper\", yref=\"paper\", font_size=14, showarrow=False)\n",
    "subplot_fig.add_annotation(x=0.5, y=-0.1, text=\"Timestep (Hour) in a Day\", textangle=0, xref=\"paper\", yref=\"paper\", font_size=14, showarrow=False)\n",
    "\n",
    "\n",
    "max_timestep = int(initial_training_data.Departure.max() + 1)\n",
    "subplot_fig.update_layout(title=\"Initial Model Info\", barmode='overlay')\n",
    "subplot_fig.update_xaxes(griddash=\"dot\", range=[-0.2, 24.2], tickvals=[i for i in range(max_timestep)],\n",
    "                         ticktext=[str(i%24) for i in range(max_timestep)])\n",
    "\n",
    "# For plot export: w(1280)xh(720), w(1920)xh(1080)\n",
    "# For better overview in jupyter: w(850)xh(650)\n",
    "plot_width = 850\n",
    "plot_height = 650\n",
    "\n",
    "subplot_fig.update_yaxes(tickformat=\" ,~%\", nticks=5, range=[0, 1.1], dtick=0.25)\n",
    "subplot_fig.update_layout(height=plot_height, width=plot_width, title=dict(xanchor=\"center\", x=0.43, font_size=24, y=0.9),\n",
    "                          showlegend=True, legend=dict(groupclick='togglegroup', x=1.03, y=0.97))\n",
    "\n",
    "subplot_fig.show()\n",
    "\n",
    "del max_ev_cap, charger_id, counter, charger, arr, dep, ev_cap_text, max_timestep, plot_width, plot_height"
   ]
  },
  {
   "cell_type": "markdown",
   "id": "0e72183e",
   "metadata": {},
   "source": [
    "# Predictions"
   ]
  },
  {
   "cell_type": "markdown",
   "id": "ce322af2",
   "metadata": {},
   "source": [
    "#### Predicted Vehicle State of Charge"
   ]
  },
  {
   "cell_type": "code",
   "execution_count": 104,
   "id": "00d72704",
   "metadata": {
    "scrolled": false
   },
   "outputs": [
    {
     "data": {
      "application/vnd.plotly.v1+json": {
       "config": {
        "plotlyServerURL": "https://plot.ly"
       },
       "data": [
        {
         "legendgroup": "Predicted Charger SOC",
         "legendgrouptitle": {
          "text": "Predicted State of Charge"
         },
         "line": {
          "color": "darkturquoise",
          "shape": "linear"
         },
         "marker": {
          "size": 8,
          "symbol": "circle-dot"
         },
         "mode": "markers+lines",
         "name": "Value at timestep end",
         "showlegend": true,
         "type": "scatter",
         "xaxis": "x4",
         "y": [
          0.754782702613432,
          1,
          1,
          1,
          1,
          0,
          0.5500004757032612,
          0.7771743887467394,
          1,
          1,
          1,
          0,
          0,
          0,
          0,
          0.878446021006831,
          1,
          1,
          1,
          1,
          1,
          0,
          0,
          1,
          0
         ],
         "yaxis": "y4"
        },
        {
         "legendgroup": "Predicted Charger SOC",
         "marker": {
          "color": [
           0.754782702613432,
           1,
           1,
           1,
           1,
           0,
           0.5500004757032612,
           0.7771743887467394,
           1,
           1,
           1,
           0,
           0,
           0,
           0,
           0.878446021006831,
           1,
           1,
           1,
           1,
           1,
           0,
           0,
           1,
           0
          ],
          "coloraxis": "coloraxis",
          "line": {
           "width": 0
          },
          "opacity": 1
         },
         "showlegend": false,
         "type": "bar",
         "xaxis": "x4",
         "y": [
          0.754782702613432,
          1,
          1,
          1,
          1,
          0,
          0.5500004757032612,
          0.7771743887467394,
          1,
          1,
          1,
          0,
          0,
          0,
          0,
          0.878446021006831,
          1,
          1,
          1,
          1,
          1,
          0,
          0,
          1,
          0
         ],
         "yaxis": "y4"
        },
        {
         "legendgroup": "State of Charge",
         "legendgrouptitle": {
          "text": "State of Charge"
         },
         "marker": {
          "color": "teal",
          "line": {
           "width": 0
          },
          "opacity": 0.8
         },
         "name": "Requested - on departure",
         "showlegend": true,
         "type": "bar",
         "width": 0.5,
         "x": [
          4,
          10,
          20,
          26
         ],
         "xaxis": "x4",
         "y": [
          1,
          1,
          1,
          1
         ],
         "yaxis": "y4"
        },
        {
         "legendgroup": "State of Charge",
         "marker": {
          "color": "crimson",
          "line": {
           "width": 0
          },
          "opacity": 0.8
         },
         "name": "Initial - on arrival",
         "showlegend": true,
         "type": "bar",
         "width": 0.5,
         "x": [
          0,
          6,
          15,
          23
         ],
         "xaxis": "x4",
         "y": [
          0.2687361909855251,
          0.32282656265978293,
          0.6462237987846088,
          0.658021582938183
         ],
         "yaxis": "y4"
        },
        {
         "legendgroup": "Predicted Charger SOC",
         "legendgrouptitle": {
          "text": "Predicted State of Charge"
         },
         "line": {
          "color": "darkturquoise",
          "shape": "linear"
         },
         "marker": {
          "size": 8,
          "symbol": "circle-dot"
         },
         "mode": "markers+lines",
         "name": "Value at timestep end",
         "showlegend": false,
         "type": "scatter",
         "xaxis": "x3",
         "y": [
          0.9395960182812552,
          0.9395960182812552,
          0.9395960182812552,
          0.9395960182812552,
          0.9395960182812552,
          0.9395960182812552,
          0.9395960182812552,
          0.9395960182812552,
          0,
          0,
          1,
          1,
          1,
          1,
          1,
          1,
          1,
          1,
          1,
          0,
          0,
          0,
          0,
          0,
          0
         ],
         "yaxis": "y3"
        },
        {
         "legendgroup": "Predicted Charger SOC",
         "marker": {
          "color": [
           0.9395960182812552,
           0.9395960182812552,
           0.9395960182812552,
           0.9395960182812552,
           0.9395960182812552,
           0.9395960182812552,
           0.9395960182812552,
           0.9395960182812552,
           0,
           0,
           1,
           1,
           1,
           1,
           1,
           1,
           1,
           1,
           1,
           0,
           0,
           0,
           0,
           0,
           0
          ],
          "coloraxis": "coloraxis",
          "line": {
           "width": 0
          },
          "opacity": 1
         },
         "showlegend": false,
         "type": "bar",
         "xaxis": "x3",
         "y": [
          0.9395960182812552,
          0.9395960182812552,
          0.9395960182812552,
          0.9395960182812552,
          0.9395960182812552,
          0.9395960182812552,
          0.9395960182812552,
          0.9395960182812552,
          0,
          0,
          1,
          1,
          1,
          1,
          1,
          1,
          1,
          1,
          1,
          0,
          0,
          0,
          0,
          0,
          0
         ],
         "yaxis": "y3"
        },
        {
         "legendgroup": "State of Charge",
         "legendgrouptitle": {
          "text": "State of Charge"
         },
         "marker": {
          "color": "teal",
          "line": {
           "width": 0
          },
          "opacity": 0.8
         },
         "name": "Requested - on departure",
         "showlegend": false,
         "type": "bar",
         "width": 0.5,
         "x": [
          7,
          18
         ],
         "xaxis": "x3",
         "y": [
          1,
          1
         ],
         "yaxis": "y3"
        },
        {
         "legendgroup": "State of Charge",
         "marker": {
          "color": "crimson",
          "line": {
           "width": 0
          },
          "opacity": 0.8
         },
         "name": "Initial - on arrival",
         "showlegend": false,
         "type": "bar",
         "width": 0.5,
         "x": [
          0,
          10
         ],
         "xaxis": "x3",
         "y": [
          0.8509042414912792,
          0.8196674239363752
         ],
         "yaxis": "y3"
        },
        {
         "legendgroup": "Predicted Charger SOC",
         "legendgrouptitle": {
          "text": "Predicted State of Charge"
         },
         "line": {
          "color": "darkturquoise",
          "shape": "linear"
         },
         "marker": {
          "size": 8,
          "symbol": "circle-dot"
         },
         "mode": "markers+lines",
         "name": "Value at timestep end",
         "showlegend": false,
         "type": "scatter",
         "xaxis": "x2",
         "y": [
          0,
          0,
          0,
          0.5895686176019808,
          1,
          1,
          1,
          1,
          1,
          0,
          0,
          0.5930834874036669,
          0.7796906302608098,
          0.8458578938676391,
          0.9118362280997395,
          0.9118362280997395,
          0,
          0.3662928906238637,
          0.5580360098899187,
          0.7497791291559738,
          0.9365662720408144,
          0.9365662720408144,
          0,
          0,
          0
         ],
         "yaxis": "y2"
        },
        {
         "legendgroup": "Predicted Charger SOC",
         "marker": {
          "color": [
           0,
           0,
           0,
           0.5895686176019808,
           1,
           1,
           1,
           1,
           1,
           0,
           0,
           0.5930834874036669,
           0.7796906302608098,
           0.8458578938676391,
           0.9118362280997395,
           0.9118362280997395,
           0,
           0.3662928906238637,
           0.5580360098899187,
           0.7497791291559738,
           0.9365662720408144,
           0.9365662720408144,
           0,
           0,
           0
          ],
          "coloraxis": "coloraxis",
          "line": {
           "width": 0
          },
          "opacity": 1
         },
         "showlegend": false,
         "type": "bar",
         "xaxis": "x2",
         "y": [
          0,
          0,
          0,
          0.5895686176019808,
          1,
          1,
          1,
          1,
          1,
          0,
          0,
          0.5930834874036669,
          0.7796906302608098,
          0.8458578938676391,
          0.9118362280997395,
          0.9118362280997395,
          0,
          0.3662928906238637,
          0.5580360098899187,
          0.7497791291559738,
          0.9365662720408144,
          0.9365662720408144,
          0,
          0,
          0
         ],
         "yaxis": "y2"
        },
        {
         "legendgroup": "State of Charge",
         "legendgrouptitle": {
          "text": "State of Charge"
         },
         "marker": {
          "color": "teal",
          "line": {
           "width": 0
          },
          "opacity": 0.8
         },
         "name": "Requested - on departure",
         "showlegend": false,
         "type": "bar",
         "width": 0.5,
         "x": [
          8,
          15,
          21
         ],
         "xaxis": "x2",
         "y": [
          1,
          1,
          1
         ],
         "yaxis": "y2"
        },
        {
         "legendgroup": "State of Charge",
         "marker": {
          "color": "crimson",
          "line": {
           "width": 0
          },
          "opacity": 0.8
         },
         "name": "Initial - on arrival",
         "showlegend": false,
         "type": "bar",
         "width": 0.5,
         "x": [
          3,
          11,
          17
         ],
         "xaxis": "x2",
         "y": [
          0.16303800535708285,
          0.40647634454652404,
          0.1745497713578087
         ],
         "yaxis": "y2"
        },
        {
         "legendgroup": "Predicted Charger SOC",
         "legendgrouptitle": {
          "text": "Predicted State of Charge"
         },
         "line": {
          "color": "darkturquoise",
          "shape": "linear"
         },
         "marker": {
          "size": 8,
          "symbol": "circle-dot"
         },
         "mode": "markers+lines",
         "name": "Value at timestep end",
         "showlegend": false,
         "type": "scatter",
         "xaxis": "x",
         "y": [
          1,
          1,
          1,
          1,
          1,
          1,
          0,
          1,
          1,
          1,
          1,
          1,
          1,
          1,
          1,
          0,
          1,
          1,
          1,
          1,
          1,
          1,
          1,
          0,
          0
         ],
         "yaxis": "y"
        },
        {
         "legendgroup": "Predicted Charger SOC",
         "marker": {
          "color": [
           1,
           1,
           1,
           1,
           1,
           1,
           0,
           1,
           1,
           1,
           1,
           1,
           1,
           1,
           1,
           0,
           1,
           1,
           1,
           1,
           1,
           1,
           1,
           0,
           0
          ],
          "coloraxis": "coloraxis",
          "line": {
           "width": 0
          },
          "opacity": 1
         },
         "showlegend": false,
         "type": "bar",
         "xaxis": "x",
         "y": [
          1,
          1,
          1,
          1,
          1,
          1,
          0,
          1,
          1,
          1,
          1,
          1,
          1,
          1,
          1,
          0,
          1,
          1,
          1,
          1,
          1,
          1,
          1,
          0,
          0
         ],
         "yaxis": "y"
        },
        {
         "legendgroup": "State of Charge",
         "legendgrouptitle": {
          "text": "State of Charge"
         },
         "marker": {
          "color": "teal",
          "line": {
           "width": 0
          },
          "opacity": 0.8
         },
         "name": "Requested - on departure",
         "showlegend": false,
         "type": "bar",
         "width": 0.5,
         "x": [
          5,
          14,
          22
         ],
         "xaxis": "x",
         "y": [
          1,
          1,
          1
         ],
         "yaxis": "y"
        },
        {
         "legendgroup": "State of Charge",
         "marker": {
          "color": "crimson",
          "line": {
           "width": 0
          },
          "opacity": 0.8
         },
         "name": "Initial - on arrival",
         "showlegend": false,
         "type": "bar",
         "width": 0.5,
         "x": [
          0,
          7,
          16
         ],
         "xaxis": "x",
         "y": [
          0.45773601125327257,
          0.27619602375201013,
          0.6520423769879261
         ],
         "yaxis": "y"
        }
       ],
       "layout": {
        "annotations": [
         {
          "font": {
           "color": "grey",
           "size": 13
          },
          "opacity": 0.9,
          "showarrow": false,
          "text": "<i>Charger 0</i>",
          "textangle": 0,
          "x": 23,
          "xref": "x",
          "y": 1.2,
          "yref": "y"
         },
         {
          "font": {
           "color": "grey",
           "size": 13
          },
          "opacity": 0.9,
          "showarrow": false,
          "text": "<i>Charger 1</i>",
          "textangle": 0,
          "x": 23,
          "xref": "x2",
          "y": 1.2,
          "yref": "y2"
         },
         {
          "font": {
           "color": "grey",
           "size": 13
          },
          "opacity": 0.9,
          "showarrow": false,
          "text": "<i>Charger 2</i>",
          "textangle": 0,
          "x": 23,
          "xref": "x3",
          "y": 1.2,
          "yref": "y3"
         },
         {
          "font": {
           "color": "grey",
           "size": 13
          },
          "opacity": 0.9,
          "showarrow": false,
          "text": "<i>Charger 3</i>",
          "textangle": 0,
          "x": 23,
          "xref": "x4",
          "y": 1.2,
          "yref": "y4"
         },
         {
          "font": {
           "size": 14
          },
          "showarrow": false,
          "text": "State of Charge",
          "textangle": -90,
          "x": -0.15,
          "xref": "paper",
          "y": 0.5,
          "yref": "paper"
         },
         {
          "font": {
           "size": 14
          },
          "showarrow": false,
          "text": "Timestep (Hour) in a Day",
          "textangle": 0,
          "x": 0.5,
          "xref": "paper",
          "y": -0.1,
          "yref": "paper"
         }
        ],
        "barmode": "overlay",
        "coloraxis": {
         "colorbar": {
          "len": 0.7,
          "thickness": 14,
          "tickformat": ",.0%",
          "ticktext": [
           "0%",
           "25%",
           "50%",
           "75%",
           "95%",
           "\t  ] Optimal Value Range",
           "100%"
          ],
          "tickvals": [
           0,
           0.25,
           0.5,
           0.75,
           0.95,
           0.98,
           1
          ],
          "title": {
           "side": "right",
           "text": "State of Charge"
          },
          "x": 1.025,
          "y": 0.35,
          "yanchor": "middle"
         },
         "colorscale": [
          [
           0,
           "rgba(220,20,60, 0.45)"
          ],
          [
           0.9,
           "rgba(0,128,128, 0.45)"
          ],
          [
           0.95,
           "rgba(0,206,209, 0.45)"
          ],
          [
           1,
           "rgba(0,206,209, 0.45)"
          ]
         ]
        },
        "height": 650,
        "showlegend": true,
        "template": {
         "data": {
          "bar": [
           {
            "error_x": {
             "color": "#2a3f5f"
            },
            "error_y": {
             "color": "#2a3f5f"
            },
            "marker": {
             "line": {
              "color": "white",
              "width": 0.5
             },
             "pattern": {
              "fillmode": "overlay",
              "size": 10,
              "solidity": 0.2
             }
            },
            "type": "bar"
           }
          ],
          "barpolar": [
           {
            "marker": {
             "line": {
              "color": "white",
              "width": 0.5
             },
             "pattern": {
              "fillmode": "overlay",
              "size": 10,
              "solidity": 0.2
             }
            },
            "type": "barpolar"
           }
          ],
          "carpet": [
           {
            "aaxis": {
             "endlinecolor": "#2a3f5f",
             "gridcolor": "#C8D4E3",
             "linecolor": "#C8D4E3",
             "minorgridcolor": "#C8D4E3",
             "startlinecolor": "#2a3f5f"
            },
            "baxis": {
             "endlinecolor": "#2a3f5f",
             "gridcolor": "#C8D4E3",
             "linecolor": "#C8D4E3",
             "minorgridcolor": "#C8D4E3",
             "startlinecolor": "#2a3f5f"
            },
            "type": "carpet"
           }
          ],
          "choropleth": [
           {
            "colorbar": {
             "outlinewidth": 0,
             "ticks": ""
            },
            "type": "choropleth"
           }
          ],
          "contour": [
           {
            "colorbar": {
             "outlinewidth": 0,
             "ticks": ""
            },
            "colorscale": [
             [
              0,
              "#0d0887"
             ],
             [
              0.1111111111111111,
              "#46039f"
             ],
             [
              0.2222222222222222,
              "#7201a8"
             ],
             [
              0.3333333333333333,
              "#9c179e"
             ],
             [
              0.4444444444444444,
              "#bd3786"
             ],
             [
              0.5555555555555556,
              "#d8576b"
             ],
             [
              0.6666666666666666,
              "#ed7953"
             ],
             [
              0.7777777777777778,
              "#fb9f3a"
             ],
             [
              0.8888888888888888,
              "#fdca26"
             ],
             [
              1,
              "#f0f921"
             ]
            ],
            "type": "contour"
           }
          ],
          "contourcarpet": [
           {
            "colorbar": {
             "outlinewidth": 0,
             "ticks": ""
            },
            "type": "contourcarpet"
           }
          ],
          "heatmap": [
           {
            "colorbar": {
             "outlinewidth": 0,
             "ticks": ""
            },
            "colorscale": [
             [
              0,
              "#0d0887"
             ],
             [
              0.1111111111111111,
              "#46039f"
             ],
             [
              0.2222222222222222,
              "#7201a8"
             ],
             [
              0.3333333333333333,
              "#9c179e"
             ],
             [
              0.4444444444444444,
              "#bd3786"
             ],
             [
              0.5555555555555556,
              "#d8576b"
             ],
             [
              0.6666666666666666,
              "#ed7953"
             ],
             [
              0.7777777777777778,
              "#fb9f3a"
             ],
             [
              0.8888888888888888,
              "#fdca26"
             ],
             [
              1,
              "#f0f921"
             ]
            ],
            "type": "heatmap"
           }
          ],
          "heatmapgl": [
           {
            "colorbar": {
             "outlinewidth": 0,
             "ticks": ""
            },
            "colorscale": [
             [
              0,
              "#0d0887"
             ],
             [
              0.1111111111111111,
              "#46039f"
             ],
             [
              0.2222222222222222,
              "#7201a8"
             ],
             [
              0.3333333333333333,
              "#9c179e"
             ],
             [
              0.4444444444444444,
              "#bd3786"
             ],
             [
              0.5555555555555556,
              "#d8576b"
             ],
             [
              0.6666666666666666,
              "#ed7953"
             ],
             [
              0.7777777777777778,
              "#fb9f3a"
             ],
             [
              0.8888888888888888,
              "#fdca26"
             ],
             [
              1,
              "#f0f921"
             ]
            ],
            "type": "heatmapgl"
           }
          ],
          "histogram": [
           {
            "marker": {
             "pattern": {
              "fillmode": "overlay",
              "size": 10,
              "solidity": 0.2
             }
            },
            "type": "histogram"
           }
          ],
          "histogram2d": [
           {
            "colorbar": {
             "outlinewidth": 0,
             "ticks": ""
            },
            "colorscale": [
             [
              0,
              "#0d0887"
             ],
             [
              0.1111111111111111,
              "#46039f"
             ],
             [
              0.2222222222222222,
              "#7201a8"
             ],
             [
              0.3333333333333333,
              "#9c179e"
             ],
             [
              0.4444444444444444,
              "#bd3786"
             ],
             [
              0.5555555555555556,
              "#d8576b"
             ],
             [
              0.6666666666666666,
              "#ed7953"
             ],
             [
              0.7777777777777778,
              "#fb9f3a"
             ],
             [
              0.8888888888888888,
              "#fdca26"
             ],
             [
              1,
              "#f0f921"
             ]
            ],
            "type": "histogram2d"
           }
          ],
          "histogram2dcontour": [
           {
            "colorbar": {
             "outlinewidth": 0,
             "ticks": ""
            },
            "colorscale": [
             [
              0,
              "#0d0887"
             ],
             [
              0.1111111111111111,
              "#46039f"
             ],
             [
              0.2222222222222222,
              "#7201a8"
             ],
             [
              0.3333333333333333,
              "#9c179e"
             ],
             [
              0.4444444444444444,
              "#bd3786"
             ],
             [
              0.5555555555555556,
              "#d8576b"
             ],
             [
              0.6666666666666666,
              "#ed7953"
             ],
             [
              0.7777777777777778,
              "#fb9f3a"
             ],
             [
              0.8888888888888888,
              "#fdca26"
             ],
             [
              1,
              "#f0f921"
             ]
            ],
            "type": "histogram2dcontour"
           }
          ],
          "mesh3d": [
           {
            "colorbar": {
             "outlinewidth": 0,
             "ticks": ""
            },
            "type": "mesh3d"
           }
          ],
          "parcoords": [
           {
            "line": {
             "colorbar": {
              "outlinewidth": 0,
              "ticks": ""
             }
            },
            "type": "parcoords"
           }
          ],
          "pie": [
           {
            "automargin": true,
            "type": "pie"
           }
          ],
          "scatter": [
           {
            "fillpattern": {
             "fillmode": "overlay",
             "size": 10,
             "solidity": 0.2
            },
            "type": "scatter"
           }
          ],
          "scatter3d": [
           {
            "line": {
             "colorbar": {
              "outlinewidth": 0,
              "ticks": ""
             }
            },
            "marker": {
             "colorbar": {
              "outlinewidth": 0,
              "ticks": ""
             }
            },
            "type": "scatter3d"
           }
          ],
          "scattercarpet": [
           {
            "marker": {
             "colorbar": {
              "outlinewidth": 0,
              "ticks": ""
             }
            },
            "type": "scattercarpet"
           }
          ],
          "scattergeo": [
           {
            "marker": {
             "colorbar": {
              "outlinewidth": 0,
              "ticks": ""
             }
            },
            "type": "scattergeo"
           }
          ],
          "scattergl": [
           {
            "marker": {
             "colorbar": {
              "outlinewidth": 0,
              "ticks": ""
             }
            },
            "type": "scattergl"
           }
          ],
          "scattermapbox": [
           {
            "marker": {
             "colorbar": {
              "outlinewidth": 0,
              "ticks": ""
             }
            },
            "type": "scattermapbox"
           }
          ],
          "scatterpolar": [
           {
            "marker": {
             "colorbar": {
              "outlinewidth": 0,
              "ticks": ""
             }
            },
            "type": "scatterpolar"
           }
          ],
          "scatterpolargl": [
           {
            "marker": {
             "colorbar": {
              "outlinewidth": 0,
              "ticks": ""
             }
            },
            "type": "scatterpolargl"
           }
          ],
          "scatterternary": [
           {
            "marker": {
             "colorbar": {
              "outlinewidth": 0,
              "ticks": ""
             }
            },
            "type": "scatterternary"
           }
          ],
          "surface": [
           {
            "colorbar": {
             "outlinewidth": 0,
             "ticks": ""
            },
            "colorscale": [
             [
              0,
              "#0d0887"
             ],
             [
              0.1111111111111111,
              "#46039f"
             ],
             [
              0.2222222222222222,
              "#7201a8"
             ],
             [
              0.3333333333333333,
              "#9c179e"
             ],
             [
              0.4444444444444444,
              "#bd3786"
             ],
             [
              0.5555555555555556,
              "#d8576b"
             ],
             [
              0.6666666666666666,
              "#ed7953"
             ],
             [
              0.7777777777777778,
              "#fb9f3a"
             ],
             [
              0.8888888888888888,
              "#fdca26"
             ],
             [
              1,
              "#f0f921"
             ]
            ],
            "type": "surface"
           }
          ],
          "table": [
           {
            "cells": {
             "fill": {
              "color": "#EBF0F8"
             },
             "line": {
              "color": "white"
             }
            },
            "header": {
             "fill": {
              "color": "#C8D4E3"
             },
             "line": {
              "color": "white"
             }
            },
            "type": "table"
           }
          ]
         },
         "layout": {
          "annotationdefaults": {
           "arrowcolor": "#2a3f5f",
           "arrowhead": 0,
           "arrowwidth": 1
          },
          "autotypenumbers": "strict",
          "coloraxis": {
           "colorbar": {
            "outlinewidth": 0,
            "ticks": ""
           }
          },
          "colorscale": {
           "diverging": [
            [
             0,
             "#8e0152"
            ],
            [
             0.1,
             "#c51b7d"
            ],
            [
             0.2,
             "#de77ae"
            ],
            [
             0.3,
             "#f1b6da"
            ],
            [
             0.4,
             "#fde0ef"
            ],
            [
             0.5,
             "#f7f7f7"
            ],
            [
             0.6,
             "#e6f5d0"
            ],
            [
             0.7,
             "#b8e186"
            ],
            [
             0.8,
             "#7fbc41"
            ],
            [
             0.9,
             "#4d9221"
            ],
            [
             1,
             "#276419"
            ]
           ],
           "sequential": [
            [
             0,
             "#0d0887"
            ],
            [
             0.1111111111111111,
             "#46039f"
            ],
            [
             0.2222222222222222,
             "#7201a8"
            ],
            [
             0.3333333333333333,
             "#9c179e"
            ],
            [
             0.4444444444444444,
             "#bd3786"
            ],
            [
             0.5555555555555556,
             "#d8576b"
            ],
            [
             0.6666666666666666,
             "#ed7953"
            ],
            [
             0.7777777777777778,
             "#fb9f3a"
            ],
            [
             0.8888888888888888,
             "#fdca26"
            ],
            [
             1,
             "#f0f921"
            ]
           ],
           "sequentialminus": [
            [
             0,
             "#0d0887"
            ],
            [
             0.1111111111111111,
             "#46039f"
            ],
            [
             0.2222222222222222,
             "#7201a8"
            ],
            [
             0.3333333333333333,
             "#9c179e"
            ],
            [
             0.4444444444444444,
             "#bd3786"
            ],
            [
             0.5555555555555556,
             "#d8576b"
            ],
            [
             0.6666666666666666,
             "#ed7953"
            ],
            [
             0.7777777777777778,
             "#fb9f3a"
            ],
            [
             0.8888888888888888,
             "#fdca26"
            ],
            [
             1,
             "#f0f921"
            ]
           ]
          },
          "colorway": [
           "#636efa",
           "#EF553B",
           "#00cc96",
           "#ab63fa",
           "#FFA15A",
           "#19d3f3",
           "#FF6692",
           "#B6E880",
           "#FF97FF",
           "#FECB52"
          ],
          "font": {
           "color": "#2a3f5f"
          },
          "geo": {
           "bgcolor": "white",
           "lakecolor": "white",
           "landcolor": "white",
           "showlakes": true,
           "showland": true,
           "subunitcolor": "#C8D4E3"
          },
          "hoverlabel": {
           "align": "left"
          },
          "hovermode": "closest",
          "mapbox": {
           "style": "light"
          },
          "paper_bgcolor": "white",
          "plot_bgcolor": "white",
          "polar": {
           "angularaxis": {
            "gridcolor": "#EBF0F8",
            "linecolor": "#EBF0F8",
            "ticks": ""
           },
           "bgcolor": "white",
           "radialaxis": {
            "gridcolor": "#EBF0F8",
            "linecolor": "#EBF0F8",
            "ticks": ""
           }
          },
          "scene": {
           "xaxis": {
            "backgroundcolor": "white",
            "gridcolor": "#DFE8F3",
            "gridwidth": 2,
            "linecolor": "#EBF0F8",
            "showbackground": true,
            "ticks": "",
            "zerolinecolor": "#EBF0F8"
           },
           "yaxis": {
            "backgroundcolor": "white",
            "gridcolor": "#DFE8F3",
            "gridwidth": 2,
            "linecolor": "#EBF0F8",
            "showbackground": true,
            "ticks": "",
            "zerolinecolor": "#EBF0F8"
           },
           "zaxis": {
            "backgroundcolor": "white",
            "gridcolor": "#DFE8F3",
            "gridwidth": 2,
            "linecolor": "#EBF0F8",
            "showbackground": true,
            "ticks": "",
            "zerolinecolor": "#EBF0F8"
           }
          },
          "shapedefaults": {
           "line": {
            "color": "#2a3f5f"
           }
          },
          "ternary": {
           "aaxis": {
            "gridcolor": "#DFE8F3",
            "linecolor": "#A2B1C6",
            "ticks": ""
           },
           "baxis": {
            "gridcolor": "#DFE8F3",
            "linecolor": "#A2B1C6",
            "ticks": ""
           },
           "bgcolor": "white",
           "caxis": {
            "gridcolor": "#DFE8F3",
            "linecolor": "#A2B1C6",
            "ticks": ""
           }
          },
          "title": {
           "x": 0.05
          },
          "xaxis": {
           "automargin": true,
           "gridcolor": "#EBF0F8",
           "linecolor": "#EBF0F8",
           "ticks": "",
           "title": {
            "standoff": 15
           },
           "zerolinecolor": "#EBF0F8",
           "zerolinewidth": 2
          },
          "yaxis": {
           "automargin": true,
           "gridcolor": "#EBF0F8",
           "linecolor": "#EBF0F8",
           "ticks": "",
           "title": {
            "standoff": 15
           },
           "zerolinecolor": "#EBF0F8",
           "zerolinewidth": 2
          }
         }
        },
        "title": {
         "font": {
          "size": 24
         },
         "text": "Predicted State of Charge per Charger",
         "x": 0.42,
         "xanchor": "center",
         "y": 0.9
        },
        "width": 850,
        "xaxis": {
         "anchor": "y",
         "domain": [
          0,
          1
         ],
         "griddash": "dot",
         "matches": "x4",
         "range": [
          -0.4,
          24.2
         ],
         "showticklabels": false,
         "tickformat": "",
         "ticktext": [
          "0",
          "1",
          "2",
          "3",
          "4",
          "5",
          "6",
          "7",
          "8",
          "9",
          "10",
          "11",
          "12",
          "13",
          "14",
          "15",
          "16",
          "17",
          "18",
          "19",
          "20",
          "21",
          "22",
          "23",
          "0",
          "1",
          "2",
          "3"
         ],
         "tickvals": [
          0,
          1,
          2,
          3,
          4,
          5,
          6,
          7,
          8,
          9,
          10,
          11,
          12,
          13,
          14,
          15,
          16,
          17,
          18,
          19,
          20,
          21,
          22,
          23,
          24,
          25,
          26,
          27
         ],
         "title": {
          "text": ""
         }
        },
        "xaxis2": {
         "anchor": "y2",
         "domain": [
          0,
          1
         ],
         "griddash": "dot",
         "matches": "x4",
         "range": [
          -0.4,
          24.2
         ],
         "showticklabels": false,
         "tickformat": "",
         "ticktext": [
          "0",
          "1",
          "2",
          "3",
          "4",
          "5",
          "6",
          "7",
          "8",
          "9",
          "10",
          "11",
          "12",
          "13",
          "14",
          "15",
          "16",
          "17",
          "18",
          "19",
          "20",
          "21",
          "22",
          "23",
          "0",
          "1",
          "2",
          "3"
         ],
         "tickvals": [
          0,
          1,
          2,
          3,
          4,
          5,
          6,
          7,
          8,
          9,
          10,
          11,
          12,
          13,
          14,
          15,
          16,
          17,
          18,
          19,
          20,
          21,
          22,
          23,
          24,
          25,
          26,
          27
         ],
         "title": {
          "text": ""
         }
        },
        "xaxis3": {
         "anchor": "y3",
         "domain": [
          0,
          1
         ],
         "griddash": "dot",
         "matches": "x4",
         "range": [
          -0.4,
          24.2
         ],
         "showticklabels": false,
         "tickformat": "",
         "ticktext": [
          "0",
          "1",
          "2",
          "3",
          "4",
          "5",
          "6",
          "7",
          "8",
          "9",
          "10",
          "11",
          "12",
          "13",
          "14",
          "15",
          "16",
          "17",
          "18",
          "19",
          "20",
          "21",
          "22",
          "23",
          "0",
          "1",
          "2",
          "3"
         ],
         "tickvals": [
          0,
          1,
          2,
          3,
          4,
          5,
          6,
          7,
          8,
          9,
          10,
          11,
          12,
          13,
          14,
          15,
          16,
          17,
          18,
          19,
          20,
          21,
          22,
          23,
          24,
          25,
          26,
          27
         ],
         "title": {
          "text": ""
         }
        },
        "xaxis4": {
         "anchor": "y4",
         "domain": [
          0,
          1
         ],
         "griddash": "dot",
         "range": [
          -0.4,
          24.2
         ],
         "tickformat": "",
         "ticktext": [
          "0",
          "1",
          "2",
          "3",
          "4",
          "5",
          "6",
          "7",
          "8",
          "9",
          "10",
          "11",
          "12",
          "13",
          "14",
          "15",
          "16",
          "17",
          "18",
          "19",
          "20",
          "21",
          "22",
          "23",
          "0",
          "1",
          "2",
          "3"
         ],
         "tickvals": [
          0,
          1,
          2,
          3,
          4,
          5,
          6,
          7,
          8,
          9,
          10,
          11,
          12,
          13,
          14,
          15,
          16,
          17,
          18,
          19,
          20,
          21,
          22,
          23,
          24,
          25,
          26,
          27
         ],
         "title": {
          "text": ""
         }
        },
        "yaxis": {
         "anchor": "x",
         "domain": [
          0.7649999999999999,
          0.9999999999999999
         ],
         "dtick": 0.25,
         "nticks": 5,
         "range": [
          0,
          1.1
         ],
         "tickformat": " ,~%",
         "title": {
          "text": ""
         }
        },
        "yaxis2": {
         "anchor": "x2",
         "domain": [
          0.51,
          0.745
         ],
         "dtick": 0.25,
         "nticks": 5,
         "range": [
          0,
          1.1
         ],
         "tickformat": " ,~%"
        },
        "yaxis3": {
         "anchor": "x3",
         "domain": [
          0.255,
          0.49
         ],
         "dtick": 0.25,
         "nticks": 5,
         "range": [
          0,
          1.1
         ],
         "tickformat": " ,~%"
        },
        "yaxis4": {
         "anchor": "x4",
         "domain": [
          0,
          0.235
         ],
         "dtick": 0.25,
         "nticks": 5,
         "range": [
          0,
          1.1
         ],
         "tickformat": " ,~%"
        }
       }
      },
      "text/html": [
       "<div>                            <div id=\"717b2724-2a61-4656-8c12-1f094acbf938\" class=\"plotly-graph-div\" style=\"height:650px; width:850px;\"></div>            <script type=\"text/javascript\">                require([\"plotly\"], function(Plotly) {                    window.PLOTLYENV=window.PLOTLYENV || {};                                    if (document.getElementById(\"717b2724-2a61-4656-8c12-1f094acbf938\")) {                    Plotly.newPlot(                        \"717b2724-2a61-4656-8c12-1f094acbf938\",                        [{\"legendgroup\":\"Predicted Charger SOC\",\"legendgrouptitle\":{\"text\":\"Predicted State of Charge\"},\"line\":{\"color\":\"darkturquoise\",\"shape\":\"linear\"},\"marker\":{\"size\":8,\"symbol\":\"circle-dot\"},\"mode\":\"markers+lines\",\"name\":\"Value at timestep end\",\"showlegend\":true,\"y\":[0.754782702613432,1.0,1.0,1.0,1.0,0.0,0.5500004757032612,0.7771743887467394,1.0,1.0,1.0,0.0,0.0,0.0,0.0,0.878446021006831,1.0,1.0,1.0,1.0,1.0,0.0,0.0,1.0,0.0],\"type\":\"scatter\",\"xaxis\":\"x4\",\"yaxis\":\"y4\"},{\"legendgroup\":\"Predicted Charger SOC\",\"marker\":{\"color\":[0.754782702613432,1.0,1.0,1.0,1.0,0.0,0.5500004757032612,0.7771743887467394,1.0,1.0,1.0,0.0,0.0,0.0,0.0,0.878446021006831,1.0,1.0,1.0,1.0,1.0,0.0,0.0,1.0,0.0],\"coloraxis\":\"coloraxis\",\"line\":{\"width\":0},\"opacity\":1},\"showlegend\":false,\"y\":[0.754782702613432,1.0,1.0,1.0,1.0,0.0,0.5500004757032612,0.7771743887467394,1.0,1.0,1.0,0.0,0.0,0.0,0.0,0.878446021006831,1.0,1.0,1.0,1.0,1.0,0.0,0.0,1.0,0.0],\"type\":\"bar\",\"xaxis\":\"x4\",\"yaxis\":\"y4\"},{\"legendgroup\":\"State of Charge\",\"legendgrouptitle\":{\"text\":\"State of Charge\"},\"marker\":{\"color\":\"teal\",\"line\":{\"width\":0},\"opacity\":0.8},\"name\":\"Requested - on departure\",\"showlegend\":true,\"width\":0.5,\"x\":[4.0,10.0,20.0,26.0],\"y\":[1.0,1.0,1.0,1.0],\"type\":\"bar\",\"xaxis\":\"x4\",\"yaxis\":\"y4\"},{\"legendgroup\":\"State of Charge\",\"marker\":{\"color\":\"crimson\",\"line\":{\"width\":0},\"opacity\":0.8},\"name\":\"Initial - on arrival\",\"showlegend\":true,\"width\":0.5,\"x\":[0.0,6.0,15.0,23.0],\"y\":[0.2687361909855251,0.32282656265978293,0.6462237987846088,0.658021582938183],\"type\":\"bar\",\"xaxis\":\"x4\",\"yaxis\":\"y4\"},{\"legendgroup\":\"Predicted Charger SOC\",\"legendgrouptitle\":{\"text\":\"Predicted State of Charge\"},\"line\":{\"color\":\"darkturquoise\",\"shape\":\"linear\"},\"marker\":{\"size\":8,\"symbol\":\"circle-dot\"},\"mode\":\"markers+lines\",\"name\":\"Value at timestep end\",\"showlegend\":false,\"y\":[0.9395960182812552,0.9395960182812552,0.9395960182812552,0.9395960182812552,0.9395960182812552,0.9395960182812552,0.9395960182812552,0.9395960182812552,0.0,0.0,1.0,1.0,1.0,1.0,1.0,1.0,1.0,1.0,1.0,0.0,0.0,0.0,0.0,0.0,0.0],\"type\":\"scatter\",\"xaxis\":\"x3\",\"yaxis\":\"y3\"},{\"legendgroup\":\"Predicted Charger SOC\",\"marker\":{\"color\":[0.9395960182812552,0.9395960182812552,0.9395960182812552,0.9395960182812552,0.9395960182812552,0.9395960182812552,0.9395960182812552,0.9395960182812552,0.0,0.0,1.0,1.0,1.0,1.0,1.0,1.0,1.0,1.0,1.0,0.0,0.0,0.0,0.0,0.0,0.0],\"coloraxis\":\"coloraxis\",\"line\":{\"width\":0},\"opacity\":1},\"showlegend\":false,\"y\":[0.9395960182812552,0.9395960182812552,0.9395960182812552,0.9395960182812552,0.9395960182812552,0.9395960182812552,0.9395960182812552,0.9395960182812552,0.0,0.0,1.0,1.0,1.0,1.0,1.0,1.0,1.0,1.0,1.0,0.0,0.0,0.0,0.0,0.0,0.0],\"type\":\"bar\",\"xaxis\":\"x3\",\"yaxis\":\"y3\"},{\"legendgroup\":\"State of Charge\",\"legendgrouptitle\":{\"text\":\"State of Charge\"},\"marker\":{\"color\":\"teal\",\"line\":{\"width\":0},\"opacity\":0.8},\"name\":\"Requested - on departure\",\"showlegend\":false,\"width\":0.5,\"x\":[7.0,18.0],\"y\":[1.0,1.0],\"type\":\"bar\",\"xaxis\":\"x3\",\"yaxis\":\"y3\"},{\"legendgroup\":\"State of Charge\",\"marker\":{\"color\":\"crimson\",\"line\":{\"width\":0},\"opacity\":0.8},\"name\":\"Initial - on arrival\",\"showlegend\":false,\"width\":0.5,\"x\":[0.0,10.0],\"y\":[0.8509042414912792,0.8196674239363752],\"type\":\"bar\",\"xaxis\":\"x3\",\"yaxis\":\"y3\"},{\"legendgroup\":\"Predicted Charger SOC\",\"legendgrouptitle\":{\"text\":\"Predicted State of Charge\"},\"line\":{\"color\":\"darkturquoise\",\"shape\":\"linear\"},\"marker\":{\"size\":8,\"symbol\":\"circle-dot\"},\"mode\":\"markers+lines\",\"name\":\"Value at timestep end\",\"showlegend\":false,\"y\":[0.0,0.0,0.0,0.5895686176019808,1.0,1.0,1.0,1.0,1.0,0.0,0.0,0.5930834874036669,0.7796906302608098,0.8458578938676391,0.9118362280997395,0.9118362280997395,0.0,0.3662928906238637,0.5580360098899187,0.7497791291559738,0.9365662720408144,0.9365662720408144,0.0,0.0,0.0],\"type\":\"scatter\",\"xaxis\":\"x2\",\"yaxis\":\"y2\"},{\"legendgroup\":\"Predicted Charger SOC\",\"marker\":{\"color\":[0.0,0.0,0.0,0.5895686176019808,1.0,1.0,1.0,1.0,1.0,0.0,0.0,0.5930834874036669,0.7796906302608098,0.8458578938676391,0.9118362280997395,0.9118362280997395,0.0,0.3662928906238637,0.5580360098899187,0.7497791291559738,0.9365662720408144,0.9365662720408144,0.0,0.0,0.0],\"coloraxis\":\"coloraxis\",\"line\":{\"width\":0},\"opacity\":1},\"showlegend\":false,\"y\":[0.0,0.0,0.0,0.5895686176019808,1.0,1.0,1.0,1.0,1.0,0.0,0.0,0.5930834874036669,0.7796906302608098,0.8458578938676391,0.9118362280997395,0.9118362280997395,0.0,0.3662928906238637,0.5580360098899187,0.7497791291559738,0.9365662720408144,0.9365662720408144,0.0,0.0,0.0],\"type\":\"bar\",\"xaxis\":\"x2\",\"yaxis\":\"y2\"},{\"legendgroup\":\"State of Charge\",\"legendgrouptitle\":{\"text\":\"State of Charge\"},\"marker\":{\"color\":\"teal\",\"line\":{\"width\":0},\"opacity\":0.8},\"name\":\"Requested - on departure\",\"showlegend\":false,\"width\":0.5,\"x\":[8.0,15.0,21.0],\"y\":[1.0,1.0,1.0],\"type\":\"bar\",\"xaxis\":\"x2\",\"yaxis\":\"y2\"},{\"legendgroup\":\"State of Charge\",\"marker\":{\"color\":\"crimson\",\"line\":{\"width\":0},\"opacity\":0.8},\"name\":\"Initial - on arrival\",\"showlegend\":false,\"width\":0.5,\"x\":[3.0,11.0,17.0],\"y\":[0.16303800535708285,0.40647634454652404,0.1745497713578087],\"type\":\"bar\",\"xaxis\":\"x2\",\"yaxis\":\"y2\"},{\"legendgroup\":\"Predicted Charger SOC\",\"legendgrouptitle\":{\"text\":\"Predicted State of Charge\"},\"line\":{\"color\":\"darkturquoise\",\"shape\":\"linear\"},\"marker\":{\"size\":8,\"symbol\":\"circle-dot\"},\"mode\":\"markers+lines\",\"name\":\"Value at timestep end\",\"showlegend\":false,\"y\":[1.0,1.0,1.0,1.0,1.0,1.0,0.0,1.0,1.0,1.0,1.0,1.0,1.0,1.0,1.0,0.0,1.0,1.0,1.0,1.0,1.0,1.0,1.0,0.0,0.0],\"type\":\"scatter\",\"xaxis\":\"x\",\"yaxis\":\"y\"},{\"legendgroup\":\"Predicted Charger SOC\",\"marker\":{\"color\":[1.0,1.0,1.0,1.0,1.0,1.0,0.0,1.0,1.0,1.0,1.0,1.0,1.0,1.0,1.0,0.0,1.0,1.0,1.0,1.0,1.0,1.0,1.0,0.0,0.0],\"coloraxis\":\"coloraxis\",\"line\":{\"width\":0},\"opacity\":1},\"showlegend\":false,\"y\":[1.0,1.0,1.0,1.0,1.0,1.0,0.0,1.0,1.0,1.0,1.0,1.0,1.0,1.0,1.0,0.0,1.0,1.0,1.0,1.0,1.0,1.0,1.0,0.0,0.0],\"type\":\"bar\",\"xaxis\":\"x\",\"yaxis\":\"y\"},{\"legendgroup\":\"State of Charge\",\"legendgrouptitle\":{\"text\":\"State of Charge\"},\"marker\":{\"color\":\"teal\",\"line\":{\"width\":0},\"opacity\":0.8},\"name\":\"Requested - on departure\",\"showlegend\":false,\"width\":0.5,\"x\":[5.0,14.0,22.0],\"y\":[1.0,1.0,1.0],\"type\":\"bar\",\"xaxis\":\"x\",\"yaxis\":\"y\"},{\"legendgroup\":\"State of Charge\",\"marker\":{\"color\":\"crimson\",\"line\":{\"width\":0},\"opacity\":0.8},\"name\":\"Initial - on arrival\",\"showlegend\":false,\"width\":0.5,\"x\":[0.0,7.0,16.0],\"y\":[0.45773601125327257,0.27619602375201013,0.6520423769879261],\"type\":\"bar\",\"xaxis\":\"x\",\"yaxis\":\"y\"}],                        {\"template\":{\"data\":{\"histogram2dcontour\":[{\"type\":\"histogram2dcontour\",\"colorbar\":{\"outlinewidth\":0,\"ticks\":\"\"},\"colorscale\":[[0.0,\"#0d0887\"],[0.1111111111111111,\"#46039f\"],[0.2222222222222222,\"#7201a8\"],[0.3333333333333333,\"#9c179e\"],[0.4444444444444444,\"#bd3786\"],[0.5555555555555556,\"#d8576b\"],[0.6666666666666666,\"#ed7953\"],[0.7777777777777778,\"#fb9f3a\"],[0.8888888888888888,\"#fdca26\"],[1.0,\"#f0f921\"]]}],\"choropleth\":[{\"type\":\"choropleth\",\"colorbar\":{\"outlinewidth\":0,\"ticks\":\"\"}}],\"histogram2d\":[{\"type\":\"histogram2d\",\"colorbar\":{\"outlinewidth\":0,\"ticks\":\"\"},\"colorscale\":[[0.0,\"#0d0887\"],[0.1111111111111111,\"#46039f\"],[0.2222222222222222,\"#7201a8\"],[0.3333333333333333,\"#9c179e\"],[0.4444444444444444,\"#bd3786\"],[0.5555555555555556,\"#d8576b\"],[0.6666666666666666,\"#ed7953\"],[0.7777777777777778,\"#fb9f3a\"],[0.8888888888888888,\"#fdca26\"],[1.0,\"#f0f921\"]]}],\"heatmap\":[{\"type\":\"heatmap\",\"colorbar\":{\"outlinewidth\":0,\"ticks\":\"\"},\"colorscale\":[[0.0,\"#0d0887\"],[0.1111111111111111,\"#46039f\"],[0.2222222222222222,\"#7201a8\"],[0.3333333333333333,\"#9c179e\"],[0.4444444444444444,\"#bd3786\"],[0.5555555555555556,\"#d8576b\"],[0.6666666666666666,\"#ed7953\"],[0.7777777777777778,\"#fb9f3a\"],[0.8888888888888888,\"#fdca26\"],[1.0,\"#f0f921\"]]}],\"heatmapgl\":[{\"type\":\"heatmapgl\",\"colorbar\":{\"outlinewidth\":0,\"ticks\":\"\"},\"colorscale\":[[0.0,\"#0d0887\"],[0.1111111111111111,\"#46039f\"],[0.2222222222222222,\"#7201a8\"],[0.3333333333333333,\"#9c179e\"],[0.4444444444444444,\"#bd3786\"],[0.5555555555555556,\"#d8576b\"],[0.6666666666666666,\"#ed7953\"],[0.7777777777777778,\"#fb9f3a\"],[0.8888888888888888,\"#fdca26\"],[1.0,\"#f0f921\"]]}],\"contourcarpet\":[{\"type\":\"contourcarpet\",\"colorbar\":{\"outlinewidth\":0,\"ticks\":\"\"}}],\"contour\":[{\"type\":\"contour\",\"colorbar\":{\"outlinewidth\":0,\"ticks\":\"\"},\"colorscale\":[[0.0,\"#0d0887\"],[0.1111111111111111,\"#46039f\"],[0.2222222222222222,\"#7201a8\"],[0.3333333333333333,\"#9c179e\"],[0.4444444444444444,\"#bd3786\"],[0.5555555555555556,\"#d8576b\"],[0.6666666666666666,\"#ed7953\"],[0.7777777777777778,\"#fb9f3a\"],[0.8888888888888888,\"#fdca26\"],[1.0,\"#f0f921\"]]}],\"surface\":[{\"type\":\"surface\",\"colorbar\":{\"outlinewidth\":0,\"ticks\":\"\"},\"colorscale\":[[0.0,\"#0d0887\"],[0.1111111111111111,\"#46039f\"],[0.2222222222222222,\"#7201a8\"],[0.3333333333333333,\"#9c179e\"],[0.4444444444444444,\"#bd3786\"],[0.5555555555555556,\"#d8576b\"],[0.6666666666666666,\"#ed7953\"],[0.7777777777777778,\"#fb9f3a\"],[0.8888888888888888,\"#fdca26\"],[1.0,\"#f0f921\"]]}],\"mesh3d\":[{\"type\":\"mesh3d\",\"colorbar\":{\"outlinewidth\":0,\"ticks\":\"\"}}],\"scatter\":[{\"fillpattern\":{\"fillmode\":\"overlay\",\"size\":10,\"solidity\":0.2},\"type\":\"scatter\"}],\"parcoords\":[{\"type\":\"parcoords\",\"line\":{\"colorbar\":{\"outlinewidth\":0,\"ticks\":\"\"}}}],\"scatterpolargl\":[{\"type\":\"scatterpolargl\",\"marker\":{\"colorbar\":{\"outlinewidth\":0,\"ticks\":\"\"}}}],\"bar\":[{\"error_x\":{\"color\":\"#2a3f5f\"},\"error_y\":{\"color\":\"#2a3f5f\"},\"marker\":{\"line\":{\"color\":\"white\",\"width\":0.5},\"pattern\":{\"fillmode\":\"overlay\",\"size\":10,\"solidity\":0.2}},\"type\":\"bar\"}],\"scattergeo\":[{\"type\":\"scattergeo\",\"marker\":{\"colorbar\":{\"outlinewidth\":0,\"ticks\":\"\"}}}],\"scatterpolar\":[{\"type\":\"scatterpolar\",\"marker\":{\"colorbar\":{\"outlinewidth\":0,\"ticks\":\"\"}}}],\"histogram\":[{\"marker\":{\"pattern\":{\"fillmode\":\"overlay\",\"size\":10,\"solidity\":0.2}},\"type\":\"histogram\"}],\"scattergl\":[{\"type\":\"scattergl\",\"marker\":{\"colorbar\":{\"outlinewidth\":0,\"ticks\":\"\"}}}],\"scatter3d\":[{\"type\":\"scatter3d\",\"line\":{\"colorbar\":{\"outlinewidth\":0,\"ticks\":\"\"}},\"marker\":{\"colorbar\":{\"outlinewidth\":0,\"ticks\":\"\"}}}],\"scattermapbox\":[{\"type\":\"scattermapbox\",\"marker\":{\"colorbar\":{\"outlinewidth\":0,\"ticks\":\"\"}}}],\"scatterternary\":[{\"type\":\"scatterternary\",\"marker\":{\"colorbar\":{\"outlinewidth\":0,\"ticks\":\"\"}}}],\"scattercarpet\":[{\"type\":\"scattercarpet\",\"marker\":{\"colorbar\":{\"outlinewidth\":0,\"ticks\":\"\"}}}],\"carpet\":[{\"aaxis\":{\"endlinecolor\":\"#2a3f5f\",\"gridcolor\":\"#C8D4E3\",\"linecolor\":\"#C8D4E3\",\"minorgridcolor\":\"#C8D4E3\",\"startlinecolor\":\"#2a3f5f\"},\"baxis\":{\"endlinecolor\":\"#2a3f5f\",\"gridcolor\":\"#C8D4E3\",\"linecolor\":\"#C8D4E3\",\"minorgridcolor\":\"#C8D4E3\",\"startlinecolor\":\"#2a3f5f\"},\"type\":\"carpet\"}],\"table\":[{\"cells\":{\"fill\":{\"color\":\"#EBF0F8\"},\"line\":{\"color\":\"white\"}},\"header\":{\"fill\":{\"color\":\"#C8D4E3\"},\"line\":{\"color\":\"white\"}},\"type\":\"table\"}],\"barpolar\":[{\"marker\":{\"line\":{\"color\":\"white\",\"width\":0.5},\"pattern\":{\"fillmode\":\"overlay\",\"size\":10,\"solidity\":0.2}},\"type\":\"barpolar\"}],\"pie\":[{\"automargin\":true,\"type\":\"pie\"}]},\"layout\":{\"autotypenumbers\":\"strict\",\"colorway\":[\"#636efa\",\"#EF553B\",\"#00cc96\",\"#ab63fa\",\"#FFA15A\",\"#19d3f3\",\"#FF6692\",\"#B6E880\",\"#FF97FF\",\"#FECB52\"],\"font\":{\"color\":\"#2a3f5f\"},\"hovermode\":\"closest\",\"hoverlabel\":{\"align\":\"left\"},\"paper_bgcolor\":\"white\",\"plot_bgcolor\":\"white\",\"polar\":{\"bgcolor\":\"white\",\"angularaxis\":{\"gridcolor\":\"#EBF0F8\",\"linecolor\":\"#EBF0F8\",\"ticks\":\"\"},\"radialaxis\":{\"gridcolor\":\"#EBF0F8\",\"linecolor\":\"#EBF0F8\",\"ticks\":\"\"}},\"ternary\":{\"bgcolor\":\"white\",\"aaxis\":{\"gridcolor\":\"#DFE8F3\",\"linecolor\":\"#A2B1C6\",\"ticks\":\"\"},\"baxis\":{\"gridcolor\":\"#DFE8F3\",\"linecolor\":\"#A2B1C6\",\"ticks\":\"\"},\"caxis\":{\"gridcolor\":\"#DFE8F3\",\"linecolor\":\"#A2B1C6\",\"ticks\":\"\"}},\"coloraxis\":{\"colorbar\":{\"outlinewidth\":0,\"ticks\":\"\"}},\"colorscale\":{\"sequential\":[[0.0,\"#0d0887\"],[0.1111111111111111,\"#46039f\"],[0.2222222222222222,\"#7201a8\"],[0.3333333333333333,\"#9c179e\"],[0.4444444444444444,\"#bd3786\"],[0.5555555555555556,\"#d8576b\"],[0.6666666666666666,\"#ed7953\"],[0.7777777777777778,\"#fb9f3a\"],[0.8888888888888888,\"#fdca26\"],[1.0,\"#f0f921\"]],\"sequentialminus\":[[0.0,\"#0d0887\"],[0.1111111111111111,\"#46039f\"],[0.2222222222222222,\"#7201a8\"],[0.3333333333333333,\"#9c179e\"],[0.4444444444444444,\"#bd3786\"],[0.5555555555555556,\"#d8576b\"],[0.6666666666666666,\"#ed7953\"],[0.7777777777777778,\"#fb9f3a\"],[0.8888888888888888,\"#fdca26\"],[1.0,\"#f0f921\"]],\"diverging\":[[0,\"#8e0152\"],[0.1,\"#c51b7d\"],[0.2,\"#de77ae\"],[0.3,\"#f1b6da\"],[0.4,\"#fde0ef\"],[0.5,\"#f7f7f7\"],[0.6,\"#e6f5d0\"],[0.7,\"#b8e186\"],[0.8,\"#7fbc41\"],[0.9,\"#4d9221\"],[1,\"#276419\"]]},\"xaxis\":{\"gridcolor\":\"#EBF0F8\",\"linecolor\":\"#EBF0F8\",\"ticks\":\"\",\"title\":{\"standoff\":15},\"zerolinecolor\":\"#EBF0F8\",\"automargin\":true,\"zerolinewidth\":2},\"yaxis\":{\"gridcolor\":\"#EBF0F8\",\"linecolor\":\"#EBF0F8\",\"ticks\":\"\",\"title\":{\"standoff\":15},\"zerolinecolor\":\"#EBF0F8\",\"automargin\":true,\"zerolinewidth\":2},\"scene\":{\"xaxis\":{\"backgroundcolor\":\"white\",\"gridcolor\":\"#DFE8F3\",\"linecolor\":\"#EBF0F8\",\"showbackground\":true,\"ticks\":\"\",\"zerolinecolor\":\"#EBF0F8\",\"gridwidth\":2},\"yaxis\":{\"backgroundcolor\":\"white\",\"gridcolor\":\"#DFE8F3\",\"linecolor\":\"#EBF0F8\",\"showbackground\":true,\"ticks\":\"\",\"zerolinecolor\":\"#EBF0F8\",\"gridwidth\":2},\"zaxis\":{\"backgroundcolor\":\"white\",\"gridcolor\":\"#DFE8F3\",\"linecolor\":\"#EBF0F8\",\"showbackground\":true,\"ticks\":\"\",\"zerolinecolor\":\"#EBF0F8\",\"gridwidth\":2}},\"shapedefaults\":{\"line\":{\"color\":\"#2a3f5f\"}},\"annotationdefaults\":{\"arrowcolor\":\"#2a3f5f\",\"arrowhead\":0,\"arrowwidth\":1},\"geo\":{\"bgcolor\":\"white\",\"landcolor\":\"white\",\"subunitcolor\":\"#C8D4E3\",\"showland\":true,\"showlakes\":true,\"lakecolor\":\"white\"},\"title\":{\"x\":0.05},\"mapbox\":{\"style\":\"light\"}}},\"xaxis\":{\"anchor\":\"y\",\"domain\":[0.0,1.0],\"matches\":\"x4\",\"showticklabels\":false,\"tickformat\":\"\",\"griddash\":\"dot\",\"title\":{\"text\":\"\"},\"range\":[-0.4,24.2],\"tickvals\":[0,1,2,3,4,5,6,7,8,9,10,11,12,13,14,15,16,17,18,19,20,21,22,23,24,25,26,27],\"ticktext\":[\"0\",\"1\",\"2\",\"3\",\"4\",\"5\",\"6\",\"7\",\"8\",\"9\",\"10\",\"11\",\"12\",\"13\",\"14\",\"15\",\"16\",\"17\",\"18\",\"19\",\"20\",\"21\",\"22\",\"23\",\"0\",\"1\",\"2\",\"3\"]},\"yaxis\":{\"anchor\":\"x\",\"domain\":[0.7649999999999999,0.9999999999999999],\"title\":{\"text\":\"\"},\"tickformat\":\" ,~%\",\"nticks\":5,\"range\":[0,1.1],\"dtick\":0.25},\"xaxis2\":{\"anchor\":\"y2\",\"domain\":[0.0,1.0],\"matches\":\"x4\",\"showticklabels\":false,\"tickformat\":\"\",\"griddash\":\"dot\",\"title\":{\"text\":\"\"},\"range\":[-0.4,24.2],\"tickvals\":[0,1,2,3,4,5,6,7,8,9,10,11,12,13,14,15,16,17,18,19,20,21,22,23,24,25,26,27],\"ticktext\":[\"0\",\"1\",\"2\",\"3\",\"4\",\"5\",\"6\",\"7\",\"8\",\"9\",\"10\",\"11\",\"12\",\"13\",\"14\",\"15\",\"16\",\"17\",\"18\",\"19\",\"20\",\"21\",\"22\",\"23\",\"0\",\"1\",\"2\",\"3\"]},\"yaxis2\":{\"anchor\":\"x2\",\"domain\":[0.51,0.745],\"tickformat\":\" ,~%\",\"nticks\":5,\"range\":[0,1.1],\"dtick\":0.25},\"xaxis3\":{\"anchor\":\"y3\",\"domain\":[0.0,1.0],\"matches\":\"x4\",\"showticklabels\":false,\"tickformat\":\"\",\"griddash\":\"dot\",\"title\":{\"text\":\"\"},\"range\":[-0.4,24.2],\"tickvals\":[0,1,2,3,4,5,6,7,8,9,10,11,12,13,14,15,16,17,18,19,20,21,22,23,24,25,26,27],\"ticktext\":[\"0\",\"1\",\"2\",\"3\",\"4\",\"5\",\"6\",\"7\",\"8\",\"9\",\"10\",\"11\",\"12\",\"13\",\"14\",\"15\",\"16\",\"17\",\"18\",\"19\",\"20\",\"21\",\"22\",\"23\",\"0\",\"1\",\"2\",\"3\"]},\"yaxis3\":{\"anchor\":\"x3\",\"domain\":[0.255,0.49],\"tickformat\":\" ,~%\",\"nticks\":5,\"range\":[0,1.1],\"dtick\":0.25},\"xaxis4\":{\"anchor\":\"y4\",\"domain\":[0.0,1.0],\"tickformat\":\"\",\"griddash\":\"dot\",\"title\":{\"text\":\"\"},\"range\":[-0.4,24.2],\"tickvals\":[0,1,2,3,4,5,6,7,8,9,10,11,12,13,14,15,16,17,18,19,20,21,22,23,24,25,26,27],\"ticktext\":[\"0\",\"1\",\"2\",\"3\",\"4\",\"5\",\"6\",\"7\",\"8\",\"9\",\"10\",\"11\",\"12\",\"13\",\"14\",\"15\",\"16\",\"17\",\"18\",\"19\",\"20\",\"21\",\"22\",\"23\",\"0\",\"1\",\"2\",\"3\"]},\"yaxis4\":{\"anchor\":\"x4\",\"domain\":[0.0,0.235],\"tickformat\":\" ,~%\",\"nticks\":5,\"range\":[0,1.1],\"dtick\":0.25},\"annotations\":[{\"font\":{\"color\":\"grey\",\"size\":13},\"opacity\":0.9,\"showarrow\":false,\"text\":\"<i>Charger 0</i>\",\"textangle\":0,\"x\":23,\"xref\":\"x\",\"y\":1.2,\"yref\":\"y\"},{\"font\":{\"color\":\"grey\",\"size\":13},\"opacity\":0.9,\"showarrow\":false,\"text\":\"<i>Charger 1</i>\",\"textangle\":0,\"x\":23,\"xref\":\"x2\",\"y\":1.2,\"yref\":\"y2\"},{\"font\":{\"color\":\"grey\",\"size\":13},\"opacity\":0.9,\"showarrow\":false,\"text\":\"<i>Charger 2</i>\",\"textangle\":0,\"x\":23,\"xref\":\"x3\",\"y\":1.2,\"yref\":\"y3\"},{\"font\":{\"color\":\"grey\",\"size\":13},\"opacity\":0.9,\"showarrow\":false,\"text\":\"<i>Charger 3</i>\",\"textangle\":0,\"x\":23,\"xref\":\"x4\",\"y\":1.2,\"yref\":\"y4\"},{\"font\":{\"size\":14},\"showarrow\":false,\"text\":\"State of Charge\",\"textangle\":-90,\"x\":-0.15,\"xref\":\"paper\",\"y\":0.5,\"yref\":\"paper\"},{\"font\":{\"size\":14},\"showarrow\":false,\"text\":\"Timestep (Hour) in a Day\",\"textangle\":0,\"x\":0.5,\"xref\":\"paper\",\"y\":-0.1,\"yref\":\"paper\"}],\"title\":{\"text\":\"Predicted State of Charge per Charger\",\"font\":{\"size\":24},\"xanchor\":\"center\",\"x\":0.42,\"y\":0.9},\"barmode\":\"overlay\",\"coloraxis\":{\"colorbar\":{\"title\":{\"text\":\"State of Charge\",\"side\":\"right\"},\"len\":0.7,\"thickness\":14,\"yanchor\":\"middle\",\"y\":0.35,\"x\":1.025,\"tickvals\":[0,0.25,0.5,0.75,0.95,0.98,1],\"tickformat\":\",.0%\",\"ticktext\":[\"0%\",\"25%\",\"50%\",\"75%\",\"95%\",\"\\t  ] Optimal Value Range\",\"100%\"]},\"colorscale\":[[0,\"rgba(220,20,60, 0.45)\"],[0.9,\"rgba(0,128,128, 0.45)\"],[0.95,\"rgba(0,206,209, 0.45)\"],[1,\"rgba(0,206,209, 0.45)\"]]},\"height\":650,\"width\":850,\"showlegend\":true},                        {\"responsive\": true}                    ).then(function(){\n",
       "                            \n",
       "var gd = document.getElementById('717b2724-2a61-4656-8c12-1f094acbf938');\n",
       "var x = new MutationObserver(function (mutations, observer) {{\n",
       "        var display = window.getComputedStyle(gd).display;\n",
       "        if (!display || display === 'none') {{\n",
       "            console.log([gd, 'removed!']);\n",
       "            Plotly.purge(gd);\n",
       "            observer.disconnect();\n",
       "        }}\n",
       "}});\n",
       "\n",
       "// Listen for the removal of the full notebook cells\n",
       "var notebookContainer = gd.closest('#notebook-container');\n",
       "if (notebookContainer) {{\n",
       "    x.observe(notebookContainer, {childList: true});\n",
       "}}\n",
       "\n",
       "// Listen for the clearing of the current output cell\n",
       "var outputEl = gd.closest('.output');\n",
       "if (outputEl) {{\n",
       "    x.observe(outputEl, {childList: true});\n",
       "}}\n",
       "\n",
       "                        })                };                });            </script>        </div>"
      ]
     },
     "metadata": {},
     "output_type": "display_data"
    }
   ],
   "source": [
    "subplot_fig = make_subplots(\n",
    "    rows=4,\n",
    "    cols=1,\n",
    "    shared_xaxes=True,\n",
    "    vertical_spacing=0.02\n",
    ")\n",
    "\n",
    "for v_id in initial_training_data.index:\n",
    "    charger_id = int(initial_training_data.loc[v_id, 'Charger ID'])\n",
    "    counter = number_of_chargers - charger_id\n",
    "    charger = counter - 1\n",
    "    \n",
    "    arr = int(initial_training_data.loc[v_id, 'Arrival'])\n",
    "    dep = int(initial_training_data.loc[v_id, 'Departure'])\n",
    "    \n",
    "    if initial_training_data.loc[v_id, 'Vehicle ID'] == '0':\n",
    "        psoc = chargers_predictions.loc[chargers_predictions['Charger ID']==charger,'Vehicle State of Charge']\n",
    "        subplot_fig.add_scatter(y=psoc, line_shape='linear', row=counter, col=1, name='Value at timestep end', mode='markers+lines',\n",
    "                                marker=dict(size=8, symbol='circle-dot'), line=dict(color='darkturquoise'), showlegend=(not v_id), \n",
    "                                legendgrouptitle=dict(text='Predicted State of Charge'), legendgroup='Predicted Charger SOC', )\n",
    "        subplot_fig.add_bar(y=psoc, row=counter, col=1, legendgroup='Predicted Charger SOC', showlegend=False, \n",
    "                            marker=dict(color=psoc, opacity=1, line_width=0, coloraxis='coloraxis'))\n",
    "        \n",
    "        subplot_fig.add_bar(x=initial_training_data.loc[(initial_training_data['Charger ID']==str(charger))&(initial_training_data.index[v_id]==v_id), 'Departure']-1, row=counter, col=1,\n",
    "                    y=initial_training_data.loc[(initial_training_data['Charger ID']==str(charger))&(initial_training_data.index[v_id]==v_id), 'Requested State of Charge'], name=f'Requested - on departure',\n",
    "                    width=0.5, marker=dict(color='teal', opacity=0.8, line_width=0), legendgroup='State of Charge', showlegend=(not v_id),\n",
    "                    legendgrouptitle=dict(text='State of Charge'))\n",
    "        subplot_fig.add_bar(x=initial_training_data.loc[initial_training_data['Charger ID']==str(charger), 'Arrival'], row=counter, col=1,\n",
    "                    y=initial_training_data.loc[initial_training_data['Charger ID']==str(charger), 'Initial State of Charge'], name=f'Initial - on arrival',\n",
    "                    width=0.5, marker=dict(color='crimson', opacity=0.8, line_width=0), legendgroup='State of Charge', showlegend=(not v_id))\n",
    "        \n",
    "        subplot_fig.add_annotation(x=23, y=1.2, text=f'<i>Charger {charger_id}</i>', textangle=0, opacity=0.9, row=charger_id+1, col=1,\n",
    "                                   font_size=13, showarrow=False, font_color='grey')    \n",
    "\n",
    "\n",
    "subplot_fig.add_annotation(x=-0.15, y=0.5, text=\"State of Charge\", textangle=-90, xref=\"paper\", yref=\"paper\", font_size=14, showarrow=False)\n",
    "subplot_fig.add_annotation(x=0.5, y=-0.1, text=\"Timestep (Hour) in a Day\", textangle=0, xref=\"paper\", yref=\"paper\", font_size=14, showarrow=False)\n",
    "\n",
    "max_timestep = int(initial_training_data.Departure.max() + 1)\n",
    "subplot_fig.update_layout(title=\"Predicted State of Charge per Charger\",\n",
    "                          yaxis=dict(title=''), barmode='overlay')\n",
    "subplot_fig.update_xaxes(tickformat='', griddash=\"dot\", title='', range=[-0.4, 24.2],\n",
    "                         tickvals=[i for i in range(max_timestep)],\n",
    "                         ticktext=[str(i%24) for i in range(max_timestep)])\n",
    "\n",
    "# For plot export: w(1280)xh(720), w(1920)xh(1080)\n",
    "# For better overview in jupyter: w(850)xh(650)\n",
    "plot_width = 850\n",
    "plot_height = 650\n",
    "\n",
    "subplot_fig.update_yaxes(tickformat=\" ,~%\", nticks=5, range=[0, 1.1], dtick=0.25)\n",
    "subplot_fig.update_layout(height=plot_height, width=plot_width, title=dict(xanchor=\"center\", x=0.42, font_size=24, y=0.9), \n",
    "                          showlegend=True, \n",
    "                          coloraxis=dict(\n",
    "                              colorbar=dict(len=0.7, thickness=14, yanchor='middle', y=0.35, x=1.025, \n",
    "                                            title='State of Charge', titleside='right', tickvals=[0, 0.25, 0.5, 0.75, 0.95, 0.98, 1],\n",
    "                                            tickformat=',.0%', ticktext=['0%','25%','50%','75%','95%','\\t  ] Optimal Value Range','100%']),\n",
    "                              colorscale=[[0, 'rgba(220,20,60, 0.45)'], [0.9, 'rgba(0,128,128, 0.45)'], [0.95, 'rgba(0,206,209, 0.45)'], [1, 'rgba(0,206,209, 0.45)']]\n",
    "                          )\n",
    "                         )\n",
    "\n",
    "subplot_fig.show()\n",
    "\n",
    "del psoc, charger_id, counter, charger, arr, dep, max_timestep, plot_width, plot_height"
   ]
  },
  {
   "cell_type": "markdown",
   "id": "173a841b",
   "metadata": {},
   "source": [
    "#### Predicted Vehicle State of Charge and corresponding action and power values and penalties"
   ]
  },
  {
   "cell_type": "code",
   "execution_count": 68,
   "id": "7b8de49d",
   "metadata": {},
   "outputs": [
    {
     "data": {
      "application/vnd.plotly.v1+json": {
       "config": {
        "plotlyServerURL": "https://plot.ly"
       },
       "data": [
        {
         "legendgroup": "State of Charge",
         "legendgrouptitle": {
          "text": "State of Charge"
         },
         "marker": {
          "color": "teal",
          "line": {
           "width": 0
          },
          "opacity": 0.8
         },
         "name": "Requested - on departure",
         "showlegend": true,
         "type": "bar",
         "width": 0.5,
         "x": [
          6,
          11,
          23
         ],
         "xaxis": "x4",
         "y": [
          1,
          1,
          1
         ],
         "yaxis": "y7"
        },
        {
         "legendgroup": "State of Charge",
         "marker": {
          "color": "crimson",
          "line": {
           "width": 0
          },
          "opacity": 0.8
         },
         "name": "Initial - on arrival",
         "showlegend": true,
         "type": "bar",
         "width": 0.5,
         "x": [
          1,
          8,
          15
         ],
         "xaxis": "x4",
         "y": [
          0.5545773557281773,
          0.4682768697844314,
          0.7754137082496945
         ],
         "yaxis": "y7"
        },
        {
         "legendgroup": "Predicted Charger SOC",
         "legendgrouptitle": {
          "text": "Predicted State of Charge"
         },
         "line": {
          "color": "darkturquoise",
          "shape": "linear"
         },
         "marker": {
          "size": 8,
          "symbol": "circle-dot"
         },
         "mode": "markers+lines",
         "name": "Value at timestep end",
         "showlegend": true,
         "type": "scatter",
         "xaxis": "x4",
         "y": [
          0,
          1,
          1,
          1,
          1,
          1,
          1,
          0,
          0.650016000219214,
          0.7760080823693001,
          0.7760080823693001,
          0.9577472128040827,
          0,
          0,
          0,
          1,
          1,
          1,
          1,
          1,
          1,
          1,
          1,
          1,
          0
         ],
         "yaxis": "y7"
        },
        {
         "legendgroup": "Charger Action",
         "legendgrouptitle": {
          "text": "Charging Action"
         },
         "marker": {
          "color": "darkturquoise",
          "line": {
           "color": "darkturquoise",
           "width": 1
          },
          "opacity": 0.45,
          "pattern": {
           "fgcolor": "white",
           "fgopacity": 0.9,
           "shape": "+",
           "size": 10
          }
         },
         "name": "Charger 3",
         "showlegend": true,
         "type": "bar",
         "xaxis": "x4",
         "y": [
          1,
          1,
          0.17426028847694397,
          0,
          0,
          0,
          0,
          0,
          1,
          0.6932578682899475,
          0,
          1,
          0.5324535369873047,
          1,
          1,
          1,
          0.34921789169311523,
          0.32274192571640015,
          0.3289710283279419,
          0.15970832109451294,
          0,
          0,
          0,
          0,
          null
         ],
         "yaxis": "y7"
        },
        {
         "legendgroup": "Charger Power",
         "legendgrouptitle": {
          "text": "Power Values"
         },
         "line": {
          "color": "darkorange",
          "shape": "linear"
         },
         "marker": {
          "size": 8,
          "symbol": "square"
         },
         "mode": "markers",
         "name": "Charger 3",
         "showlegend": true,
         "type": "scatter",
         "xaxis": "x4",
         "y": [
          0,
          20.9,
          3.642040029168129,
          0,
          0,
          0,
          0,
          0,
          20.9,
          14.489089447259902,
          0,
          20.9,
          0,
          0,
          0,
          20.9,
          7.298653936386108,
          6.7453062474727625,
          6.875494492053985,
          3.3379039108753203,
          0,
          0,
          0,
          0,
          null
         ],
         "yaxis": "y8"
        },
        {
         "legendgroup": "State of Charge",
         "legendgrouptitle": {
          "text": "State of Charge"
         },
         "marker": {
          "color": "teal",
          "line": {
           "width": 0
          },
          "opacity": 0.8
         },
         "name": "Requested - on departure",
         "showlegend": false,
         "type": "bar",
         "width": 0.5,
         "x": [
          11,
          23
         ],
         "xaxis": "x3",
         "y": [
          1,
          1
         ],
         "yaxis": "y5"
        },
        {
         "legendgroup": "State of Charge",
         "marker": {
          "color": "crimson",
          "line": {
           "width": 0
          },
          "opacity": 0.8
         },
         "name": "Initial - on arrival",
         "showlegend": false,
         "type": "bar",
         "width": 0.5,
         "x": [
          7,
          17
         ],
         "xaxis": "x3",
         "y": [
          0.7387046499095048,
          0.8600226168892612
         ],
         "yaxis": "y5"
        },
        {
         "legendgroup": "Predicted Charger SOC",
         "legendgrouptitle": {
          "text": "Predicted State of Charge"
         },
         "line": {
          "color": "darkturquoise",
          "shape": "linear"
         },
         "marker": {
          "size": 8,
          "symbol": "circle-dot"
         },
         "mode": "markers+lines",
         "name": "Value at timestep end",
         "showlegend": false,
         "type": "scatter",
         "xaxis": "x3",
         "y": [
          0,
          0,
          0,
          0,
          0,
          0,
          0,
          1,
          1,
          1,
          1,
          1,
          0,
          0,
          0,
          0,
          0,
          1,
          1,
          1,
          1,
          1,
          1,
          1,
          0
         ],
         "yaxis": "y5"
        },
        {
         "legendgroup": "Charger Action",
         "legendgrouptitle": {
          "text": "Charging Action"
         },
         "marker": {
          "color": "darkturquoise",
          "line": {
           "color": "darkturquoise",
           "width": 1
          },
          "opacity": 0.45,
          "pattern": {
           "fgcolor": "white",
           "fgopacity": 0.9,
           "shape": "\\",
           "size": 10
          }
         },
         "name": "Charger 2",
         "showlegend": true,
         "type": "bar",
         "xaxis": "x3",
         "y": [
          1,
          1,
          1,
          1,
          1,
          1,
          1,
          1,
          0.003177747130393982,
          0,
          0.5466820597648621,
          0.0965396910905838,
          0,
          1,
          1,
          1,
          1,
          1,
          0,
          0,
          0,
          0,
          0,
          0,
          null
         ],
         "yaxis": "y5"
        },
        {
         "legendgroup": "Charger Power",
         "legendgrouptitle": {
          "text": "Power Values"
         },
         "line": {
          "color": "darkorange",
          "shape": "linear"
         },
         "marker": {
          "size": 8,
          "symbol": "diamond"
         },
         "mode": "markers",
         "name": "Charger 2",
         "showlegend": true,
         "type": "scatter",
         "xaxis": "x3",
         "y": [
          0,
          0,
          0,
          0,
          0,
          0,
          0,
          20.9,
          0.06641491502523422,
          0,
          11.425655049085616,
          2.0176795437932014,
          0,
          0,
          0,
          0,
          0,
          20.9,
          0,
          0,
          0,
          0,
          0,
          0,
          null
         ],
         "yaxis": "y6"
        },
        {
         "legendgroup": "State of Charge",
         "legendgrouptitle": {
          "text": "State of Charge"
         },
         "marker": {
          "color": "teal",
          "line": {
           "width": 0
          },
          "opacity": 0.8
         },
         "name": "Requested - on departure",
         "showlegend": false,
         "type": "bar",
         "width": 0.5,
         "x": [
          9,
          15,
          26
         ],
         "xaxis": "x2",
         "y": [
          1,
          1,
          1
         ],
         "yaxis": "y3"
        },
        {
         "legendgroup": "State of Charge",
         "marker": {
          "color": "crimson",
          "line": {
           "width": 0
          },
          "opacity": 0.8
         },
         "name": "Initial - on arrival",
         "showlegend": false,
         "type": "bar",
         "width": 0.5,
         "x": [
          3,
          12,
          23
         ],
         "xaxis": "x2",
         "y": [
          0.7195966747064518,
          0.1356988615468403,
          0.8198646425873081
         ],
         "yaxis": "y3"
        },
        {
         "legendgroup": "Predicted Charger SOC",
         "legendgrouptitle": {
          "text": "Predicted State of Charge"
         },
         "line": {
          "color": "darkturquoise",
          "shape": "linear"
         },
         "marker": {
          "size": 8,
          "symbol": "circle-dot"
         },
         "mode": "markers+lines",
         "name": "Value at timestep end",
         "showlegend": false,
         "type": "scatter",
         "xaxis": "x2",
         "y": [
          0,
          0,
          0,
          1,
          1,
          1,
          1,
          1,
          1,
          1,
          0,
          0,
          0.3128175056146369,
          0.4899361496824335,
          0.647408274327699,
          0.7800678817967243,
          0,
          0,
          0,
          0,
          0,
          0,
          0,
          1,
          0
         ],
         "yaxis": "y3"
        },
        {
         "legendgroup": "Charger Action",
         "legendgrouptitle": {
          "text": "Charging Action"
         },
         "marker": {
          "color": "darkturquoise",
          "line": {
           "color": "darkturquoise",
           "width": 1
          },
          "opacity": 0.45,
          "pattern": {
           "fgcolor": "white",
           "fgopacity": 0.9,
           "shape": "/",
           "size": 10
          }
         },
         "name": "Charger 1",
         "showlegend": true,
         "type": "bar",
         "xaxis": "x2",
         "y": [
          1,
          1,
          1,
          1,
          0,
          0,
          0,
          0,
          0,
          0,
          0.006581813097000122,
          1,
          1,
          1,
          0.8890770673751831,
          0.7489872574806213,
          0.8308936953544617,
          1,
          1,
          1,
          1,
          1,
          1,
          1,
          null
         ],
         "yaxis": "y3"
        },
        {
         "legendgroup": "Charger Power",
         "legendgrouptitle": {
          "text": "Power Values"
         },
         "line": {
          "color": "darkorange",
          "shape": "linear"
         },
         "marker": {
          "size": 8,
          "symbol": "cross"
         },
         "mode": "markers",
         "name": "Charger 1",
         "showlegend": true,
         "type": "scatter",
         "xaxis": "x2",
         "y": [
          0,
          0,
          0,
          20.9,
          0,
          0,
          0,
          0,
          0,
          0,
          0,
          0,
          20.9,
          20.9,
          18.581710708141326,
          15.653833681344985,
          0,
          0,
          0,
          0,
          0,
          0,
          0,
          20.9,
          null
         ],
         "yaxis": "y4"
        },
        {
         "legendgroup": "State of Charge",
         "legendgrouptitle": {
          "text": "State of Charge"
         },
         "marker": {
          "color": "teal",
          "line": {
           "width": 0
          },
          "opacity": 0.8
         },
         "name": "Requested - on departure",
         "showlegend": false,
         "type": "bar",
         "width": 0.5,
         "x": [
          6,
          15,
          22
         ],
         "xaxis": "x",
         "y": [
          1,
          1,
          1
         ],
         "yaxis": "y"
        },
        {
         "legendgroup": "State of Charge",
         "marker": {
          "color": "crimson",
          "line": {
           "width": 0
          },
          "opacity": 0.8
         },
         "name": "Initial - on arrival",
         "showlegend": false,
         "type": "bar",
         "width": 0.5,
         "x": [
          3,
          11,
          17
         ],
         "xaxis": "x",
         "y": [
          0.4082176597950292,
          0.584796791386045,
          0.5466430127995199
         ],
         "yaxis": "y"
        },
        {
         "legendgroup": "Predicted Charger SOC",
         "legendgrouptitle": {
          "text": "Predicted State of Charge"
         },
         "line": {
          "color": "darkturquoise",
          "shape": "linear"
         },
         "marker": {
          "size": 8,
          "symbol": "circle-dot"
         },
         "mode": "markers+lines",
         "name": "Value at timestep end",
         "showlegend": false,
         "type": "scatter",
         "xaxis": "x",
         "y": [
          0,
          0,
          0,
          0.5868501384275078,
          0.7654826170599864,
          0.894770917753531,
          1,
          0,
          0,
          0,
          0,
          0.8095279741817439,
          0.9540892518481435,
          0.9540892518481435,
          0.9540892518481435,
          0.9897874216704775,
          0,
          0.7515449735838335,
          0.9564469343681472,
          0.9564469343681472,
          1,
          1,
          1,
          0,
          0
         ],
         "yaxis": "y"
        },
        {
         "legendgroup": "Charger Action",
         "legendgrouptitle": {
          "text": "Charging Action"
         },
         "marker": {
          "color": "darkturquoise",
          "line": {
           "color": "darkturquoise",
           "width": 1
          },
          "opacity": 0.45,
          "pattern": {
           "fgcolor": "white",
           "fgopacity": 0.9,
           "shape": "",
           "size": 10
          }
         },
         "name": "Charger 0",
         "showlegend": true,
         "type": "bar",
         "xaxis": "x",
         "y": [
          1,
          1,
          1,
          1,
          1,
          0.7237670421600342,
          0.6261102557182312,
          0,
          1,
          1,
          1,
          1,
          0.6432631015777588,
          0,
          0,
          0.15884831547737122,
          0,
          1,
          1,
          0,
          0.5129817724227905,
          0.004356831312179565,
          0.12104025483131409,
          0,
          null
         ],
         "yaxis": "y"
        },
        {
         "legendgroup": "Charger Power",
         "legendgrouptitle": {
          "text": "Power Values"
         },
         "line": {
          "color": "darkorange",
          "shape": "linear"
         },
         "marker": {
          "size": 8,
          "symbol": "circle"
         },
         "mode": "markers",
         "name": "Charger 0",
         "showlegend": true,
         "type": "scatter",
         "xaxis": "x",
         "y": [
          0,
          0,
          0,
          20.9,
          20.9,
          15.126731181144713,
          13.085704344511031,
          0,
          0,
          0,
          0,
          20.9,
          13.444198822975158,
          0,
          0,
          3.3199297934770584,
          0,
          20.9,
          20.9,
          0,
          10.721319043636322,
          0.09105777442455291,
          2.5297413259744643,
          0,
          null
         ],
         "yaxis": "y2"
        },
        {
         "fill": "tozeroy",
         "legendgroup": "Total Vehicle Penalty",
         "legendgrouptitle": {
          "text": "Total Vehicle Penalty"
         },
         "line": {
          "color": "crimson",
          "shape": "linear"
         },
         "marker": {
          "size": 8,
          "symbol": "circle"
         },
         "mode": "lines+markers",
         "name": "Value at timestep end",
         "showlegend": true,
         "type": "scatter",
         "xaxis": "x5",
         "y": [
          0,
          0,
          0,
          0,
          0,
          5.499840290103297,
          1.1073159750434134,
          0,
          0,
          0,
          5.017237916387826,
          5.017237916387826,
          0,
          0,
          26.016513140078086,
          12.432092501257117,
          4.837013661737965,
          0,
          0,
          0,
          0,
          0,
          0,
          0
         ],
         "yaxis": "y9"
        },
        {
         "legendgroup": "Total Battery Penalty",
         "legendgrouptitle": {
          "text": "Total Battery Penalty"
         },
         "marker": {
          "color": "crimson",
          "line": {
           "width": 0
          },
          "opacity": 0.8
         },
         "name": "Value at timestep end",
         "showlegend": false,
         "type": "bar",
         "width": 0.2,
         "x": [
          0,
          1,
          2,
          3,
          4,
          5,
          6,
          7,
          8,
          9,
          10,
          11,
          12,
          13,
          14,
          15,
          16,
          17,
          18,
          19,
          20,
          21,
          22,
          23
         ],
         "xaxis": "x5",
         "y": [
          0,
          0,
          0,
          0,
          0,
          5.499840290103297,
          1.1073159750434134,
          0,
          0,
          0,
          5.017237916387826,
          5.017237916387826,
          0,
          0,
          26.016513140078086,
          12.432092501257117,
          4.837013661737965,
          0,
          0,
          0,
          0,
          0,
          0,
          0
         ],
         "yaxis": "y9"
        }
       ],
       "layout": {
        "annotations": [
         {
          "font": {
           "color": "grey",
           "size": 13
          },
          "opacity": 0.9,
          "showarrow": false,
          "text": "<i>Charger 0</i>",
          "textangle": 0,
          "x": 23,
          "xref": "x",
          "y": 1.2,
          "yref": "y"
         },
         {
          "font": {
           "color": "grey",
           "size": 13
          },
          "opacity": 0.9,
          "showarrow": false,
          "text": "<i>Charger 1</i>",
          "textangle": 0,
          "x": 23,
          "xref": "x2",
          "y": 1.2,
          "yref": "y3"
         },
         {
          "font": {
           "color": "grey",
           "size": 13
          },
          "opacity": 0.9,
          "showarrow": false,
          "text": "<i>Charger 2</i>",
          "textangle": 0,
          "x": 23,
          "xref": "x3",
          "y": 1.2,
          "yref": "y5"
         },
         {
          "font": {
           "color": "grey",
           "size": 13
          },
          "opacity": 0.9,
          "showarrow": false,
          "text": "<i>Charger 3</i>",
          "textangle": 0,
          "x": 23,
          "xref": "x4",
          "y": 1.2,
          "yref": "y7"
         },
         {
          "font": {
           "size": 14
          },
          "showarrow": false,
          "text": "State of Charge - Action Value",
          "textangle": -90,
          "x": -0.14,
          "xref": "paper",
          "y": 0.65,
          "yanchor": "middle",
          "yref": "paper"
         },
         {
          "font": {
           "size": 14
          },
          "showarrow": false,
          "text": "Power [kW]",
          "textangle": -90,
          "x": 1.04,
          "xref": "paper",
          "y": 0.65,
          "yref": "paper"
         },
         {
          "font": {
           "size": 14
          },
          "showarrow": false,
          "text": "Timestep (Hour) in a Day",
          "textangle": 0,
          "x": 0.46153846153846156,
          "xref": "paper",
          "y": -0.08,
          "yref": "paper"
         }
        ],
        "barmode": "overlay",
        "height": 890,
        "legend": {
         "x": 1.0833333333333333
        },
        "margin": {
         "autoexpand": true
        },
        "showlegend": true,
        "template": {
         "data": {
          "bar": [
           {
            "error_x": {
             "color": "#2a3f5f"
            },
            "error_y": {
             "color": "#2a3f5f"
            },
            "marker": {
             "line": {
              "color": "white",
              "width": 0.5
             },
             "pattern": {
              "fillmode": "overlay",
              "size": 10,
              "solidity": 0.2
             }
            },
            "type": "bar"
           }
          ],
          "barpolar": [
           {
            "marker": {
             "line": {
              "color": "white",
              "width": 0.5
             },
             "pattern": {
              "fillmode": "overlay",
              "size": 10,
              "solidity": 0.2
             }
            },
            "type": "barpolar"
           }
          ],
          "carpet": [
           {
            "aaxis": {
             "endlinecolor": "#2a3f5f",
             "gridcolor": "#C8D4E3",
             "linecolor": "#C8D4E3",
             "minorgridcolor": "#C8D4E3",
             "startlinecolor": "#2a3f5f"
            },
            "baxis": {
             "endlinecolor": "#2a3f5f",
             "gridcolor": "#C8D4E3",
             "linecolor": "#C8D4E3",
             "minorgridcolor": "#C8D4E3",
             "startlinecolor": "#2a3f5f"
            },
            "type": "carpet"
           }
          ],
          "choropleth": [
           {
            "colorbar": {
             "outlinewidth": 0,
             "ticks": ""
            },
            "type": "choropleth"
           }
          ],
          "contour": [
           {
            "colorbar": {
             "outlinewidth": 0,
             "ticks": ""
            },
            "colorscale": [
             [
              0,
              "#0d0887"
             ],
             [
              0.1111111111111111,
              "#46039f"
             ],
             [
              0.2222222222222222,
              "#7201a8"
             ],
             [
              0.3333333333333333,
              "#9c179e"
             ],
             [
              0.4444444444444444,
              "#bd3786"
             ],
             [
              0.5555555555555556,
              "#d8576b"
             ],
             [
              0.6666666666666666,
              "#ed7953"
             ],
             [
              0.7777777777777778,
              "#fb9f3a"
             ],
             [
              0.8888888888888888,
              "#fdca26"
             ],
             [
              1,
              "#f0f921"
             ]
            ],
            "type": "contour"
           }
          ],
          "contourcarpet": [
           {
            "colorbar": {
             "outlinewidth": 0,
             "ticks": ""
            },
            "type": "contourcarpet"
           }
          ],
          "heatmap": [
           {
            "colorbar": {
             "outlinewidth": 0,
             "ticks": ""
            },
            "colorscale": [
             [
              0,
              "#0d0887"
             ],
             [
              0.1111111111111111,
              "#46039f"
             ],
             [
              0.2222222222222222,
              "#7201a8"
             ],
             [
              0.3333333333333333,
              "#9c179e"
             ],
             [
              0.4444444444444444,
              "#bd3786"
             ],
             [
              0.5555555555555556,
              "#d8576b"
             ],
             [
              0.6666666666666666,
              "#ed7953"
             ],
             [
              0.7777777777777778,
              "#fb9f3a"
             ],
             [
              0.8888888888888888,
              "#fdca26"
             ],
             [
              1,
              "#f0f921"
             ]
            ],
            "type": "heatmap"
           }
          ],
          "heatmapgl": [
           {
            "colorbar": {
             "outlinewidth": 0,
             "ticks": ""
            },
            "colorscale": [
             [
              0,
              "#0d0887"
             ],
             [
              0.1111111111111111,
              "#46039f"
             ],
             [
              0.2222222222222222,
              "#7201a8"
             ],
             [
              0.3333333333333333,
              "#9c179e"
             ],
             [
              0.4444444444444444,
              "#bd3786"
             ],
             [
              0.5555555555555556,
              "#d8576b"
             ],
             [
              0.6666666666666666,
              "#ed7953"
             ],
             [
              0.7777777777777778,
              "#fb9f3a"
             ],
             [
              0.8888888888888888,
              "#fdca26"
             ],
             [
              1,
              "#f0f921"
             ]
            ],
            "type": "heatmapgl"
           }
          ],
          "histogram": [
           {
            "marker": {
             "pattern": {
              "fillmode": "overlay",
              "size": 10,
              "solidity": 0.2
             }
            },
            "type": "histogram"
           }
          ],
          "histogram2d": [
           {
            "colorbar": {
             "outlinewidth": 0,
             "ticks": ""
            },
            "colorscale": [
             [
              0,
              "#0d0887"
             ],
             [
              0.1111111111111111,
              "#46039f"
             ],
             [
              0.2222222222222222,
              "#7201a8"
             ],
             [
              0.3333333333333333,
              "#9c179e"
             ],
             [
              0.4444444444444444,
              "#bd3786"
             ],
             [
              0.5555555555555556,
              "#d8576b"
             ],
             [
              0.6666666666666666,
              "#ed7953"
             ],
             [
              0.7777777777777778,
              "#fb9f3a"
             ],
             [
              0.8888888888888888,
              "#fdca26"
             ],
             [
              1,
              "#f0f921"
             ]
            ],
            "type": "histogram2d"
           }
          ],
          "histogram2dcontour": [
           {
            "colorbar": {
             "outlinewidth": 0,
             "ticks": ""
            },
            "colorscale": [
             [
              0,
              "#0d0887"
             ],
             [
              0.1111111111111111,
              "#46039f"
             ],
             [
              0.2222222222222222,
              "#7201a8"
             ],
             [
              0.3333333333333333,
              "#9c179e"
             ],
             [
              0.4444444444444444,
              "#bd3786"
             ],
             [
              0.5555555555555556,
              "#d8576b"
             ],
             [
              0.6666666666666666,
              "#ed7953"
             ],
             [
              0.7777777777777778,
              "#fb9f3a"
             ],
             [
              0.8888888888888888,
              "#fdca26"
             ],
             [
              1,
              "#f0f921"
             ]
            ],
            "type": "histogram2dcontour"
           }
          ],
          "mesh3d": [
           {
            "colorbar": {
             "outlinewidth": 0,
             "ticks": ""
            },
            "type": "mesh3d"
           }
          ],
          "parcoords": [
           {
            "line": {
             "colorbar": {
              "outlinewidth": 0,
              "ticks": ""
             }
            },
            "type": "parcoords"
           }
          ],
          "pie": [
           {
            "automargin": true,
            "type": "pie"
           }
          ],
          "scatter": [
           {
            "fillpattern": {
             "fillmode": "overlay",
             "size": 10,
             "solidity": 0.2
            },
            "type": "scatter"
           }
          ],
          "scatter3d": [
           {
            "line": {
             "colorbar": {
              "outlinewidth": 0,
              "ticks": ""
             }
            },
            "marker": {
             "colorbar": {
              "outlinewidth": 0,
              "ticks": ""
             }
            },
            "type": "scatter3d"
           }
          ],
          "scattercarpet": [
           {
            "marker": {
             "colorbar": {
              "outlinewidth": 0,
              "ticks": ""
             }
            },
            "type": "scattercarpet"
           }
          ],
          "scattergeo": [
           {
            "marker": {
             "colorbar": {
              "outlinewidth": 0,
              "ticks": ""
             }
            },
            "type": "scattergeo"
           }
          ],
          "scattergl": [
           {
            "marker": {
             "colorbar": {
              "outlinewidth": 0,
              "ticks": ""
             }
            },
            "type": "scattergl"
           }
          ],
          "scattermapbox": [
           {
            "marker": {
             "colorbar": {
              "outlinewidth": 0,
              "ticks": ""
             }
            },
            "type": "scattermapbox"
           }
          ],
          "scatterpolar": [
           {
            "marker": {
             "colorbar": {
              "outlinewidth": 0,
              "ticks": ""
             }
            },
            "type": "scatterpolar"
           }
          ],
          "scatterpolargl": [
           {
            "marker": {
             "colorbar": {
              "outlinewidth": 0,
              "ticks": ""
             }
            },
            "type": "scatterpolargl"
           }
          ],
          "scatterternary": [
           {
            "marker": {
             "colorbar": {
              "outlinewidth": 0,
              "ticks": ""
             }
            },
            "type": "scatterternary"
           }
          ],
          "surface": [
           {
            "colorbar": {
             "outlinewidth": 0,
             "ticks": ""
            },
            "colorscale": [
             [
              0,
              "#0d0887"
             ],
             [
              0.1111111111111111,
              "#46039f"
             ],
             [
              0.2222222222222222,
              "#7201a8"
             ],
             [
              0.3333333333333333,
              "#9c179e"
             ],
             [
              0.4444444444444444,
              "#bd3786"
             ],
             [
              0.5555555555555556,
              "#d8576b"
             ],
             [
              0.6666666666666666,
              "#ed7953"
             ],
             [
              0.7777777777777778,
              "#fb9f3a"
             ],
             [
              0.8888888888888888,
              "#fdca26"
             ],
             [
              1,
              "#f0f921"
             ]
            ],
            "type": "surface"
           }
          ],
          "table": [
           {
            "cells": {
             "fill": {
              "color": "#EBF0F8"
             },
             "line": {
              "color": "white"
             }
            },
            "header": {
             "fill": {
              "color": "#C8D4E3"
             },
             "line": {
              "color": "white"
             }
            },
            "type": "table"
           }
          ]
         },
         "layout": {
          "annotationdefaults": {
           "arrowcolor": "#2a3f5f",
           "arrowhead": 0,
           "arrowwidth": 1
          },
          "autotypenumbers": "strict",
          "coloraxis": {
           "colorbar": {
            "outlinewidth": 0,
            "ticks": ""
           }
          },
          "colorscale": {
           "diverging": [
            [
             0,
             "#8e0152"
            ],
            [
             0.1,
             "#c51b7d"
            ],
            [
             0.2,
             "#de77ae"
            ],
            [
             0.3,
             "#f1b6da"
            ],
            [
             0.4,
             "#fde0ef"
            ],
            [
             0.5,
             "#f7f7f7"
            ],
            [
             0.6,
             "#e6f5d0"
            ],
            [
             0.7,
             "#b8e186"
            ],
            [
             0.8,
             "#7fbc41"
            ],
            [
             0.9,
             "#4d9221"
            ],
            [
             1,
             "#276419"
            ]
           ],
           "sequential": [
            [
             0,
             "#0d0887"
            ],
            [
             0.1111111111111111,
             "#46039f"
            ],
            [
             0.2222222222222222,
             "#7201a8"
            ],
            [
             0.3333333333333333,
             "#9c179e"
            ],
            [
             0.4444444444444444,
             "#bd3786"
            ],
            [
             0.5555555555555556,
             "#d8576b"
            ],
            [
             0.6666666666666666,
             "#ed7953"
            ],
            [
             0.7777777777777778,
             "#fb9f3a"
            ],
            [
             0.8888888888888888,
             "#fdca26"
            ],
            [
             1,
             "#f0f921"
            ]
           ],
           "sequentialminus": [
            [
             0,
             "#0d0887"
            ],
            [
             0.1111111111111111,
             "#46039f"
            ],
            [
             0.2222222222222222,
             "#7201a8"
            ],
            [
             0.3333333333333333,
             "#9c179e"
            ],
            [
             0.4444444444444444,
             "#bd3786"
            ],
            [
             0.5555555555555556,
             "#d8576b"
            ],
            [
             0.6666666666666666,
             "#ed7953"
            ],
            [
             0.7777777777777778,
             "#fb9f3a"
            ],
            [
             0.8888888888888888,
             "#fdca26"
            ],
            [
             1,
             "#f0f921"
            ]
           ]
          },
          "colorway": [
           "#636efa",
           "#EF553B",
           "#00cc96",
           "#ab63fa",
           "#FFA15A",
           "#19d3f3",
           "#FF6692",
           "#B6E880",
           "#FF97FF",
           "#FECB52"
          ],
          "font": {
           "color": "#2a3f5f"
          },
          "geo": {
           "bgcolor": "white",
           "lakecolor": "white",
           "landcolor": "white",
           "showlakes": true,
           "showland": true,
           "subunitcolor": "#C8D4E3"
          },
          "hoverlabel": {
           "align": "left"
          },
          "hovermode": "closest",
          "mapbox": {
           "style": "light"
          },
          "paper_bgcolor": "white",
          "plot_bgcolor": "white",
          "polar": {
           "angularaxis": {
            "gridcolor": "#EBF0F8",
            "linecolor": "#EBF0F8",
            "ticks": ""
           },
           "bgcolor": "white",
           "radialaxis": {
            "gridcolor": "#EBF0F8",
            "linecolor": "#EBF0F8",
            "ticks": ""
           }
          },
          "scene": {
           "xaxis": {
            "backgroundcolor": "white",
            "gridcolor": "#DFE8F3",
            "gridwidth": 2,
            "linecolor": "#EBF0F8",
            "showbackground": true,
            "ticks": "",
            "zerolinecolor": "#EBF0F8"
           },
           "yaxis": {
            "backgroundcolor": "white",
            "gridcolor": "#DFE8F3",
            "gridwidth": 2,
            "linecolor": "#EBF0F8",
            "showbackground": true,
            "ticks": "",
            "zerolinecolor": "#EBF0F8"
           },
           "zaxis": {
            "backgroundcolor": "white",
            "gridcolor": "#DFE8F3",
            "gridwidth": 2,
            "linecolor": "#EBF0F8",
            "showbackground": true,
            "ticks": "",
            "zerolinecolor": "#EBF0F8"
           }
          },
          "shapedefaults": {
           "line": {
            "color": "#2a3f5f"
           }
          },
          "ternary": {
           "aaxis": {
            "gridcolor": "#DFE8F3",
            "linecolor": "#A2B1C6",
            "ticks": ""
           },
           "baxis": {
            "gridcolor": "#DFE8F3",
            "linecolor": "#A2B1C6",
            "ticks": ""
           },
           "bgcolor": "white",
           "caxis": {
            "gridcolor": "#DFE8F3",
            "linecolor": "#A2B1C6",
            "ticks": ""
           }
          },
          "title": {
           "x": 0.05
          },
          "xaxis": {
           "automargin": true,
           "gridcolor": "#EBF0F8",
           "linecolor": "#EBF0F8",
           "ticks": "",
           "title": {
            "standoff": 15
           },
           "zerolinecolor": "#EBF0F8",
           "zerolinewidth": 2
          },
          "yaxis": {
           "automargin": true,
           "gridcolor": "#EBF0F8",
           "linecolor": "#EBF0F8",
           "ticks": "",
           "title": {
            "standoff": 15
           },
           "zerolinecolor": "#EBF0F8",
           "zerolinewidth": 2
          }
         }
        },
        "title": {
         "font": {
          "size": 24
         },
         "text": "Predicted State of Charge with Action and Power Values",
         "x": 0.5,
         "xanchor": "center",
         "y": 0.92
        },
        "width": 880,
        "xaxis": {
         "anchor": "y",
         "domain": [
          0,
          0.94
         ],
         "griddash": "dot",
         "matches": "x5",
         "range": [
          -0.4,
          24.2
         ],
         "showticklabels": false,
         "tickformat": "",
         "ticktext": [
          "0",
          "1",
          "2",
          "3",
          "4",
          "5",
          "6",
          "7",
          "8",
          "9",
          "10",
          "11",
          "12",
          "13",
          "14",
          "15",
          "16",
          "17",
          "18",
          "19",
          "20",
          "21",
          "22",
          "23",
          "0",
          "1",
          "2",
          "3"
         ],
         "tickvals": [
          0,
          1,
          2,
          3,
          4,
          5,
          6,
          7,
          8,
          9,
          10,
          11,
          12,
          13,
          14,
          15,
          16,
          17,
          18,
          19,
          20,
          21,
          22,
          23,
          24,
          25,
          26,
          27
         ]
        },
        "xaxis2": {
         "anchor": "y3",
         "domain": [
          0,
          0.94
         ],
         "griddash": "dot",
         "matches": "x5",
         "range": [
          -0.4,
          24.2
         ],
         "showticklabels": false,
         "tickformat": "",
         "ticktext": [
          "0",
          "1",
          "2",
          "3",
          "4",
          "5",
          "6",
          "7",
          "8",
          "9",
          "10",
          "11",
          "12",
          "13",
          "14",
          "15",
          "16",
          "17",
          "18",
          "19",
          "20",
          "21",
          "22",
          "23",
          "0",
          "1",
          "2",
          "3"
         ],
         "tickvals": [
          0,
          1,
          2,
          3,
          4,
          5,
          6,
          7,
          8,
          9,
          10,
          11,
          12,
          13,
          14,
          15,
          16,
          17,
          18,
          19,
          20,
          21,
          22,
          23,
          24,
          25,
          26,
          27
         ]
        },
        "xaxis3": {
         "anchor": "y5",
         "domain": [
          0,
          0.94
         ],
         "griddash": "dot",
         "matches": "x5",
         "range": [
          -0.4,
          24.2
         ],
         "showticklabels": false,
         "tickformat": "",
         "ticktext": [
          "0",
          "1",
          "2",
          "3",
          "4",
          "5",
          "6",
          "7",
          "8",
          "9",
          "10",
          "11",
          "12",
          "13",
          "14",
          "15",
          "16",
          "17",
          "18",
          "19",
          "20",
          "21",
          "22",
          "23",
          "0",
          "1",
          "2",
          "3"
         ],
         "tickvals": [
          0,
          1,
          2,
          3,
          4,
          5,
          6,
          7,
          8,
          9,
          10,
          11,
          12,
          13,
          14,
          15,
          16,
          17,
          18,
          19,
          20,
          21,
          22,
          23,
          24,
          25,
          26,
          27
         ]
        },
        "xaxis4": {
         "anchor": "y7",
         "domain": [
          0,
          0.94
         ],
         "griddash": "dot",
         "matches": "x5",
         "range": [
          -0.4,
          24.2
         ],
         "showticklabels": true,
         "tickformat": "",
         "ticktext": [
          "0",
          "1",
          "2",
          "3",
          "4",
          "5",
          "6",
          "7",
          "8",
          "9",
          "10",
          "11",
          "12",
          "13",
          "14",
          "15",
          "16",
          "17",
          "18",
          "19",
          "20",
          "21",
          "22",
          "23",
          "0",
          "1",
          "2",
          "3"
         ],
         "tickvals": [
          0,
          1,
          2,
          3,
          4,
          5,
          6,
          7,
          8,
          9,
          10,
          11,
          12,
          13,
          14,
          15,
          16,
          17,
          18,
          19,
          20,
          21,
          22,
          23,
          24,
          25,
          26,
          27
         ]
        },
        "xaxis5": {
         "anchor": "y9",
         "domain": [
          0,
          0.94
         ],
         "griddash": "dot",
         "range": [
          -0.4,
          24.2
         ],
         "tickformat": "",
         "ticktext": [
          "0",
          "1",
          "2",
          "3",
          "4",
          "5",
          "6",
          "7",
          "8",
          "9",
          "10",
          "11",
          "12",
          "13",
          "14",
          "15",
          "16",
          "17",
          "18",
          "19",
          "20",
          "21",
          "22",
          "23",
          "0",
          "1",
          "2",
          "3"
         ],
         "tickvals": [
          0,
          1,
          2,
          3,
          4,
          5,
          6,
          7,
          8,
          9,
          10,
          11,
          12,
          13,
          14,
          15,
          16,
          17,
          18,
          19,
          20,
          21,
          22,
          23,
          24,
          25,
          26,
          27
         ]
        },
        "yaxis": {
         "anchor": "x",
         "domain": [
          0.8572000000000001,
          1
         ],
         "dtick": 0.2,
         "nticks": 5,
         "range": [
          0,
          1.1
         ],
         "tickformat": " ,~",
         "title": {
          "text": ""
         }
        },
        "yaxis10": {
         "anchor": "x5",
         "overlaying": "y9",
         "side": "right"
        },
        "yaxis2": {
         "anchor": "x",
         "dtick": 4,
         "nticks": 5,
         "overlaying": "y",
         "range": [
          0,
          22
         ],
         "side": "right",
         "tickformat": " ,~"
        },
        "yaxis3": {
         "anchor": "x2",
         "domain": [
          0.6744,
          0.8172
         ],
         "dtick": 0.25,
         "nticks": 5,
         "range": [
          0,
          1.1
         ],
         "tickformat": " ,~"
        },
        "yaxis4": {
         "anchor": "x2",
         "dtick": 4,
         "nticks": 5,
         "overlaying": "y3",
         "range": [
          0,
          22
         ],
         "side": "right",
         "tickformat": " ,~"
        },
        "yaxis5": {
         "anchor": "x3",
         "domain": [
          0.4916,
          0.6344
         ],
         "dtick": 0.25,
         "nticks": 5,
         "range": [
          0,
          1.1
         ],
         "tickformat": " ,~"
        },
        "yaxis6": {
         "anchor": "x3",
         "dtick": 4,
         "nticks": 5,
         "overlaying": "y5",
         "range": [
          0,
          22
         ],
         "side": "right",
         "tickformat": " ,~"
        },
        "yaxis7": {
         "anchor": "x4",
         "domain": [
          0.30879999999999996,
          0.4516
         ],
         "dtick": 0.25,
         "nticks": 5,
         "range": [
          0,
          1.1
         ],
         "tickformat": " ,~"
        },
        "yaxis8": {
         "anchor": "x4",
         "dtick": 4,
         "nticks": 5,
         "overlaying": "y7",
         "range": [
          0,
          22
         ],
         "side": "right",
         "tickformat": " ,~"
        },
        "yaxis9": {
         "anchor": "x5",
         "domain": [
          0,
          0.2688
         ],
         "nticks": 9,
         "tickformat": " ,~g",
         "title": {
          "text": "Penalty Value "
         },
         "type": "linear"
        }
       }
      },
      "text/html": [
       "<div>                            <div id=\"720102a1-39ca-4444-aeed-49567340efd3\" class=\"plotly-graph-div\" style=\"height:890px; width:880px;\"></div>            <script type=\"text/javascript\">                require([\"plotly\"], function(Plotly) {                    window.PLOTLYENV=window.PLOTLYENV || {};                                    if (document.getElementById(\"720102a1-39ca-4444-aeed-49567340efd3\")) {                    Plotly.newPlot(                        \"720102a1-39ca-4444-aeed-49567340efd3\",                        [{\"legendgroup\":\"State of Charge\",\"legendgrouptitle\":{\"text\":\"State of Charge\"},\"marker\":{\"color\":\"teal\",\"line\":{\"width\":0},\"opacity\":0.8},\"name\":\"Requested - on departure\",\"showlegend\":true,\"width\":0.5,\"x\":[6.0,11.0,23.0],\"y\":[1.0,1.0,1.0],\"type\":\"bar\",\"xaxis\":\"x4\",\"yaxis\":\"y7\"},{\"legendgroup\":\"State of Charge\",\"marker\":{\"color\":\"crimson\",\"line\":{\"width\":0},\"opacity\":0.8},\"name\":\"Initial - on arrival\",\"showlegend\":true,\"width\":0.5,\"x\":[1.0,8.0,15.0],\"y\":[0.5545773557281773,0.4682768697844314,0.7754137082496945],\"type\":\"bar\",\"xaxis\":\"x4\",\"yaxis\":\"y7\"},{\"legendgroup\":\"Predicted Charger SOC\",\"legendgrouptitle\":{\"text\":\"Predicted State of Charge\"},\"line\":{\"color\":\"darkturquoise\",\"shape\":\"linear\"},\"marker\":{\"size\":8,\"symbol\":\"circle-dot\"},\"mode\":\"markers+lines\",\"name\":\"Value at timestep end\",\"showlegend\":true,\"y\":[0.0,1.0,1.0,1.0,1.0,1.0,1.0,0.0,0.650016000219214,0.7760080823693001,0.7760080823693001,0.9577472128040827,0.0,0.0,0.0,1.0,1.0,1.0,1.0,1.0,1.0,1.0,1.0,1.0,0.0],\"type\":\"scatter\",\"xaxis\":\"x4\",\"yaxis\":\"y7\"},{\"legendgroup\":\"Charger Action\",\"legendgrouptitle\":{\"text\":\"Charging Action\"},\"marker\":{\"color\":\"darkturquoise\",\"line\":{\"color\":\"darkturquoise\",\"width\":1},\"opacity\":0.45,\"pattern\":{\"fgcolor\":\"white\",\"fgopacity\":0.9,\"shape\":\"+\",\"size\":10}},\"name\":\"Charger 3\",\"showlegend\":true,\"y\":[1.0,1.0,0.17426028847694397,0.0,0.0,0.0,0.0,0.0,1.0,0.6932578682899475,0.0,1.0,0.5324535369873047,1.0,1.0,1.0,0.34921789169311523,0.32274192571640015,0.3289710283279419,0.15970832109451294,0.0,0.0,0.0,0.0,null],\"type\":\"bar\",\"xaxis\":\"x4\",\"yaxis\":\"y7\"},{\"legendgroup\":\"Charger Power\",\"legendgrouptitle\":{\"text\":\"Power Values\"},\"line\":{\"color\":\"darkorange\",\"shape\":\"linear\"},\"marker\":{\"size\":8,\"symbol\":\"square\"},\"mode\":\"markers\",\"name\":\"Charger 3\",\"showlegend\":true,\"y\":[0.0,20.9,3.642040029168129,0.0,0.0,0.0,0.0,0.0,20.9,14.489089447259902,0.0,20.9,0.0,0.0,0.0,20.9,7.298653936386108,6.7453062474727625,6.875494492053985,3.3379039108753203,0.0,0.0,0.0,0.0,null],\"type\":\"scatter\",\"xaxis\":\"x4\",\"yaxis\":\"y8\"},{\"legendgroup\":\"State of Charge\",\"legendgrouptitle\":{\"text\":\"State of Charge\"},\"marker\":{\"color\":\"teal\",\"line\":{\"width\":0},\"opacity\":0.8},\"name\":\"Requested - on departure\",\"showlegend\":false,\"width\":0.5,\"x\":[11.0,23.0],\"y\":[1.0,1.0],\"type\":\"bar\",\"xaxis\":\"x3\",\"yaxis\":\"y5\"},{\"legendgroup\":\"State of Charge\",\"marker\":{\"color\":\"crimson\",\"line\":{\"width\":0},\"opacity\":0.8},\"name\":\"Initial - on arrival\",\"showlegend\":false,\"width\":0.5,\"x\":[7.0,17.0],\"y\":[0.7387046499095048,0.8600226168892612],\"type\":\"bar\",\"xaxis\":\"x3\",\"yaxis\":\"y5\"},{\"legendgroup\":\"Predicted Charger SOC\",\"legendgrouptitle\":{\"text\":\"Predicted State of Charge\"},\"line\":{\"color\":\"darkturquoise\",\"shape\":\"linear\"},\"marker\":{\"size\":8,\"symbol\":\"circle-dot\"},\"mode\":\"markers+lines\",\"name\":\"Value at timestep end\",\"showlegend\":false,\"y\":[0.0,0.0,0.0,0.0,0.0,0.0,0.0,1.0,1.0,1.0,1.0,1.0,0.0,0.0,0.0,0.0,0.0,1.0,1.0,1.0,1.0,1.0,1.0,1.0,0.0],\"type\":\"scatter\",\"xaxis\":\"x3\",\"yaxis\":\"y5\"},{\"legendgroup\":\"Charger Action\",\"legendgrouptitle\":{\"text\":\"Charging Action\"},\"marker\":{\"color\":\"darkturquoise\",\"line\":{\"color\":\"darkturquoise\",\"width\":1},\"opacity\":0.45,\"pattern\":{\"fgcolor\":\"white\",\"fgopacity\":0.9,\"shape\":\"\\\\\",\"size\":10}},\"name\":\"Charger 2\",\"showlegend\":true,\"y\":[1.0,1.0,1.0,1.0,1.0,1.0,1.0,1.0,0.003177747130393982,0.0,0.5466820597648621,0.0965396910905838,0.0,1.0,1.0,1.0,1.0,1.0,0.0,0.0,0.0,0.0,0.0,0.0,null],\"type\":\"bar\",\"xaxis\":\"x3\",\"yaxis\":\"y5\"},{\"legendgroup\":\"Charger Power\",\"legendgrouptitle\":{\"text\":\"Power Values\"},\"line\":{\"color\":\"darkorange\",\"shape\":\"linear\"},\"marker\":{\"size\":8,\"symbol\":\"diamond\"},\"mode\":\"markers\",\"name\":\"Charger 2\",\"showlegend\":true,\"y\":[0.0,0.0,0.0,0.0,0.0,0.0,0.0,20.9,0.06641491502523422,0.0,11.425655049085616,2.0176795437932014,0.0,0.0,0.0,0.0,0.0,20.9,0.0,0.0,0.0,0.0,0.0,0.0,null],\"type\":\"scatter\",\"xaxis\":\"x3\",\"yaxis\":\"y6\"},{\"legendgroup\":\"State of Charge\",\"legendgrouptitle\":{\"text\":\"State of Charge\"},\"marker\":{\"color\":\"teal\",\"line\":{\"width\":0},\"opacity\":0.8},\"name\":\"Requested - on departure\",\"showlegend\":false,\"width\":0.5,\"x\":[9.0,15.0,26.0],\"y\":[1.0,1.0,1.0],\"type\":\"bar\",\"xaxis\":\"x2\",\"yaxis\":\"y3\"},{\"legendgroup\":\"State of Charge\",\"marker\":{\"color\":\"crimson\",\"line\":{\"width\":0},\"opacity\":0.8},\"name\":\"Initial - on arrival\",\"showlegend\":false,\"width\":0.5,\"x\":[3.0,12.0,23.0],\"y\":[0.7195966747064518,0.1356988615468403,0.8198646425873081],\"type\":\"bar\",\"xaxis\":\"x2\",\"yaxis\":\"y3\"},{\"legendgroup\":\"Predicted Charger SOC\",\"legendgrouptitle\":{\"text\":\"Predicted State of Charge\"},\"line\":{\"color\":\"darkturquoise\",\"shape\":\"linear\"},\"marker\":{\"size\":8,\"symbol\":\"circle-dot\"},\"mode\":\"markers+lines\",\"name\":\"Value at timestep end\",\"showlegend\":false,\"y\":[0.0,0.0,0.0,1.0,1.0,1.0,1.0,1.0,1.0,1.0,0.0,0.0,0.3128175056146369,0.4899361496824335,0.647408274327699,0.7800678817967243,0.0,0.0,0.0,0.0,0.0,0.0,0.0,1.0,0.0],\"type\":\"scatter\",\"xaxis\":\"x2\",\"yaxis\":\"y3\"},{\"legendgroup\":\"Charger Action\",\"legendgrouptitle\":{\"text\":\"Charging Action\"},\"marker\":{\"color\":\"darkturquoise\",\"line\":{\"color\":\"darkturquoise\",\"width\":1},\"opacity\":0.45,\"pattern\":{\"fgcolor\":\"white\",\"fgopacity\":0.9,\"shape\":\"/\",\"size\":10}},\"name\":\"Charger 1\",\"showlegend\":true,\"y\":[1.0,1.0,1.0,1.0,0.0,0.0,0.0,0.0,0.0,0.0,0.006581813097000122,1.0,1.0,1.0,0.8890770673751831,0.7489872574806213,0.8308936953544617,1.0,1.0,1.0,1.0,1.0,1.0,1.0,null],\"type\":\"bar\",\"xaxis\":\"x2\",\"yaxis\":\"y3\"},{\"legendgroup\":\"Charger Power\",\"legendgrouptitle\":{\"text\":\"Power Values\"},\"line\":{\"color\":\"darkorange\",\"shape\":\"linear\"},\"marker\":{\"size\":8,\"symbol\":\"cross\"},\"mode\":\"markers\",\"name\":\"Charger 1\",\"showlegend\":true,\"y\":[0.0,0.0,0.0,20.9,0.0,0.0,0.0,0.0,0.0,0.0,0.0,0.0,20.9,20.9,18.581710708141326,15.653833681344985,0.0,0.0,0.0,0.0,0.0,0.0,0.0,20.9,null],\"type\":\"scatter\",\"xaxis\":\"x2\",\"yaxis\":\"y4\"},{\"legendgroup\":\"State of Charge\",\"legendgrouptitle\":{\"text\":\"State of Charge\"},\"marker\":{\"color\":\"teal\",\"line\":{\"width\":0},\"opacity\":0.8},\"name\":\"Requested - on departure\",\"showlegend\":false,\"width\":0.5,\"x\":[6.0,15.0,22.0],\"y\":[1.0,1.0,1.0],\"type\":\"bar\",\"xaxis\":\"x\",\"yaxis\":\"y\"},{\"legendgroup\":\"State of Charge\",\"marker\":{\"color\":\"crimson\",\"line\":{\"width\":0},\"opacity\":0.8},\"name\":\"Initial - on arrival\",\"showlegend\":false,\"width\":0.5,\"x\":[3.0,11.0,17.0],\"y\":[0.4082176597950292,0.584796791386045,0.5466430127995199],\"type\":\"bar\",\"xaxis\":\"x\",\"yaxis\":\"y\"},{\"legendgroup\":\"Predicted Charger SOC\",\"legendgrouptitle\":{\"text\":\"Predicted State of Charge\"},\"line\":{\"color\":\"darkturquoise\",\"shape\":\"linear\"},\"marker\":{\"size\":8,\"symbol\":\"circle-dot\"},\"mode\":\"markers+lines\",\"name\":\"Value at timestep end\",\"showlegend\":false,\"y\":[0.0,0.0,0.0,0.5868501384275078,0.7654826170599864,0.894770917753531,1.0,0.0,0.0,0.0,0.0,0.8095279741817439,0.9540892518481435,0.9540892518481435,0.9540892518481435,0.9897874216704775,0.0,0.7515449735838335,0.9564469343681472,0.9564469343681472,1.0,1.0,1.0,0.0,0.0],\"type\":\"scatter\",\"xaxis\":\"x\",\"yaxis\":\"y\"},{\"legendgroup\":\"Charger Action\",\"legendgrouptitle\":{\"text\":\"Charging Action\"},\"marker\":{\"color\":\"darkturquoise\",\"line\":{\"color\":\"darkturquoise\",\"width\":1},\"opacity\":0.45,\"pattern\":{\"fgcolor\":\"white\",\"fgopacity\":0.9,\"shape\":\"\",\"size\":10}},\"name\":\"Charger 0\",\"showlegend\":true,\"y\":[1.0,1.0,1.0,1.0,1.0,0.7237670421600342,0.6261102557182312,0.0,1.0,1.0,1.0,1.0,0.6432631015777588,0.0,0.0,0.15884831547737122,0.0,1.0,1.0,0.0,0.5129817724227905,0.004356831312179565,0.12104025483131409,0.0,null],\"type\":\"bar\",\"xaxis\":\"x\",\"yaxis\":\"y\"},{\"legendgroup\":\"Charger Power\",\"legendgrouptitle\":{\"text\":\"Power Values\"},\"line\":{\"color\":\"darkorange\",\"shape\":\"linear\"},\"marker\":{\"size\":8,\"symbol\":\"circle\"},\"mode\":\"markers\",\"name\":\"Charger 0\",\"showlegend\":true,\"y\":[0.0,0.0,0.0,20.9,20.9,15.126731181144713,13.085704344511031,0.0,0.0,0.0,0.0,20.9,13.444198822975158,0.0,0.0,3.3199297934770584,0.0,20.9,20.9,0.0,10.721319043636322,0.09105777442455291,2.5297413259744643,0.0,null],\"type\":\"scatter\",\"xaxis\":\"x\",\"yaxis\":\"y2\"},{\"fill\":\"tozeroy\",\"legendgroup\":\"Total Vehicle Penalty\",\"legendgrouptitle\":{\"text\":\"Total Vehicle Penalty\"},\"line\":{\"color\":\"crimson\",\"shape\":\"linear\"},\"marker\":{\"size\":8,\"symbol\":\"circle\"},\"mode\":\"lines+markers\",\"name\":\"Value at timestep end\",\"showlegend\":true,\"y\":[0.0,0.0,0.0,0.0,0.0,5.499840290103297,1.1073159750434134,0.0,0.0,0.0,5.017237916387826,5.017237916387826,0.0,0.0,26.016513140078086,12.432092501257117,4.837013661737965,0.0,0.0,0.0,0.0,0.0,0.0,0.0],\"type\":\"scatter\",\"xaxis\":\"x5\",\"yaxis\":\"y9\"},{\"legendgroup\":\"Total Battery Penalty\",\"legendgrouptitle\":{\"text\":\"Total Battery Penalty\"},\"marker\":{\"color\":\"crimson\",\"line\":{\"width\":0},\"opacity\":0.8},\"name\":\"Value at timestep end\",\"showlegend\":false,\"width\":0.2,\"x\":[0,1,2,3,4,5,6,7,8,9,10,11,12,13,14,15,16,17,18,19,20,21,22,23],\"y\":[0.0,0.0,0.0,0.0,0.0,5.499840290103297,1.1073159750434134,0.0,0.0,0.0,5.017237916387826,5.017237916387826,0.0,0.0,26.016513140078086,12.432092501257117,4.837013661737965,0.0,0.0,0.0,0.0,0.0,0.0,0.0],\"type\":\"bar\",\"xaxis\":\"x5\",\"yaxis\":\"y9\"}],                        {\"template\":{\"data\":{\"histogram2dcontour\":[{\"type\":\"histogram2dcontour\",\"colorbar\":{\"outlinewidth\":0,\"ticks\":\"\"},\"colorscale\":[[0.0,\"#0d0887\"],[0.1111111111111111,\"#46039f\"],[0.2222222222222222,\"#7201a8\"],[0.3333333333333333,\"#9c179e\"],[0.4444444444444444,\"#bd3786\"],[0.5555555555555556,\"#d8576b\"],[0.6666666666666666,\"#ed7953\"],[0.7777777777777778,\"#fb9f3a\"],[0.8888888888888888,\"#fdca26\"],[1.0,\"#f0f921\"]]}],\"choropleth\":[{\"type\":\"choropleth\",\"colorbar\":{\"outlinewidth\":0,\"ticks\":\"\"}}],\"histogram2d\":[{\"type\":\"histogram2d\",\"colorbar\":{\"outlinewidth\":0,\"ticks\":\"\"},\"colorscale\":[[0.0,\"#0d0887\"],[0.1111111111111111,\"#46039f\"],[0.2222222222222222,\"#7201a8\"],[0.3333333333333333,\"#9c179e\"],[0.4444444444444444,\"#bd3786\"],[0.5555555555555556,\"#d8576b\"],[0.6666666666666666,\"#ed7953\"],[0.7777777777777778,\"#fb9f3a\"],[0.8888888888888888,\"#fdca26\"],[1.0,\"#f0f921\"]]}],\"heatmap\":[{\"type\":\"heatmap\",\"colorbar\":{\"outlinewidth\":0,\"ticks\":\"\"},\"colorscale\":[[0.0,\"#0d0887\"],[0.1111111111111111,\"#46039f\"],[0.2222222222222222,\"#7201a8\"],[0.3333333333333333,\"#9c179e\"],[0.4444444444444444,\"#bd3786\"],[0.5555555555555556,\"#d8576b\"],[0.6666666666666666,\"#ed7953\"],[0.7777777777777778,\"#fb9f3a\"],[0.8888888888888888,\"#fdca26\"],[1.0,\"#f0f921\"]]}],\"heatmapgl\":[{\"type\":\"heatmapgl\",\"colorbar\":{\"outlinewidth\":0,\"ticks\":\"\"},\"colorscale\":[[0.0,\"#0d0887\"],[0.1111111111111111,\"#46039f\"],[0.2222222222222222,\"#7201a8\"],[0.3333333333333333,\"#9c179e\"],[0.4444444444444444,\"#bd3786\"],[0.5555555555555556,\"#d8576b\"],[0.6666666666666666,\"#ed7953\"],[0.7777777777777778,\"#fb9f3a\"],[0.8888888888888888,\"#fdca26\"],[1.0,\"#f0f921\"]]}],\"contourcarpet\":[{\"type\":\"contourcarpet\",\"colorbar\":{\"outlinewidth\":0,\"ticks\":\"\"}}],\"contour\":[{\"type\":\"contour\",\"colorbar\":{\"outlinewidth\":0,\"ticks\":\"\"},\"colorscale\":[[0.0,\"#0d0887\"],[0.1111111111111111,\"#46039f\"],[0.2222222222222222,\"#7201a8\"],[0.3333333333333333,\"#9c179e\"],[0.4444444444444444,\"#bd3786\"],[0.5555555555555556,\"#d8576b\"],[0.6666666666666666,\"#ed7953\"],[0.7777777777777778,\"#fb9f3a\"],[0.8888888888888888,\"#fdca26\"],[1.0,\"#f0f921\"]]}],\"surface\":[{\"type\":\"surface\",\"colorbar\":{\"outlinewidth\":0,\"ticks\":\"\"},\"colorscale\":[[0.0,\"#0d0887\"],[0.1111111111111111,\"#46039f\"],[0.2222222222222222,\"#7201a8\"],[0.3333333333333333,\"#9c179e\"],[0.4444444444444444,\"#bd3786\"],[0.5555555555555556,\"#d8576b\"],[0.6666666666666666,\"#ed7953\"],[0.7777777777777778,\"#fb9f3a\"],[0.8888888888888888,\"#fdca26\"],[1.0,\"#f0f921\"]]}],\"mesh3d\":[{\"type\":\"mesh3d\",\"colorbar\":{\"outlinewidth\":0,\"ticks\":\"\"}}],\"scatter\":[{\"fillpattern\":{\"fillmode\":\"overlay\",\"size\":10,\"solidity\":0.2},\"type\":\"scatter\"}],\"parcoords\":[{\"type\":\"parcoords\",\"line\":{\"colorbar\":{\"outlinewidth\":0,\"ticks\":\"\"}}}],\"scatterpolargl\":[{\"type\":\"scatterpolargl\",\"marker\":{\"colorbar\":{\"outlinewidth\":0,\"ticks\":\"\"}}}],\"bar\":[{\"error_x\":{\"color\":\"#2a3f5f\"},\"error_y\":{\"color\":\"#2a3f5f\"},\"marker\":{\"line\":{\"color\":\"white\",\"width\":0.5},\"pattern\":{\"fillmode\":\"overlay\",\"size\":10,\"solidity\":0.2}},\"type\":\"bar\"}],\"scattergeo\":[{\"type\":\"scattergeo\",\"marker\":{\"colorbar\":{\"outlinewidth\":0,\"ticks\":\"\"}}}],\"scatterpolar\":[{\"type\":\"scatterpolar\",\"marker\":{\"colorbar\":{\"outlinewidth\":0,\"ticks\":\"\"}}}],\"histogram\":[{\"marker\":{\"pattern\":{\"fillmode\":\"overlay\",\"size\":10,\"solidity\":0.2}},\"type\":\"histogram\"}],\"scattergl\":[{\"type\":\"scattergl\",\"marker\":{\"colorbar\":{\"outlinewidth\":0,\"ticks\":\"\"}}}],\"scatter3d\":[{\"type\":\"scatter3d\",\"line\":{\"colorbar\":{\"outlinewidth\":0,\"ticks\":\"\"}},\"marker\":{\"colorbar\":{\"outlinewidth\":0,\"ticks\":\"\"}}}],\"scattermapbox\":[{\"type\":\"scattermapbox\",\"marker\":{\"colorbar\":{\"outlinewidth\":0,\"ticks\":\"\"}}}],\"scatterternary\":[{\"type\":\"scatterternary\",\"marker\":{\"colorbar\":{\"outlinewidth\":0,\"ticks\":\"\"}}}],\"scattercarpet\":[{\"type\":\"scattercarpet\",\"marker\":{\"colorbar\":{\"outlinewidth\":0,\"ticks\":\"\"}}}],\"carpet\":[{\"aaxis\":{\"endlinecolor\":\"#2a3f5f\",\"gridcolor\":\"#C8D4E3\",\"linecolor\":\"#C8D4E3\",\"minorgridcolor\":\"#C8D4E3\",\"startlinecolor\":\"#2a3f5f\"},\"baxis\":{\"endlinecolor\":\"#2a3f5f\",\"gridcolor\":\"#C8D4E3\",\"linecolor\":\"#C8D4E3\",\"minorgridcolor\":\"#C8D4E3\",\"startlinecolor\":\"#2a3f5f\"},\"type\":\"carpet\"}],\"table\":[{\"cells\":{\"fill\":{\"color\":\"#EBF0F8\"},\"line\":{\"color\":\"white\"}},\"header\":{\"fill\":{\"color\":\"#C8D4E3\"},\"line\":{\"color\":\"white\"}},\"type\":\"table\"}],\"barpolar\":[{\"marker\":{\"line\":{\"color\":\"white\",\"width\":0.5},\"pattern\":{\"fillmode\":\"overlay\",\"size\":10,\"solidity\":0.2}},\"type\":\"barpolar\"}],\"pie\":[{\"automargin\":true,\"type\":\"pie\"}]},\"layout\":{\"autotypenumbers\":\"strict\",\"colorway\":[\"#636efa\",\"#EF553B\",\"#00cc96\",\"#ab63fa\",\"#FFA15A\",\"#19d3f3\",\"#FF6692\",\"#B6E880\",\"#FF97FF\",\"#FECB52\"],\"font\":{\"color\":\"#2a3f5f\"},\"hovermode\":\"closest\",\"hoverlabel\":{\"align\":\"left\"},\"paper_bgcolor\":\"white\",\"plot_bgcolor\":\"white\",\"polar\":{\"bgcolor\":\"white\",\"angularaxis\":{\"gridcolor\":\"#EBF0F8\",\"linecolor\":\"#EBF0F8\",\"ticks\":\"\"},\"radialaxis\":{\"gridcolor\":\"#EBF0F8\",\"linecolor\":\"#EBF0F8\",\"ticks\":\"\"}},\"ternary\":{\"bgcolor\":\"white\",\"aaxis\":{\"gridcolor\":\"#DFE8F3\",\"linecolor\":\"#A2B1C6\",\"ticks\":\"\"},\"baxis\":{\"gridcolor\":\"#DFE8F3\",\"linecolor\":\"#A2B1C6\",\"ticks\":\"\"},\"caxis\":{\"gridcolor\":\"#DFE8F3\",\"linecolor\":\"#A2B1C6\",\"ticks\":\"\"}},\"coloraxis\":{\"colorbar\":{\"outlinewidth\":0,\"ticks\":\"\"}},\"colorscale\":{\"sequential\":[[0.0,\"#0d0887\"],[0.1111111111111111,\"#46039f\"],[0.2222222222222222,\"#7201a8\"],[0.3333333333333333,\"#9c179e\"],[0.4444444444444444,\"#bd3786\"],[0.5555555555555556,\"#d8576b\"],[0.6666666666666666,\"#ed7953\"],[0.7777777777777778,\"#fb9f3a\"],[0.8888888888888888,\"#fdca26\"],[1.0,\"#f0f921\"]],\"sequentialminus\":[[0.0,\"#0d0887\"],[0.1111111111111111,\"#46039f\"],[0.2222222222222222,\"#7201a8\"],[0.3333333333333333,\"#9c179e\"],[0.4444444444444444,\"#bd3786\"],[0.5555555555555556,\"#d8576b\"],[0.6666666666666666,\"#ed7953\"],[0.7777777777777778,\"#fb9f3a\"],[0.8888888888888888,\"#fdca26\"],[1.0,\"#f0f921\"]],\"diverging\":[[0,\"#8e0152\"],[0.1,\"#c51b7d\"],[0.2,\"#de77ae\"],[0.3,\"#f1b6da\"],[0.4,\"#fde0ef\"],[0.5,\"#f7f7f7\"],[0.6,\"#e6f5d0\"],[0.7,\"#b8e186\"],[0.8,\"#7fbc41\"],[0.9,\"#4d9221\"],[1,\"#276419\"]]},\"xaxis\":{\"gridcolor\":\"#EBF0F8\",\"linecolor\":\"#EBF0F8\",\"ticks\":\"\",\"title\":{\"standoff\":15},\"zerolinecolor\":\"#EBF0F8\",\"automargin\":true,\"zerolinewidth\":2},\"yaxis\":{\"gridcolor\":\"#EBF0F8\",\"linecolor\":\"#EBF0F8\",\"ticks\":\"\",\"title\":{\"standoff\":15},\"zerolinecolor\":\"#EBF0F8\",\"automargin\":true,\"zerolinewidth\":2},\"scene\":{\"xaxis\":{\"backgroundcolor\":\"white\",\"gridcolor\":\"#DFE8F3\",\"linecolor\":\"#EBF0F8\",\"showbackground\":true,\"ticks\":\"\",\"zerolinecolor\":\"#EBF0F8\",\"gridwidth\":2},\"yaxis\":{\"backgroundcolor\":\"white\",\"gridcolor\":\"#DFE8F3\",\"linecolor\":\"#EBF0F8\",\"showbackground\":true,\"ticks\":\"\",\"zerolinecolor\":\"#EBF0F8\",\"gridwidth\":2},\"zaxis\":{\"backgroundcolor\":\"white\",\"gridcolor\":\"#DFE8F3\",\"linecolor\":\"#EBF0F8\",\"showbackground\":true,\"ticks\":\"\",\"zerolinecolor\":\"#EBF0F8\",\"gridwidth\":2}},\"shapedefaults\":{\"line\":{\"color\":\"#2a3f5f\"}},\"annotationdefaults\":{\"arrowcolor\":\"#2a3f5f\",\"arrowhead\":0,\"arrowwidth\":1},\"geo\":{\"bgcolor\":\"white\",\"landcolor\":\"white\",\"subunitcolor\":\"#C8D4E3\",\"showland\":true,\"showlakes\":true,\"lakecolor\":\"white\"},\"title\":{\"x\":0.05},\"mapbox\":{\"style\":\"light\"}}},\"xaxis\":{\"anchor\":\"y\",\"domain\":[0.0,0.94],\"matches\":\"x5\",\"showticklabels\":false,\"tickformat\":\"\",\"griddash\":\"dot\",\"range\":[-0.4,24.2],\"tickvals\":[0,1,2,3,4,5,6,7,8,9,10,11,12,13,14,15,16,17,18,19,20,21,22,23,24,25,26,27],\"ticktext\":[\"0\",\"1\",\"2\",\"3\",\"4\",\"5\",\"6\",\"7\",\"8\",\"9\",\"10\",\"11\",\"12\",\"13\",\"14\",\"15\",\"16\",\"17\",\"18\",\"19\",\"20\",\"21\",\"22\",\"23\",\"0\",\"1\",\"2\",\"3\"]},\"yaxis\":{\"anchor\":\"x\",\"domain\":[0.8572000000000001,1.0],\"title\":{\"text\":\"\"},\"tickformat\":\" ,~\",\"nticks\":5,\"range\":[0,1.1],\"dtick\":0.2},\"yaxis2\":{\"anchor\":\"x\",\"overlaying\":\"y\",\"side\":\"right\",\"tickformat\":\" ,~\",\"nticks\":5,\"range\":[0,22],\"dtick\":4},\"xaxis2\":{\"anchor\":\"y3\",\"domain\":[0.0,0.94],\"matches\":\"x5\",\"showticklabels\":false,\"tickformat\":\"\",\"griddash\":\"dot\",\"range\":[-0.4,24.2],\"tickvals\":[0,1,2,3,4,5,6,7,8,9,10,11,12,13,14,15,16,17,18,19,20,21,22,23,24,25,26,27],\"ticktext\":[\"0\",\"1\",\"2\",\"3\",\"4\",\"5\",\"6\",\"7\",\"8\",\"9\",\"10\",\"11\",\"12\",\"13\",\"14\",\"15\",\"16\",\"17\",\"18\",\"19\",\"20\",\"21\",\"22\",\"23\",\"0\",\"1\",\"2\",\"3\"]},\"yaxis3\":{\"anchor\":\"x2\",\"domain\":[0.6744,0.8172],\"tickformat\":\" ,~\",\"nticks\":5,\"range\":[0,1.1],\"dtick\":0.25},\"yaxis4\":{\"anchor\":\"x2\",\"overlaying\":\"y3\",\"side\":\"right\",\"tickformat\":\" ,~\",\"nticks\":5,\"range\":[0,22],\"dtick\":4},\"xaxis3\":{\"anchor\":\"y5\",\"domain\":[0.0,0.94],\"matches\":\"x5\",\"showticklabels\":false,\"tickformat\":\"\",\"griddash\":\"dot\",\"range\":[-0.4,24.2],\"tickvals\":[0,1,2,3,4,5,6,7,8,9,10,11,12,13,14,15,16,17,18,19,20,21,22,23,24,25,26,27],\"ticktext\":[\"0\",\"1\",\"2\",\"3\",\"4\",\"5\",\"6\",\"7\",\"8\",\"9\",\"10\",\"11\",\"12\",\"13\",\"14\",\"15\",\"16\",\"17\",\"18\",\"19\",\"20\",\"21\",\"22\",\"23\",\"0\",\"1\",\"2\",\"3\"]},\"yaxis5\":{\"anchor\":\"x3\",\"domain\":[0.4916,0.6344],\"tickformat\":\" ,~\",\"nticks\":5,\"range\":[0,1.1],\"dtick\":0.25},\"yaxis6\":{\"anchor\":\"x3\",\"overlaying\":\"y5\",\"side\":\"right\",\"tickformat\":\" ,~\",\"nticks\":5,\"range\":[0,22],\"dtick\":4},\"xaxis4\":{\"anchor\":\"y7\",\"domain\":[0.0,0.94],\"matches\":\"x5\",\"showticklabels\":true,\"tickformat\":\"\",\"griddash\":\"dot\",\"range\":[-0.4,24.2],\"tickvals\":[0,1,2,3,4,5,6,7,8,9,10,11,12,13,14,15,16,17,18,19,20,21,22,23,24,25,26,27],\"ticktext\":[\"0\",\"1\",\"2\",\"3\",\"4\",\"5\",\"6\",\"7\",\"8\",\"9\",\"10\",\"11\",\"12\",\"13\",\"14\",\"15\",\"16\",\"17\",\"18\",\"19\",\"20\",\"21\",\"22\",\"23\",\"0\",\"1\",\"2\",\"3\"]},\"yaxis7\":{\"anchor\":\"x4\",\"domain\":[0.30879999999999996,0.4516],\"tickformat\":\" ,~\",\"nticks\":5,\"range\":[0,1.1],\"dtick\":0.25},\"yaxis8\":{\"anchor\":\"x4\",\"overlaying\":\"y7\",\"side\":\"right\",\"tickformat\":\" ,~\",\"nticks\":5,\"range\":[0,22],\"dtick\":4},\"xaxis5\":{\"anchor\":\"y9\",\"domain\":[0.0,0.94],\"tickformat\":\"\",\"griddash\":\"dot\",\"range\":[-0.4,24.2],\"tickvals\":[0,1,2,3,4,5,6,7,8,9,10,11,12,13,14,15,16,17,18,19,20,21,22,23,24,25,26,27],\"ticktext\":[\"0\",\"1\",\"2\",\"3\",\"4\",\"5\",\"6\",\"7\",\"8\",\"9\",\"10\",\"11\",\"12\",\"13\",\"14\",\"15\",\"16\",\"17\",\"18\",\"19\",\"20\",\"21\",\"22\",\"23\",\"0\",\"1\",\"2\",\"3\"]},\"yaxis9\":{\"anchor\":\"x5\",\"domain\":[0.0,0.2688],\"title\":{\"text\":\"Penalty Value \"},\"tickformat\":\" ,~g\",\"nticks\":9,\"type\":\"linear\"},\"yaxis10\":{\"anchor\":\"x5\",\"overlaying\":\"y9\",\"side\":\"right\"},\"annotations\":[{\"font\":{\"color\":\"grey\",\"size\":13},\"opacity\":0.9,\"showarrow\":false,\"text\":\"<i>Charger 0</i>\",\"textangle\":0,\"x\":23,\"xref\":\"x\",\"y\":1.2,\"yref\":\"y\"},{\"font\":{\"color\":\"grey\",\"size\":13},\"opacity\":0.9,\"showarrow\":false,\"text\":\"<i>Charger 1</i>\",\"textangle\":0,\"x\":23,\"xref\":\"x2\",\"y\":1.2,\"yref\":\"y3\"},{\"font\":{\"color\":\"grey\",\"size\":13},\"opacity\":0.9,\"showarrow\":false,\"text\":\"<i>Charger 2</i>\",\"textangle\":0,\"x\":23,\"xref\":\"x3\",\"y\":1.2,\"yref\":\"y5\"},{\"font\":{\"color\":\"grey\",\"size\":13},\"opacity\":0.9,\"showarrow\":false,\"text\":\"<i>Charger 3</i>\",\"textangle\":0,\"x\":23,\"xref\":\"x4\",\"y\":1.2,\"yref\":\"y7\"},{\"font\":{\"size\":14},\"showarrow\":false,\"text\":\"State of Charge - Action Value\",\"textangle\":-90,\"x\":-0.14,\"xref\":\"paper\",\"y\":0.65,\"yanchor\":\"middle\",\"yref\":\"paper\"},{\"font\":{\"size\":14},\"showarrow\":false,\"text\":\"Power [kW]\",\"textangle\":-90,\"x\":1.04,\"xref\":\"paper\",\"y\":0.65,\"yref\":\"paper\"},{\"font\":{\"size\":14},\"showarrow\":false,\"text\":\"Timestep (Hour) in a Day\",\"textangle\":0,\"x\":0.46153846153846156,\"xref\":\"paper\",\"y\":-0.08,\"yref\":\"paper\"}],\"title\":{\"text\":\"Predicted State of Charge with Action and Power Values\",\"font\":{\"size\":24},\"xanchor\":\"center\",\"x\":0.5,\"y\":0.92},\"barmode\":\"overlay\",\"legend\":{\"x\":1.0833333333333333},\"margin\":{\"autoexpand\":true},\"height\":890,\"width\":880,\"showlegend\":true},                        {\"responsive\": true}                    ).then(function(){\n",
       "                            \n",
       "var gd = document.getElementById('720102a1-39ca-4444-aeed-49567340efd3');\n",
       "var x = new MutationObserver(function (mutations, observer) {{\n",
       "        var display = window.getComputedStyle(gd).display;\n",
       "        if (!display || display === 'none') {{\n",
       "            console.log([gd, 'removed!']);\n",
       "            Plotly.purge(gd);\n",
       "            observer.disconnect();\n",
       "        }}\n",
       "}});\n",
       "\n",
       "// Listen for the removal of the full notebook cells\n",
       "var notebookContainer = gd.closest('#notebook-container');\n",
       "if (notebookContainer) {{\n",
       "    x.observe(notebookContainer, {childList: true});\n",
       "}}\n",
       "\n",
       "// Listen for the clearing of the current output cell\n",
       "var outputEl = gd.closest('.output');\n",
       "if (outputEl) {{\n",
       "    x.observe(outputEl, {childList: true});\n",
       "}}\n",
       "\n",
       "                        })                };                });            </script>        </div>"
      ]
     },
     "metadata": {},
     "output_type": "display_data"
    }
   ],
   "source": [
    "subplot_fig = make_subplots(\n",
    "    rows=5,\n",
    "    row_heights=[0.17, 0.17, 0.17, 0.17, 0.32],\n",
    "    cols=1,\n",
    "    shared_xaxes=True,\n",
    "    vertical_spacing=0.04,\n",
    "    specs=[[{'secondary_y': True}], [{'secondary_y': True}], [{'secondary_y': True}], [{'secondary_y': True}],\n",
    "           [{'secondary_y': True}]]\n",
    ")\n",
    "\n",
    "charger_patterns = ['', '/', '\\\\', '+']\n",
    "charger_markers = ['circle', 'cross', 'diamond', 'square']\n",
    "for v_id in initial_training_data.index:\n",
    "    charger_id = int(initial_training_data.loc[v_id, 'Charger ID'])\n",
    "    counter = number_of_chargers - charger_id\n",
    "    charger = counter - 1\n",
    "    \n",
    "    arr = int(initial_training_data.loc[v_id, 'Arrival'])\n",
    "    dep = int(initial_training_data.loc[v_id, 'Departure'])\n",
    "    \n",
    "    if initial_training_data.loc[v_id, 'Vehicle ID'] == '0':\n",
    "        psoc = chargers_predictions.loc[chargers_predictions['Charger ID']==charger,'Vehicle State of Charge']\n",
    "        pactions = chargers_predictions.loc[chargers_predictions['Charger ID']==charger,'Charger Action']\n",
    "        ppowers = chargers_predictions.loc[chargers_predictions['Charger ID']==charger,'Charger Power Value']\n",
    "        \n",
    "        subplot_fig.add_bar(x=initial_training_data.loc[(initial_training_data['Charger ID']==str(charger))&(initial_training_data.index[v_id]==v_id), 'Departure']-1, row=counter, col=1,\n",
    "                    y=initial_training_data.loc[(initial_training_data['Charger ID']==str(charger))&(initial_training_data.index[v_id]==v_id), 'Requested State of Charge'], name=f'Requested - on departure',\n",
    "                    width=0.5, marker=dict(color='teal', opacity=0.8, line_width=0), legendgroup='State of Charge', showlegend=(not v_id),\n",
    "                    legendgrouptitle=dict(text='State of Charge'), secondary_y=False)\n",
    "        subplot_fig.add_bar(x=initial_training_data.loc[initial_training_data['Charger ID']==str(charger), 'Arrival'], row=counter, col=1,\n",
    "                    y=initial_training_data.loc[initial_training_data['Charger ID']==str(charger), 'Initial State of Charge'], name=f'Initial - on arrival',\n",
    "                    width=0.5, marker=dict(color='crimson', opacity=0.8, line_width=0), \n",
    "                            legendgroup='State of Charge', showlegend=(not v_id), secondary_y=False)\n",
    "        \n",
    "        subplot_fig.add_scatter(y=psoc, line_shape='linear', row=counter, col=1, name='Value at timestep end', mode='markers+lines',\n",
    "                                marker=dict(size=8, symbol='circle-dot'), line=dict(color='darkturquoise'), \n",
    "                                showlegend=(not v_id), secondary_y=False,\n",
    "                                legendgrouptitle=dict(text='Predicted State of Charge'), legendgroup='Predicted Charger SOC')\n",
    "        subplot_fig.add_bar(y=pactions, row=counter, col=1, legendgroup='Charger Action', showlegend=True, name=f'Charger {charger}', legendgrouptitle=dict(text='Charging Action'),\n",
    "                            marker=dict(color='darkturquoise', opacity=0.45, line_width=1, line_color='darkturquoise',\n",
    "                                        pattern_shape=charger_patterns[charger], pattern_fgopacity=0.9, pattern_fgcolor='white', pattern_size=10), secondary_y=False)\n",
    "        \n",
    "        \n",
    "        \n",
    "        subplot_fig.add_scatter(y=ppowers, line_shape='linear', row=counter, col=1, name=f'Charger {charger}', mode='markers',\n",
    "                                marker=dict(size=8, symbol=charger_markers[charger]), line=dict(color='darkorange'), \n",
    "                                showlegend=True, secondary_y=True,\n",
    "                                legendgrouptitle=dict(text='Power Values'), legendgroup='Charger Power')\n",
    "        \n",
    "        subplot_fig.add_annotation(x=23, y=1.2, text=f'<i>Charger {charger_id}</i>', textangle=0, opacity=0.9, row=charger_id+1, col=1,\n",
    "                                   font_size=13, showarrow=False, font_color='grey')    \n",
    "\n",
    "pevpenalties = penalties['Total Vehicle Penalty']\n",
    "subplot_fig.add_scatter(y=pevpenalties, line_shape='linear', row=5, col=1, name='Value at timestep end', mode='lines+markers',\n",
    "                        marker=dict(size=8, symbol='circle'), line=dict(color='crimson'), fill='tozeroy',\n",
    "                        showlegend=True, secondary_y=False,\n",
    "                        legendgrouptitle=dict(text='Total Vehicle Penalty'), legendgroup='Total Vehicle Penalty')\n",
    "subplot_fig.add_bar(x=penalties.index, y=pevpenalties, row=5, col=1, name='Value at timestep end', secondary_y=False,\n",
    "                        width=0.2, legendgrouptitle=dict(text='Total Battery Penalty'), legendgroup='Total Battery Penalty',\n",
    "                        marker=dict(line_width=0, opacity=0.8, color='crimson'), showlegend=False)\n",
    "\n",
    "subplot_fig.add_annotation(x=-0.14, y=0.65, yanchor='middle', text=\"State of Charge - Action Value\", textangle=-90, xref=\"paper\", yref=\"paper\", font_size=14, showarrow=False)\n",
    "subplot_fig.add_annotation(x=1.04, y=0.65, text=\"Power [kW]\", textangle=-90, xref=\"paper\", yref=\"paper\", font_size=14, showarrow=False)\n",
    "subplot_fig.add_annotation(x=12/26, y=-0.08, text=\"Timestep (Hour) in a Day\", textangle=0, xref=\"paper\", yref=\"paper\", font_size=14, showarrow=False)\n",
    "\n",
    "max_timestep = int(initial_training_data.Departure.max() + 1)\n",
    "subplot_fig.update_layout(title=\"Predicted State of Charge with Action and Power Values\",\n",
    "                          yaxis=dict(title=''), barmode='overlay')\n",
    "subplot_fig.update_xaxes(tickformat='', griddash=\"dot\", range=[-0.4, 24.2],\n",
    "                         tickvals=[i for i in range(max_timestep)],\n",
    "                         ticktext=[str(i%24) for i in range(max_timestep)])\n",
    "\n",
    "# For plot export: w(1280)xh(720), w(1920)xh(1080)\n",
    "# For better overview in jupyter: w(850)xh(650)\n",
    "plot_width = 880\n",
    "plot_height = 890\n",
    "\n",
    "total_ev_pen_max = pevpenalties.max()\n",
    "y9type = 'log' if total_ev_pen_max > 100000 else 'linear'\n",
    "y9max_margin = 6 if y9type == 'log' else round(total_ev_pen_max + 10)\n",
    "y9yaxistext = '- log scale' if y9type == 'log' else ''\n",
    "subplot_fig.update_layout(height=plot_height, width=plot_width, title=dict(xanchor=\"center\", x=0.5, font_size=24, y=0.92), \n",
    "                          showlegend=True, legend=dict(x=26/24), margin=dict(autoexpand=True),\n",
    "                          xaxis4=dict(showticklabels=True),\n",
    "                          yaxis=dict(tickformat=\" ,~\", nticks=5, range=[0, 1.1], dtick=0.2),\n",
    "                          yaxis2=dict(tickformat=\" ,~\", nticks=5, range=[0, 22], dtick=4),\n",
    "                          yaxis3=dict(tickformat=\" ,~\", nticks=5, range=[0, 1.1], dtick=0.25),\n",
    "                          yaxis4=dict(tickformat=\" ,~\", nticks=5, range=[0, 22], dtick=4),\n",
    "                          yaxis5=dict(tickformat=\" ,~\", nticks=5, range=[0, 1.1], dtick=0.25),\n",
    "                          yaxis6=dict(tickformat=\" ,~\", nticks=5, range=[0, 22], dtick=4),\n",
    "                          yaxis7=dict(tickformat=\" ,~\", nticks=5, range=[0, 1.1], dtick=0.25),\n",
    "                          yaxis8=dict(tickformat=\" ,~\", nticks=5, range=[0, 22], dtick=4),\n",
    "                          yaxis9=dict(tickformat=\" ,~g\", nticks=9, type=y9type, \n",
    "                                      title=dict(text=f'Penalty Value {y9yaxistext}')))\n",
    "\n",
    "subplot_fig.show()\n",
    "\n",
    "del psoc, charger_id, counter, charger, arr, dep, max_timestep, plot_width, plot_height"
   ]
  },
  {
   "cell_type": "markdown",
   "id": "40bad29f",
   "metadata": {},
   "source": [
    "#### Vehicle Prediction Penalties per Type"
   ]
  },
  {
   "cell_type": "code",
   "execution_count": 69,
   "id": "d1fd1fc9",
   "metadata": {},
   "outputs": [
    {
     "data": {
      "application/vnd.plotly.v1+json": {
       "config": {
        "plotlyServerURL": "https://plot.ly"
       },
       "data": [
        {
         "marker": {
          "color": "crimson",
          "line": {
           "width": 0
          },
          "opacity": 0.8
         },
         "name": "Insufficiently Charged Vehicle",
         "showlegend": true,
         "type": "bar",
         "width": 0.9,
         "y": [
          0,
          0,
          0,
          0,
          0,
          5.499840290103297,
          1.1073159750434134,
          0,
          0,
          0,
          5.017237916387826,
          5.017237916387826,
          0,
          0,
          26.016513140078086,
          12.432092501257117,
          4.837013661737965,
          0,
          0,
          0,
          0,
          0,
          0,
          0
         ],
         "yaxis": "y"
        },
        {
         "marker": {
          "color": "sienna",
          "line": {
           "width": 0
          },
          "opacity": 0.8
         },
         "name": "Overcharged Vehicle",
         "showlegend": true,
         "type": "bar",
         "width": 0.9,
         "y": [
          0,
          0,
          0,
          0,
          0,
          0,
          0,
          0,
          0,
          0,
          0,
          0,
          0,
          0,
          0,
          0,
          0,
          0,
          0,
          0,
          0,
          0,
          0,
          0
         ],
         "yaxis": "y"
        },
        {
         "marker": {
          "color": "darkorange",
          "line": {
           "width": 0
          },
          "opacity": 0.8
         },
         "name": "Needless Vehicle Charging",
         "showlegend": true,
         "type": "bar",
         "width": 0.9,
         "y": [
          0,
          0,
          0,
          0,
          0,
          0,
          0,
          0,
          0,
          0,
          0,
          0,
          0,
          0,
          0,
          0,
          0,
          0,
          0,
          0,
          0,
          0,
          0,
          0
         ],
         "yaxis": "y"
        },
        {
         "legendgroup": "Total Vehicle Penalty",
         "line": {
          "color": "rgba(0,0,0,0.7)",
          "shape": "linear",
          "width": 2
         },
         "marker": {
          "color": [
           0,
           0,
           0,
           0,
           0,
           5.499840290103297,
           1.1073159750434134,
           0,
           0,
           0,
           5.017237916387826,
           5.017237916387826,
           0,
           0,
           26.016513140078086,
           12.432092501257117,
           4.837013661737965,
           0,
           0,
           0,
           0,
           0,
           0,
           0
          ],
          "coloraxis": "coloraxis",
          "line": {
           "width": 1.5
          },
          "size": 8,
          "symbol": "diamond"
         },
         "mode": "lines+markers",
         "name": "Total Vehicle penalty",
         "showlegend": true,
         "type": "scatter",
         "x": [
          0,
          1,
          2,
          3,
          4,
          5,
          6,
          7,
          8,
          9,
          10,
          11,
          12,
          13,
          14,
          15,
          16,
          17,
          18,
          19,
          20,
          21,
          22,
          23
         ],
         "y": [
          0,
          0,
          0,
          0,
          0,
          5.499840290103297,
          1.1073159750434134,
          0,
          0,
          0,
          5.017237916387826,
          5.017237916387826,
          0,
          0,
          26.016513140078086,
          12.432092501257117,
          4.837013661737965,
          0,
          0,
          0,
          0,
          0,
          0,
          0
         ],
         "yaxis": "y"
        }
       ],
       "layout": {
        "annotations": [
         {
          "font": {
           "size": 14
          },
          "showarrow": false,
          "text": "Penalty Value",
          "textangle": -90,
          "x": -0.1,
          "xanchor": "left",
          "xref": "paper",
          "y": 0.5,
          "yanchor": "middle",
          "yref": "paper"
         },
         {
          "font": {
           "size": 14
          },
          "showarrow": false,
          "text": "Timestep (Hour) in a Day",
          "textangle": 0,
          "x": 0.5,
          "xref": "paper",
          "y": -0.1,
          "yref": "paper"
         }
        ],
        "barmode": "stack",
        "coloraxis": {
         "colorbar": {
          "title": {
           "side": "right",
           "text": "Total Vehicle Penalty Value"
          }
         },
         "colorscale": [
          [
           0,
           "crimson"
          ],
          [
           0.5,
           "orange"
          ],
          [
           1,
           "sienna"
          ]
         ]
        },
        "height": 650,
        "legend": {
         "entrywidth": 0,
         "orientation": "h",
         "x": 0.5,
         "xanchor": "center",
         "y": 1.01,
         "yanchor": "bottom"
        },
        "scattermode": "overlay",
        "showlegend": true,
        "template": {
         "data": {
          "bar": [
           {
            "error_x": {
             "color": "#2a3f5f"
            },
            "error_y": {
             "color": "#2a3f5f"
            },
            "marker": {
             "line": {
              "color": "white",
              "width": 0.5
             },
             "pattern": {
              "fillmode": "overlay",
              "size": 10,
              "solidity": 0.2
             }
            },
            "type": "bar"
           }
          ],
          "barpolar": [
           {
            "marker": {
             "line": {
              "color": "white",
              "width": 0.5
             },
             "pattern": {
              "fillmode": "overlay",
              "size": 10,
              "solidity": 0.2
             }
            },
            "type": "barpolar"
           }
          ],
          "carpet": [
           {
            "aaxis": {
             "endlinecolor": "#2a3f5f",
             "gridcolor": "#C8D4E3",
             "linecolor": "#C8D4E3",
             "minorgridcolor": "#C8D4E3",
             "startlinecolor": "#2a3f5f"
            },
            "baxis": {
             "endlinecolor": "#2a3f5f",
             "gridcolor": "#C8D4E3",
             "linecolor": "#C8D4E3",
             "minorgridcolor": "#C8D4E3",
             "startlinecolor": "#2a3f5f"
            },
            "type": "carpet"
           }
          ],
          "choropleth": [
           {
            "colorbar": {
             "outlinewidth": 0,
             "ticks": ""
            },
            "type": "choropleth"
           }
          ],
          "contour": [
           {
            "colorbar": {
             "outlinewidth": 0,
             "ticks": ""
            },
            "colorscale": [
             [
              0,
              "#0d0887"
             ],
             [
              0.1111111111111111,
              "#46039f"
             ],
             [
              0.2222222222222222,
              "#7201a8"
             ],
             [
              0.3333333333333333,
              "#9c179e"
             ],
             [
              0.4444444444444444,
              "#bd3786"
             ],
             [
              0.5555555555555556,
              "#d8576b"
             ],
             [
              0.6666666666666666,
              "#ed7953"
             ],
             [
              0.7777777777777778,
              "#fb9f3a"
             ],
             [
              0.8888888888888888,
              "#fdca26"
             ],
             [
              1,
              "#f0f921"
             ]
            ],
            "type": "contour"
           }
          ],
          "contourcarpet": [
           {
            "colorbar": {
             "outlinewidth": 0,
             "ticks": ""
            },
            "type": "contourcarpet"
           }
          ],
          "heatmap": [
           {
            "colorbar": {
             "outlinewidth": 0,
             "ticks": ""
            },
            "colorscale": [
             [
              0,
              "#0d0887"
             ],
             [
              0.1111111111111111,
              "#46039f"
             ],
             [
              0.2222222222222222,
              "#7201a8"
             ],
             [
              0.3333333333333333,
              "#9c179e"
             ],
             [
              0.4444444444444444,
              "#bd3786"
             ],
             [
              0.5555555555555556,
              "#d8576b"
             ],
             [
              0.6666666666666666,
              "#ed7953"
             ],
             [
              0.7777777777777778,
              "#fb9f3a"
             ],
             [
              0.8888888888888888,
              "#fdca26"
             ],
             [
              1,
              "#f0f921"
             ]
            ],
            "type": "heatmap"
           }
          ],
          "heatmapgl": [
           {
            "colorbar": {
             "outlinewidth": 0,
             "ticks": ""
            },
            "colorscale": [
             [
              0,
              "#0d0887"
             ],
             [
              0.1111111111111111,
              "#46039f"
             ],
             [
              0.2222222222222222,
              "#7201a8"
             ],
             [
              0.3333333333333333,
              "#9c179e"
             ],
             [
              0.4444444444444444,
              "#bd3786"
             ],
             [
              0.5555555555555556,
              "#d8576b"
             ],
             [
              0.6666666666666666,
              "#ed7953"
             ],
             [
              0.7777777777777778,
              "#fb9f3a"
             ],
             [
              0.8888888888888888,
              "#fdca26"
             ],
             [
              1,
              "#f0f921"
             ]
            ],
            "type": "heatmapgl"
           }
          ],
          "histogram": [
           {
            "marker": {
             "pattern": {
              "fillmode": "overlay",
              "size": 10,
              "solidity": 0.2
             }
            },
            "type": "histogram"
           }
          ],
          "histogram2d": [
           {
            "colorbar": {
             "outlinewidth": 0,
             "ticks": ""
            },
            "colorscale": [
             [
              0,
              "#0d0887"
             ],
             [
              0.1111111111111111,
              "#46039f"
             ],
             [
              0.2222222222222222,
              "#7201a8"
             ],
             [
              0.3333333333333333,
              "#9c179e"
             ],
             [
              0.4444444444444444,
              "#bd3786"
             ],
             [
              0.5555555555555556,
              "#d8576b"
             ],
             [
              0.6666666666666666,
              "#ed7953"
             ],
             [
              0.7777777777777778,
              "#fb9f3a"
             ],
             [
              0.8888888888888888,
              "#fdca26"
             ],
             [
              1,
              "#f0f921"
             ]
            ],
            "type": "histogram2d"
           }
          ],
          "histogram2dcontour": [
           {
            "colorbar": {
             "outlinewidth": 0,
             "ticks": ""
            },
            "colorscale": [
             [
              0,
              "#0d0887"
             ],
             [
              0.1111111111111111,
              "#46039f"
             ],
             [
              0.2222222222222222,
              "#7201a8"
             ],
             [
              0.3333333333333333,
              "#9c179e"
             ],
             [
              0.4444444444444444,
              "#bd3786"
             ],
             [
              0.5555555555555556,
              "#d8576b"
             ],
             [
              0.6666666666666666,
              "#ed7953"
             ],
             [
              0.7777777777777778,
              "#fb9f3a"
             ],
             [
              0.8888888888888888,
              "#fdca26"
             ],
             [
              1,
              "#f0f921"
             ]
            ],
            "type": "histogram2dcontour"
           }
          ],
          "mesh3d": [
           {
            "colorbar": {
             "outlinewidth": 0,
             "ticks": ""
            },
            "type": "mesh3d"
           }
          ],
          "parcoords": [
           {
            "line": {
             "colorbar": {
              "outlinewidth": 0,
              "ticks": ""
             }
            },
            "type": "parcoords"
           }
          ],
          "pie": [
           {
            "automargin": true,
            "type": "pie"
           }
          ],
          "scatter": [
           {
            "fillpattern": {
             "fillmode": "overlay",
             "size": 10,
             "solidity": 0.2
            },
            "type": "scatter"
           }
          ],
          "scatter3d": [
           {
            "line": {
             "colorbar": {
              "outlinewidth": 0,
              "ticks": ""
             }
            },
            "marker": {
             "colorbar": {
              "outlinewidth": 0,
              "ticks": ""
             }
            },
            "type": "scatter3d"
           }
          ],
          "scattercarpet": [
           {
            "marker": {
             "colorbar": {
              "outlinewidth": 0,
              "ticks": ""
             }
            },
            "type": "scattercarpet"
           }
          ],
          "scattergeo": [
           {
            "marker": {
             "colorbar": {
              "outlinewidth": 0,
              "ticks": ""
             }
            },
            "type": "scattergeo"
           }
          ],
          "scattergl": [
           {
            "marker": {
             "colorbar": {
              "outlinewidth": 0,
              "ticks": ""
             }
            },
            "type": "scattergl"
           }
          ],
          "scattermapbox": [
           {
            "marker": {
             "colorbar": {
              "outlinewidth": 0,
              "ticks": ""
             }
            },
            "type": "scattermapbox"
           }
          ],
          "scatterpolar": [
           {
            "marker": {
             "colorbar": {
              "outlinewidth": 0,
              "ticks": ""
             }
            },
            "type": "scatterpolar"
           }
          ],
          "scatterpolargl": [
           {
            "marker": {
             "colorbar": {
              "outlinewidth": 0,
              "ticks": ""
             }
            },
            "type": "scatterpolargl"
           }
          ],
          "scatterternary": [
           {
            "marker": {
             "colorbar": {
              "outlinewidth": 0,
              "ticks": ""
             }
            },
            "type": "scatterternary"
           }
          ],
          "surface": [
           {
            "colorbar": {
             "outlinewidth": 0,
             "ticks": ""
            },
            "colorscale": [
             [
              0,
              "#0d0887"
             ],
             [
              0.1111111111111111,
              "#46039f"
             ],
             [
              0.2222222222222222,
              "#7201a8"
             ],
             [
              0.3333333333333333,
              "#9c179e"
             ],
             [
              0.4444444444444444,
              "#bd3786"
             ],
             [
              0.5555555555555556,
              "#d8576b"
             ],
             [
              0.6666666666666666,
              "#ed7953"
             ],
             [
              0.7777777777777778,
              "#fb9f3a"
             ],
             [
              0.8888888888888888,
              "#fdca26"
             ],
             [
              1,
              "#f0f921"
             ]
            ],
            "type": "surface"
           }
          ],
          "table": [
           {
            "cells": {
             "fill": {
              "color": "#EBF0F8"
             },
             "line": {
              "color": "white"
             }
            },
            "header": {
             "fill": {
              "color": "#C8D4E3"
             },
             "line": {
              "color": "white"
             }
            },
            "type": "table"
           }
          ]
         },
         "layout": {
          "annotationdefaults": {
           "arrowcolor": "#2a3f5f",
           "arrowhead": 0,
           "arrowwidth": 1
          },
          "autotypenumbers": "strict",
          "coloraxis": {
           "colorbar": {
            "outlinewidth": 0,
            "ticks": ""
           }
          },
          "colorscale": {
           "diverging": [
            [
             0,
             "#8e0152"
            ],
            [
             0.1,
             "#c51b7d"
            ],
            [
             0.2,
             "#de77ae"
            ],
            [
             0.3,
             "#f1b6da"
            ],
            [
             0.4,
             "#fde0ef"
            ],
            [
             0.5,
             "#f7f7f7"
            ],
            [
             0.6,
             "#e6f5d0"
            ],
            [
             0.7,
             "#b8e186"
            ],
            [
             0.8,
             "#7fbc41"
            ],
            [
             0.9,
             "#4d9221"
            ],
            [
             1,
             "#276419"
            ]
           ],
           "sequential": [
            [
             0,
             "#0d0887"
            ],
            [
             0.1111111111111111,
             "#46039f"
            ],
            [
             0.2222222222222222,
             "#7201a8"
            ],
            [
             0.3333333333333333,
             "#9c179e"
            ],
            [
             0.4444444444444444,
             "#bd3786"
            ],
            [
             0.5555555555555556,
             "#d8576b"
            ],
            [
             0.6666666666666666,
             "#ed7953"
            ],
            [
             0.7777777777777778,
             "#fb9f3a"
            ],
            [
             0.8888888888888888,
             "#fdca26"
            ],
            [
             1,
             "#f0f921"
            ]
           ],
           "sequentialminus": [
            [
             0,
             "#0d0887"
            ],
            [
             0.1111111111111111,
             "#46039f"
            ],
            [
             0.2222222222222222,
             "#7201a8"
            ],
            [
             0.3333333333333333,
             "#9c179e"
            ],
            [
             0.4444444444444444,
             "#bd3786"
            ],
            [
             0.5555555555555556,
             "#d8576b"
            ],
            [
             0.6666666666666666,
             "#ed7953"
            ],
            [
             0.7777777777777778,
             "#fb9f3a"
            ],
            [
             0.8888888888888888,
             "#fdca26"
            ],
            [
             1,
             "#f0f921"
            ]
           ]
          },
          "colorway": [
           "#636efa",
           "#EF553B",
           "#00cc96",
           "#ab63fa",
           "#FFA15A",
           "#19d3f3",
           "#FF6692",
           "#B6E880",
           "#FF97FF",
           "#FECB52"
          ],
          "font": {
           "color": "#2a3f5f"
          },
          "geo": {
           "bgcolor": "white",
           "lakecolor": "white",
           "landcolor": "white",
           "showlakes": true,
           "showland": true,
           "subunitcolor": "#C8D4E3"
          },
          "hoverlabel": {
           "align": "left"
          },
          "hovermode": "closest",
          "mapbox": {
           "style": "light"
          },
          "paper_bgcolor": "white",
          "plot_bgcolor": "white",
          "polar": {
           "angularaxis": {
            "gridcolor": "#EBF0F8",
            "linecolor": "#EBF0F8",
            "ticks": ""
           },
           "bgcolor": "white",
           "radialaxis": {
            "gridcolor": "#EBF0F8",
            "linecolor": "#EBF0F8",
            "ticks": ""
           }
          },
          "scene": {
           "xaxis": {
            "backgroundcolor": "white",
            "gridcolor": "#DFE8F3",
            "gridwidth": 2,
            "linecolor": "#EBF0F8",
            "showbackground": true,
            "ticks": "",
            "zerolinecolor": "#EBF0F8"
           },
           "yaxis": {
            "backgroundcolor": "white",
            "gridcolor": "#DFE8F3",
            "gridwidth": 2,
            "linecolor": "#EBF0F8",
            "showbackground": true,
            "ticks": "",
            "zerolinecolor": "#EBF0F8"
           },
           "zaxis": {
            "backgroundcolor": "white",
            "gridcolor": "#DFE8F3",
            "gridwidth": 2,
            "linecolor": "#EBF0F8",
            "showbackground": true,
            "ticks": "",
            "zerolinecolor": "#EBF0F8"
           }
          },
          "shapedefaults": {
           "line": {
            "color": "#2a3f5f"
           }
          },
          "ternary": {
           "aaxis": {
            "gridcolor": "#DFE8F3",
            "linecolor": "#A2B1C6",
            "ticks": ""
           },
           "baxis": {
            "gridcolor": "#DFE8F3",
            "linecolor": "#A2B1C6",
            "ticks": ""
           },
           "bgcolor": "white",
           "caxis": {
            "gridcolor": "#DFE8F3",
            "linecolor": "#A2B1C6",
            "ticks": ""
           }
          },
          "title": {
           "x": 0.05
          },
          "xaxis": {
           "automargin": true,
           "gridcolor": "#EBF0F8",
           "linecolor": "#EBF0F8",
           "ticks": "",
           "title": {
            "standoff": 15
           },
           "zerolinecolor": "#EBF0F8",
           "zerolinewidth": 2
          },
          "yaxis": {
           "automargin": true,
           "gridcolor": "#EBF0F8",
           "linecolor": "#EBF0F8",
           "ticks": "",
           "title": {
            "standoff": 15
           },
           "zerolinecolor": "#EBF0F8",
           "zerolinewidth": 2
          }
         }
        },
        "title": {
         "font": {
          "size": 24
         },
         "text": "Vehicle Prediction Penalties",
         "x": 0.5,
         "xanchor": "center",
         "y": 0.99
        },
        "width": 950,
        "xaxis": {
         "griddash": "dot",
         "range": [
          -0.4,
          24.4
         ],
         "tickformat": "",
         "ticktext": [
          "0",
          "1",
          "2",
          "3",
          "4",
          "5",
          "6",
          "7",
          "8",
          "9",
          "10",
          "11",
          "12",
          "13",
          "14",
          "15",
          "16",
          "17",
          "18",
          "19",
          "20",
          "21",
          "22",
          "23",
          "0",
          "1",
          "2",
          "3"
         ],
         "tickvals": [
          0,
          1,
          2,
          3,
          4,
          5,
          6,
          7,
          8,
          9,
          10,
          11,
          12,
          13,
          14,
          15,
          16,
          17,
          18,
          19,
          20,
          21,
          22,
          23,
          24,
          25,
          26,
          27
         ],
         "title": {
          "text": ""
         }
        },
        "yaxis": {
         "dtick": 5,
         "nticks": 6,
         "tickformat": " ,.2~g",
         "title": {
          "text": ""
         },
         "type": "linear"
        }
       }
      },
      "text/html": [
       "<div>                            <div id=\"53c53d63-5e69-4daa-b3a1-101070a5ebc8\" class=\"plotly-graph-div\" style=\"height:650px; width:950px;\"></div>            <script type=\"text/javascript\">                require([\"plotly\"], function(Plotly) {                    window.PLOTLYENV=window.PLOTLYENV || {};                                    if (document.getElementById(\"53c53d63-5e69-4daa-b3a1-101070a5ebc8\")) {                    Plotly.newPlot(                        \"53c53d63-5e69-4daa-b3a1-101070a5ebc8\",                        [{\"marker\":{\"color\":\"crimson\",\"line\":{\"width\":0},\"opacity\":0.8},\"name\":\"Insufficiently Charged Vehicle\",\"showlegend\":true,\"width\":0.9,\"y\":[0.0,0.0,0.0,0.0,0.0,5.499840290103297,1.1073159750434134,0.0,0.0,0.0,5.017237916387826,5.017237916387826,0.0,0.0,26.016513140078086,12.432092501257117,4.837013661737965,0.0,0.0,0.0,0.0,0.0,0.0,0.0],\"yaxis\":\"y\",\"type\":\"bar\"},{\"marker\":{\"color\":\"sienna\",\"line\":{\"width\":0},\"opacity\":0.8},\"name\":\"Overcharged Vehicle\",\"showlegend\":true,\"width\":0.9,\"y\":[0.0,0.0,0.0,0.0,0.0,0.0,0.0,0.0,0.0,0.0,0.0,0.0,0.0,0.0,0.0,0.0,0.0,0.0,0.0,0.0,0.0,0.0,0.0,0.0],\"yaxis\":\"y\",\"type\":\"bar\"},{\"marker\":{\"color\":\"darkorange\",\"line\":{\"width\":0},\"opacity\":0.8},\"name\":\"Needless Vehicle Charging\",\"showlegend\":true,\"width\":0.9,\"y\":[0.0,0.0,0.0,0.0,0.0,0.0,0.0,0.0,0.0,0.0,0.0,0.0,0.0,0.0,0.0,0.0,0.0,0.0,0.0,0.0,0.0,0.0,0.0,0.0],\"yaxis\":\"y\",\"type\":\"bar\"},{\"legendgroup\":\"Total Vehicle Penalty\",\"line\":{\"color\":\"rgba(0,0,0,0.7)\",\"shape\":\"linear\",\"width\":2},\"marker\":{\"color\":[0.0,0.0,0.0,0.0,0.0,5.499840290103297,1.1073159750434134,0.0,0.0,0.0,5.017237916387826,5.017237916387826,0.0,0.0,26.016513140078086,12.432092501257117,4.837013661737965,0.0,0.0,0.0,0.0,0.0,0.0,0.0],\"coloraxis\":\"coloraxis\",\"line\":{\"width\":1.5},\"size\":8,\"symbol\":\"diamond\"},\"mode\":\"lines+markers\",\"name\":\"Total Vehicle penalty\",\"showlegend\":true,\"x\":[0,1,2,3,4,5,6,7,8,9,10,11,12,13,14,15,16,17,18,19,20,21,22,23],\"y\":[0.0,0.0,0.0,0.0,0.0,5.499840290103297,1.1073159750434134,0.0,0.0,0.0,5.017237916387826,5.017237916387826,0.0,0.0,26.016513140078086,12.432092501257117,4.837013661737965,0.0,0.0,0.0,0.0,0.0,0.0,0.0],\"yaxis\":\"y\",\"type\":\"scatter\"}],                        {\"template\":{\"data\":{\"histogram2dcontour\":[{\"type\":\"histogram2dcontour\",\"colorbar\":{\"outlinewidth\":0,\"ticks\":\"\"},\"colorscale\":[[0.0,\"#0d0887\"],[0.1111111111111111,\"#46039f\"],[0.2222222222222222,\"#7201a8\"],[0.3333333333333333,\"#9c179e\"],[0.4444444444444444,\"#bd3786\"],[0.5555555555555556,\"#d8576b\"],[0.6666666666666666,\"#ed7953\"],[0.7777777777777778,\"#fb9f3a\"],[0.8888888888888888,\"#fdca26\"],[1.0,\"#f0f921\"]]}],\"choropleth\":[{\"type\":\"choropleth\",\"colorbar\":{\"outlinewidth\":0,\"ticks\":\"\"}}],\"histogram2d\":[{\"type\":\"histogram2d\",\"colorbar\":{\"outlinewidth\":0,\"ticks\":\"\"},\"colorscale\":[[0.0,\"#0d0887\"],[0.1111111111111111,\"#46039f\"],[0.2222222222222222,\"#7201a8\"],[0.3333333333333333,\"#9c179e\"],[0.4444444444444444,\"#bd3786\"],[0.5555555555555556,\"#d8576b\"],[0.6666666666666666,\"#ed7953\"],[0.7777777777777778,\"#fb9f3a\"],[0.8888888888888888,\"#fdca26\"],[1.0,\"#f0f921\"]]}],\"heatmap\":[{\"type\":\"heatmap\",\"colorbar\":{\"outlinewidth\":0,\"ticks\":\"\"},\"colorscale\":[[0.0,\"#0d0887\"],[0.1111111111111111,\"#46039f\"],[0.2222222222222222,\"#7201a8\"],[0.3333333333333333,\"#9c179e\"],[0.4444444444444444,\"#bd3786\"],[0.5555555555555556,\"#d8576b\"],[0.6666666666666666,\"#ed7953\"],[0.7777777777777778,\"#fb9f3a\"],[0.8888888888888888,\"#fdca26\"],[1.0,\"#f0f921\"]]}],\"heatmapgl\":[{\"type\":\"heatmapgl\",\"colorbar\":{\"outlinewidth\":0,\"ticks\":\"\"},\"colorscale\":[[0.0,\"#0d0887\"],[0.1111111111111111,\"#46039f\"],[0.2222222222222222,\"#7201a8\"],[0.3333333333333333,\"#9c179e\"],[0.4444444444444444,\"#bd3786\"],[0.5555555555555556,\"#d8576b\"],[0.6666666666666666,\"#ed7953\"],[0.7777777777777778,\"#fb9f3a\"],[0.8888888888888888,\"#fdca26\"],[1.0,\"#f0f921\"]]}],\"contourcarpet\":[{\"type\":\"contourcarpet\",\"colorbar\":{\"outlinewidth\":0,\"ticks\":\"\"}}],\"contour\":[{\"type\":\"contour\",\"colorbar\":{\"outlinewidth\":0,\"ticks\":\"\"},\"colorscale\":[[0.0,\"#0d0887\"],[0.1111111111111111,\"#46039f\"],[0.2222222222222222,\"#7201a8\"],[0.3333333333333333,\"#9c179e\"],[0.4444444444444444,\"#bd3786\"],[0.5555555555555556,\"#d8576b\"],[0.6666666666666666,\"#ed7953\"],[0.7777777777777778,\"#fb9f3a\"],[0.8888888888888888,\"#fdca26\"],[1.0,\"#f0f921\"]]}],\"surface\":[{\"type\":\"surface\",\"colorbar\":{\"outlinewidth\":0,\"ticks\":\"\"},\"colorscale\":[[0.0,\"#0d0887\"],[0.1111111111111111,\"#46039f\"],[0.2222222222222222,\"#7201a8\"],[0.3333333333333333,\"#9c179e\"],[0.4444444444444444,\"#bd3786\"],[0.5555555555555556,\"#d8576b\"],[0.6666666666666666,\"#ed7953\"],[0.7777777777777778,\"#fb9f3a\"],[0.8888888888888888,\"#fdca26\"],[1.0,\"#f0f921\"]]}],\"mesh3d\":[{\"type\":\"mesh3d\",\"colorbar\":{\"outlinewidth\":0,\"ticks\":\"\"}}],\"scatter\":[{\"fillpattern\":{\"fillmode\":\"overlay\",\"size\":10,\"solidity\":0.2},\"type\":\"scatter\"}],\"parcoords\":[{\"type\":\"parcoords\",\"line\":{\"colorbar\":{\"outlinewidth\":0,\"ticks\":\"\"}}}],\"scatterpolargl\":[{\"type\":\"scatterpolargl\",\"marker\":{\"colorbar\":{\"outlinewidth\":0,\"ticks\":\"\"}}}],\"bar\":[{\"error_x\":{\"color\":\"#2a3f5f\"},\"error_y\":{\"color\":\"#2a3f5f\"},\"marker\":{\"line\":{\"color\":\"white\",\"width\":0.5},\"pattern\":{\"fillmode\":\"overlay\",\"size\":10,\"solidity\":0.2}},\"type\":\"bar\"}],\"scattergeo\":[{\"type\":\"scattergeo\",\"marker\":{\"colorbar\":{\"outlinewidth\":0,\"ticks\":\"\"}}}],\"scatterpolar\":[{\"type\":\"scatterpolar\",\"marker\":{\"colorbar\":{\"outlinewidth\":0,\"ticks\":\"\"}}}],\"histogram\":[{\"marker\":{\"pattern\":{\"fillmode\":\"overlay\",\"size\":10,\"solidity\":0.2}},\"type\":\"histogram\"}],\"scattergl\":[{\"type\":\"scattergl\",\"marker\":{\"colorbar\":{\"outlinewidth\":0,\"ticks\":\"\"}}}],\"scatter3d\":[{\"type\":\"scatter3d\",\"line\":{\"colorbar\":{\"outlinewidth\":0,\"ticks\":\"\"}},\"marker\":{\"colorbar\":{\"outlinewidth\":0,\"ticks\":\"\"}}}],\"scattermapbox\":[{\"type\":\"scattermapbox\",\"marker\":{\"colorbar\":{\"outlinewidth\":0,\"ticks\":\"\"}}}],\"scatterternary\":[{\"type\":\"scatterternary\",\"marker\":{\"colorbar\":{\"outlinewidth\":0,\"ticks\":\"\"}}}],\"scattercarpet\":[{\"type\":\"scattercarpet\",\"marker\":{\"colorbar\":{\"outlinewidth\":0,\"ticks\":\"\"}}}],\"carpet\":[{\"aaxis\":{\"endlinecolor\":\"#2a3f5f\",\"gridcolor\":\"#C8D4E3\",\"linecolor\":\"#C8D4E3\",\"minorgridcolor\":\"#C8D4E3\",\"startlinecolor\":\"#2a3f5f\"},\"baxis\":{\"endlinecolor\":\"#2a3f5f\",\"gridcolor\":\"#C8D4E3\",\"linecolor\":\"#C8D4E3\",\"minorgridcolor\":\"#C8D4E3\",\"startlinecolor\":\"#2a3f5f\"},\"type\":\"carpet\"}],\"table\":[{\"cells\":{\"fill\":{\"color\":\"#EBF0F8\"},\"line\":{\"color\":\"white\"}},\"header\":{\"fill\":{\"color\":\"#C8D4E3\"},\"line\":{\"color\":\"white\"}},\"type\":\"table\"}],\"barpolar\":[{\"marker\":{\"line\":{\"color\":\"white\",\"width\":0.5},\"pattern\":{\"fillmode\":\"overlay\",\"size\":10,\"solidity\":0.2}},\"type\":\"barpolar\"}],\"pie\":[{\"automargin\":true,\"type\":\"pie\"}]},\"layout\":{\"autotypenumbers\":\"strict\",\"colorway\":[\"#636efa\",\"#EF553B\",\"#00cc96\",\"#ab63fa\",\"#FFA15A\",\"#19d3f3\",\"#FF6692\",\"#B6E880\",\"#FF97FF\",\"#FECB52\"],\"font\":{\"color\":\"#2a3f5f\"},\"hovermode\":\"closest\",\"hoverlabel\":{\"align\":\"left\"},\"paper_bgcolor\":\"white\",\"plot_bgcolor\":\"white\",\"polar\":{\"bgcolor\":\"white\",\"angularaxis\":{\"gridcolor\":\"#EBF0F8\",\"linecolor\":\"#EBF0F8\",\"ticks\":\"\"},\"radialaxis\":{\"gridcolor\":\"#EBF0F8\",\"linecolor\":\"#EBF0F8\",\"ticks\":\"\"}},\"ternary\":{\"bgcolor\":\"white\",\"aaxis\":{\"gridcolor\":\"#DFE8F3\",\"linecolor\":\"#A2B1C6\",\"ticks\":\"\"},\"baxis\":{\"gridcolor\":\"#DFE8F3\",\"linecolor\":\"#A2B1C6\",\"ticks\":\"\"},\"caxis\":{\"gridcolor\":\"#DFE8F3\",\"linecolor\":\"#A2B1C6\",\"ticks\":\"\"}},\"coloraxis\":{\"colorbar\":{\"outlinewidth\":0,\"ticks\":\"\"}},\"colorscale\":{\"sequential\":[[0.0,\"#0d0887\"],[0.1111111111111111,\"#46039f\"],[0.2222222222222222,\"#7201a8\"],[0.3333333333333333,\"#9c179e\"],[0.4444444444444444,\"#bd3786\"],[0.5555555555555556,\"#d8576b\"],[0.6666666666666666,\"#ed7953\"],[0.7777777777777778,\"#fb9f3a\"],[0.8888888888888888,\"#fdca26\"],[1.0,\"#f0f921\"]],\"sequentialminus\":[[0.0,\"#0d0887\"],[0.1111111111111111,\"#46039f\"],[0.2222222222222222,\"#7201a8\"],[0.3333333333333333,\"#9c179e\"],[0.4444444444444444,\"#bd3786\"],[0.5555555555555556,\"#d8576b\"],[0.6666666666666666,\"#ed7953\"],[0.7777777777777778,\"#fb9f3a\"],[0.8888888888888888,\"#fdca26\"],[1.0,\"#f0f921\"]],\"diverging\":[[0,\"#8e0152\"],[0.1,\"#c51b7d\"],[0.2,\"#de77ae\"],[0.3,\"#f1b6da\"],[0.4,\"#fde0ef\"],[0.5,\"#f7f7f7\"],[0.6,\"#e6f5d0\"],[0.7,\"#b8e186\"],[0.8,\"#7fbc41\"],[0.9,\"#4d9221\"],[1,\"#276419\"]]},\"xaxis\":{\"gridcolor\":\"#EBF0F8\",\"linecolor\":\"#EBF0F8\",\"ticks\":\"\",\"title\":{\"standoff\":15},\"zerolinecolor\":\"#EBF0F8\",\"automargin\":true,\"zerolinewidth\":2},\"yaxis\":{\"gridcolor\":\"#EBF0F8\",\"linecolor\":\"#EBF0F8\",\"ticks\":\"\",\"title\":{\"standoff\":15},\"zerolinecolor\":\"#EBF0F8\",\"automargin\":true,\"zerolinewidth\":2},\"scene\":{\"xaxis\":{\"backgroundcolor\":\"white\",\"gridcolor\":\"#DFE8F3\",\"linecolor\":\"#EBF0F8\",\"showbackground\":true,\"ticks\":\"\",\"zerolinecolor\":\"#EBF0F8\",\"gridwidth\":2},\"yaxis\":{\"backgroundcolor\":\"white\",\"gridcolor\":\"#DFE8F3\",\"linecolor\":\"#EBF0F8\",\"showbackground\":true,\"ticks\":\"\",\"zerolinecolor\":\"#EBF0F8\",\"gridwidth\":2},\"zaxis\":{\"backgroundcolor\":\"white\",\"gridcolor\":\"#DFE8F3\",\"linecolor\":\"#EBF0F8\",\"showbackground\":true,\"ticks\":\"\",\"zerolinecolor\":\"#EBF0F8\",\"gridwidth\":2}},\"shapedefaults\":{\"line\":{\"color\":\"#2a3f5f\"}},\"annotationdefaults\":{\"arrowcolor\":\"#2a3f5f\",\"arrowhead\":0,\"arrowwidth\":1},\"geo\":{\"bgcolor\":\"white\",\"landcolor\":\"white\",\"subunitcolor\":\"#C8D4E3\",\"showland\":true,\"showlakes\":true,\"lakecolor\":\"white\"},\"title\":{\"x\":0.05},\"mapbox\":{\"style\":\"light\"}}},\"annotations\":[{\"font\":{\"size\":14},\"showarrow\":false,\"text\":\"Penalty Value\",\"textangle\":-90,\"x\":-0.1,\"xanchor\":\"left\",\"xref\":\"paper\",\"y\":0.5,\"yanchor\":\"middle\",\"yref\":\"paper\"},{\"font\":{\"size\":14},\"showarrow\":false,\"text\":\"Timestep (Hour) in a Day\",\"textangle\":0,\"x\":0.5,\"xref\":\"paper\",\"y\":-0.1,\"yref\":\"paper\"}],\"title\":{\"text\":\"Vehicle Prediction Penalties\",\"font\":{\"size\":24},\"xanchor\":\"center\",\"x\":0.5,\"y\":0.99},\"yaxis\":{\"title\":{\"text\":\"\"},\"nticks\":6,\"dtick\":5,\"tickformat\":\" ,.2~g\",\"type\":\"linear\"},\"xaxis\":{\"tickformat\":\"\",\"griddash\":\"dot\",\"title\":{\"text\":\"\"},\"range\":[-0.4,24.4],\"tickvals\":[0,1,2,3,4,5,6,7,8,9,10,11,12,13,14,15,16,17,18,19,20,21,22,23,24,25,26,27],\"ticktext\":[\"0\",\"1\",\"2\",\"3\",\"4\",\"5\",\"6\",\"7\",\"8\",\"9\",\"10\",\"11\",\"12\",\"13\",\"14\",\"15\",\"16\",\"17\",\"18\",\"19\",\"20\",\"21\",\"22\",\"23\",\"0\",\"1\",\"2\",\"3\"]},\"coloraxis\":{\"colorbar\":{\"title\":{\"text\":\"Total Vehicle Penalty Value\",\"side\":\"right\"}},\"colorscale\":[[0,\"crimson\"],[0.5,\"orange\"],[1,\"sienna\"]]},\"legend\":{\"x\":0.5,\"orientation\":\"h\",\"yanchor\":\"bottom\",\"entrywidth\":0,\"y\":1.01,\"xanchor\":\"center\"},\"height\":650,\"width\":950,\"showlegend\":true,\"barmode\":\"stack\",\"scattermode\":\"overlay\"},                        {\"responsive\": true}                    ).then(function(){\n",
       "                            \n",
       "var gd = document.getElementById('53c53d63-5e69-4daa-b3a1-101070a5ebc8');\n",
       "var x = new MutationObserver(function (mutations, observer) {{\n",
       "        var display = window.getComputedStyle(gd).display;\n",
       "        if (!display || display === 'none') {{\n",
       "            console.log([gd, 'removed!']);\n",
       "            Plotly.purge(gd);\n",
       "            observer.disconnect();\n",
       "        }}\n",
       "}});\n",
       "\n",
       "// Listen for the removal of the full notebook cells\n",
       "var notebookContainer = gd.closest('#notebook-container');\n",
       "if (notebookContainer) {{\n",
       "    x.observe(notebookContainer, {childList: true});\n",
       "}}\n",
       "\n",
       "// Listen for the clearing of the current output cell\n",
       "var outputEl = gd.closest('.output');\n",
       "if (outputEl) {{\n",
       "    x.observe(outputEl, {childList: true});\n",
       "}}\n",
       "\n",
       "                        })                };                });            </script>        </div>"
      ]
     },
     "metadata": {},
     "output_type": "display_data"
    }
   ],
   "source": [
    "subplot_fig = go.Figure()\n",
    "\n",
    "pen1 = penalties['Insufficiently Charged Vehicle Penalty']\n",
    "pen2 = penalties['Overcharged Vehicle Penalty']\n",
    "pen3 = penalties['Needless Vehicle Charging Penalty']\n",
    "\n",
    "subplot_fig.add_bar(y=pen1, showlegend=True, yaxis='y', width=0.9,\n",
    "                    marker=dict(color='crimson', opacity=0.8, line_width=0), name='Insufficiently Charged Vehicle')\n",
    "subplot_fig.add_bar(y=pen2, showlegend=True, yaxis='y', width=0.9,\n",
    "                    marker=dict(color='sienna', opacity=0.8, line_width=0), name='Overcharged Vehicle')\n",
    "subplot_fig.add_bar(y=pen3, showlegend=True, yaxis='y', width=0.9,\n",
    "                    marker=dict(color='darkorange', opacity=0.8, line_width=0), name='Needless Vehicle Charging')\n",
    "\n",
    "pevpenalties = penalties['Total Vehicle Penalty']\n",
    "subplot_fig.add_scatter(x=penalties.index, y=pevpenalties, line_shape='linear', name='Total Vehicle penalty', mode='lines+markers',\n",
    "                        marker=dict(size=8, symbol='diamond', line=dict(width=1.5), color=pevpenalties, coloraxis='coloraxis'), line=dict(color='rgba(0,0,0,0.7)', width=2),\n",
    "                        showlegend=True, yaxis='y', legendgroup='Total Vehicle Penalty')\n",
    "\n",
    "subplot_fig.add_annotation(x=-0.1, y=0.5, text=\"Penalty Value\", xanchor='left', yanchor='middle', textangle=-90, xref=\"paper\", yref=\"paper\", font_size=14, showarrow=False)\n",
    "subplot_fig.add_annotation(x=0.5, y=-0.1, text=\"Timestep (Hour) in a Day\", textangle=0, xref=\"paper\", yref=\"paper\", font_size=14, showarrow=False)\n",
    "\n",
    "max_timestep = int(initial_training_data.Departure.max() + 1)\n",
    "subplot_fig.update_layout(title=\"Vehicle Prediction Penalties\",\n",
    "                          yaxis=dict(title=''))\n",
    "subplot_fig.update_xaxes(tickformat='', griddash=\"dot\", title='', range=[-0.4, 24.4],\n",
    "                         tickvals=[i for i in range(max_timestep)],\n",
    "                         ticktext=[str(i%24) for i in range(max_timestep)])\n",
    "\n",
    "# For plot export: w(1280)xh(720), w(1920)xh(1080)\n",
    "# For better overview in jupyter: w(850)xh(650)\n",
    "plot_width = 950\n",
    "plot_height = 650\n",
    "\n",
    "subplot_fig.update_yaxes(nticks=6, dtick=0.2)\n",
    "subplot_fig.update_layout(height=plot_height, width=plot_width, title=dict(xanchor=\"center\", x=0.5, font_size=24, y=0.99), \n",
    "                          showlegend=True, coloraxis=dict(colorscale=[[0, 'crimson'], [0.5, 'orange'], [1, 'sienna']], \n",
    "                                                          colorbar=dict(title=dict(text='Total Vehicle Penalty Value', side='right'))), barmode='stack',\n",
    "                          legend=dict(x=0.5, orientation='h', yanchor='bottom', entrywidth=0, y=1.01, xanchor='center'), scattermode='overlay',\n",
    "                          yaxis=dict(tickformat=\" ,.2~g\", dtick=5, type='linear'))\n",
    "\n",
    "\n",
    "subplot_fig.show()\n",
    "\n",
    "del max_timestep, plot_width, plot_height"
   ]
  },
  {
   "cell_type": "markdown",
   "id": "cf9c9939",
   "metadata": {},
   "source": [
    "#### Predicted Battery System Values and Penalties"
   ]
  },
  {
   "cell_type": "code",
   "execution_count": 70,
   "id": "afe7dfab",
   "metadata": {},
   "outputs": [
    {
     "data": {
      "application/vnd.plotly.v1+json": {
       "config": {
        "plotlyServerURL": "https://plot.ly"
       },
       "data": [
        {
         "line": {
          "color": "darkorange",
          "shape": "linear"
         },
         "marker": {
          "size": 8,
          "symbol": "square-dot"
         },
         "mode": "markers",
         "name": "Initial State of Charge %",
         "showlegend": true,
         "type": "scatter",
         "x": [
          0
         ],
         "xaxis": "x",
         "y": [
          0.5
         ],
         "yaxis": "y"
        },
        {
         "line": {
          "color": "darkorange",
          "shape": "linear"
         },
         "marker": {
          "size": 8,
          "symbol": "circle-dot"
         },
         "mode": "markers+lines",
         "name": "Current State of Charge %",
         "showlegend": true,
         "type": "scatter",
         "x": [
          1,
          2,
          3,
          4,
          5,
          6,
          7,
          8,
          9,
          10,
          11,
          12,
          13,
          14,
          15,
          16,
          17,
          18,
          19,
          20,
          21,
          22,
          23,
          24
         ],
         "xaxis": "x",
         "y": [
          0.4912154572736472,
          0.47532862100750206,
          0.3924190648645163,
          0.3092312110587955,
          0.3234049680922181,
          0.34527412576600913,
          0.2946644804254175,
          0.35287141293287283,
          0.31601022414863117,
          0.4418773493915797,
          0.5154462832957507,
          0.4829209602624179,
          0.4622091117966921,
          0.4972599020320923,
          0.5386715970654041,
          0.5927939406689258,
          0.4984131470229478,
          0.3540314102079721,
          0.2559725622739644,
          0.2989769944455476,
          0.25041240169666723,
          0.21125548298470692,
          0.21486373293097147,
          0.20240917286719212
         ],
         "yaxis": "y"
        },
        {
         "marker": {
          "color": "darkturquoise",
          "coloraxis": "coloraxis",
          "line": {
           "width": 0
          },
          "opacity": 0.3
         },
         "name": "Battery Action",
         "showlegend": true,
         "type": "bar",
         "width": 0.9,
         "xaxis": "x",
         "y": [
          -0.0168125219643116,
          -0.030405428260564804,
          -0.1586785763502121,
          -0.159211203455925,
          0.02712680771946907,
          0.041854847222566605,
          -0.09686056524515152,
          0.11140082776546478,
          -0.07054772973060608,
          0.24089401960372925,
          0.1408017873764038,
          -0.06224942207336426,
          -0.039639901369810104,
          0.06708285212516785,
          0.07925683259963989,
          0.1035834327340126,
          -0.18063309788703918,
          -0.2763286828994751,
          -0.1876724362373352,
          0.08230513334274292,
          -0.09294658899307251,
          -0.0749414712190628,
          0.006905741523951292,
          -0.02383647859096527
         ],
         "yaxis": "y"
        },
        {
         "marker": {
          "color": "dimgrey",
          "line": {
           "color": "dimgrey",
           "width": 1.2
          },
          "opacity": 0.8,
          "pattern": {
           "fillmode": "replace",
           "shape": "\\",
           "size": 5
          }
         },
         "name": "Dis/Charging Calculated Power [kW]",
         "showlegend": true,
         "type": "bar",
         "width": 0.9,
         "xaxis": "x",
         "y": [
          -0.7027634181082248,
          -1.2709469012916088,
          -6.6327644914388655,
          -6.655028304457664,
          1.133900562673807,
          1.749532613903284,
          -4.0487716272473335,
          4.656554600596428,
          -2.9488951027393338,
          10.069370019435882,
          5.885514712333679,
          -2.602025842666626,
          -1.6569478772580624,
          2.804063218832016,
          3.3129356026649472,
          4.329787488281727,
          -7.550463491678237,
          -11.550538945198058,
          -7.844707834720611,
          3.440354573726654,
          -3.885167419910431,
          -3.132553496956825,
          0.288659995701164,
          -0.9963648051023483
         ],
         "yaxis": "y2"
        },
        {
         "marker": {
          "color": "dimgrey",
          "line": {
           "color": "dimgrey",
           "width": 1.2
          },
          "opacity": 0.8,
          "pattern": {
           "fillmode": "replace",
           "shape": "/",
           "size": 15
          }
         },
         "name": "Dis/Charging Power [kW]",
         "showlegend": true,
         "type": "bar",
         "width": 0.9,
         "xaxis": "x",
         "y": [
          -0.7027634181082248,
          -1.2709469012916088,
          -6.6327644914388655,
          -6.655028304457664,
          1.133900562673807,
          1.749532613903284,
          -4.0487716272473335,
          4.656554600596428,
          -2.9488951027393338,
          10.069370019435882,
          5.885514712333679,
          -2.602025842666626,
          -1.6569478772580624,
          2.804063218832016,
          3.3129356026649472,
          4.329787488281727,
          -7.550463491678237,
          -11.550538945198058,
          -7.844707834720611,
          3.440354573726654,
          -3.885167419910431,
          -3.132553496956825,
          0.288659995701164,
          -0.9963648051023483
         ],
         "yaxis": "y2"
        },
        {
         "line": {
          "color": "black",
          "shape": "linear"
         },
         "marker": {
          "size": 8,
          "symbol": "cross"
         },
         "mode": "markers",
         "name": "Dis/Charging Calculated Power [kW]",
         "showlegend": true,
         "type": "scatter",
         "xaxis": "x",
         "y": [
          -0.7027634181082248,
          -1.2709469012916088,
          -6.6327644914388655,
          -6.655028304457664,
          1.133900562673807,
          1.749532613903284,
          -4.0487716272473335,
          4.656554600596428,
          -2.9488951027393338,
          10.069370019435882,
          5.885514712333679,
          -2.602025842666626,
          -1.6569478772580624,
          2.804063218832016,
          3.3129356026649472,
          4.329787488281727,
          -7.550463491678237,
          -11.550538945198058,
          -7.844707834720611,
          3.440354573726654,
          -3.885167419910431,
          -3.132553496956825,
          0.288659995701164,
          -0.9963648051023483
         ],
         "yaxis": "y2"
        },
        {
         "line": {
          "color": "black",
          "shape": "linear"
         },
         "marker": {
          "size": 8,
          "symbol": "circle"
         },
         "mode": "markers",
         "name": "Dis/Charging Power [kW]",
         "showlegend": true,
         "type": "scatter",
         "xaxis": "x",
         "y": [
          -0.7027634181082248,
          -1.2709469012916088,
          -6.6327644914388655,
          -6.655028304457664,
          1.133900562673807,
          1.749532613903284,
          -4.0487716272473335,
          4.656554600596428,
          -2.9488951027393338,
          10.069370019435882,
          5.885514712333679,
          -2.602025842666626,
          -1.6569478772580624,
          2.804063218832016,
          3.3129356026649472,
          4.329787488281727,
          -7.550463491678237,
          -11.550538945198058,
          -7.844707834720611,
          3.440354573726654,
          -3.885167419910431,
          -3.132553496956825,
          0.288659995701164,
          -0.9963648051023483
         ],
         "yaxis": "y2"
        },
        {
         "fill": "tozeroy",
         "line": {
          "color": "crimson",
          "shape": "linear"
         },
         "marker": {
          "size": 8,
          "symbol": "circle"
         },
         "mode": "lines+markers",
         "name": "Value at timestep end",
         "showlegend": false,
         "type": "scatter",
         "xaxis": "x2",
         "y": [
          0,
          0,
          0,
          0,
          0,
          0,
          0,
          0,
          0,
          0,
          0,
          0,
          0,
          0,
          0,
          0,
          0,
          0,
          0,
          0,
          0,
          0,
          0,
          0
         ],
         "yaxis": "y3"
        },
        {
         "legendgroup": "Total Battery Penalty",
         "legendgrouptitle": {
          "text": "Total Battery Penalty"
         },
         "marker": {
          "color": "crimson",
          "coloraxis": "coloraxis",
          "line": {
           "width": 0
          },
          "opacity": 0.8
         },
         "name": "Value at timestep end",
         "showlegend": true,
         "type": "bar",
         "width": 0.2,
         "x": [
          0,
          1,
          2,
          3,
          4,
          5,
          6,
          7,
          8,
          9,
          10,
          11,
          12,
          13,
          14,
          15,
          16,
          17,
          18,
          19,
          20,
          21,
          22,
          23
         ],
         "xaxis": "x2",
         "y": [
          0,
          0,
          0,
          0,
          0,
          0,
          0,
          0,
          0,
          0,
          0,
          0,
          0,
          0,
          0,
          0,
          0,
          0,
          0,
          0,
          0,
          0,
          0,
          0
         ],
         "yaxis": "y3"
        }
       ],
       "layout": {
        "annotations": [
         {
          "font": {
           "size": 14
          },
          "showarrow": false,
          "text": "Timestep (Hour) in a Day",
          "textangle": 0,
          "x": 0.46153846153846156,
          "xref": "paper",
          "y": -0.1,
          "yref": "paper"
         }
        ],
        "barmode": "overlay",
        "height": 790,
        "legend": {
         "x": 1.0833333333333333
        },
        "showlegend": true,
        "template": {
         "data": {
          "bar": [
           {
            "error_x": {
             "color": "#2a3f5f"
            },
            "error_y": {
             "color": "#2a3f5f"
            },
            "marker": {
             "line": {
              "color": "white",
              "width": 0.5
             },
             "pattern": {
              "fillmode": "overlay",
              "size": 10,
              "solidity": 0.2
             }
            },
            "type": "bar"
           }
          ],
          "barpolar": [
           {
            "marker": {
             "line": {
              "color": "white",
              "width": 0.5
             },
             "pattern": {
              "fillmode": "overlay",
              "size": 10,
              "solidity": 0.2
             }
            },
            "type": "barpolar"
           }
          ],
          "carpet": [
           {
            "aaxis": {
             "endlinecolor": "#2a3f5f",
             "gridcolor": "#C8D4E3",
             "linecolor": "#C8D4E3",
             "minorgridcolor": "#C8D4E3",
             "startlinecolor": "#2a3f5f"
            },
            "baxis": {
             "endlinecolor": "#2a3f5f",
             "gridcolor": "#C8D4E3",
             "linecolor": "#C8D4E3",
             "minorgridcolor": "#C8D4E3",
             "startlinecolor": "#2a3f5f"
            },
            "type": "carpet"
           }
          ],
          "choropleth": [
           {
            "colorbar": {
             "outlinewidth": 0,
             "ticks": ""
            },
            "type": "choropleth"
           }
          ],
          "contour": [
           {
            "colorbar": {
             "outlinewidth": 0,
             "ticks": ""
            },
            "colorscale": [
             [
              0,
              "#0d0887"
             ],
             [
              0.1111111111111111,
              "#46039f"
             ],
             [
              0.2222222222222222,
              "#7201a8"
             ],
             [
              0.3333333333333333,
              "#9c179e"
             ],
             [
              0.4444444444444444,
              "#bd3786"
             ],
             [
              0.5555555555555556,
              "#d8576b"
             ],
             [
              0.6666666666666666,
              "#ed7953"
             ],
             [
              0.7777777777777778,
              "#fb9f3a"
             ],
             [
              0.8888888888888888,
              "#fdca26"
             ],
             [
              1,
              "#f0f921"
             ]
            ],
            "type": "contour"
           }
          ],
          "contourcarpet": [
           {
            "colorbar": {
             "outlinewidth": 0,
             "ticks": ""
            },
            "type": "contourcarpet"
           }
          ],
          "heatmap": [
           {
            "colorbar": {
             "outlinewidth": 0,
             "ticks": ""
            },
            "colorscale": [
             [
              0,
              "#0d0887"
             ],
             [
              0.1111111111111111,
              "#46039f"
             ],
             [
              0.2222222222222222,
              "#7201a8"
             ],
             [
              0.3333333333333333,
              "#9c179e"
             ],
             [
              0.4444444444444444,
              "#bd3786"
             ],
             [
              0.5555555555555556,
              "#d8576b"
             ],
             [
              0.6666666666666666,
              "#ed7953"
             ],
             [
              0.7777777777777778,
              "#fb9f3a"
             ],
             [
              0.8888888888888888,
              "#fdca26"
             ],
             [
              1,
              "#f0f921"
             ]
            ],
            "type": "heatmap"
           }
          ],
          "heatmapgl": [
           {
            "colorbar": {
             "outlinewidth": 0,
             "ticks": ""
            },
            "colorscale": [
             [
              0,
              "#0d0887"
             ],
             [
              0.1111111111111111,
              "#46039f"
             ],
             [
              0.2222222222222222,
              "#7201a8"
             ],
             [
              0.3333333333333333,
              "#9c179e"
             ],
             [
              0.4444444444444444,
              "#bd3786"
             ],
             [
              0.5555555555555556,
              "#d8576b"
             ],
             [
              0.6666666666666666,
              "#ed7953"
             ],
             [
              0.7777777777777778,
              "#fb9f3a"
             ],
             [
              0.8888888888888888,
              "#fdca26"
             ],
             [
              1,
              "#f0f921"
             ]
            ],
            "type": "heatmapgl"
           }
          ],
          "histogram": [
           {
            "marker": {
             "pattern": {
              "fillmode": "overlay",
              "size": 10,
              "solidity": 0.2
             }
            },
            "type": "histogram"
           }
          ],
          "histogram2d": [
           {
            "colorbar": {
             "outlinewidth": 0,
             "ticks": ""
            },
            "colorscale": [
             [
              0,
              "#0d0887"
             ],
             [
              0.1111111111111111,
              "#46039f"
             ],
             [
              0.2222222222222222,
              "#7201a8"
             ],
             [
              0.3333333333333333,
              "#9c179e"
             ],
             [
              0.4444444444444444,
              "#bd3786"
             ],
             [
              0.5555555555555556,
              "#d8576b"
             ],
             [
              0.6666666666666666,
              "#ed7953"
             ],
             [
              0.7777777777777778,
              "#fb9f3a"
             ],
             [
              0.8888888888888888,
              "#fdca26"
             ],
             [
              1,
              "#f0f921"
             ]
            ],
            "type": "histogram2d"
           }
          ],
          "histogram2dcontour": [
           {
            "colorbar": {
             "outlinewidth": 0,
             "ticks": ""
            },
            "colorscale": [
             [
              0,
              "#0d0887"
             ],
             [
              0.1111111111111111,
              "#46039f"
             ],
             [
              0.2222222222222222,
              "#7201a8"
             ],
             [
              0.3333333333333333,
              "#9c179e"
             ],
             [
              0.4444444444444444,
              "#bd3786"
             ],
             [
              0.5555555555555556,
              "#d8576b"
             ],
             [
              0.6666666666666666,
              "#ed7953"
             ],
             [
              0.7777777777777778,
              "#fb9f3a"
             ],
             [
              0.8888888888888888,
              "#fdca26"
             ],
             [
              1,
              "#f0f921"
             ]
            ],
            "type": "histogram2dcontour"
           }
          ],
          "mesh3d": [
           {
            "colorbar": {
             "outlinewidth": 0,
             "ticks": ""
            },
            "type": "mesh3d"
           }
          ],
          "parcoords": [
           {
            "line": {
             "colorbar": {
              "outlinewidth": 0,
              "ticks": ""
             }
            },
            "type": "parcoords"
           }
          ],
          "pie": [
           {
            "automargin": true,
            "type": "pie"
           }
          ],
          "scatter": [
           {
            "fillpattern": {
             "fillmode": "overlay",
             "size": 10,
             "solidity": 0.2
            },
            "type": "scatter"
           }
          ],
          "scatter3d": [
           {
            "line": {
             "colorbar": {
              "outlinewidth": 0,
              "ticks": ""
             }
            },
            "marker": {
             "colorbar": {
              "outlinewidth": 0,
              "ticks": ""
             }
            },
            "type": "scatter3d"
           }
          ],
          "scattercarpet": [
           {
            "marker": {
             "colorbar": {
              "outlinewidth": 0,
              "ticks": ""
             }
            },
            "type": "scattercarpet"
           }
          ],
          "scattergeo": [
           {
            "marker": {
             "colorbar": {
              "outlinewidth": 0,
              "ticks": ""
             }
            },
            "type": "scattergeo"
           }
          ],
          "scattergl": [
           {
            "marker": {
             "colorbar": {
              "outlinewidth": 0,
              "ticks": ""
             }
            },
            "type": "scattergl"
           }
          ],
          "scattermapbox": [
           {
            "marker": {
             "colorbar": {
              "outlinewidth": 0,
              "ticks": ""
             }
            },
            "type": "scattermapbox"
           }
          ],
          "scatterpolar": [
           {
            "marker": {
             "colorbar": {
              "outlinewidth": 0,
              "ticks": ""
             }
            },
            "type": "scatterpolar"
           }
          ],
          "scatterpolargl": [
           {
            "marker": {
             "colorbar": {
              "outlinewidth": 0,
              "ticks": ""
             }
            },
            "type": "scatterpolargl"
           }
          ],
          "scatterternary": [
           {
            "marker": {
             "colorbar": {
              "outlinewidth": 0,
              "ticks": ""
             }
            },
            "type": "scatterternary"
           }
          ],
          "surface": [
           {
            "colorbar": {
             "outlinewidth": 0,
             "ticks": ""
            },
            "colorscale": [
             [
              0,
              "#0d0887"
             ],
             [
              0.1111111111111111,
              "#46039f"
             ],
             [
              0.2222222222222222,
              "#7201a8"
             ],
             [
              0.3333333333333333,
              "#9c179e"
             ],
             [
              0.4444444444444444,
              "#bd3786"
             ],
             [
              0.5555555555555556,
              "#d8576b"
             ],
             [
              0.6666666666666666,
              "#ed7953"
             ],
             [
              0.7777777777777778,
              "#fb9f3a"
             ],
             [
              0.8888888888888888,
              "#fdca26"
             ],
             [
              1,
              "#f0f921"
             ]
            ],
            "type": "surface"
           }
          ],
          "table": [
           {
            "cells": {
             "fill": {
              "color": "#EBF0F8"
             },
             "line": {
              "color": "white"
             }
            },
            "header": {
             "fill": {
              "color": "#C8D4E3"
             },
             "line": {
              "color": "white"
             }
            },
            "type": "table"
           }
          ]
         },
         "layout": {
          "annotationdefaults": {
           "arrowcolor": "#2a3f5f",
           "arrowhead": 0,
           "arrowwidth": 1
          },
          "autotypenumbers": "strict",
          "coloraxis": {
           "colorbar": {
            "outlinewidth": 0,
            "ticks": ""
           }
          },
          "colorscale": {
           "diverging": [
            [
             0,
             "#8e0152"
            ],
            [
             0.1,
             "#c51b7d"
            ],
            [
             0.2,
             "#de77ae"
            ],
            [
             0.3,
             "#f1b6da"
            ],
            [
             0.4,
             "#fde0ef"
            ],
            [
             0.5,
             "#f7f7f7"
            ],
            [
             0.6,
             "#e6f5d0"
            ],
            [
             0.7,
             "#b8e186"
            ],
            [
             0.8,
             "#7fbc41"
            ],
            [
             0.9,
             "#4d9221"
            ],
            [
             1,
             "#276419"
            ]
           ],
           "sequential": [
            [
             0,
             "#0d0887"
            ],
            [
             0.1111111111111111,
             "#46039f"
            ],
            [
             0.2222222222222222,
             "#7201a8"
            ],
            [
             0.3333333333333333,
             "#9c179e"
            ],
            [
             0.4444444444444444,
             "#bd3786"
            ],
            [
             0.5555555555555556,
             "#d8576b"
            ],
            [
             0.6666666666666666,
             "#ed7953"
            ],
            [
             0.7777777777777778,
             "#fb9f3a"
            ],
            [
             0.8888888888888888,
             "#fdca26"
            ],
            [
             1,
             "#f0f921"
            ]
           ],
           "sequentialminus": [
            [
             0,
             "#0d0887"
            ],
            [
             0.1111111111111111,
             "#46039f"
            ],
            [
             0.2222222222222222,
             "#7201a8"
            ],
            [
             0.3333333333333333,
             "#9c179e"
            ],
            [
             0.4444444444444444,
             "#bd3786"
            ],
            [
             0.5555555555555556,
             "#d8576b"
            ],
            [
             0.6666666666666666,
             "#ed7953"
            ],
            [
             0.7777777777777778,
             "#fb9f3a"
            ],
            [
             0.8888888888888888,
             "#fdca26"
            ],
            [
             1,
             "#f0f921"
            ]
           ]
          },
          "colorway": [
           "#636efa",
           "#EF553B",
           "#00cc96",
           "#ab63fa",
           "#FFA15A",
           "#19d3f3",
           "#FF6692",
           "#B6E880",
           "#FF97FF",
           "#FECB52"
          ],
          "font": {
           "color": "#2a3f5f"
          },
          "geo": {
           "bgcolor": "white",
           "lakecolor": "white",
           "landcolor": "white",
           "showlakes": true,
           "showland": true,
           "subunitcolor": "#C8D4E3"
          },
          "hoverlabel": {
           "align": "left"
          },
          "hovermode": "closest",
          "mapbox": {
           "style": "light"
          },
          "paper_bgcolor": "white",
          "plot_bgcolor": "white",
          "polar": {
           "angularaxis": {
            "gridcolor": "#EBF0F8",
            "linecolor": "#EBF0F8",
            "ticks": ""
           },
           "bgcolor": "white",
           "radialaxis": {
            "gridcolor": "#EBF0F8",
            "linecolor": "#EBF0F8",
            "ticks": ""
           }
          },
          "scene": {
           "xaxis": {
            "backgroundcolor": "white",
            "gridcolor": "#DFE8F3",
            "gridwidth": 2,
            "linecolor": "#EBF0F8",
            "showbackground": true,
            "ticks": "",
            "zerolinecolor": "#EBF0F8"
           },
           "yaxis": {
            "backgroundcolor": "white",
            "gridcolor": "#DFE8F3",
            "gridwidth": 2,
            "linecolor": "#EBF0F8",
            "showbackground": true,
            "ticks": "",
            "zerolinecolor": "#EBF0F8"
           },
           "zaxis": {
            "backgroundcolor": "white",
            "gridcolor": "#DFE8F3",
            "gridwidth": 2,
            "linecolor": "#EBF0F8",
            "showbackground": true,
            "ticks": "",
            "zerolinecolor": "#EBF0F8"
           }
          },
          "shapedefaults": {
           "line": {
            "color": "#2a3f5f"
           }
          },
          "ternary": {
           "aaxis": {
            "gridcolor": "#DFE8F3",
            "linecolor": "#A2B1C6",
            "ticks": ""
           },
           "baxis": {
            "gridcolor": "#DFE8F3",
            "linecolor": "#A2B1C6",
            "ticks": ""
           },
           "bgcolor": "white",
           "caxis": {
            "gridcolor": "#DFE8F3",
            "linecolor": "#A2B1C6",
            "ticks": ""
           }
          },
          "title": {
           "x": 0.05
          },
          "xaxis": {
           "automargin": true,
           "gridcolor": "#EBF0F8",
           "linecolor": "#EBF0F8",
           "ticks": "",
           "title": {
            "standoff": 15
           },
           "zerolinecolor": "#EBF0F8",
           "zerolinewidth": 2
          },
          "yaxis": {
           "automargin": true,
           "gridcolor": "#EBF0F8",
           "linecolor": "#EBF0F8",
           "ticks": "",
           "title": {
            "standoff": 15
           },
           "zerolinecolor": "#EBF0F8",
           "zerolinewidth": 2
          }
         }
        },
        "title": {
         "font": {
          "size": 24
         },
         "text": "Predicted Battery Values",
         "x": 0.375,
         "xanchor": "center",
         "y": 0.92
        },
        "width": 950,
        "xaxis": {
         "anchor": "y",
         "domain": [
          0,
          0.94
         ],
         "griddash": "dot",
         "matches": "x2",
         "range": [
          -0.4,
          24.4
         ],
         "showticklabels": false,
         "tickformat": "",
         "ticktext": [
          "0",
          "1",
          "2",
          "3",
          "4",
          "5",
          "6",
          "7",
          "8",
          "9",
          "10",
          "11",
          "12",
          "13",
          "14",
          "15",
          "16",
          "17",
          "18",
          "19",
          "20",
          "21",
          "22",
          "23",
          "0",
          "1",
          "2",
          "3"
         ],
         "tickvals": [
          0,
          1,
          2,
          3,
          4,
          5,
          6,
          7,
          8,
          9,
          10,
          11,
          12,
          13,
          14,
          15,
          16,
          17,
          18,
          19,
          20,
          21,
          22,
          23,
          24,
          25,
          26,
          27
         ]
        },
        "xaxis2": {
         "anchor": "y3",
         "domain": [
          0,
          0.94
         ],
         "griddash": "dot",
         "range": [
          -0.4,
          24.4
         ],
         "tickformat": "",
         "ticktext": [
          "0",
          "1",
          "2",
          "3",
          "4",
          "5",
          "6",
          "7",
          "8",
          "9",
          "10",
          "11",
          "12",
          "13",
          "14",
          "15",
          "16",
          "17",
          "18",
          "19",
          "20",
          "21",
          "22",
          "23",
          "0",
          "1",
          "2",
          "3"
         ],
         "tickvals": [
          0,
          1,
          2,
          3,
          4,
          5,
          6,
          7,
          8,
          9,
          10,
          11,
          12,
          13,
          14,
          15,
          16,
          17,
          18,
          19,
          20,
          21,
          22,
          23,
          24,
          25,
          26,
          27
         ]
        },
        "yaxis": {
         "anchor": "x",
         "domain": [
          0.424,
          1
         ],
         "dtick": 0.25,
         "nticks": 5,
         "range": [
          -1.1,
          1.1
         ],
         "tickformat": " ,~",
         "title": {
          "text": "State of Charge - Action Value"
         }
        },
        "yaxis2": {
         "anchor": "x",
         "dtick": 10,
         "nticks": 5,
         "overlaying": "y",
         "range": [
          -50.2,
          50.2
         ],
         "side": "right",
         "tickformat": " ,~",
         "title": {
          "text": "Power [kW]"
         }
        },
        "yaxis3": {
         "anchor": "x2",
         "domain": [
          0,
          0.384
         ],
         "nticks": 6,
         "tickformat": " ,~g",
         "title": {
          "text": "Penalty Value "
         },
         "type": "linear"
        },
        "yaxis4": {
         "anchor": "x2",
         "overlaying": "y3",
         "side": "right"
        }
       }
      },
      "text/html": [
       "<div>                            <div id=\"a96fb6dc-b35f-416c-a6c0-e00f37c7cc2f\" class=\"plotly-graph-div\" style=\"height:790px; width:950px;\"></div>            <script type=\"text/javascript\">                require([\"plotly\"], function(Plotly) {                    window.PLOTLYENV=window.PLOTLYENV || {};                                    if (document.getElementById(\"a96fb6dc-b35f-416c-a6c0-e00f37c7cc2f\")) {                    Plotly.newPlot(                        \"a96fb6dc-b35f-416c-a6c0-e00f37c7cc2f\",                        [{\"line\":{\"color\":\"darkorange\",\"shape\":\"linear\"},\"marker\":{\"size\":8,\"symbol\":\"square-dot\"},\"mode\":\"markers\",\"name\":\"Initial State of Charge %\",\"showlegend\":true,\"x\":[0],\"y\":[0.5],\"yaxis\":\"y\",\"type\":\"scatter\",\"xaxis\":\"x\"},{\"line\":{\"color\":\"darkorange\",\"shape\":\"linear\"},\"marker\":{\"size\":8,\"symbol\":\"circle-dot\"},\"mode\":\"markers+lines\",\"name\":\"Current State of Charge %\",\"showlegend\":true,\"x\":[1,2,3,4,5,6,7,8,9,10,11,12,13,14,15,16,17,18,19,20,21,22,23,24],\"y\":[0.4912154572736472,0.47532862100750206,0.3924190648645163,0.3092312110587955,0.3234049680922181,0.34527412576600913,0.2946644804254175,0.35287141293287283,0.31601022414863117,0.4418773493915797,0.5154462832957507,0.4829209602624179,0.4622091117966921,0.4972599020320923,0.5386715970654041,0.5927939406689258,0.4984131470229478,0.3540314102079721,0.2559725622739644,0.2989769944455476,0.25041240169666723,0.21125548298470692,0.21486373293097147,0.20240917286719212],\"yaxis\":\"y\",\"type\":\"scatter\",\"xaxis\":\"x\"},{\"marker\":{\"color\":\"darkturquoise\",\"coloraxis\":\"coloraxis\",\"line\":{\"width\":0},\"opacity\":0.3},\"name\":\"Battery Action\",\"showlegend\":true,\"width\":0.9,\"y\":[-0.0168125219643116,-0.030405428260564804,-0.1586785763502121,-0.159211203455925,0.02712680771946907,0.041854847222566605,-0.09686056524515152,0.11140082776546478,-0.07054772973060608,0.24089401960372925,0.1408017873764038,-0.06224942207336426,-0.039639901369810104,0.06708285212516785,0.07925683259963989,0.1035834327340126,-0.18063309788703918,-0.2763286828994751,-0.1876724362373352,0.08230513334274292,-0.09294658899307251,-0.0749414712190628,0.006905741523951292,-0.02383647859096527],\"yaxis\":\"y\",\"type\":\"bar\",\"xaxis\":\"x\"},{\"marker\":{\"color\":\"dimgrey\",\"line\":{\"color\":\"dimgrey\",\"width\":1.2},\"opacity\":0.8,\"pattern\":{\"fillmode\":\"replace\",\"shape\":\"\\\\\",\"size\":5}},\"name\":\"Dis/Charging Calculated Power [kW]\",\"showlegend\":true,\"width\":0.9,\"y\":[-0.7027634181082248,-1.2709469012916088,-6.6327644914388655,-6.655028304457664,1.133900562673807,1.749532613903284,-4.0487716272473335,4.656554600596428,-2.9488951027393338,10.069370019435882,5.885514712333679,-2.602025842666626,-1.6569478772580624,2.804063218832016,3.3129356026649472,4.329787488281727,-7.550463491678237,-11.550538945198058,-7.844707834720611,3.440354573726654,-3.885167419910431,-3.132553496956825,0.288659995701164,-0.9963648051023483],\"yaxis\":\"y2\",\"type\":\"bar\",\"xaxis\":\"x\"},{\"marker\":{\"color\":\"dimgrey\",\"line\":{\"color\":\"dimgrey\",\"width\":1.2},\"opacity\":0.8,\"pattern\":{\"fillmode\":\"replace\",\"shape\":\"/\",\"size\":15}},\"name\":\"Dis/Charging Power [kW]\",\"showlegend\":true,\"width\":0.9,\"y\":[-0.7027634181082248,-1.2709469012916088,-6.6327644914388655,-6.655028304457664,1.133900562673807,1.749532613903284,-4.0487716272473335,4.656554600596428,-2.9488951027393338,10.069370019435882,5.885514712333679,-2.602025842666626,-1.6569478772580624,2.804063218832016,3.3129356026649472,4.329787488281727,-7.550463491678237,-11.550538945198058,-7.844707834720611,3.440354573726654,-3.885167419910431,-3.132553496956825,0.288659995701164,-0.9963648051023483],\"yaxis\":\"y2\",\"type\":\"bar\",\"xaxis\":\"x\"},{\"line\":{\"color\":\"black\",\"shape\":\"linear\"},\"marker\":{\"size\":8,\"symbol\":\"cross\"},\"mode\":\"markers\",\"name\":\"Dis/Charging Calculated Power [kW]\",\"showlegend\":true,\"y\":[-0.7027634181082248,-1.2709469012916088,-6.6327644914388655,-6.655028304457664,1.133900562673807,1.749532613903284,-4.0487716272473335,4.656554600596428,-2.9488951027393338,10.069370019435882,5.885514712333679,-2.602025842666626,-1.6569478772580624,2.804063218832016,3.3129356026649472,4.329787488281727,-7.550463491678237,-11.550538945198058,-7.844707834720611,3.440354573726654,-3.885167419910431,-3.132553496956825,0.288659995701164,-0.9963648051023483],\"yaxis\":\"y2\",\"type\":\"scatter\",\"xaxis\":\"x\"},{\"line\":{\"color\":\"black\",\"shape\":\"linear\"},\"marker\":{\"size\":8,\"symbol\":\"circle\"},\"mode\":\"markers\",\"name\":\"Dis/Charging Power [kW]\",\"showlegend\":true,\"y\":[-0.7027634181082248,-1.2709469012916088,-6.6327644914388655,-6.655028304457664,1.133900562673807,1.749532613903284,-4.0487716272473335,4.656554600596428,-2.9488951027393338,10.069370019435882,5.885514712333679,-2.602025842666626,-1.6569478772580624,2.804063218832016,3.3129356026649472,4.329787488281727,-7.550463491678237,-11.550538945198058,-7.844707834720611,3.440354573726654,-3.885167419910431,-3.132553496956825,0.288659995701164,-0.9963648051023483],\"yaxis\":\"y2\",\"type\":\"scatter\",\"xaxis\":\"x\"},{\"fill\":\"tozeroy\",\"line\":{\"color\":\"crimson\",\"shape\":\"linear\"},\"marker\":{\"size\":8,\"symbol\":\"circle\"},\"mode\":\"lines+markers\",\"name\":\"Value at timestep end\",\"showlegend\":false,\"y\":[0.0,0.0,0.0,0.0,0.0,0.0,0.0,0.0,0.0,0.0,0.0,0.0,0.0,0.0,0.0,0.0,0.0,0.0,0.0,0.0,0.0,0.0,0.0,0.0],\"type\":\"scatter\",\"xaxis\":\"x2\",\"yaxis\":\"y3\"},{\"legendgroup\":\"Total Battery Penalty\",\"legendgrouptitle\":{\"text\":\"Total Battery Penalty\"},\"marker\":{\"color\":\"crimson\",\"coloraxis\":\"coloraxis\",\"line\":{\"width\":0},\"opacity\":0.8},\"name\":\"Value at timestep end\",\"showlegend\":true,\"width\":0.2,\"x\":[0,1,2,3,4,5,6,7,8,9,10,11,12,13,14,15,16,17,18,19,20,21,22,23],\"y\":[0.0,0.0,0.0,0.0,0.0,0.0,0.0,0.0,0.0,0.0,0.0,0.0,0.0,0.0,0.0,0.0,0.0,0.0,0.0,0.0,0.0,0.0,0.0,0.0],\"type\":\"bar\",\"xaxis\":\"x2\",\"yaxis\":\"y3\"}],                        {\"template\":{\"data\":{\"histogram2dcontour\":[{\"type\":\"histogram2dcontour\",\"colorbar\":{\"outlinewidth\":0,\"ticks\":\"\"},\"colorscale\":[[0.0,\"#0d0887\"],[0.1111111111111111,\"#46039f\"],[0.2222222222222222,\"#7201a8\"],[0.3333333333333333,\"#9c179e\"],[0.4444444444444444,\"#bd3786\"],[0.5555555555555556,\"#d8576b\"],[0.6666666666666666,\"#ed7953\"],[0.7777777777777778,\"#fb9f3a\"],[0.8888888888888888,\"#fdca26\"],[1.0,\"#f0f921\"]]}],\"choropleth\":[{\"type\":\"choropleth\",\"colorbar\":{\"outlinewidth\":0,\"ticks\":\"\"}}],\"histogram2d\":[{\"type\":\"histogram2d\",\"colorbar\":{\"outlinewidth\":0,\"ticks\":\"\"},\"colorscale\":[[0.0,\"#0d0887\"],[0.1111111111111111,\"#46039f\"],[0.2222222222222222,\"#7201a8\"],[0.3333333333333333,\"#9c179e\"],[0.4444444444444444,\"#bd3786\"],[0.5555555555555556,\"#d8576b\"],[0.6666666666666666,\"#ed7953\"],[0.7777777777777778,\"#fb9f3a\"],[0.8888888888888888,\"#fdca26\"],[1.0,\"#f0f921\"]]}],\"heatmap\":[{\"type\":\"heatmap\",\"colorbar\":{\"outlinewidth\":0,\"ticks\":\"\"},\"colorscale\":[[0.0,\"#0d0887\"],[0.1111111111111111,\"#46039f\"],[0.2222222222222222,\"#7201a8\"],[0.3333333333333333,\"#9c179e\"],[0.4444444444444444,\"#bd3786\"],[0.5555555555555556,\"#d8576b\"],[0.6666666666666666,\"#ed7953\"],[0.7777777777777778,\"#fb9f3a\"],[0.8888888888888888,\"#fdca26\"],[1.0,\"#f0f921\"]]}],\"heatmapgl\":[{\"type\":\"heatmapgl\",\"colorbar\":{\"outlinewidth\":0,\"ticks\":\"\"},\"colorscale\":[[0.0,\"#0d0887\"],[0.1111111111111111,\"#46039f\"],[0.2222222222222222,\"#7201a8\"],[0.3333333333333333,\"#9c179e\"],[0.4444444444444444,\"#bd3786\"],[0.5555555555555556,\"#d8576b\"],[0.6666666666666666,\"#ed7953\"],[0.7777777777777778,\"#fb9f3a\"],[0.8888888888888888,\"#fdca26\"],[1.0,\"#f0f921\"]]}],\"contourcarpet\":[{\"type\":\"contourcarpet\",\"colorbar\":{\"outlinewidth\":0,\"ticks\":\"\"}}],\"contour\":[{\"type\":\"contour\",\"colorbar\":{\"outlinewidth\":0,\"ticks\":\"\"},\"colorscale\":[[0.0,\"#0d0887\"],[0.1111111111111111,\"#46039f\"],[0.2222222222222222,\"#7201a8\"],[0.3333333333333333,\"#9c179e\"],[0.4444444444444444,\"#bd3786\"],[0.5555555555555556,\"#d8576b\"],[0.6666666666666666,\"#ed7953\"],[0.7777777777777778,\"#fb9f3a\"],[0.8888888888888888,\"#fdca26\"],[1.0,\"#f0f921\"]]}],\"surface\":[{\"type\":\"surface\",\"colorbar\":{\"outlinewidth\":0,\"ticks\":\"\"},\"colorscale\":[[0.0,\"#0d0887\"],[0.1111111111111111,\"#46039f\"],[0.2222222222222222,\"#7201a8\"],[0.3333333333333333,\"#9c179e\"],[0.4444444444444444,\"#bd3786\"],[0.5555555555555556,\"#d8576b\"],[0.6666666666666666,\"#ed7953\"],[0.7777777777777778,\"#fb9f3a\"],[0.8888888888888888,\"#fdca26\"],[1.0,\"#f0f921\"]]}],\"mesh3d\":[{\"type\":\"mesh3d\",\"colorbar\":{\"outlinewidth\":0,\"ticks\":\"\"}}],\"scatter\":[{\"fillpattern\":{\"fillmode\":\"overlay\",\"size\":10,\"solidity\":0.2},\"type\":\"scatter\"}],\"parcoords\":[{\"type\":\"parcoords\",\"line\":{\"colorbar\":{\"outlinewidth\":0,\"ticks\":\"\"}}}],\"scatterpolargl\":[{\"type\":\"scatterpolargl\",\"marker\":{\"colorbar\":{\"outlinewidth\":0,\"ticks\":\"\"}}}],\"bar\":[{\"error_x\":{\"color\":\"#2a3f5f\"},\"error_y\":{\"color\":\"#2a3f5f\"},\"marker\":{\"line\":{\"color\":\"white\",\"width\":0.5},\"pattern\":{\"fillmode\":\"overlay\",\"size\":10,\"solidity\":0.2}},\"type\":\"bar\"}],\"scattergeo\":[{\"type\":\"scattergeo\",\"marker\":{\"colorbar\":{\"outlinewidth\":0,\"ticks\":\"\"}}}],\"scatterpolar\":[{\"type\":\"scatterpolar\",\"marker\":{\"colorbar\":{\"outlinewidth\":0,\"ticks\":\"\"}}}],\"histogram\":[{\"marker\":{\"pattern\":{\"fillmode\":\"overlay\",\"size\":10,\"solidity\":0.2}},\"type\":\"histogram\"}],\"scattergl\":[{\"type\":\"scattergl\",\"marker\":{\"colorbar\":{\"outlinewidth\":0,\"ticks\":\"\"}}}],\"scatter3d\":[{\"type\":\"scatter3d\",\"line\":{\"colorbar\":{\"outlinewidth\":0,\"ticks\":\"\"}},\"marker\":{\"colorbar\":{\"outlinewidth\":0,\"ticks\":\"\"}}}],\"scattermapbox\":[{\"type\":\"scattermapbox\",\"marker\":{\"colorbar\":{\"outlinewidth\":0,\"ticks\":\"\"}}}],\"scatterternary\":[{\"type\":\"scatterternary\",\"marker\":{\"colorbar\":{\"outlinewidth\":0,\"ticks\":\"\"}}}],\"scattercarpet\":[{\"type\":\"scattercarpet\",\"marker\":{\"colorbar\":{\"outlinewidth\":0,\"ticks\":\"\"}}}],\"carpet\":[{\"aaxis\":{\"endlinecolor\":\"#2a3f5f\",\"gridcolor\":\"#C8D4E3\",\"linecolor\":\"#C8D4E3\",\"minorgridcolor\":\"#C8D4E3\",\"startlinecolor\":\"#2a3f5f\"},\"baxis\":{\"endlinecolor\":\"#2a3f5f\",\"gridcolor\":\"#C8D4E3\",\"linecolor\":\"#C8D4E3\",\"minorgridcolor\":\"#C8D4E3\",\"startlinecolor\":\"#2a3f5f\"},\"type\":\"carpet\"}],\"table\":[{\"cells\":{\"fill\":{\"color\":\"#EBF0F8\"},\"line\":{\"color\":\"white\"}},\"header\":{\"fill\":{\"color\":\"#C8D4E3\"},\"line\":{\"color\":\"white\"}},\"type\":\"table\"}],\"barpolar\":[{\"marker\":{\"line\":{\"color\":\"white\",\"width\":0.5},\"pattern\":{\"fillmode\":\"overlay\",\"size\":10,\"solidity\":0.2}},\"type\":\"barpolar\"}],\"pie\":[{\"automargin\":true,\"type\":\"pie\"}]},\"layout\":{\"autotypenumbers\":\"strict\",\"colorway\":[\"#636efa\",\"#EF553B\",\"#00cc96\",\"#ab63fa\",\"#FFA15A\",\"#19d3f3\",\"#FF6692\",\"#B6E880\",\"#FF97FF\",\"#FECB52\"],\"font\":{\"color\":\"#2a3f5f\"},\"hovermode\":\"closest\",\"hoverlabel\":{\"align\":\"left\"},\"paper_bgcolor\":\"white\",\"plot_bgcolor\":\"white\",\"polar\":{\"bgcolor\":\"white\",\"angularaxis\":{\"gridcolor\":\"#EBF0F8\",\"linecolor\":\"#EBF0F8\",\"ticks\":\"\"},\"radialaxis\":{\"gridcolor\":\"#EBF0F8\",\"linecolor\":\"#EBF0F8\",\"ticks\":\"\"}},\"ternary\":{\"bgcolor\":\"white\",\"aaxis\":{\"gridcolor\":\"#DFE8F3\",\"linecolor\":\"#A2B1C6\",\"ticks\":\"\"},\"baxis\":{\"gridcolor\":\"#DFE8F3\",\"linecolor\":\"#A2B1C6\",\"ticks\":\"\"},\"caxis\":{\"gridcolor\":\"#DFE8F3\",\"linecolor\":\"#A2B1C6\",\"ticks\":\"\"}},\"coloraxis\":{\"colorbar\":{\"outlinewidth\":0,\"ticks\":\"\"}},\"colorscale\":{\"sequential\":[[0.0,\"#0d0887\"],[0.1111111111111111,\"#46039f\"],[0.2222222222222222,\"#7201a8\"],[0.3333333333333333,\"#9c179e\"],[0.4444444444444444,\"#bd3786\"],[0.5555555555555556,\"#d8576b\"],[0.6666666666666666,\"#ed7953\"],[0.7777777777777778,\"#fb9f3a\"],[0.8888888888888888,\"#fdca26\"],[1.0,\"#f0f921\"]],\"sequentialminus\":[[0.0,\"#0d0887\"],[0.1111111111111111,\"#46039f\"],[0.2222222222222222,\"#7201a8\"],[0.3333333333333333,\"#9c179e\"],[0.4444444444444444,\"#bd3786\"],[0.5555555555555556,\"#d8576b\"],[0.6666666666666666,\"#ed7953\"],[0.7777777777777778,\"#fb9f3a\"],[0.8888888888888888,\"#fdca26\"],[1.0,\"#f0f921\"]],\"diverging\":[[0,\"#8e0152\"],[0.1,\"#c51b7d\"],[0.2,\"#de77ae\"],[0.3,\"#f1b6da\"],[0.4,\"#fde0ef\"],[0.5,\"#f7f7f7\"],[0.6,\"#e6f5d0\"],[0.7,\"#b8e186\"],[0.8,\"#7fbc41\"],[0.9,\"#4d9221\"],[1,\"#276419\"]]},\"xaxis\":{\"gridcolor\":\"#EBF0F8\",\"linecolor\":\"#EBF0F8\",\"ticks\":\"\",\"title\":{\"standoff\":15},\"zerolinecolor\":\"#EBF0F8\",\"automargin\":true,\"zerolinewidth\":2},\"yaxis\":{\"gridcolor\":\"#EBF0F8\",\"linecolor\":\"#EBF0F8\",\"ticks\":\"\",\"title\":{\"standoff\":15},\"zerolinecolor\":\"#EBF0F8\",\"automargin\":true,\"zerolinewidth\":2},\"scene\":{\"xaxis\":{\"backgroundcolor\":\"white\",\"gridcolor\":\"#DFE8F3\",\"linecolor\":\"#EBF0F8\",\"showbackground\":true,\"ticks\":\"\",\"zerolinecolor\":\"#EBF0F8\",\"gridwidth\":2},\"yaxis\":{\"backgroundcolor\":\"white\",\"gridcolor\":\"#DFE8F3\",\"linecolor\":\"#EBF0F8\",\"showbackground\":true,\"ticks\":\"\",\"zerolinecolor\":\"#EBF0F8\",\"gridwidth\":2},\"zaxis\":{\"backgroundcolor\":\"white\",\"gridcolor\":\"#DFE8F3\",\"linecolor\":\"#EBF0F8\",\"showbackground\":true,\"ticks\":\"\",\"zerolinecolor\":\"#EBF0F8\",\"gridwidth\":2}},\"shapedefaults\":{\"line\":{\"color\":\"#2a3f5f\"}},\"annotationdefaults\":{\"arrowcolor\":\"#2a3f5f\",\"arrowhead\":0,\"arrowwidth\":1},\"geo\":{\"bgcolor\":\"white\",\"landcolor\":\"white\",\"subunitcolor\":\"#C8D4E3\",\"showland\":true,\"showlakes\":true,\"lakecolor\":\"white\"},\"title\":{\"x\":0.05},\"mapbox\":{\"style\":\"light\"}}},\"xaxis\":{\"anchor\":\"y\",\"domain\":[0.0,0.94],\"matches\":\"x2\",\"showticklabels\":false,\"tickformat\":\"\",\"griddash\":\"dot\",\"range\":[-0.4,24.4],\"tickvals\":[0,1,2,3,4,5,6,7,8,9,10,11,12,13,14,15,16,17,18,19,20,21,22,23,24,25,26,27],\"ticktext\":[\"0\",\"1\",\"2\",\"3\",\"4\",\"5\",\"6\",\"7\",\"8\",\"9\",\"10\",\"11\",\"12\",\"13\",\"14\",\"15\",\"16\",\"17\",\"18\",\"19\",\"20\",\"21\",\"22\",\"23\",\"0\",\"1\",\"2\",\"3\"]},\"yaxis\":{\"anchor\":\"x\",\"domain\":[0.424,1.0],\"title\":{\"text\":\"State of Charge - Action Value\"},\"tickformat\":\" ,~\",\"nticks\":5,\"range\":[-1.1,1.1],\"dtick\":0.25},\"yaxis2\":{\"anchor\":\"x\",\"overlaying\":\"y\",\"side\":\"right\",\"tickformat\":\" ,~\",\"nticks\":5,\"range\":[-50.2,50.2],\"dtick\":10,\"title\":{\"text\":\"Power [kW]\"}},\"xaxis2\":{\"anchor\":\"y3\",\"domain\":[0.0,0.94],\"tickformat\":\"\",\"griddash\":\"dot\",\"range\":[-0.4,24.4],\"tickvals\":[0,1,2,3,4,5,6,7,8,9,10,11,12,13,14,15,16,17,18,19,20,21,22,23,24,25,26,27],\"ticktext\":[\"0\",\"1\",\"2\",\"3\",\"4\",\"5\",\"6\",\"7\",\"8\",\"9\",\"10\",\"11\",\"12\",\"13\",\"14\",\"15\",\"16\",\"17\",\"18\",\"19\",\"20\",\"21\",\"22\",\"23\",\"0\",\"1\",\"2\",\"3\"]},\"yaxis3\":{\"anchor\":\"x2\",\"domain\":[0.0,0.384],\"title\":{\"text\":\"Penalty Value \"},\"tickformat\":\" ,~g\",\"nticks\":6,\"type\":\"linear\"},\"yaxis4\":{\"anchor\":\"x2\",\"overlaying\":\"y3\",\"side\":\"right\"},\"annotations\":[{\"font\":{\"size\":14},\"showarrow\":false,\"text\":\"Timestep (Hour) in a Day\",\"textangle\":0,\"x\":0.46153846153846156,\"xref\":\"paper\",\"y\":-0.1,\"yref\":\"paper\"}],\"title\":{\"text\":\"Predicted Battery Values\",\"font\":{\"size\":24},\"xanchor\":\"center\",\"x\":0.375,\"y\":0.92},\"barmode\":\"overlay\",\"legend\":{\"x\":1.0833333333333333},\"height\":790,\"width\":950,\"showlegend\":true},                        {\"responsive\": true}                    ).then(function(){\n",
       "                            \n",
       "var gd = document.getElementById('a96fb6dc-b35f-416c-a6c0-e00f37c7cc2f');\n",
       "var x = new MutationObserver(function (mutations, observer) {{\n",
       "        var display = window.getComputedStyle(gd).display;\n",
       "        if (!display || display === 'none') {{\n",
       "            console.log([gd, 'removed!']);\n",
       "            Plotly.purge(gd);\n",
       "            observer.disconnect();\n",
       "        }}\n",
       "}});\n",
       "\n",
       "// Listen for the removal of the full notebook cells\n",
       "var notebookContainer = gd.closest('#notebook-container');\n",
       "if (notebookContainer) {{\n",
       "    x.observe(notebookContainer, {childList: true});\n",
       "}}\n",
       "\n",
       "// Listen for the clearing of the current output cell\n",
       "var outputEl = gd.closest('.output');\n",
       "if (outputEl) {{\n",
       "    x.observe(outputEl, {childList: true});\n",
       "}}\n",
       "\n",
       "                        })                };                });            </script>        </div>"
      ]
     },
     "metadata": {},
     "output_type": "display_data"
    }
   ],
   "source": [
    "subplot_fig = make_subplots(\n",
    "    rows=2,\n",
    "    row_heights=[0.6, 0.4],\n",
    "    cols=1,\n",
    "    shared_xaxes=True,\n",
    "    vertical_spacing=0.04,\n",
    "    specs=[[{'secondary_y': True}], [{'secondary_y': True}]]\n",
    ")\n",
    "\n",
    "subplot_fig.add_scatter(y=[0.5], yaxis='y', row=1, col=1, secondary_y=False,\n",
    "                        x=[0], line_shape='linear', name='Initial State of Charge %', mode='markers',\n",
    "                        marker=dict(size=8, symbol='square-dot'), line=dict(color='darkorange'), showlegend=True)\n",
    "subplot_fig.add_scatter(y=battery_predictions['Battery SOC'], yaxis='y', row=1, col=1, secondary_y=False,\n",
    "                        x=battery_predictions.index+1, line_shape='linear', name='Current State of Charge %', mode='markers+lines',\n",
    "                        marker=dict(size=8, symbol='circle-dot'), line=dict(color='darkorange'), showlegend=True)\n",
    "subplot_fig.add_bar(y=battery_predictions['Battery Action'], showlegend=True, yaxis='y2', width=0.9, row=1, col=1, secondary_y=False,\n",
    "                    marker=dict(color='darkturquoise', coloraxis='coloraxis', opacity=0.3, line_width=0), name='Battery Action')\n",
    "\n",
    "subplot_fig.add_bar(y=battery_predictions['Battery Calculated Power Value'], showlegend=True, yaxis='y3', width=0.9, row=1, col=1, secondary_y=True,\n",
    "                    marker=dict(color='dimgrey', pattern=dict(shape='\\\\', fillmode='replace', size=5), opacity=0.8, line_width=1.2, line_color='dimgrey'), name='Dis/Charging Calculated Power [kW]')\n",
    "subplot_fig.add_bar(y=battery_predictions['Battery Power Value'], showlegend=True, yaxis='y3', width=0.9, row=1, col=1, secondary_y=True,\n",
    "                    marker=dict(color='dimgrey', pattern=dict(shape='/', fillmode='replace', size=15), opacity=0.8, line_width=1.2, line_color='dimgrey'), name='Dis/Charging Power [kW]')\n",
    "\n",
    "subplot_fig.add_scatter(y=battery_predictions['Battery Calculated Power Value'], line_shape='linear', secondary_y=True, \n",
    "                        name='Dis/Charging Calculated Power [kW]', mode='markers', yaxis='y3', row=1, col=1,\n",
    "                        marker=dict(size=8, symbol='cross'), line=dict(color='black'), showlegend=True)\n",
    "subplot_fig.add_scatter(y=battery_predictions['Battery Power Value'], line_shape='linear', secondary_y=True,\n",
    "                        name='Dis/Charging Power [kW]', mode='markers', yaxis='y3', row=1, col=1,\n",
    "                        marker=dict(size=8, symbol='circle'), line=dict(color='black'), showlegend=True)\n",
    "\n",
    "pbpenalties = penalties['Total Battery Penalty']\n",
    "subplot_fig.add_scatter(y=pbpenalties, line_shape='linear', row=2, col=1, name='Value at timestep end', mode='lines+markers',\n",
    "                        marker=dict(size=8, symbol='circle'), line=dict(color='crimson'), fill='tozeroy',\n",
    "                        showlegend=False, secondary_y=False,\n",
    "                        )\n",
    "subplot_fig.add_bar(x=penalties.index, y=pbpenalties, row=2, col=1, name='Value at timestep end', secondary_y=False,\n",
    "                        width=0.2, legendgrouptitle=dict(text='Total Battery Penalty'), legendgroup='Total Battery Penalty',\n",
    "                        marker=dict(line_width=0, opacity=0.8, color='crimson', coloraxis='coloraxis'), showlegend=True)\n",
    "\n",
    "subplot_fig.add_annotation(x=12/26, y=-0.1, text=\"Timestep (Hour) in a Day\", textangle=0, xref=\"paper\", yref=\"paper\", font_size=14, showarrow=False)\n",
    "\n",
    "max_timestep = int(initial_training_data.Departure.max() + 1)\n",
    "subplot_fig.update_layout(title=\"Predicted Battery Values\",\n",
    "                          yaxis=dict(title=''), barmode='overlay')\n",
    "subplot_fig.update_xaxes(tickformat='', griddash=\"dot\", range=[-0.4, 24.4],\n",
    "                         tickvals=[i for i in range(max_timestep)],\n",
    "                         ticktext=[str(i%24) for i in range(max_timestep)])\n",
    "\n",
    "# For plot export: w(1280)xh(720), w(1920)xh(1080)\n",
    "# For better overview in jupyter: w(850)xh(650)\n",
    "plot_width = 950\n",
    "plot_height = 790\n",
    "\n",
    "total_pen_max = pbpenalties.max()\n",
    "y3type = 'log' if total_pen_max > 1000000 else 'linear'\n",
    "y3max_margin = 6 if y3type == 'log' else round(total_pen_max + total_pen_max/10)\n",
    "y3yaxistext = '- log scale' if y3type == 'log' else ''\n",
    "subplot_fig.update_layout(height=plot_height, width=plot_width, title=dict(xanchor=\"center\", x=12/32, font_size=24, y=0.92), \n",
    "                          showlegend=True, legend=dict(x=26/24),\n",
    "                          yaxis=dict(tickformat=\" ,~\", nticks=5, range=[-1.1, 1.1], dtick=0.25, \n",
    "                                     title='State of Charge - Action Value'),\n",
    "                          yaxis2=dict(tickformat=\" ,~\", nticks=5, range=[-50.2, 50.2], dtick=10, title='Power [kW]'),\n",
    "                          yaxis3=dict(tickformat=\" ,~g\", nticks=6, type=y3type, \n",
    "                                      title=dict(text=f'Penalty Value {y3yaxistext}')))\n",
    "\n",
    "subplot_fig.show()\n",
    "\n",
    "del plot_width, plot_height"
   ]
  },
  {
   "cell_type": "markdown",
   "id": "5c87b2de",
   "metadata": {},
   "source": [
    "#### Battery Prediction Penalties per Type"
   ]
  },
  {
   "cell_type": "code",
   "execution_count": 71,
   "id": "1799fa3f",
   "metadata": {},
   "outputs": [
    {
     "data": {
      "application/vnd.plotly.v1+json": {
       "config": {
        "plotlyServerURL": "https://plot.ly"
       },
       "data": [
        {
         "marker": {
          "color": "crimson",
          "line": {
           "width": 0
          },
          "opacity": 0.9
         },
         "name": "Battery SOC Below DoD",
         "showlegend": true,
         "type": "bar",
         "width": 0.9,
         "y": [
          0,
          0,
          0,
          0,
          0,
          0,
          0,
          0,
          0,
          0,
          0,
          0,
          0,
          0,
          0,
          0,
          0,
          0,
          0,
          0,
          0,
          0,
          0,
          0
         ],
         "yaxis": "y"
        },
        {
         "marker": {
          "color": "sienna",
          "line": {
           "width": 0
          },
          "opacity": 0.9
         },
         "name": "Battery Overcharging",
         "showlegend": true,
         "type": "bar",
         "width": 0.9,
         "y": [
          0,
          0,
          0,
          0,
          0,
          0,
          0,
          0,
          0,
          0,
          0,
          0,
          0,
          0,
          0,
          0,
          0,
          0,
          0,
          0,
          0,
          0,
          0,
          0
         ],
         "yaxis": "y"
        },
        {
         "marker": {
          "color": "darkorange",
          "line": {
           "width": 0
          },
          "opacity": 0.9
         },
         "name": "Battery Over Discharging",
         "showlegend": true,
         "type": "bar",
         "width": 0.9,
         "y": [
          0,
          0,
          0,
          0,
          0,
          0,
          0,
          0,
          0,
          0,
          0,
          0,
          0,
          0,
          0,
          0,
          0,
          0,
          0,
          0,
          0,
          0,
          0,
          0
         ],
         "yaxis": "y"
        },
        {
         "legendgroup": "Total Battery Penalty",
         "line": {
          "color": "rgba(0,0,0,0.7)",
          "shape": "linear"
         },
         "marker": {
          "color": [
           0,
           0,
           0,
           0,
           0,
           0,
           0,
           0,
           0,
           0,
           0,
           0,
           0,
           0,
           0,
           0,
           0,
           0,
           0,
           0,
           0,
           0,
           0,
           0
          ],
          "coloraxis": "coloraxis",
          "line": {
           "width": 1.5
          },
          "size": 10,
          "symbol": "diamond"
         },
         "mode": "markers",
         "name": "Total Battery penalty",
         "showlegend": true,
         "type": "scatter",
         "x": [
          0,
          1,
          2,
          3,
          4,
          5,
          6,
          7,
          8,
          9,
          10,
          11,
          12,
          13,
          14,
          15,
          16,
          17,
          18,
          19,
          20,
          21,
          22,
          23
         ],
         "y": [
          0,
          0,
          0,
          0,
          0,
          0,
          0,
          0,
          0,
          0,
          0,
          0,
          0,
          0,
          0,
          0,
          0,
          0,
          0,
          0,
          0,
          0,
          0,
          0
         ],
         "yaxis": "y"
        }
       ],
       "layout": {
        "annotations": [
         {
          "font": {
           "size": 14
          },
          "showarrow": false,
          "text": "Penalty Value",
          "textangle": -90,
          "x": -0.1,
          "xanchor": "left",
          "xref": "paper",
          "y": 0.5,
          "yanchor": "middle",
          "yref": "paper"
         },
         {
          "font": {
           "size": 14
          },
          "showarrow": false,
          "text": "Timestep (Hour) in a Day",
          "textangle": 0,
          "x": 0.5,
          "xref": "paper",
          "y": -0.1,
          "yref": "paper"
         }
        ],
        "barmode": "stack",
        "coloraxis": {
         "colorbar": {
          "title": {
           "side": "right",
           "text": "Total Battery Penalty Value"
          }
         },
         "colorscale": [
          [
           0,
           "crimson"
          ],
          [
           0.5,
           "gold"
          ],
          [
           1,
           "darkgoldenrod"
          ]
         ]
        },
        "height": 650,
        "legend": {
         "entrywidth": 0,
         "orientation": "h",
         "x": 0.5,
         "xanchor": "center",
         "y": 1.01,
         "yanchor": "bottom"
        },
        "scattermode": "overlay",
        "showlegend": true,
        "template": {
         "data": {
          "bar": [
           {
            "error_x": {
             "color": "#2a3f5f"
            },
            "error_y": {
             "color": "#2a3f5f"
            },
            "marker": {
             "line": {
              "color": "white",
              "width": 0.5
             },
             "pattern": {
              "fillmode": "overlay",
              "size": 10,
              "solidity": 0.2
             }
            },
            "type": "bar"
           }
          ],
          "barpolar": [
           {
            "marker": {
             "line": {
              "color": "white",
              "width": 0.5
             },
             "pattern": {
              "fillmode": "overlay",
              "size": 10,
              "solidity": 0.2
             }
            },
            "type": "barpolar"
           }
          ],
          "carpet": [
           {
            "aaxis": {
             "endlinecolor": "#2a3f5f",
             "gridcolor": "#C8D4E3",
             "linecolor": "#C8D4E3",
             "minorgridcolor": "#C8D4E3",
             "startlinecolor": "#2a3f5f"
            },
            "baxis": {
             "endlinecolor": "#2a3f5f",
             "gridcolor": "#C8D4E3",
             "linecolor": "#C8D4E3",
             "minorgridcolor": "#C8D4E3",
             "startlinecolor": "#2a3f5f"
            },
            "type": "carpet"
           }
          ],
          "choropleth": [
           {
            "colorbar": {
             "outlinewidth": 0,
             "ticks": ""
            },
            "type": "choropleth"
           }
          ],
          "contour": [
           {
            "colorbar": {
             "outlinewidth": 0,
             "ticks": ""
            },
            "colorscale": [
             [
              0,
              "#0d0887"
             ],
             [
              0.1111111111111111,
              "#46039f"
             ],
             [
              0.2222222222222222,
              "#7201a8"
             ],
             [
              0.3333333333333333,
              "#9c179e"
             ],
             [
              0.4444444444444444,
              "#bd3786"
             ],
             [
              0.5555555555555556,
              "#d8576b"
             ],
             [
              0.6666666666666666,
              "#ed7953"
             ],
             [
              0.7777777777777778,
              "#fb9f3a"
             ],
             [
              0.8888888888888888,
              "#fdca26"
             ],
             [
              1,
              "#f0f921"
             ]
            ],
            "type": "contour"
           }
          ],
          "contourcarpet": [
           {
            "colorbar": {
             "outlinewidth": 0,
             "ticks": ""
            },
            "type": "contourcarpet"
           }
          ],
          "heatmap": [
           {
            "colorbar": {
             "outlinewidth": 0,
             "ticks": ""
            },
            "colorscale": [
             [
              0,
              "#0d0887"
             ],
             [
              0.1111111111111111,
              "#46039f"
             ],
             [
              0.2222222222222222,
              "#7201a8"
             ],
             [
              0.3333333333333333,
              "#9c179e"
             ],
             [
              0.4444444444444444,
              "#bd3786"
             ],
             [
              0.5555555555555556,
              "#d8576b"
             ],
             [
              0.6666666666666666,
              "#ed7953"
             ],
             [
              0.7777777777777778,
              "#fb9f3a"
             ],
             [
              0.8888888888888888,
              "#fdca26"
             ],
             [
              1,
              "#f0f921"
             ]
            ],
            "type": "heatmap"
           }
          ],
          "heatmapgl": [
           {
            "colorbar": {
             "outlinewidth": 0,
             "ticks": ""
            },
            "colorscale": [
             [
              0,
              "#0d0887"
             ],
             [
              0.1111111111111111,
              "#46039f"
             ],
             [
              0.2222222222222222,
              "#7201a8"
             ],
             [
              0.3333333333333333,
              "#9c179e"
             ],
             [
              0.4444444444444444,
              "#bd3786"
             ],
             [
              0.5555555555555556,
              "#d8576b"
             ],
             [
              0.6666666666666666,
              "#ed7953"
             ],
             [
              0.7777777777777778,
              "#fb9f3a"
             ],
             [
              0.8888888888888888,
              "#fdca26"
             ],
             [
              1,
              "#f0f921"
             ]
            ],
            "type": "heatmapgl"
           }
          ],
          "histogram": [
           {
            "marker": {
             "pattern": {
              "fillmode": "overlay",
              "size": 10,
              "solidity": 0.2
             }
            },
            "type": "histogram"
           }
          ],
          "histogram2d": [
           {
            "colorbar": {
             "outlinewidth": 0,
             "ticks": ""
            },
            "colorscale": [
             [
              0,
              "#0d0887"
             ],
             [
              0.1111111111111111,
              "#46039f"
             ],
             [
              0.2222222222222222,
              "#7201a8"
             ],
             [
              0.3333333333333333,
              "#9c179e"
             ],
             [
              0.4444444444444444,
              "#bd3786"
             ],
             [
              0.5555555555555556,
              "#d8576b"
             ],
             [
              0.6666666666666666,
              "#ed7953"
             ],
             [
              0.7777777777777778,
              "#fb9f3a"
             ],
             [
              0.8888888888888888,
              "#fdca26"
             ],
             [
              1,
              "#f0f921"
             ]
            ],
            "type": "histogram2d"
           }
          ],
          "histogram2dcontour": [
           {
            "colorbar": {
             "outlinewidth": 0,
             "ticks": ""
            },
            "colorscale": [
             [
              0,
              "#0d0887"
             ],
             [
              0.1111111111111111,
              "#46039f"
             ],
             [
              0.2222222222222222,
              "#7201a8"
             ],
             [
              0.3333333333333333,
              "#9c179e"
             ],
             [
              0.4444444444444444,
              "#bd3786"
             ],
             [
              0.5555555555555556,
              "#d8576b"
             ],
             [
              0.6666666666666666,
              "#ed7953"
             ],
             [
              0.7777777777777778,
              "#fb9f3a"
             ],
             [
              0.8888888888888888,
              "#fdca26"
             ],
             [
              1,
              "#f0f921"
             ]
            ],
            "type": "histogram2dcontour"
           }
          ],
          "mesh3d": [
           {
            "colorbar": {
             "outlinewidth": 0,
             "ticks": ""
            },
            "type": "mesh3d"
           }
          ],
          "parcoords": [
           {
            "line": {
             "colorbar": {
              "outlinewidth": 0,
              "ticks": ""
             }
            },
            "type": "parcoords"
           }
          ],
          "pie": [
           {
            "automargin": true,
            "type": "pie"
           }
          ],
          "scatter": [
           {
            "fillpattern": {
             "fillmode": "overlay",
             "size": 10,
             "solidity": 0.2
            },
            "type": "scatter"
           }
          ],
          "scatter3d": [
           {
            "line": {
             "colorbar": {
              "outlinewidth": 0,
              "ticks": ""
             }
            },
            "marker": {
             "colorbar": {
              "outlinewidth": 0,
              "ticks": ""
             }
            },
            "type": "scatter3d"
           }
          ],
          "scattercarpet": [
           {
            "marker": {
             "colorbar": {
              "outlinewidth": 0,
              "ticks": ""
             }
            },
            "type": "scattercarpet"
           }
          ],
          "scattergeo": [
           {
            "marker": {
             "colorbar": {
              "outlinewidth": 0,
              "ticks": ""
             }
            },
            "type": "scattergeo"
           }
          ],
          "scattergl": [
           {
            "marker": {
             "colorbar": {
              "outlinewidth": 0,
              "ticks": ""
             }
            },
            "type": "scattergl"
           }
          ],
          "scattermapbox": [
           {
            "marker": {
             "colorbar": {
              "outlinewidth": 0,
              "ticks": ""
             }
            },
            "type": "scattermapbox"
           }
          ],
          "scatterpolar": [
           {
            "marker": {
             "colorbar": {
              "outlinewidth": 0,
              "ticks": ""
             }
            },
            "type": "scatterpolar"
           }
          ],
          "scatterpolargl": [
           {
            "marker": {
             "colorbar": {
              "outlinewidth": 0,
              "ticks": ""
             }
            },
            "type": "scatterpolargl"
           }
          ],
          "scatterternary": [
           {
            "marker": {
             "colorbar": {
              "outlinewidth": 0,
              "ticks": ""
             }
            },
            "type": "scatterternary"
           }
          ],
          "surface": [
           {
            "colorbar": {
             "outlinewidth": 0,
             "ticks": ""
            },
            "colorscale": [
             [
              0,
              "#0d0887"
             ],
             [
              0.1111111111111111,
              "#46039f"
             ],
             [
              0.2222222222222222,
              "#7201a8"
             ],
             [
              0.3333333333333333,
              "#9c179e"
             ],
             [
              0.4444444444444444,
              "#bd3786"
             ],
             [
              0.5555555555555556,
              "#d8576b"
             ],
             [
              0.6666666666666666,
              "#ed7953"
             ],
             [
              0.7777777777777778,
              "#fb9f3a"
             ],
             [
              0.8888888888888888,
              "#fdca26"
             ],
             [
              1,
              "#f0f921"
             ]
            ],
            "type": "surface"
           }
          ],
          "table": [
           {
            "cells": {
             "fill": {
              "color": "#EBF0F8"
             },
             "line": {
              "color": "white"
             }
            },
            "header": {
             "fill": {
              "color": "#C8D4E3"
             },
             "line": {
              "color": "white"
             }
            },
            "type": "table"
           }
          ]
         },
         "layout": {
          "annotationdefaults": {
           "arrowcolor": "#2a3f5f",
           "arrowhead": 0,
           "arrowwidth": 1
          },
          "autotypenumbers": "strict",
          "coloraxis": {
           "colorbar": {
            "outlinewidth": 0,
            "ticks": ""
           }
          },
          "colorscale": {
           "diverging": [
            [
             0,
             "#8e0152"
            ],
            [
             0.1,
             "#c51b7d"
            ],
            [
             0.2,
             "#de77ae"
            ],
            [
             0.3,
             "#f1b6da"
            ],
            [
             0.4,
             "#fde0ef"
            ],
            [
             0.5,
             "#f7f7f7"
            ],
            [
             0.6,
             "#e6f5d0"
            ],
            [
             0.7,
             "#b8e186"
            ],
            [
             0.8,
             "#7fbc41"
            ],
            [
             0.9,
             "#4d9221"
            ],
            [
             1,
             "#276419"
            ]
           ],
           "sequential": [
            [
             0,
             "#0d0887"
            ],
            [
             0.1111111111111111,
             "#46039f"
            ],
            [
             0.2222222222222222,
             "#7201a8"
            ],
            [
             0.3333333333333333,
             "#9c179e"
            ],
            [
             0.4444444444444444,
             "#bd3786"
            ],
            [
             0.5555555555555556,
             "#d8576b"
            ],
            [
             0.6666666666666666,
             "#ed7953"
            ],
            [
             0.7777777777777778,
             "#fb9f3a"
            ],
            [
             0.8888888888888888,
             "#fdca26"
            ],
            [
             1,
             "#f0f921"
            ]
           ],
           "sequentialminus": [
            [
             0,
             "#0d0887"
            ],
            [
             0.1111111111111111,
             "#46039f"
            ],
            [
             0.2222222222222222,
             "#7201a8"
            ],
            [
             0.3333333333333333,
             "#9c179e"
            ],
            [
             0.4444444444444444,
             "#bd3786"
            ],
            [
             0.5555555555555556,
             "#d8576b"
            ],
            [
             0.6666666666666666,
             "#ed7953"
            ],
            [
             0.7777777777777778,
             "#fb9f3a"
            ],
            [
             0.8888888888888888,
             "#fdca26"
            ],
            [
             1,
             "#f0f921"
            ]
           ]
          },
          "colorway": [
           "#636efa",
           "#EF553B",
           "#00cc96",
           "#ab63fa",
           "#FFA15A",
           "#19d3f3",
           "#FF6692",
           "#B6E880",
           "#FF97FF",
           "#FECB52"
          ],
          "font": {
           "color": "#2a3f5f"
          },
          "geo": {
           "bgcolor": "white",
           "lakecolor": "white",
           "landcolor": "white",
           "showlakes": true,
           "showland": true,
           "subunitcolor": "#C8D4E3"
          },
          "hoverlabel": {
           "align": "left"
          },
          "hovermode": "closest",
          "mapbox": {
           "style": "light"
          },
          "paper_bgcolor": "white",
          "plot_bgcolor": "white",
          "polar": {
           "angularaxis": {
            "gridcolor": "#EBF0F8",
            "linecolor": "#EBF0F8",
            "ticks": ""
           },
           "bgcolor": "white",
           "radialaxis": {
            "gridcolor": "#EBF0F8",
            "linecolor": "#EBF0F8",
            "ticks": ""
           }
          },
          "scene": {
           "xaxis": {
            "backgroundcolor": "white",
            "gridcolor": "#DFE8F3",
            "gridwidth": 2,
            "linecolor": "#EBF0F8",
            "showbackground": true,
            "ticks": "",
            "zerolinecolor": "#EBF0F8"
           },
           "yaxis": {
            "backgroundcolor": "white",
            "gridcolor": "#DFE8F3",
            "gridwidth": 2,
            "linecolor": "#EBF0F8",
            "showbackground": true,
            "ticks": "",
            "zerolinecolor": "#EBF0F8"
           },
           "zaxis": {
            "backgroundcolor": "white",
            "gridcolor": "#DFE8F3",
            "gridwidth": 2,
            "linecolor": "#EBF0F8",
            "showbackground": true,
            "ticks": "",
            "zerolinecolor": "#EBF0F8"
           }
          },
          "shapedefaults": {
           "line": {
            "color": "#2a3f5f"
           }
          },
          "ternary": {
           "aaxis": {
            "gridcolor": "#DFE8F3",
            "linecolor": "#A2B1C6",
            "ticks": ""
           },
           "baxis": {
            "gridcolor": "#DFE8F3",
            "linecolor": "#A2B1C6",
            "ticks": ""
           },
           "bgcolor": "white",
           "caxis": {
            "gridcolor": "#DFE8F3",
            "linecolor": "#A2B1C6",
            "ticks": ""
           }
          },
          "title": {
           "x": 0.05
          },
          "xaxis": {
           "automargin": true,
           "gridcolor": "#EBF0F8",
           "linecolor": "#EBF0F8",
           "ticks": "",
           "title": {
            "standoff": 15
           },
           "zerolinecolor": "#EBF0F8",
           "zerolinewidth": 2
          },
          "yaxis": {
           "automargin": true,
           "gridcolor": "#EBF0F8",
           "linecolor": "#EBF0F8",
           "ticks": "",
           "title": {
            "standoff": 15
           },
           "zerolinecolor": "#EBF0F8",
           "zerolinewidth": 2
          }
         }
        },
        "title": {
         "font": {
          "size": 24
         },
         "text": "Battery Prediction Penalties",
         "x": 0.5,
         "xanchor": "center",
         "y": 0.99
        },
        "width": 980,
        "xaxis": {
         "griddash": "dot",
         "range": [
          -0.4,
          24.4
         ],
         "tickformat": "",
         "ticktext": [
          "0",
          "1",
          "2",
          "3",
          "4",
          "5",
          "6",
          "7",
          "8",
          "9",
          "10",
          "11",
          "12",
          "13",
          "14",
          "15",
          "16",
          "17",
          "18",
          "19",
          "20",
          "21",
          "22",
          "23",
          "0",
          "1",
          "2",
          "3"
         ],
         "tickvals": [
          0,
          1,
          2,
          3,
          4,
          5,
          6,
          7,
          8,
          9,
          10,
          11,
          12,
          13,
          14,
          15,
          16,
          17,
          18,
          19,
          20,
          21,
          22,
          23,
          24,
          25,
          26,
          27
         ],
         "title": {
          "text": ""
         }
        },
        "yaxis": {
         "dtick": 5,
         "nticks": 5,
         "tickformat": " ,.2~g",
         "title": {
          "text": ""
         },
         "type": "linear"
        }
       }
      },
      "text/html": [
       "<div>                            <div id=\"00c1fdeb-d92a-4e80-b761-3ae18ed4d8dc\" class=\"plotly-graph-div\" style=\"height:650px; width:980px;\"></div>            <script type=\"text/javascript\">                require([\"plotly\"], function(Plotly) {                    window.PLOTLYENV=window.PLOTLYENV || {};                                    if (document.getElementById(\"00c1fdeb-d92a-4e80-b761-3ae18ed4d8dc\")) {                    Plotly.newPlot(                        \"00c1fdeb-d92a-4e80-b761-3ae18ed4d8dc\",                        [{\"marker\":{\"color\":\"crimson\",\"line\":{\"width\":0},\"opacity\":0.9},\"name\":\"Battery SOC Below DoD\",\"showlegend\":true,\"width\":0.9,\"y\":[0.0,0.0,0.0,0.0,0.0,0.0,0.0,0.0,0.0,0.0,0.0,0.0,0.0,0.0,0.0,0.0,0.0,0.0,0.0,0.0,0.0,0.0,0.0,0.0],\"yaxis\":\"y\",\"type\":\"bar\"},{\"marker\":{\"color\":\"sienna\",\"line\":{\"width\":0},\"opacity\":0.9},\"name\":\"Battery Overcharging\",\"showlegend\":true,\"width\":0.9,\"y\":[0.0,0.0,0.0,0.0,0.0,0.0,0.0,0.0,0.0,0.0,0.0,0.0,0.0,0.0,0.0,0.0,0.0,0.0,0.0,0.0,0.0,0.0,0.0,0.0],\"yaxis\":\"y\",\"type\":\"bar\"},{\"marker\":{\"color\":\"darkorange\",\"line\":{\"width\":0},\"opacity\":0.9},\"name\":\"Battery Over Discharging\",\"showlegend\":true,\"width\":0.9,\"y\":[0.0,0.0,0.0,0.0,0.0,0.0,0.0,0.0,0.0,0.0,0.0,0.0,0.0,0.0,0.0,0.0,0.0,0.0,0.0,0.0,0.0,0.0,0.0,0.0],\"yaxis\":\"y\",\"type\":\"bar\"},{\"legendgroup\":\"Total Battery Penalty\",\"line\":{\"color\":\"rgba(0,0,0,0.7)\",\"shape\":\"linear\"},\"marker\":{\"color\":[0.0,0.0,0.0,0.0,0.0,0.0,0.0,0.0,0.0,0.0,0.0,0.0,0.0,0.0,0.0,0.0,0.0,0.0,0.0,0.0,0.0,0.0,0.0,0.0],\"coloraxis\":\"coloraxis\",\"line\":{\"width\":1.5},\"size\":10,\"symbol\":\"diamond\"},\"mode\":\"markers\",\"name\":\"Total Battery penalty\",\"showlegend\":true,\"x\":[0,1,2,3,4,5,6,7,8,9,10,11,12,13,14,15,16,17,18,19,20,21,22,23],\"y\":[0.0,0.0,0.0,0.0,0.0,0.0,0.0,0.0,0.0,0.0,0.0,0.0,0.0,0.0,0.0,0.0,0.0,0.0,0.0,0.0,0.0,0.0,0.0,0.0],\"yaxis\":\"y\",\"type\":\"scatter\"}],                        {\"template\":{\"data\":{\"histogram2dcontour\":[{\"type\":\"histogram2dcontour\",\"colorbar\":{\"outlinewidth\":0,\"ticks\":\"\"},\"colorscale\":[[0.0,\"#0d0887\"],[0.1111111111111111,\"#46039f\"],[0.2222222222222222,\"#7201a8\"],[0.3333333333333333,\"#9c179e\"],[0.4444444444444444,\"#bd3786\"],[0.5555555555555556,\"#d8576b\"],[0.6666666666666666,\"#ed7953\"],[0.7777777777777778,\"#fb9f3a\"],[0.8888888888888888,\"#fdca26\"],[1.0,\"#f0f921\"]]}],\"choropleth\":[{\"type\":\"choropleth\",\"colorbar\":{\"outlinewidth\":0,\"ticks\":\"\"}}],\"histogram2d\":[{\"type\":\"histogram2d\",\"colorbar\":{\"outlinewidth\":0,\"ticks\":\"\"},\"colorscale\":[[0.0,\"#0d0887\"],[0.1111111111111111,\"#46039f\"],[0.2222222222222222,\"#7201a8\"],[0.3333333333333333,\"#9c179e\"],[0.4444444444444444,\"#bd3786\"],[0.5555555555555556,\"#d8576b\"],[0.6666666666666666,\"#ed7953\"],[0.7777777777777778,\"#fb9f3a\"],[0.8888888888888888,\"#fdca26\"],[1.0,\"#f0f921\"]]}],\"heatmap\":[{\"type\":\"heatmap\",\"colorbar\":{\"outlinewidth\":0,\"ticks\":\"\"},\"colorscale\":[[0.0,\"#0d0887\"],[0.1111111111111111,\"#46039f\"],[0.2222222222222222,\"#7201a8\"],[0.3333333333333333,\"#9c179e\"],[0.4444444444444444,\"#bd3786\"],[0.5555555555555556,\"#d8576b\"],[0.6666666666666666,\"#ed7953\"],[0.7777777777777778,\"#fb9f3a\"],[0.8888888888888888,\"#fdca26\"],[1.0,\"#f0f921\"]]}],\"heatmapgl\":[{\"type\":\"heatmapgl\",\"colorbar\":{\"outlinewidth\":0,\"ticks\":\"\"},\"colorscale\":[[0.0,\"#0d0887\"],[0.1111111111111111,\"#46039f\"],[0.2222222222222222,\"#7201a8\"],[0.3333333333333333,\"#9c179e\"],[0.4444444444444444,\"#bd3786\"],[0.5555555555555556,\"#d8576b\"],[0.6666666666666666,\"#ed7953\"],[0.7777777777777778,\"#fb9f3a\"],[0.8888888888888888,\"#fdca26\"],[1.0,\"#f0f921\"]]}],\"contourcarpet\":[{\"type\":\"contourcarpet\",\"colorbar\":{\"outlinewidth\":0,\"ticks\":\"\"}}],\"contour\":[{\"type\":\"contour\",\"colorbar\":{\"outlinewidth\":0,\"ticks\":\"\"},\"colorscale\":[[0.0,\"#0d0887\"],[0.1111111111111111,\"#46039f\"],[0.2222222222222222,\"#7201a8\"],[0.3333333333333333,\"#9c179e\"],[0.4444444444444444,\"#bd3786\"],[0.5555555555555556,\"#d8576b\"],[0.6666666666666666,\"#ed7953\"],[0.7777777777777778,\"#fb9f3a\"],[0.8888888888888888,\"#fdca26\"],[1.0,\"#f0f921\"]]}],\"surface\":[{\"type\":\"surface\",\"colorbar\":{\"outlinewidth\":0,\"ticks\":\"\"},\"colorscale\":[[0.0,\"#0d0887\"],[0.1111111111111111,\"#46039f\"],[0.2222222222222222,\"#7201a8\"],[0.3333333333333333,\"#9c179e\"],[0.4444444444444444,\"#bd3786\"],[0.5555555555555556,\"#d8576b\"],[0.6666666666666666,\"#ed7953\"],[0.7777777777777778,\"#fb9f3a\"],[0.8888888888888888,\"#fdca26\"],[1.0,\"#f0f921\"]]}],\"mesh3d\":[{\"type\":\"mesh3d\",\"colorbar\":{\"outlinewidth\":0,\"ticks\":\"\"}}],\"scatter\":[{\"fillpattern\":{\"fillmode\":\"overlay\",\"size\":10,\"solidity\":0.2},\"type\":\"scatter\"}],\"parcoords\":[{\"type\":\"parcoords\",\"line\":{\"colorbar\":{\"outlinewidth\":0,\"ticks\":\"\"}}}],\"scatterpolargl\":[{\"type\":\"scatterpolargl\",\"marker\":{\"colorbar\":{\"outlinewidth\":0,\"ticks\":\"\"}}}],\"bar\":[{\"error_x\":{\"color\":\"#2a3f5f\"},\"error_y\":{\"color\":\"#2a3f5f\"},\"marker\":{\"line\":{\"color\":\"white\",\"width\":0.5},\"pattern\":{\"fillmode\":\"overlay\",\"size\":10,\"solidity\":0.2}},\"type\":\"bar\"}],\"scattergeo\":[{\"type\":\"scattergeo\",\"marker\":{\"colorbar\":{\"outlinewidth\":0,\"ticks\":\"\"}}}],\"scatterpolar\":[{\"type\":\"scatterpolar\",\"marker\":{\"colorbar\":{\"outlinewidth\":0,\"ticks\":\"\"}}}],\"histogram\":[{\"marker\":{\"pattern\":{\"fillmode\":\"overlay\",\"size\":10,\"solidity\":0.2}},\"type\":\"histogram\"}],\"scattergl\":[{\"type\":\"scattergl\",\"marker\":{\"colorbar\":{\"outlinewidth\":0,\"ticks\":\"\"}}}],\"scatter3d\":[{\"type\":\"scatter3d\",\"line\":{\"colorbar\":{\"outlinewidth\":0,\"ticks\":\"\"}},\"marker\":{\"colorbar\":{\"outlinewidth\":0,\"ticks\":\"\"}}}],\"scattermapbox\":[{\"type\":\"scattermapbox\",\"marker\":{\"colorbar\":{\"outlinewidth\":0,\"ticks\":\"\"}}}],\"scatterternary\":[{\"type\":\"scatterternary\",\"marker\":{\"colorbar\":{\"outlinewidth\":0,\"ticks\":\"\"}}}],\"scattercarpet\":[{\"type\":\"scattercarpet\",\"marker\":{\"colorbar\":{\"outlinewidth\":0,\"ticks\":\"\"}}}],\"carpet\":[{\"aaxis\":{\"endlinecolor\":\"#2a3f5f\",\"gridcolor\":\"#C8D4E3\",\"linecolor\":\"#C8D4E3\",\"minorgridcolor\":\"#C8D4E3\",\"startlinecolor\":\"#2a3f5f\"},\"baxis\":{\"endlinecolor\":\"#2a3f5f\",\"gridcolor\":\"#C8D4E3\",\"linecolor\":\"#C8D4E3\",\"minorgridcolor\":\"#C8D4E3\",\"startlinecolor\":\"#2a3f5f\"},\"type\":\"carpet\"}],\"table\":[{\"cells\":{\"fill\":{\"color\":\"#EBF0F8\"},\"line\":{\"color\":\"white\"}},\"header\":{\"fill\":{\"color\":\"#C8D4E3\"},\"line\":{\"color\":\"white\"}},\"type\":\"table\"}],\"barpolar\":[{\"marker\":{\"line\":{\"color\":\"white\",\"width\":0.5},\"pattern\":{\"fillmode\":\"overlay\",\"size\":10,\"solidity\":0.2}},\"type\":\"barpolar\"}],\"pie\":[{\"automargin\":true,\"type\":\"pie\"}]},\"layout\":{\"autotypenumbers\":\"strict\",\"colorway\":[\"#636efa\",\"#EF553B\",\"#00cc96\",\"#ab63fa\",\"#FFA15A\",\"#19d3f3\",\"#FF6692\",\"#B6E880\",\"#FF97FF\",\"#FECB52\"],\"font\":{\"color\":\"#2a3f5f\"},\"hovermode\":\"closest\",\"hoverlabel\":{\"align\":\"left\"},\"paper_bgcolor\":\"white\",\"plot_bgcolor\":\"white\",\"polar\":{\"bgcolor\":\"white\",\"angularaxis\":{\"gridcolor\":\"#EBF0F8\",\"linecolor\":\"#EBF0F8\",\"ticks\":\"\"},\"radialaxis\":{\"gridcolor\":\"#EBF0F8\",\"linecolor\":\"#EBF0F8\",\"ticks\":\"\"}},\"ternary\":{\"bgcolor\":\"white\",\"aaxis\":{\"gridcolor\":\"#DFE8F3\",\"linecolor\":\"#A2B1C6\",\"ticks\":\"\"},\"baxis\":{\"gridcolor\":\"#DFE8F3\",\"linecolor\":\"#A2B1C6\",\"ticks\":\"\"},\"caxis\":{\"gridcolor\":\"#DFE8F3\",\"linecolor\":\"#A2B1C6\",\"ticks\":\"\"}},\"coloraxis\":{\"colorbar\":{\"outlinewidth\":0,\"ticks\":\"\"}},\"colorscale\":{\"sequential\":[[0.0,\"#0d0887\"],[0.1111111111111111,\"#46039f\"],[0.2222222222222222,\"#7201a8\"],[0.3333333333333333,\"#9c179e\"],[0.4444444444444444,\"#bd3786\"],[0.5555555555555556,\"#d8576b\"],[0.6666666666666666,\"#ed7953\"],[0.7777777777777778,\"#fb9f3a\"],[0.8888888888888888,\"#fdca26\"],[1.0,\"#f0f921\"]],\"sequentialminus\":[[0.0,\"#0d0887\"],[0.1111111111111111,\"#46039f\"],[0.2222222222222222,\"#7201a8\"],[0.3333333333333333,\"#9c179e\"],[0.4444444444444444,\"#bd3786\"],[0.5555555555555556,\"#d8576b\"],[0.6666666666666666,\"#ed7953\"],[0.7777777777777778,\"#fb9f3a\"],[0.8888888888888888,\"#fdca26\"],[1.0,\"#f0f921\"]],\"diverging\":[[0,\"#8e0152\"],[0.1,\"#c51b7d\"],[0.2,\"#de77ae\"],[0.3,\"#f1b6da\"],[0.4,\"#fde0ef\"],[0.5,\"#f7f7f7\"],[0.6,\"#e6f5d0\"],[0.7,\"#b8e186\"],[0.8,\"#7fbc41\"],[0.9,\"#4d9221\"],[1,\"#276419\"]]},\"xaxis\":{\"gridcolor\":\"#EBF0F8\",\"linecolor\":\"#EBF0F8\",\"ticks\":\"\",\"title\":{\"standoff\":15},\"zerolinecolor\":\"#EBF0F8\",\"automargin\":true,\"zerolinewidth\":2},\"yaxis\":{\"gridcolor\":\"#EBF0F8\",\"linecolor\":\"#EBF0F8\",\"ticks\":\"\",\"title\":{\"standoff\":15},\"zerolinecolor\":\"#EBF0F8\",\"automargin\":true,\"zerolinewidth\":2},\"scene\":{\"xaxis\":{\"backgroundcolor\":\"white\",\"gridcolor\":\"#DFE8F3\",\"linecolor\":\"#EBF0F8\",\"showbackground\":true,\"ticks\":\"\",\"zerolinecolor\":\"#EBF0F8\",\"gridwidth\":2},\"yaxis\":{\"backgroundcolor\":\"white\",\"gridcolor\":\"#DFE8F3\",\"linecolor\":\"#EBF0F8\",\"showbackground\":true,\"ticks\":\"\",\"zerolinecolor\":\"#EBF0F8\",\"gridwidth\":2},\"zaxis\":{\"backgroundcolor\":\"white\",\"gridcolor\":\"#DFE8F3\",\"linecolor\":\"#EBF0F8\",\"showbackground\":true,\"ticks\":\"\",\"zerolinecolor\":\"#EBF0F8\",\"gridwidth\":2}},\"shapedefaults\":{\"line\":{\"color\":\"#2a3f5f\"}},\"annotationdefaults\":{\"arrowcolor\":\"#2a3f5f\",\"arrowhead\":0,\"arrowwidth\":1},\"geo\":{\"bgcolor\":\"white\",\"landcolor\":\"white\",\"subunitcolor\":\"#C8D4E3\",\"showland\":true,\"showlakes\":true,\"lakecolor\":\"white\"},\"title\":{\"x\":0.05},\"mapbox\":{\"style\":\"light\"}}},\"annotations\":[{\"font\":{\"size\":14},\"showarrow\":false,\"text\":\"Penalty Value\",\"textangle\":-90,\"x\":-0.1,\"xanchor\":\"left\",\"xref\":\"paper\",\"y\":0.5,\"yanchor\":\"middle\",\"yref\":\"paper\"},{\"font\":{\"size\":14},\"showarrow\":false,\"text\":\"Timestep (Hour) in a Day\",\"textangle\":0,\"x\":0.5,\"xref\":\"paper\",\"y\":-0.1,\"yref\":\"paper\"}],\"title\":{\"text\":\"Battery Prediction Penalties\",\"font\":{\"size\":24},\"xanchor\":\"center\",\"x\":0.5,\"y\":0.99},\"yaxis\":{\"title\":{\"text\":\"\"},\"nticks\":5,\"dtick\":5,\"tickformat\":\" ,.2~g\",\"type\":\"linear\"},\"barmode\":\"stack\",\"xaxis\":{\"tickformat\":\"\",\"griddash\":\"dot\",\"title\":{\"text\":\"\"},\"range\":[-0.4,24.4],\"tickvals\":[0,1,2,3,4,5,6,7,8,9,10,11,12,13,14,15,16,17,18,19,20,21,22,23,24,25,26,27],\"ticktext\":[\"0\",\"1\",\"2\",\"3\",\"4\",\"5\",\"6\",\"7\",\"8\",\"9\",\"10\",\"11\",\"12\",\"13\",\"14\",\"15\",\"16\",\"17\",\"18\",\"19\",\"20\",\"21\",\"22\",\"23\",\"0\",\"1\",\"2\",\"3\"]},\"coloraxis\":{\"colorbar\":{\"title\":{\"text\":\"Total Battery Penalty Value\",\"side\":\"right\"}},\"colorscale\":[[0,\"crimson\"],[0.5,\"gold\"],[1,\"darkgoldenrod\"]]},\"legend\":{\"x\":0.5,\"orientation\":\"h\",\"yanchor\":\"bottom\",\"entrywidth\":0,\"y\":1.01,\"xanchor\":\"center\"},\"height\":650,\"width\":980,\"showlegend\":true,\"scattermode\":\"overlay\"},                        {\"responsive\": true}                    ).then(function(){\n",
       "                            \n",
       "var gd = document.getElementById('00c1fdeb-d92a-4e80-b761-3ae18ed4d8dc');\n",
       "var x = new MutationObserver(function (mutations, observer) {{\n",
       "        var display = window.getComputedStyle(gd).display;\n",
       "        if (!display || display === 'none') {{\n",
       "            console.log([gd, 'removed!']);\n",
       "            Plotly.purge(gd);\n",
       "            observer.disconnect();\n",
       "        }}\n",
       "}});\n",
       "\n",
       "// Listen for the removal of the full notebook cells\n",
       "var notebookContainer = gd.closest('#notebook-container');\n",
       "if (notebookContainer) {{\n",
       "    x.observe(notebookContainer, {childList: true});\n",
       "}}\n",
       "\n",
       "// Listen for the clearing of the current output cell\n",
       "var outputEl = gd.closest('.output');\n",
       "if (outputEl) {{\n",
       "    x.observe(outputEl, {childList: true});\n",
       "}}\n",
       "\n",
       "                        })                };                });            </script>        </div>"
      ]
     },
     "metadata": {},
     "output_type": "display_data"
    }
   ],
   "source": [
    "subplot_fig = go.Figure()\n",
    "\n",
    "pen1 = penalties['Battery SOC Below DoD Penalty']\n",
    "pen2 = penalties['Battery Overcharging Penalty']\n",
    "pen3 = penalties['Battery Over Discharging Penalty']\n",
    "\n",
    "subplot_fig.add_bar(y=pen1, showlegend=True, yaxis='y', width=0.9,\n",
    "                    marker=dict(color='crimson', opacity=0.9, line_width=0), name='Battery SOC Below DoD')\n",
    "subplot_fig.add_bar(y=pen2, showlegend=True, yaxis='y', width=0.9,\n",
    "                    marker=dict(color='sienna', opacity=0.9, line_width=0), name='Battery Overcharging')\n",
    "subplot_fig.add_bar(y=pen3, showlegend=True, yaxis='y', width=0.9,\n",
    "                    marker=dict(color='darkorange', opacity=0.9, line_width=0), name='Battery Over Discharging')\n",
    "\n",
    "pbpenalties = penalties['Total Battery Penalty']\n",
    "subplot_fig.add_scatter(x=penalties.index, y=pbpenalties, line_shape='linear', name='Total Battery penalty', mode='markers',\n",
    "                        marker=dict(size=10, symbol='diamond', line=dict(width=1.5), color=pbpenalties, coloraxis='coloraxis'), line=dict(color='rgba(0,0,0,0.7)'),\n",
    "                        showlegend=True, yaxis='y', legendgroup='Total Battery Penalty')\n",
    "\n",
    "subplot_fig.add_annotation(x=-0.1, y=0.5, text=\"Penalty Value\", xanchor='left', yanchor='middle', textangle=-90, xref=\"paper\", yref=\"paper\", font_size=14, showarrow=False)\n",
    "subplot_fig.add_annotation(x=0.5, y=-0.1, text=\"Timestep (Hour) in a Day\", textangle=0, xref=\"paper\", yref=\"paper\", font_size=14, showarrow=False)\n",
    "\n",
    "max_timestep = int(initial_training_data.Departure.max() + 1)\n",
    "subplot_fig.update_layout(title=\"Battery Prediction Penalties\",\n",
    "                          yaxis=dict(title=''), barmode='overlay')\n",
    "subplot_fig.update_xaxes(tickformat='', griddash=\"dot\", title='', range=[-0.4, 24.4],\n",
    "                         tickvals=[i for i in range(max_timestep)],\n",
    "                         ticktext=[str(i%24) for i in range(max_timestep)])\n",
    "\n",
    "# For plot export: w(1280)xh(720), w(1920)xh(1080)\n",
    "# For better overview in jupyter: w(850)xh(650)\n",
    "plot_width = 980\n",
    "plot_height = 650\n",
    "\n",
    "\n",
    "total_pen_max = pbpenalties.max()\n",
    "ytype = 'log' if total_pen_max > 100000 else 'linear'\n",
    "ymax_margin = 6 if ytype == 'log' else round(total_pen_max + total_pen_max)\n",
    "yyaxistext = '- log scale' if ytype == 'log' else ''\n",
    "ydtick = 1 if ytype == 'log' else 5\n",
    "subplot_fig.update_yaxes(nticks=6, dtick=0.2)\n",
    "subplot_fig.update_layout(height=plot_height, width=plot_width, title=dict(xanchor=\"center\", x=0.5, font_size=24, y=0.99), \n",
    "                          showlegend=True, coloraxis=dict(colorscale=[[0, 'crimson'], [0.5, 'gold'], [1, 'darkgoldenrod']], \n",
    "                                                          colorbar=dict(title=dict(text='Total Battery Penalty Value', side='right'))), barmode='stack',\n",
    "                          legend=dict(x=0.5, orientation='h', yanchor='bottom', entrywidth=0, y=1.01, xanchor='center'), scattermode='overlay',\n",
    "                          yaxis=dict(tickformat=\" ,.2~g\", nticks=5, dtick=ydtick, type=f'{ytype}'))\n",
    "\n",
    "\n",
    "subplot_fig.show()\n",
    "\n",
    "del max_timestep, plot_width, plot_height"
   ]
  },
  {
   "cell_type": "markdown",
   "id": "9239ba67",
   "metadata": {},
   "source": [
    "#### Total Prediction Penalties"
   ]
  },
  {
   "cell_type": "code",
   "execution_count": 72,
   "id": "0f77873f",
   "metadata": {},
   "outputs": [
    {
     "data": {
      "application/vnd.plotly.v1+json": {
       "config": {
        "plotlyServerURL": "https://plot.ly"
       },
       "data": [
        {
         "marker": {
          "color": "sienna",
          "line": {
           "width": 0
          },
          "opacity": 0.9
         },
         "name": "Total Vehicle Penalty",
         "showlegend": true,
         "type": "bar",
         "width": 0.9,
         "y": [
          0,
          0,
          0,
          0,
          0,
          5.499840290103297,
          1.1073159750434134,
          0,
          0,
          0,
          5.017237916387826,
          5.017237916387826,
          0,
          0,
          26.016513140078086,
          12.432092501257117,
          4.837013661737965,
          0,
          0,
          0,
          0,
          0,
          0,
          0
         ],
         "yaxis": "y"
        },
        {
         "marker": {
          "color": "darkorange",
          "line": {
           "width": 0
          },
          "opacity": 0.9
         },
         "name": "Total Battery Penalty",
         "showlegend": true,
         "type": "bar",
         "width": 0.9,
         "y": [
          0,
          0,
          0,
          0,
          0,
          0,
          0,
          0,
          0,
          0,
          0,
          0,
          0,
          0,
          0,
          0,
          0,
          0,
          0,
          0,
          0,
          0,
          0,
          0
         ],
         "yaxis": "y"
        },
        {
         "marker": {
          "color": "tan",
          "line": {
           "width": 0
          },
          "opacity": 0.9
         },
         "name": "DisCharging Nonexistent Vehicles Penalty",
         "showlegend": true,
         "type": "bar",
         "width": 0.9,
         "y": [
          400,
          300,
          300,
          100,
          100,
          100,
          100,
          0,
          100,
          100,
          200,
          100,
          100,
          200,
          200,
          100,
          200,
          100,
          100,
          100,
          100,
          100,
          100,
          0
         ],
         "yaxis": "y"
        },
        {
         "marker": {
          "color": "darkgoldenrod",
          "line": {
           "width": 0
          },
          "opacity": 0.8
         },
         "name": "Low Resource Utilisation Penalty",
         "showlegend": true,
         "type": "bar",
         "width": 0.9,
         "y": [
          0,
          0,
          0,
          0,
          0,
          0,
          0,
          0,
          0,
          0,
          0,
          0,
          0,
          0,
          0,
          0,
          0,
          0,
          0,
          0,
          0,
          0,
          0,
          0
         ],
         "yaxis": "y"
        },
        {
         "legendgroup": "Total Penalty",
         "line": {
          "color": "rgba(0,0,0,0.7)",
          "shape": "linear"
         },
         "marker": {
          "color": [
           0,
           0,
           0,
           0,
           0,
           5.499840290103297,
           1.1073159750434134,
           0,
           0,
           0,
           5.017237916387826,
           5.017237916387826,
           0,
           0,
           26.016513140078086,
           12.432092501257117,
           4.837013661737965,
           0,
           0,
           0,
           0,
           0,
           0,
           0
          ],
          "coloraxis": "coloraxis",
          "line": {
           "width": 1.5
          },
          "size": 10,
          "symbol": "diamond"
         },
         "mode": "lines+markers",
         "name": "Total penalty",
         "showlegend": true,
         "type": "scatter",
         "x": [
          0,
          1,
          2,
          3,
          4,
          5,
          6,
          7,
          8,
          9,
          10,
          11,
          12,
          13,
          14,
          15,
          16,
          17,
          18,
          19,
          20,
          21,
          22,
          23
         ],
         "y": [
          0,
          0,
          0,
          0,
          0,
          5.499840290103297,
          1.1073159750434134,
          0,
          0,
          0,
          5.017237916387826,
          5.017237916387826,
          0,
          0,
          26.016513140078086,
          12.432092501257117,
          4.837013661737965,
          0,
          0,
          0,
          0,
          0,
          0,
          0
         ],
         "yaxis": "y"
        }
       ],
       "layout": {
        "annotations": [
         {
          "font": {
           "size": 14
          },
          "showarrow": false,
          "text": "Penalty Value",
          "textangle": -90,
          "x": -0.1,
          "xanchor": "left",
          "xref": "paper",
          "y": 0.5,
          "yanchor": "middle",
          "yref": "paper"
         },
         {
          "font": {
           "size": 14
          },
          "showarrow": false,
          "text": "Timestep (Hour) in a Day",
          "textangle": 0,
          "x": 0.5,
          "xref": "paper",
          "y": -0.1,
          "yref": "paper"
         }
        ],
        "barmode": "stack",
        "coloraxis": {
         "colorbar": {
          "title": {
           "side": "right",
           "text": "Total Penalty Value"
          }
         },
         "colorscale": [
          [
           0,
           "crimson"
          ],
          [
           0.5,
           "gold"
          ],
          [
           1,
           "darkgoldenrod"
          ]
         ]
        },
        "height": 650,
        "legend": {
         "entrywidth": 0,
         "orientation": "h",
         "x": 0.5,
         "xanchor": "center",
         "y": 1.01,
         "yanchor": "bottom"
        },
        "scattermode": "overlay",
        "showlegend": true,
        "template": {
         "data": {
          "bar": [
           {
            "error_x": {
             "color": "#2a3f5f"
            },
            "error_y": {
             "color": "#2a3f5f"
            },
            "marker": {
             "line": {
              "color": "white",
              "width": 0.5
             },
             "pattern": {
              "fillmode": "overlay",
              "size": 10,
              "solidity": 0.2
             }
            },
            "type": "bar"
           }
          ],
          "barpolar": [
           {
            "marker": {
             "line": {
              "color": "white",
              "width": 0.5
             },
             "pattern": {
              "fillmode": "overlay",
              "size": 10,
              "solidity": 0.2
             }
            },
            "type": "barpolar"
           }
          ],
          "carpet": [
           {
            "aaxis": {
             "endlinecolor": "#2a3f5f",
             "gridcolor": "#C8D4E3",
             "linecolor": "#C8D4E3",
             "minorgridcolor": "#C8D4E3",
             "startlinecolor": "#2a3f5f"
            },
            "baxis": {
             "endlinecolor": "#2a3f5f",
             "gridcolor": "#C8D4E3",
             "linecolor": "#C8D4E3",
             "minorgridcolor": "#C8D4E3",
             "startlinecolor": "#2a3f5f"
            },
            "type": "carpet"
           }
          ],
          "choropleth": [
           {
            "colorbar": {
             "outlinewidth": 0,
             "ticks": ""
            },
            "type": "choropleth"
           }
          ],
          "contour": [
           {
            "colorbar": {
             "outlinewidth": 0,
             "ticks": ""
            },
            "colorscale": [
             [
              0,
              "#0d0887"
             ],
             [
              0.1111111111111111,
              "#46039f"
             ],
             [
              0.2222222222222222,
              "#7201a8"
             ],
             [
              0.3333333333333333,
              "#9c179e"
             ],
             [
              0.4444444444444444,
              "#bd3786"
             ],
             [
              0.5555555555555556,
              "#d8576b"
             ],
             [
              0.6666666666666666,
              "#ed7953"
             ],
             [
              0.7777777777777778,
              "#fb9f3a"
             ],
             [
              0.8888888888888888,
              "#fdca26"
             ],
             [
              1,
              "#f0f921"
             ]
            ],
            "type": "contour"
           }
          ],
          "contourcarpet": [
           {
            "colorbar": {
             "outlinewidth": 0,
             "ticks": ""
            },
            "type": "contourcarpet"
           }
          ],
          "heatmap": [
           {
            "colorbar": {
             "outlinewidth": 0,
             "ticks": ""
            },
            "colorscale": [
             [
              0,
              "#0d0887"
             ],
             [
              0.1111111111111111,
              "#46039f"
             ],
             [
              0.2222222222222222,
              "#7201a8"
             ],
             [
              0.3333333333333333,
              "#9c179e"
             ],
             [
              0.4444444444444444,
              "#bd3786"
             ],
             [
              0.5555555555555556,
              "#d8576b"
             ],
             [
              0.6666666666666666,
              "#ed7953"
             ],
             [
              0.7777777777777778,
              "#fb9f3a"
             ],
             [
              0.8888888888888888,
              "#fdca26"
             ],
             [
              1,
              "#f0f921"
             ]
            ],
            "type": "heatmap"
           }
          ],
          "heatmapgl": [
           {
            "colorbar": {
             "outlinewidth": 0,
             "ticks": ""
            },
            "colorscale": [
             [
              0,
              "#0d0887"
             ],
             [
              0.1111111111111111,
              "#46039f"
             ],
             [
              0.2222222222222222,
              "#7201a8"
             ],
             [
              0.3333333333333333,
              "#9c179e"
             ],
             [
              0.4444444444444444,
              "#bd3786"
             ],
             [
              0.5555555555555556,
              "#d8576b"
             ],
             [
              0.6666666666666666,
              "#ed7953"
             ],
             [
              0.7777777777777778,
              "#fb9f3a"
             ],
             [
              0.8888888888888888,
              "#fdca26"
             ],
             [
              1,
              "#f0f921"
             ]
            ],
            "type": "heatmapgl"
           }
          ],
          "histogram": [
           {
            "marker": {
             "pattern": {
              "fillmode": "overlay",
              "size": 10,
              "solidity": 0.2
             }
            },
            "type": "histogram"
           }
          ],
          "histogram2d": [
           {
            "colorbar": {
             "outlinewidth": 0,
             "ticks": ""
            },
            "colorscale": [
             [
              0,
              "#0d0887"
             ],
             [
              0.1111111111111111,
              "#46039f"
             ],
             [
              0.2222222222222222,
              "#7201a8"
             ],
             [
              0.3333333333333333,
              "#9c179e"
             ],
             [
              0.4444444444444444,
              "#bd3786"
             ],
             [
              0.5555555555555556,
              "#d8576b"
             ],
             [
              0.6666666666666666,
              "#ed7953"
             ],
             [
              0.7777777777777778,
              "#fb9f3a"
             ],
             [
              0.8888888888888888,
              "#fdca26"
             ],
             [
              1,
              "#f0f921"
             ]
            ],
            "type": "histogram2d"
           }
          ],
          "histogram2dcontour": [
           {
            "colorbar": {
             "outlinewidth": 0,
             "ticks": ""
            },
            "colorscale": [
             [
              0,
              "#0d0887"
             ],
             [
              0.1111111111111111,
              "#46039f"
             ],
             [
              0.2222222222222222,
              "#7201a8"
             ],
             [
              0.3333333333333333,
              "#9c179e"
             ],
             [
              0.4444444444444444,
              "#bd3786"
             ],
             [
              0.5555555555555556,
              "#d8576b"
             ],
             [
              0.6666666666666666,
              "#ed7953"
             ],
             [
              0.7777777777777778,
              "#fb9f3a"
             ],
             [
              0.8888888888888888,
              "#fdca26"
             ],
             [
              1,
              "#f0f921"
             ]
            ],
            "type": "histogram2dcontour"
           }
          ],
          "mesh3d": [
           {
            "colorbar": {
             "outlinewidth": 0,
             "ticks": ""
            },
            "type": "mesh3d"
           }
          ],
          "parcoords": [
           {
            "line": {
             "colorbar": {
              "outlinewidth": 0,
              "ticks": ""
             }
            },
            "type": "parcoords"
           }
          ],
          "pie": [
           {
            "automargin": true,
            "type": "pie"
           }
          ],
          "scatter": [
           {
            "fillpattern": {
             "fillmode": "overlay",
             "size": 10,
             "solidity": 0.2
            },
            "type": "scatter"
           }
          ],
          "scatter3d": [
           {
            "line": {
             "colorbar": {
              "outlinewidth": 0,
              "ticks": ""
             }
            },
            "marker": {
             "colorbar": {
              "outlinewidth": 0,
              "ticks": ""
             }
            },
            "type": "scatter3d"
           }
          ],
          "scattercarpet": [
           {
            "marker": {
             "colorbar": {
              "outlinewidth": 0,
              "ticks": ""
             }
            },
            "type": "scattercarpet"
           }
          ],
          "scattergeo": [
           {
            "marker": {
             "colorbar": {
              "outlinewidth": 0,
              "ticks": ""
             }
            },
            "type": "scattergeo"
           }
          ],
          "scattergl": [
           {
            "marker": {
             "colorbar": {
              "outlinewidth": 0,
              "ticks": ""
             }
            },
            "type": "scattergl"
           }
          ],
          "scattermapbox": [
           {
            "marker": {
             "colorbar": {
              "outlinewidth": 0,
              "ticks": ""
             }
            },
            "type": "scattermapbox"
           }
          ],
          "scatterpolar": [
           {
            "marker": {
             "colorbar": {
              "outlinewidth": 0,
              "ticks": ""
             }
            },
            "type": "scatterpolar"
           }
          ],
          "scatterpolargl": [
           {
            "marker": {
             "colorbar": {
              "outlinewidth": 0,
              "ticks": ""
             }
            },
            "type": "scatterpolargl"
           }
          ],
          "scatterternary": [
           {
            "marker": {
             "colorbar": {
              "outlinewidth": 0,
              "ticks": ""
             }
            },
            "type": "scatterternary"
           }
          ],
          "surface": [
           {
            "colorbar": {
             "outlinewidth": 0,
             "ticks": ""
            },
            "colorscale": [
             [
              0,
              "#0d0887"
             ],
             [
              0.1111111111111111,
              "#46039f"
             ],
             [
              0.2222222222222222,
              "#7201a8"
             ],
             [
              0.3333333333333333,
              "#9c179e"
             ],
             [
              0.4444444444444444,
              "#bd3786"
             ],
             [
              0.5555555555555556,
              "#d8576b"
             ],
             [
              0.6666666666666666,
              "#ed7953"
             ],
             [
              0.7777777777777778,
              "#fb9f3a"
             ],
             [
              0.8888888888888888,
              "#fdca26"
             ],
             [
              1,
              "#f0f921"
             ]
            ],
            "type": "surface"
           }
          ],
          "table": [
           {
            "cells": {
             "fill": {
              "color": "#EBF0F8"
             },
             "line": {
              "color": "white"
             }
            },
            "header": {
             "fill": {
              "color": "#C8D4E3"
             },
             "line": {
              "color": "white"
             }
            },
            "type": "table"
           }
          ]
         },
         "layout": {
          "annotationdefaults": {
           "arrowcolor": "#2a3f5f",
           "arrowhead": 0,
           "arrowwidth": 1
          },
          "autotypenumbers": "strict",
          "coloraxis": {
           "colorbar": {
            "outlinewidth": 0,
            "ticks": ""
           }
          },
          "colorscale": {
           "diverging": [
            [
             0,
             "#8e0152"
            ],
            [
             0.1,
             "#c51b7d"
            ],
            [
             0.2,
             "#de77ae"
            ],
            [
             0.3,
             "#f1b6da"
            ],
            [
             0.4,
             "#fde0ef"
            ],
            [
             0.5,
             "#f7f7f7"
            ],
            [
             0.6,
             "#e6f5d0"
            ],
            [
             0.7,
             "#b8e186"
            ],
            [
             0.8,
             "#7fbc41"
            ],
            [
             0.9,
             "#4d9221"
            ],
            [
             1,
             "#276419"
            ]
           ],
           "sequential": [
            [
             0,
             "#0d0887"
            ],
            [
             0.1111111111111111,
             "#46039f"
            ],
            [
             0.2222222222222222,
             "#7201a8"
            ],
            [
             0.3333333333333333,
             "#9c179e"
            ],
            [
             0.4444444444444444,
             "#bd3786"
            ],
            [
             0.5555555555555556,
             "#d8576b"
            ],
            [
             0.6666666666666666,
             "#ed7953"
            ],
            [
             0.7777777777777778,
             "#fb9f3a"
            ],
            [
             0.8888888888888888,
             "#fdca26"
            ],
            [
             1,
             "#f0f921"
            ]
           ],
           "sequentialminus": [
            [
             0,
             "#0d0887"
            ],
            [
             0.1111111111111111,
             "#46039f"
            ],
            [
             0.2222222222222222,
             "#7201a8"
            ],
            [
             0.3333333333333333,
             "#9c179e"
            ],
            [
             0.4444444444444444,
             "#bd3786"
            ],
            [
             0.5555555555555556,
             "#d8576b"
            ],
            [
             0.6666666666666666,
             "#ed7953"
            ],
            [
             0.7777777777777778,
             "#fb9f3a"
            ],
            [
             0.8888888888888888,
             "#fdca26"
            ],
            [
             1,
             "#f0f921"
            ]
           ]
          },
          "colorway": [
           "#636efa",
           "#EF553B",
           "#00cc96",
           "#ab63fa",
           "#FFA15A",
           "#19d3f3",
           "#FF6692",
           "#B6E880",
           "#FF97FF",
           "#FECB52"
          ],
          "font": {
           "color": "#2a3f5f"
          },
          "geo": {
           "bgcolor": "white",
           "lakecolor": "white",
           "landcolor": "white",
           "showlakes": true,
           "showland": true,
           "subunitcolor": "#C8D4E3"
          },
          "hoverlabel": {
           "align": "left"
          },
          "hovermode": "closest",
          "mapbox": {
           "style": "light"
          },
          "paper_bgcolor": "white",
          "plot_bgcolor": "white",
          "polar": {
           "angularaxis": {
            "gridcolor": "#EBF0F8",
            "linecolor": "#EBF0F8",
            "ticks": ""
           },
           "bgcolor": "white",
           "radialaxis": {
            "gridcolor": "#EBF0F8",
            "linecolor": "#EBF0F8",
            "ticks": ""
           }
          },
          "scene": {
           "xaxis": {
            "backgroundcolor": "white",
            "gridcolor": "#DFE8F3",
            "gridwidth": 2,
            "linecolor": "#EBF0F8",
            "showbackground": true,
            "ticks": "",
            "zerolinecolor": "#EBF0F8"
           },
           "yaxis": {
            "backgroundcolor": "white",
            "gridcolor": "#DFE8F3",
            "gridwidth": 2,
            "linecolor": "#EBF0F8",
            "showbackground": true,
            "ticks": "",
            "zerolinecolor": "#EBF0F8"
           },
           "zaxis": {
            "backgroundcolor": "white",
            "gridcolor": "#DFE8F3",
            "gridwidth": 2,
            "linecolor": "#EBF0F8",
            "showbackground": true,
            "ticks": "",
            "zerolinecolor": "#EBF0F8"
           }
          },
          "shapedefaults": {
           "line": {
            "color": "#2a3f5f"
           }
          },
          "ternary": {
           "aaxis": {
            "gridcolor": "#DFE8F3",
            "linecolor": "#A2B1C6",
            "ticks": ""
           },
           "baxis": {
            "gridcolor": "#DFE8F3",
            "linecolor": "#A2B1C6",
            "ticks": ""
           },
           "bgcolor": "white",
           "caxis": {
            "gridcolor": "#DFE8F3",
            "linecolor": "#A2B1C6",
            "ticks": ""
           }
          },
          "title": {
           "x": 0.05
          },
          "xaxis": {
           "automargin": true,
           "gridcolor": "#EBF0F8",
           "linecolor": "#EBF0F8",
           "ticks": "",
           "title": {
            "standoff": 15
           },
           "zerolinecolor": "#EBF0F8",
           "zerolinewidth": 2
          },
          "yaxis": {
           "automargin": true,
           "gridcolor": "#EBF0F8",
           "linecolor": "#EBF0F8",
           "ticks": "",
           "title": {
            "standoff": 15
           },
           "zerolinecolor": "#EBF0F8",
           "zerolinewidth": 2
          }
         }
        },
        "title": {
         "font": {
          "size": 24
         },
         "text": "Prediction Penalties",
         "x": 0.5,
         "xanchor": "center",
         "y": 0.99
        },
        "width": 980,
        "xaxis": {
         "griddash": "dot",
         "range": [
          -0.4,
          24.4
         ],
         "tickformat": "",
         "ticktext": [
          "0",
          "1",
          "2",
          "3",
          "4",
          "5",
          "6",
          "7",
          "8",
          "9",
          "10",
          "11",
          "12",
          "13",
          "14",
          "15",
          "16",
          "17",
          "18",
          "19",
          "20",
          "21",
          "22",
          "23",
          "0",
          "1",
          "2",
          "3"
         ],
         "tickvals": [
          0,
          1,
          2,
          3,
          4,
          5,
          6,
          7,
          8,
          9,
          10,
          11,
          12,
          13,
          14,
          15,
          16,
          17,
          18,
          19,
          20,
          21,
          22,
          23,
          24,
          25,
          26,
          27
         ],
         "title": {
          "text": ""
         }
        },
        "yaxis": {
         "nticks": 5,
         "tickformat": " ,.2~g",
         "title": {
          "text": ""
         }
        }
       }
      },
      "text/html": [
       "<div>                            <div id=\"2b78a11c-254a-4a87-a528-1ba2b9b38f9d\" class=\"plotly-graph-div\" style=\"height:650px; width:980px;\"></div>            <script type=\"text/javascript\">                require([\"plotly\"], function(Plotly) {                    window.PLOTLYENV=window.PLOTLYENV || {};                                    if (document.getElementById(\"2b78a11c-254a-4a87-a528-1ba2b9b38f9d\")) {                    Plotly.newPlot(                        \"2b78a11c-254a-4a87-a528-1ba2b9b38f9d\",                        [{\"marker\":{\"color\":\"sienna\",\"line\":{\"width\":0},\"opacity\":0.9},\"name\":\"Total Vehicle Penalty\",\"showlegend\":true,\"width\":0.9,\"y\":[0.0,0.0,0.0,0.0,0.0,5.499840290103297,1.1073159750434134,0.0,0.0,0.0,5.017237916387826,5.017237916387826,0.0,0.0,26.016513140078086,12.432092501257117,4.837013661737965,0.0,0.0,0.0,0.0,0.0,0.0,0.0],\"yaxis\":\"y\",\"type\":\"bar\"},{\"marker\":{\"color\":\"darkorange\",\"line\":{\"width\":0},\"opacity\":0.9},\"name\":\"Total Battery Penalty\",\"showlegend\":true,\"width\":0.9,\"y\":[0.0,0.0,0.0,0.0,0.0,0.0,0.0,0.0,0.0,0.0,0.0,0.0,0.0,0.0,0.0,0.0,0.0,0.0,0.0,0.0,0.0,0.0,0.0,0.0],\"yaxis\":\"y\",\"type\":\"bar\"},{\"marker\":{\"color\":\"tan\",\"line\":{\"width\":0},\"opacity\":0.9},\"name\":\"DisCharging Nonexistent Vehicles Penalty\",\"showlegend\":true,\"width\":0.9,\"y\":[400.0,300.0,300.0,100.0,100.0,100.0,100.0,0.0,100.0,100.0,200.0,100.0,100.0,200.0,200.0,100.0,200.0,100.0,100.0,100.0,100.0,100.0,100.0,0.0],\"yaxis\":\"y\",\"type\":\"bar\"},{\"marker\":{\"color\":\"darkgoldenrod\",\"line\":{\"width\":0},\"opacity\":0.8},\"name\":\"Low Resource Utilisation Penalty\",\"showlegend\":true,\"width\":0.9,\"y\":[0.0,0.0,0.0,0.0,0.0,0.0,0.0,0.0,0.0,0.0,0.0,0.0,0.0,0.0,0.0,0.0,0.0,0.0,0.0,0.0,0.0,0.0,0.0,0.0],\"yaxis\":\"y\",\"type\":\"bar\"},{\"legendgroup\":\"Total Penalty\",\"line\":{\"color\":\"rgba(0,0,0,0.7)\",\"shape\":\"linear\"},\"marker\":{\"color\":[0.0,0.0,0.0,0.0,0.0,5.499840290103297,1.1073159750434134,0.0,0.0,0.0,5.017237916387826,5.017237916387826,0.0,0.0,26.016513140078086,12.432092501257117,4.837013661737965,0.0,0.0,0.0,0.0,0.0,0.0,0.0],\"coloraxis\":\"coloraxis\",\"line\":{\"width\":1.5},\"size\":10,\"symbol\":\"diamond\"},\"mode\":\"lines+markers\",\"name\":\"Total penalty\",\"showlegend\":true,\"x\":[0,1,2,3,4,5,6,7,8,9,10,11,12,13,14,15,16,17,18,19,20,21,22,23],\"y\":[0.0,0.0,0.0,0.0,0.0,5.499840290103297,1.1073159750434134,0.0,0.0,0.0,5.017237916387826,5.017237916387826,0.0,0.0,26.016513140078086,12.432092501257117,4.837013661737965,0.0,0.0,0.0,0.0,0.0,0.0,0.0],\"yaxis\":\"y\",\"type\":\"scatter\"}],                        {\"template\":{\"data\":{\"histogram2dcontour\":[{\"type\":\"histogram2dcontour\",\"colorbar\":{\"outlinewidth\":0,\"ticks\":\"\"},\"colorscale\":[[0.0,\"#0d0887\"],[0.1111111111111111,\"#46039f\"],[0.2222222222222222,\"#7201a8\"],[0.3333333333333333,\"#9c179e\"],[0.4444444444444444,\"#bd3786\"],[0.5555555555555556,\"#d8576b\"],[0.6666666666666666,\"#ed7953\"],[0.7777777777777778,\"#fb9f3a\"],[0.8888888888888888,\"#fdca26\"],[1.0,\"#f0f921\"]]}],\"choropleth\":[{\"type\":\"choropleth\",\"colorbar\":{\"outlinewidth\":0,\"ticks\":\"\"}}],\"histogram2d\":[{\"type\":\"histogram2d\",\"colorbar\":{\"outlinewidth\":0,\"ticks\":\"\"},\"colorscale\":[[0.0,\"#0d0887\"],[0.1111111111111111,\"#46039f\"],[0.2222222222222222,\"#7201a8\"],[0.3333333333333333,\"#9c179e\"],[0.4444444444444444,\"#bd3786\"],[0.5555555555555556,\"#d8576b\"],[0.6666666666666666,\"#ed7953\"],[0.7777777777777778,\"#fb9f3a\"],[0.8888888888888888,\"#fdca26\"],[1.0,\"#f0f921\"]]}],\"heatmap\":[{\"type\":\"heatmap\",\"colorbar\":{\"outlinewidth\":0,\"ticks\":\"\"},\"colorscale\":[[0.0,\"#0d0887\"],[0.1111111111111111,\"#46039f\"],[0.2222222222222222,\"#7201a8\"],[0.3333333333333333,\"#9c179e\"],[0.4444444444444444,\"#bd3786\"],[0.5555555555555556,\"#d8576b\"],[0.6666666666666666,\"#ed7953\"],[0.7777777777777778,\"#fb9f3a\"],[0.8888888888888888,\"#fdca26\"],[1.0,\"#f0f921\"]]}],\"heatmapgl\":[{\"type\":\"heatmapgl\",\"colorbar\":{\"outlinewidth\":0,\"ticks\":\"\"},\"colorscale\":[[0.0,\"#0d0887\"],[0.1111111111111111,\"#46039f\"],[0.2222222222222222,\"#7201a8\"],[0.3333333333333333,\"#9c179e\"],[0.4444444444444444,\"#bd3786\"],[0.5555555555555556,\"#d8576b\"],[0.6666666666666666,\"#ed7953\"],[0.7777777777777778,\"#fb9f3a\"],[0.8888888888888888,\"#fdca26\"],[1.0,\"#f0f921\"]]}],\"contourcarpet\":[{\"type\":\"contourcarpet\",\"colorbar\":{\"outlinewidth\":0,\"ticks\":\"\"}}],\"contour\":[{\"type\":\"contour\",\"colorbar\":{\"outlinewidth\":0,\"ticks\":\"\"},\"colorscale\":[[0.0,\"#0d0887\"],[0.1111111111111111,\"#46039f\"],[0.2222222222222222,\"#7201a8\"],[0.3333333333333333,\"#9c179e\"],[0.4444444444444444,\"#bd3786\"],[0.5555555555555556,\"#d8576b\"],[0.6666666666666666,\"#ed7953\"],[0.7777777777777778,\"#fb9f3a\"],[0.8888888888888888,\"#fdca26\"],[1.0,\"#f0f921\"]]}],\"surface\":[{\"type\":\"surface\",\"colorbar\":{\"outlinewidth\":0,\"ticks\":\"\"},\"colorscale\":[[0.0,\"#0d0887\"],[0.1111111111111111,\"#46039f\"],[0.2222222222222222,\"#7201a8\"],[0.3333333333333333,\"#9c179e\"],[0.4444444444444444,\"#bd3786\"],[0.5555555555555556,\"#d8576b\"],[0.6666666666666666,\"#ed7953\"],[0.7777777777777778,\"#fb9f3a\"],[0.8888888888888888,\"#fdca26\"],[1.0,\"#f0f921\"]]}],\"mesh3d\":[{\"type\":\"mesh3d\",\"colorbar\":{\"outlinewidth\":0,\"ticks\":\"\"}}],\"scatter\":[{\"fillpattern\":{\"fillmode\":\"overlay\",\"size\":10,\"solidity\":0.2},\"type\":\"scatter\"}],\"parcoords\":[{\"type\":\"parcoords\",\"line\":{\"colorbar\":{\"outlinewidth\":0,\"ticks\":\"\"}}}],\"scatterpolargl\":[{\"type\":\"scatterpolargl\",\"marker\":{\"colorbar\":{\"outlinewidth\":0,\"ticks\":\"\"}}}],\"bar\":[{\"error_x\":{\"color\":\"#2a3f5f\"},\"error_y\":{\"color\":\"#2a3f5f\"},\"marker\":{\"line\":{\"color\":\"white\",\"width\":0.5},\"pattern\":{\"fillmode\":\"overlay\",\"size\":10,\"solidity\":0.2}},\"type\":\"bar\"}],\"scattergeo\":[{\"type\":\"scattergeo\",\"marker\":{\"colorbar\":{\"outlinewidth\":0,\"ticks\":\"\"}}}],\"scatterpolar\":[{\"type\":\"scatterpolar\",\"marker\":{\"colorbar\":{\"outlinewidth\":0,\"ticks\":\"\"}}}],\"histogram\":[{\"marker\":{\"pattern\":{\"fillmode\":\"overlay\",\"size\":10,\"solidity\":0.2}},\"type\":\"histogram\"}],\"scattergl\":[{\"type\":\"scattergl\",\"marker\":{\"colorbar\":{\"outlinewidth\":0,\"ticks\":\"\"}}}],\"scatter3d\":[{\"type\":\"scatter3d\",\"line\":{\"colorbar\":{\"outlinewidth\":0,\"ticks\":\"\"}},\"marker\":{\"colorbar\":{\"outlinewidth\":0,\"ticks\":\"\"}}}],\"scattermapbox\":[{\"type\":\"scattermapbox\",\"marker\":{\"colorbar\":{\"outlinewidth\":0,\"ticks\":\"\"}}}],\"scatterternary\":[{\"type\":\"scatterternary\",\"marker\":{\"colorbar\":{\"outlinewidth\":0,\"ticks\":\"\"}}}],\"scattercarpet\":[{\"type\":\"scattercarpet\",\"marker\":{\"colorbar\":{\"outlinewidth\":0,\"ticks\":\"\"}}}],\"carpet\":[{\"aaxis\":{\"endlinecolor\":\"#2a3f5f\",\"gridcolor\":\"#C8D4E3\",\"linecolor\":\"#C8D4E3\",\"minorgridcolor\":\"#C8D4E3\",\"startlinecolor\":\"#2a3f5f\"},\"baxis\":{\"endlinecolor\":\"#2a3f5f\",\"gridcolor\":\"#C8D4E3\",\"linecolor\":\"#C8D4E3\",\"minorgridcolor\":\"#C8D4E3\",\"startlinecolor\":\"#2a3f5f\"},\"type\":\"carpet\"}],\"table\":[{\"cells\":{\"fill\":{\"color\":\"#EBF0F8\"},\"line\":{\"color\":\"white\"}},\"header\":{\"fill\":{\"color\":\"#C8D4E3\"},\"line\":{\"color\":\"white\"}},\"type\":\"table\"}],\"barpolar\":[{\"marker\":{\"line\":{\"color\":\"white\",\"width\":0.5},\"pattern\":{\"fillmode\":\"overlay\",\"size\":10,\"solidity\":0.2}},\"type\":\"barpolar\"}],\"pie\":[{\"automargin\":true,\"type\":\"pie\"}]},\"layout\":{\"autotypenumbers\":\"strict\",\"colorway\":[\"#636efa\",\"#EF553B\",\"#00cc96\",\"#ab63fa\",\"#FFA15A\",\"#19d3f3\",\"#FF6692\",\"#B6E880\",\"#FF97FF\",\"#FECB52\"],\"font\":{\"color\":\"#2a3f5f\"},\"hovermode\":\"closest\",\"hoverlabel\":{\"align\":\"left\"},\"paper_bgcolor\":\"white\",\"plot_bgcolor\":\"white\",\"polar\":{\"bgcolor\":\"white\",\"angularaxis\":{\"gridcolor\":\"#EBF0F8\",\"linecolor\":\"#EBF0F8\",\"ticks\":\"\"},\"radialaxis\":{\"gridcolor\":\"#EBF0F8\",\"linecolor\":\"#EBF0F8\",\"ticks\":\"\"}},\"ternary\":{\"bgcolor\":\"white\",\"aaxis\":{\"gridcolor\":\"#DFE8F3\",\"linecolor\":\"#A2B1C6\",\"ticks\":\"\"},\"baxis\":{\"gridcolor\":\"#DFE8F3\",\"linecolor\":\"#A2B1C6\",\"ticks\":\"\"},\"caxis\":{\"gridcolor\":\"#DFE8F3\",\"linecolor\":\"#A2B1C6\",\"ticks\":\"\"}},\"coloraxis\":{\"colorbar\":{\"outlinewidth\":0,\"ticks\":\"\"}},\"colorscale\":{\"sequential\":[[0.0,\"#0d0887\"],[0.1111111111111111,\"#46039f\"],[0.2222222222222222,\"#7201a8\"],[0.3333333333333333,\"#9c179e\"],[0.4444444444444444,\"#bd3786\"],[0.5555555555555556,\"#d8576b\"],[0.6666666666666666,\"#ed7953\"],[0.7777777777777778,\"#fb9f3a\"],[0.8888888888888888,\"#fdca26\"],[1.0,\"#f0f921\"]],\"sequentialminus\":[[0.0,\"#0d0887\"],[0.1111111111111111,\"#46039f\"],[0.2222222222222222,\"#7201a8\"],[0.3333333333333333,\"#9c179e\"],[0.4444444444444444,\"#bd3786\"],[0.5555555555555556,\"#d8576b\"],[0.6666666666666666,\"#ed7953\"],[0.7777777777777778,\"#fb9f3a\"],[0.8888888888888888,\"#fdca26\"],[1.0,\"#f0f921\"]],\"diverging\":[[0,\"#8e0152\"],[0.1,\"#c51b7d\"],[0.2,\"#de77ae\"],[0.3,\"#f1b6da\"],[0.4,\"#fde0ef\"],[0.5,\"#f7f7f7\"],[0.6,\"#e6f5d0\"],[0.7,\"#b8e186\"],[0.8,\"#7fbc41\"],[0.9,\"#4d9221\"],[1,\"#276419\"]]},\"xaxis\":{\"gridcolor\":\"#EBF0F8\",\"linecolor\":\"#EBF0F8\",\"ticks\":\"\",\"title\":{\"standoff\":15},\"zerolinecolor\":\"#EBF0F8\",\"automargin\":true,\"zerolinewidth\":2},\"yaxis\":{\"gridcolor\":\"#EBF0F8\",\"linecolor\":\"#EBF0F8\",\"ticks\":\"\",\"title\":{\"standoff\":15},\"zerolinecolor\":\"#EBF0F8\",\"automargin\":true,\"zerolinewidth\":2},\"scene\":{\"xaxis\":{\"backgroundcolor\":\"white\",\"gridcolor\":\"#DFE8F3\",\"linecolor\":\"#EBF0F8\",\"showbackground\":true,\"ticks\":\"\",\"zerolinecolor\":\"#EBF0F8\",\"gridwidth\":2},\"yaxis\":{\"backgroundcolor\":\"white\",\"gridcolor\":\"#DFE8F3\",\"linecolor\":\"#EBF0F8\",\"showbackground\":true,\"ticks\":\"\",\"zerolinecolor\":\"#EBF0F8\",\"gridwidth\":2},\"zaxis\":{\"backgroundcolor\":\"white\",\"gridcolor\":\"#DFE8F3\",\"linecolor\":\"#EBF0F8\",\"showbackground\":true,\"ticks\":\"\",\"zerolinecolor\":\"#EBF0F8\",\"gridwidth\":2}},\"shapedefaults\":{\"line\":{\"color\":\"#2a3f5f\"}},\"annotationdefaults\":{\"arrowcolor\":\"#2a3f5f\",\"arrowhead\":0,\"arrowwidth\":1},\"geo\":{\"bgcolor\":\"white\",\"landcolor\":\"white\",\"subunitcolor\":\"#C8D4E3\",\"showland\":true,\"showlakes\":true,\"lakecolor\":\"white\"},\"title\":{\"x\":0.05},\"mapbox\":{\"style\":\"light\"}}},\"annotations\":[{\"font\":{\"size\":14},\"showarrow\":false,\"text\":\"Penalty Value\",\"textangle\":-90,\"x\":-0.1,\"xanchor\":\"left\",\"xref\":\"paper\",\"y\":0.5,\"yanchor\":\"middle\",\"yref\":\"paper\"},{\"font\":{\"size\":14},\"showarrow\":false,\"text\":\"Timestep (Hour) in a Day\",\"textangle\":0,\"x\":0.5,\"xref\":\"paper\",\"y\":-0.1,\"yref\":\"paper\"}],\"title\":{\"text\":\"Prediction Penalties\",\"font\":{\"size\":24},\"xanchor\":\"center\",\"x\":0.5,\"y\":0.99},\"yaxis\":{\"title\":{\"text\":\"\"},\"nticks\":5,\"tickformat\":\" ,.2~g\"},\"barmode\":\"stack\",\"xaxis\":{\"tickformat\":\"\",\"griddash\":\"dot\",\"title\":{\"text\":\"\"},\"range\":[-0.4,24.4],\"tickvals\":[0,1,2,3,4,5,6,7,8,9,10,11,12,13,14,15,16,17,18,19,20,21,22,23,24,25,26,27],\"ticktext\":[\"0\",\"1\",\"2\",\"3\",\"4\",\"5\",\"6\",\"7\",\"8\",\"9\",\"10\",\"11\",\"12\",\"13\",\"14\",\"15\",\"16\",\"17\",\"18\",\"19\",\"20\",\"21\",\"22\",\"23\",\"0\",\"1\",\"2\",\"3\"]},\"coloraxis\":{\"colorbar\":{\"title\":{\"text\":\"Total Penalty Value\",\"side\":\"right\"}},\"colorscale\":[[0,\"crimson\"],[0.5,\"gold\"],[1,\"darkgoldenrod\"]]},\"legend\":{\"x\":0.5,\"orientation\":\"h\",\"yanchor\":\"bottom\",\"entrywidth\":0,\"y\":1.01,\"xanchor\":\"center\"},\"height\":650,\"width\":980,\"showlegend\":true,\"scattermode\":\"overlay\"},                        {\"responsive\": true}                    ).then(function(){\n",
       "                            \n",
       "var gd = document.getElementById('2b78a11c-254a-4a87-a528-1ba2b9b38f9d');\n",
       "var x = new MutationObserver(function (mutations, observer) {{\n",
       "        var display = window.getComputedStyle(gd).display;\n",
       "        if (!display || display === 'none') {{\n",
       "            console.log([gd, 'removed!']);\n",
       "            Plotly.purge(gd);\n",
       "            observer.disconnect();\n",
       "        }}\n",
       "}});\n",
       "\n",
       "// Listen for the removal of the full notebook cells\n",
       "var notebookContainer = gd.closest('#notebook-container');\n",
       "if (notebookContainer) {{\n",
       "    x.observe(notebookContainer, {childList: true});\n",
       "}}\n",
       "\n",
       "// Listen for the clearing of the current output cell\n",
       "var outputEl = gd.closest('.output');\n",
       "if (outputEl) {{\n",
       "    x.observe(outputEl, {childList: true});\n",
       "}}\n",
       "\n",
       "                        })                };                });            </script>        </div>"
      ]
     },
     "metadata": {},
     "output_type": "display_data"
    }
   ],
   "source": [
    "subplot_fig = go.Figure()\n",
    "\n",
    "pen1 = penalties['Total Penalty']\n",
    "pen2 = penalties['Total Vehicle Penalty']\n",
    "pen3 = penalties['Total Battery Penalty']\n",
    "pen4 = penalties['DisCharging Nonexistent Vehicles Penalty']\n",
    "pen5 = penalties['Low Resource Utilisation Penalty']\n",
    "\n",
    "subplot_fig.add_bar(y=pen2, showlegend=True, yaxis='y', width=0.9,\n",
    "                    marker=dict(color='sienna', opacity=0.9, line_width=0), name='Total Vehicle Penalty')\n",
    "subplot_fig.add_bar(y=pen3, showlegend=True, yaxis='y', width=0.9,\n",
    "                    marker=dict(color='darkorange', opacity=0.9, line_width=0), name='Total Battery Penalty')\n",
    "subplot_fig.add_bar(y=pen4, showlegend=True, yaxis='y', width=0.9,\n",
    "                    marker=dict(color='tan', opacity=0.9, line_width=0), name='DisCharging Nonexistent Vehicles Penalty')\n",
    "subplot_fig.add_bar(y=pen5, showlegend=True, yaxis='y', width=0.9,\n",
    "                    marker=dict(color='darkgoldenrod', opacity=0.8, line_width=0), name='Low Resource Utilisation Penalty')\n",
    "\n",
    "subplot_fig.add_scatter(x=penalties.index, y=pen1, line_shape='linear', name='Total penalty', mode='lines+markers',\n",
    "                        marker=dict(size=10, symbol='diamond', line=dict(width=1.5), color=pen1, coloraxis='coloraxis'), line=dict(color='rgba(0,0,0,0.7)'),\n",
    "                        showlegend=True, yaxis='y', legendgroup='Total Penalty')\n",
    "\n",
    "subplot_fig.add_annotation(x=-0.1, y=0.5, text=\"Penalty Value\", xanchor='left', yanchor='middle', textangle=-90, xref=\"paper\", yref=\"paper\", font_size=14, showarrow=False)\n",
    "subplot_fig.add_annotation(x=0.5, y=-0.1, text=\"Timestep (Hour) in a Day\", textangle=0, xref=\"paper\", yref=\"paper\", font_size=14, showarrow=False)\n",
    "\n",
    "max_timestep = int(initial_training_data.Departure.max() + 1)\n",
    "subplot_fig.update_layout(title=\"Prediction Penalties\",\n",
    "                          yaxis=dict(title=''), barmode='overlay')\n",
    "subplot_fig.update_xaxes(tickformat='', griddash=\"dot\", title='', range=[-0.4, 24.4],\n",
    "                         tickvals=[i for i in range(max_timestep)],\n",
    "                         ticktext=[str(i%24) for i in range(max_timestep)])\n",
    "\n",
    "# For plot export: w(1280)xh(720), w(1920)xh(1080)\n",
    "# For better overview in jupyter: w(850)xh(650)\n",
    "plot_width = 980\n",
    "plot_height = 650\n",
    "\n",
    "\n",
    "total_pen1_max = pen1.max()\n",
    "ytype = 'log' if total_pen1_max > 100000 else 'linear'\n",
    "ymax_margin = 6 if ytype == 'log' else round(total_pen1_max + total_pen1_max/10)\n",
    "yyaxistext = '- log scale' if ytype == 'log' else ''\n",
    "ydtick = 1 if ytype == 'log' else 5\n",
    "subplot_fig.update_yaxes(nticks=6)\n",
    "subplot_fig.update_layout(height=plot_height, width=plot_width, title=dict(xanchor=\"center\", x=0.5, font_size=24, y=0.99), \n",
    "                          showlegend=True, coloraxis=dict(colorscale=[[0, 'crimson'], [0.5, 'gold'], [1, 'darkgoldenrod']], \n",
    "                                                          colorbar=dict(title=dict(text='Total Penalty Value', side='right'))), barmode='stack',\n",
    "                          legend=dict(x=0.5, orientation='h', yanchor='bottom', entrywidth=0, y=1.01, xanchor='center'), scattermode='overlay',\n",
    "                          yaxis=dict(tickformat=\" ,.2~g\", nticks=5))\n",
    "\n",
    "\n",
    "subplot_fig.show()\n",
    "\n",
    "del max_timestep, plot_width, plot_height"
   ]
  },
  {
   "cell_type": "markdown",
   "id": "303400b1",
   "metadata": {},
   "source": [
    "#### Prediction Reward - Costs and Penalties"
   ]
  },
  {
   "cell_type": "code",
   "execution_count": 73,
   "id": "100860b8",
   "metadata": {},
   "outputs": [
    {
     "data": {
      "application/vnd.plotly.v1+json": {
       "config": {
        "plotlyServerURL": "https://plot.ly"
       },
       "data": [
        {
         "marker": {
          "color": "crimson",
          "line": {
           "color": "crimson",
           "width": 1
          },
          "opacity": 0.9
         },
         "name": "Total Penalty",
         "showlegend": true,
         "type": "bar",
         "width": 0.9,
         "y": [
          0,
          0,
          0,
          0,
          0,
          5.499840290103297,
          1.1073159750434134,
          0,
          0,
          0,
          5.017237916387826,
          5.017237916387826,
          0,
          0,
          26.016513140078086,
          12.432092501257117,
          4.837013661737965,
          0,
          0,
          0,
          0,
          0,
          0,
          0
         ],
         "yaxis": "y"
        },
        {
         "marker": {
          "color": "silver",
          "line": {
           "color": "grey",
           "width": 1
          },
          "opacity": 0.8,
          "pattern": {
           "fillmode": "overlay",
           "shape": "/",
           "size": 7
          }
         },
         "name": "Grid Energy Cost",
         "showlegend": true,
         "type": "bar",
         "width": 0.9,
         "y": [
          -0.06462424951864358,
          2.256294210433498,
          -0.2750190446901312,
          4.039797323066958,
          2.532723408654878,
          1.9398702577772746,
          1.0387652867157826,
          4.103080716762783,
          1.113002472596062,
          1.1683404823169843,
          -0.5651957165705017,
          3.8775400329737706,
          2.6183000484328156,
          1.28537006341431,
          0.9746678636372298,
          5.50581598958793,
          -1.7989713837649186,
          6.370795569360453,
          3.7578333223406024,
          1.294195484400584,
          0.7857928374177777,
          -0.27968783436667666,
          0.32396583537660706,
          2.287856506933745
         ],
         "yaxis": "y"
        },
        {
         "legendgroup": "Total Cost",
         "line": {
          "color": "rgba(0,0,0,0.7)",
          "shape": "linear"
         },
         "marker": {
          "color": [
           0.05169939961491487,
           1.8050353683467986,
           0.220015235752105,
           3.2318378584535665,
           2.0261787269239027,
           7.051736496325116,
           1.9383282044160395,
           3.2824645734102265,
           0.8904019780768497,
           0.9346723858535875,
           5.469394489644227,
           8.119269942766842,
           2.0946400387462525,
           1.028296050731448,
           26.79624743098787,
           16.83674529292746,
           6.2761907687499,
           5.096636455488363,
           3.006266657872482,
           1.0353563875204672,
           0.6286342699342222,
           0.22375026749334134,
           0.25917266830128566,
           1.830285205546996
          ],
          "coloraxis": "coloraxis",
          "line": {
           "width": 1.5
          },
          "size": 10,
          "symbol": "diamond"
         },
         "mode": "markers",
         "name": "Total Cost",
         "showlegend": true,
         "type": "scatter",
         "x": [
          0,
          1,
          2,
          3,
          4,
          5,
          6,
          7,
          8,
          9,
          10,
          11,
          12,
          13,
          14,
          15,
          16,
          17,
          18,
          19,
          20,
          21,
          22,
          23
         ],
         "y": [
          0.05169939961491487,
          1.8050353683467986,
          0.220015235752105,
          3.2318378584535665,
          2.0261787269239027,
          7.051736496325116,
          1.9383282044160395,
          3.2824645734102265,
          0.8904019780768497,
          0.9346723858535875,
          5.469394489644227,
          8.119269942766842,
          2.0946400387462525,
          1.028296050731448,
          26.79624743098787,
          16.83674529292746,
          6.2761907687499,
          5.096636455488363,
          3.006266657872482,
          1.0353563875204672,
          0.6286342699342222,
          0.22375026749334134,
          0.25917266830128566,
          1.830285205546996
         ],
         "yaxis": "y"
        }
       ],
       "layout": {
        "annotations": [
         {
          "font": {
           "size": 14
          },
          "showarrow": false,
          "text": "Cost & Penalty Value",
          "textangle": -90,
          "x": -0.1,
          "xanchor": "left",
          "xref": "paper",
          "y": 0.5,
          "yanchor": "middle",
          "yref": "paper"
         },
         {
          "font": {
           "size": 14
          },
          "showarrow": false,
          "text": "Timestep (Hour) in a Day",
          "textangle": 0,
          "x": 0.5,
          "xref": "paper",
          "y": -0.1,
          "yref": "paper"
         }
        ],
        "barmode": "stack",
        "coloraxis": {
         "colorbar": {
          "title": {
           "side": "right",
           "text": "Total Cost"
          }
         },
         "colorscale": [
          [
           0,
           "rgb(22, 22, 22)"
          ],
          [
           0.25,
           "dimgrey"
          ],
          [
           0.5,
           "lightgrey"
          ],
          [
           0.7,
           "#E93556"
          ],
          [
           0.9,
           "crimson"
          ],
          [
           1,
           "#B81432"
          ]
         ]
        },
        "height": 650,
        "legend": {
         "entrywidth": 0,
         "orientation": "h",
         "x": 0.5,
         "xanchor": "center",
         "y": 1.01,
         "yanchor": "bottom"
        },
        "scattermode": "overlay",
        "showlegend": true,
        "template": {
         "data": {
          "bar": [
           {
            "error_x": {
             "color": "#2a3f5f"
            },
            "error_y": {
             "color": "#2a3f5f"
            },
            "marker": {
             "line": {
              "color": "white",
              "width": 0.5
             },
             "pattern": {
              "fillmode": "overlay",
              "size": 10,
              "solidity": 0.2
             }
            },
            "type": "bar"
           }
          ],
          "barpolar": [
           {
            "marker": {
             "line": {
              "color": "white",
              "width": 0.5
             },
             "pattern": {
              "fillmode": "overlay",
              "size": 10,
              "solidity": 0.2
             }
            },
            "type": "barpolar"
           }
          ],
          "carpet": [
           {
            "aaxis": {
             "endlinecolor": "#2a3f5f",
             "gridcolor": "#C8D4E3",
             "linecolor": "#C8D4E3",
             "minorgridcolor": "#C8D4E3",
             "startlinecolor": "#2a3f5f"
            },
            "baxis": {
             "endlinecolor": "#2a3f5f",
             "gridcolor": "#C8D4E3",
             "linecolor": "#C8D4E3",
             "minorgridcolor": "#C8D4E3",
             "startlinecolor": "#2a3f5f"
            },
            "type": "carpet"
           }
          ],
          "choropleth": [
           {
            "colorbar": {
             "outlinewidth": 0,
             "ticks": ""
            },
            "type": "choropleth"
           }
          ],
          "contour": [
           {
            "colorbar": {
             "outlinewidth": 0,
             "ticks": ""
            },
            "colorscale": [
             [
              0,
              "#0d0887"
             ],
             [
              0.1111111111111111,
              "#46039f"
             ],
             [
              0.2222222222222222,
              "#7201a8"
             ],
             [
              0.3333333333333333,
              "#9c179e"
             ],
             [
              0.4444444444444444,
              "#bd3786"
             ],
             [
              0.5555555555555556,
              "#d8576b"
             ],
             [
              0.6666666666666666,
              "#ed7953"
             ],
             [
              0.7777777777777778,
              "#fb9f3a"
             ],
             [
              0.8888888888888888,
              "#fdca26"
             ],
             [
              1,
              "#f0f921"
             ]
            ],
            "type": "contour"
           }
          ],
          "contourcarpet": [
           {
            "colorbar": {
             "outlinewidth": 0,
             "ticks": ""
            },
            "type": "contourcarpet"
           }
          ],
          "heatmap": [
           {
            "colorbar": {
             "outlinewidth": 0,
             "ticks": ""
            },
            "colorscale": [
             [
              0,
              "#0d0887"
             ],
             [
              0.1111111111111111,
              "#46039f"
             ],
             [
              0.2222222222222222,
              "#7201a8"
             ],
             [
              0.3333333333333333,
              "#9c179e"
             ],
             [
              0.4444444444444444,
              "#bd3786"
             ],
             [
              0.5555555555555556,
              "#d8576b"
             ],
             [
              0.6666666666666666,
              "#ed7953"
             ],
             [
              0.7777777777777778,
              "#fb9f3a"
             ],
             [
              0.8888888888888888,
              "#fdca26"
             ],
             [
              1,
              "#f0f921"
             ]
            ],
            "type": "heatmap"
           }
          ],
          "heatmapgl": [
           {
            "colorbar": {
             "outlinewidth": 0,
             "ticks": ""
            },
            "colorscale": [
             [
              0,
              "#0d0887"
             ],
             [
              0.1111111111111111,
              "#46039f"
             ],
             [
              0.2222222222222222,
              "#7201a8"
             ],
             [
              0.3333333333333333,
              "#9c179e"
             ],
             [
              0.4444444444444444,
              "#bd3786"
             ],
             [
              0.5555555555555556,
              "#d8576b"
             ],
             [
              0.6666666666666666,
              "#ed7953"
             ],
             [
              0.7777777777777778,
              "#fb9f3a"
             ],
             [
              0.8888888888888888,
              "#fdca26"
             ],
             [
              1,
              "#f0f921"
             ]
            ],
            "type": "heatmapgl"
           }
          ],
          "histogram": [
           {
            "marker": {
             "pattern": {
              "fillmode": "overlay",
              "size": 10,
              "solidity": 0.2
             }
            },
            "type": "histogram"
           }
          ],
          "histogram2d": [
           {
            "colorbar": {
             "outlinewidth": 0,
             "ticks": ""
            },
            "colorscale": [
             [
              0,
              "#0d0887"
             ],
             [
              0.1111111111111111,
              "#46039f"
             ],
             [
              0.2222222222222222,
              "#7201a8"
             ],
             [
              0.3333333333333333,
              "#9c179e"
             ],
             [
              0.4444444444444444,
              "#bd3786"
             ],
             [
              0.5555555555555556,
              "#d8576b"
             ],
             [
              0.6666666666666666,
              "#ed7953"
             ],
             [
              0.7777777777777778,
              "#fb9f3a"
             ],
             [
              0.8888888888888888,
              "#fdca26"
             ],
             [
              1,
              "#f0f921"
             ]
            ],
            "type": "histogram2d"
           }
          ],
          "histogram2dcontour": [
           {
            "colorbar": {
             "outlinewidth": 0,
             "ticks": ""
            },
            "colorscale": [
             [
              0,
              "#0d0887"
             ],
             [
              0.1111111111111111,
              "#46039f"
             ],
             [
              0.2222222222222222,
              "#7201a8"
             ],
             [
              0.3333333333333333,
              "#9c179e"
             ],
             [
              0.4444444444444444,
              "#bd3786"
             ],
             [
              0.5555555555555556,
              "#d8576b"
             ],
             [
              0.6666666666666666,
              "#ed7953"
             ],
             [
              0.7777777777777778,
              "#fb9f3a"
             ],
             [
              0.8888888888888888,
              "#fdca26"
             ],
             [
              1,
              "#f0f921"
             ]
            ],
            "type": "histogram2dcontour"
           }
          ],
          "mesh3d": [
           {
            "colorbar": {
             "outlinewidth": 0,
             "ticks": ""
            },
            "type": "mesh3d"
           }
          ],
          "parcoords": [
           {
            "line": {
             "colorbar": {
              "outlinewidth": 0,
              "ticks": ""
             }
            },
            "type": "parcoords"
           }
          ],
          "pie": [
           {
            "automargin": true,
            "type": "pie"
           }
          ],
          "scatter": [
           {
            "fillpattern": {
             "fillmode": "overlay",
             "size": 10,
             "solidity": 0.2
            },
            "type": "scatter"
           }
          ],
          "scatter3d": [
           {
            "line": {
             "colorbar": {
              "outlinewidth": 0,
              "ticks": ""
             }
            },
            "marker": {
             "colorbar": {
              "outlinewidth": 0,
              "ticks": ""
             }
            },
            "type": "scatter3d"
           }
          ],
          "scattercarpet": [
           {
            "marker": {
             "colorbar": {
              "outlinewidth": 0,
              "ticks": ""
             }
            },
            "type": "scattercarpet"
           }
          ],
          "scattergeo": [
           {
            "marker": {
             "colorbar": {
              "outlinewidth": 0,
              "ticks": ""
             }
            },
            "type": "scattergeo"
           }
          ],
          "scattergl": [
           {
            "marker": {
             "colorbar": {
              "outlinewidth": 0,
              "ticks": ""
             }
            },
            "type": "scattergl"
           }
          ],
          "scattermapbox": [
           {
            "marker": {
             "colorbar": {
              "outlinewidth": 0,
              "ticks": ""
             }
            },
            "type": "scattermapbox"
           }
          ],
          "scatterpolar": [
           {
            "marker": {
             "colorbar": {
              "outlinewidth": 0,
              "ticks": ""
             }
            },
            "type": "scatterpolar"
           }
          ],
          "scatterpolargl": [
           {
            "marker": {
             "colorbar": {
              "outlinewidth": 0,
              "ticks": ""
             }
            },
            "type": "scatterpolargl"
           }
          ],
          "scatterternary": [
           {
            "marker": {
             "colorbar": {
              "outlinewidth": 0,
              "ticks": ""
             }
            },
            "type": "scatterternary"
           }
          ],
          "surface": [
           {
            "colorbar": {
             "outlinewidth": 0,
             "ticks": ""
            },
            "colorscale": [
             [
              0,
              "#0d0887"
             ],
             [
              0.1111111111111111,
              "#46039f"
             ],
             [
              0.2222222222222222,
              "#7201a8"
             ],
             [
              0.3333333333333333,
              "#9c179e"
             ],
             [
              0.4444444444444444,
              "#bd3786"
             ],
             [
              0.5555555555555556,
              "#d8576b"
             ],
             [
              0.6666666666666666,
              "#ed7953"
             ],
             [
              0.7777777777777778,
              "#fb9f3a"
             ],
             [
              0.8888888888888888,
              "#fdca26"
             ],
             [
              1,
              "#f0f921"
             ]
            ],
            "type": "surface"
           }
          ],
          "table": [
           {
            "cells": {
             "fill": {
              "color": "#EBF0F8"
             },
             "line": {
              "color": "white"
             }
            },
            "header": {
             "fill": {
              "color": "#C8D4E3"
             },
             "line": {
              "color": "white"
             }
            },
            "type": "table"
           }
          ]
         },
         "layout": {
          "annotationdefaults": {
           "arrowcolor": "#2a3f5f",
           "arrowhead": 0,
           "arrowwidth": 1
          },
          "autotypenumbers": "strict",
          "coloraxis": {
           "colorbar": {
            "outlinewidth": 0,
            "ticks": ""
           }
          },
          "colorscale": {
           "diverging": [
            [
             0,
             "#8e0152"
            ],
            [
             0.1,
             "#c51b7d"
            ],
            [
             0.2,
             "#de77ae"
            ],
            [
             0.3,
             "#f1b6da"
            ],
            [
             0.4,
             "#fde0ef"
            ],
            [
             0.5,
             "#f7f7f7"
            ],
            [
             0.6,
             "#e6f5d0"
            ],
            [
             0.7,
             "#b8e186"
            ],
            [
             0.8,
             "#7fbc41"
            ],
            [
             0.9,
             "#4d9221"
            ],
            [
             1,
             "#276419"
            ]
           ],
           "sequential": [
            [
             0,
             "#0d0887"
            ],
            [
             0.1111111111111111,
             "#46039f"
            ],
            [
             0.2222222222222222,
             "#7201a8"
            ],
            [
             0.3333333333333333,
             "#9c179e"
            ],
            [
             0.4444444444444444,
             "#bd3786"
            ],
            [
             0.5555555555555556,
             "#d8576b"
            ],
            [
             0.6666666666666666,
             "#ed7953"
            ],
            [
             0.7777777777777778,
             "#fb9f3a"
            ],
            [
             0.8888888888888888,
             "#fdca26"
            ],
            [
             1,
             "#f0f921"
            ]
           ],
           "sequentialminus": [
            [
             0,
             "#0d0887"
            ],
            [
             0.1111111111111111,
             "#46039f"
            ],
            [
             0.2222222222222222,
             "#7201a8"
            ],
            [
             0.3333333333333333,
             "#9c179e"
            ],
            [
             0.4444444444444444,
             "#bd3786"
            ],
            [
             0.5555555555555556,
             "#d8576b"
            ],
            [
             0.6666666666666666,
             "#ed7953"
            ],
            [
             0.7777777777777778,
             "#fb9f3a"
            ],
            [
             0.8888888888888888,
             "#fdca26"
            ],
            [
             1,
             "#f0f921"
            ]
           ]
          },
          "colorway": [
           "#636efa",
           "#EF553B",
           "#00cc96",
           "#ab63fa",
           "#FFA15A",
           "#19d3f3",
           "#FF6692",
           "#B6E880",
           "#FF97FF",
           "#FECB52"
          ],
          "font": {
           "color": "#2a3f5f"
          },
          "geo": {
           "bgcolor": "white",
           "lakecolor": "white",
           "landcolor": "white",
           "showlakes": true,
           "showland": true,
           "subunitcolor": "#C8D4E3"
          },
          "hoverlabel": {
           "align": "left"
          },
          "hovermode": "closest",
          "mapbox": {
           "style": "light"
          },
          "paper_bgcolor": "white",
          "plot_bgcolor": "white",
          "polar": {
           "angularaxis": {
            "gridcolor": "#EBF0F8",
            "linecolor": "#EBF0F8",
            "ticks": ""
           },
           "bgcolor": "white",
           "radialaxis": {
            "gridcolor": "#EBF0F8",
            "linecolor": "#EBF0F8",
            "ticks": ""
           }
          },
          "scene": {
           "xaxis": {
            "backgroundcolor": "white",
            "gridcolor": "#DFE8F3",
            "gridwidth": 2,
            "linecolor": "#EBF0F8",
            "showbackground": true,
            "ticks": "",
            "zerolinecolor": "#EBF0F8"
           },
           "yaxis": {
            "backgroundcolor": "white",
            "gridcolor": "#DFE8F3",
            "gridwidth": 2,
            "linecolor": "#EBF0F8",
            "showbackground": true,
            "ticks": "",
            "zerolinecolor": "#EBF0F8"
           },
           "zaxis": {
            "backgroundcolor": "white",
            "gridcolor": "#DFE8F3",
            "gridwidth": 2,
            "linecolor": "#EBF0F8",
            "showbackground": true,
            "ticks": "",
            "zerolinecolor": "#EBF0F8"
           }
          },
          "shapedefaults": {
           "line": {
            "color": "#2a3f5f"
           }
          },
          "ternary": {
           "aaxis": {
            "gridcolor": "#DFE8F3",
            "linecolor": "#A2B1C6",
            "ticks": ""
           },
           "baxis": {
            "gridcolor": "#DFE8F3",
            "linecolor": "#A2B1C6",
            "ticks": ""
           },
           "bgcolor": "white",
           "caxis": {
            "gridcolor": "#DFE8F3",
            "linecolor": "#A2B1C6",
            "ticks": ""
           }
          },
          "title": {
           "x": 0.05
          },
          "xaxis": {
           "automargin": true,
           "gridcolor": "#EBF0F8",
           "linecolor": "#EBF0F8",
           "ticks": "",
           "title": {
            "standoff": 15
           },
           "zerolinecolor": "#EBF0F8",
           "zerolinewidth": 2
          },
          "yaxis": {
           "automargin": true,
           "gridcolor": "#EBF0F8",
           "linecolor": "#EBF0F8",
           "ticks": "",
           "title": {
            "standoff": 15
           },
           "zerolinecolor": "#EBF0F8",
           "zerolinewidth": 2
          }
         }
        },
        "title": {
         "font": {
          "size": 24
         },
         "text": "Prediction Costs & Penalties",
         "x": 0.5,
         "xanchor": "center",
         "y": 0.99
        },
        "width": 980,
        "xaxis": {
         "griddash": "dot",
         "range": [
          -0.4,
          24.4
         ],
         "tickformat": "",
         "ticktext": [
          "0",
          "1",
          "2",
          "3",
          "4",
          "5",
          "6",
          "7",
          "8",
          "9",
          "10",
          "11",
          "12",
          "13",
          "14",
          "15",
          "16",
          "17",
          "18",
          "19",
          "20",
          "21",
          "22",
          "23",
          "0",
          "1",
          "2",
          "3"
         ],
         "tickvals": [
          0,
          1,
          2,
          3,
          4,
          5,
          6,
          7,
          8,
          9,
          10,
          11,
          12,
          13,
          14,
          15,
          16,
          17,
          18,
          19,
          20,
          21,
          22,
          23,
          24,
          25,
          26,
          27
         ],
         "title": {
          "text": ""
         }
        },
        "yaxis": {
         "dtick": 5,
         "nticks": 5,
         "tickformat": " ,.2~g",
         "title": {
          "text": ""
         },
         "type": "linear"
        }
       }
      },
      "text/html": [
       "<div>                            <div id=\"db9eaa73-4ebe-4b46-bbf7-01fb05d57852\" class=\"plotly-graph-div\" style=\"height:650px; width:980px;\"></div>            <script type=\"text/javascript\">                require([\"plotly\"], function(Plotly) {                    window.PLOTLYENV=window.PLOTLYENV || {};                                    if (document.getElementById(\"db9eaa73-4ebe-4b46-bbf7-01fb05d57852\")) {                    Plotly.newPlot(                        \"db9eaa73-4ebe-4b46-bbf7-01fb05d57852\",                        [{\"marker\":{\"color\":\"crimson\",\"line\":{\"color\":\"crimson\",\"width\":1},\"opacity\":0.9},\"name\":\"Total Penalty\",\"showlegend\":true,\"width\":0.9,\"y\":[0.0,0.0,0.0,0.0,0.0,5.499840290103297,1.1073159750434134,0.0,0.0,0.0,5.017237916387826,5.017237916387826,0.0,0.0,26.016513140078086,12.432092501257117,4.837013661737965,0.0,0.0,0.0,0.0,0.0,0.0,0.0],\"yaxis\":\"y\",\"type\":\"bar\"},{\"marker\":{\"color\":\"silver\",\"line\":{\"color\":\"grey\",\"width\":1},\"opacity\":0.8,\"pattern\":{\"fillmode\":\"overlay\",\"shape\":\"/\",\"size\":7}},\"name\":\"Grid Energy Cost\",\"showlegend\":true,\"width\":0.9,\"y\":[-0.06462424951864358,2.256294210433498,-0.2750190446901312,4.039797323066958,2.532723408654878,1.9398702577772746,1.0387652867157826,4.103080716762783,1.113002472596062,1.1683404823169843,-0.5651957165705017,3.8775400329737706,2.6183000484328156,1.28537006341431,0.9746678636372298,5.50581598958793,-1.7989713837649186,6.370795569360453,3.7578333223406024,1.294195484400584,0.7857928374177777,-0.27968783436667666,0.32396583537660706,2.287856506933745],\"yaxis\":\"y\",\"type\":\"bar\"},{\"legendgroup\":\"Total Cost\",\"line\":{\"color\":\"rgba(0,0,0,0.7)\",\"shape\":\"linear\"},\"marker\":{\"color\":[0.05169939961491487,1.8050353683467986,0.220015235752105,3.2318378584535665,2.0261787269239027,7.051736496325116,1.9383282044160395,3.2824645734102265,0.8904019780768497,0.9346723858535875,5.469394489644227,8.119269942766842,2.0946400387462525,1.028296050731448,26.79624743098787,16.83674529292746,6.2761907687499,5.096636455488363,3.006266657872482,1.0353563875204672,0.6286342699342222,0.22375026749334134,0.25917266830128566,1.830285205546996],\"coloraxis\":\"coloraxis\",\"line\":{\"width\":1.5},\"size\":10,\"symbol\":\"diamond\"},\"mode\":\"markers\",\"name\":\"Total Cost\",\"showlegend\":true,\"x\":[0,1,2,3,4,5,6,7,8,9,10,11,12,13,14,15,16,17,18,19,20,21,22,23],\"y\":[0.05169939961491487,1.8050353683467986,0.220015235752105,3.2318378584535665,2.0261787269239027,7.051736496325116,1.9383282044160395,3.2824645734102265,0.8904019780768497,0.9346723858535875,5.469394489644227,8.119269942766842,2.0946400387462525,1.028296050731448,26.79624743098787,16.83674529292746,6.2761907687499,5.096636455488363,3.006266657872482,1.0353563875204672,0.6286342699342222,0.22375026749334134,0.25917266830128566,1.830285205546996],\"yaxis\":\"y\",\"type\":\"scatter\"}],                        {\"template\":{\"data\":{\"histogram2dcontour\":[{\"type\":\"histogram2dcontour\",\"colorbar\":{\"outlinewidth\":0,\"ticks\":\"\"},\"colorscale\":[[0.0,\"#0d0887\"],[0.1111111111111111,\"#46039f\"],[0.2222222222222222,\"#7201a8\"],[0.3333333333333333,\"#9c179e\"],[0.4444444444444444,\"#bd3786\"],[0.5555555555555556,\"#d8576b\"],[0.6666666666666666,\"#ed7953\"],[0.7777777777777778,\"#fb9f3a\"],[0.8888888888888888,\"#fdca26\"],[1.0,\"#f0f921\"]]}],\"choropleth\":[{\"type\":\"choropleth\",\"colorbar\":{\"outlinewidth\":0,\"ticks\":\"\"}}],\"histogram2d\":[{\"type\":\"histogram2d\",\"colorbar\":{\"outlinewidth\":0,\"ticks\":\"\"},\"colorscale\":[[0.0,\"#0d0887\"],[0.1111111111111111,\"#46039f\"],[0.2222222222222222,\"#7201a8\"],[0.3333333333333333,\"#9c179e\"],[0.4444444444444444,\"#bd3786\"],[0.5555555555555556,\"#d8576b\"],[0.6666666666666666,\"#ed7953\"],[0.7777777777777778,\"#fb9f3a\"],[0.8888888888888888,\"#fdca26\"],[1.0,\"#f0f921\"]]}],\"heatmap\":[{\"type\":\"heatmap\",\"colorbar\":{\"outlinewidth\":0,\"ticks\":\"\"},\"colorscale\":[[0.0,\"#0d0887\"],[0.1111111111111111,\"#46039f\"],[0.2222222222222222,\"#7201a8\"],[0.3333333333333333,\"#9c179e\"],[0.4444444444444444,\"#bd3786\"],[0.5555555555555556,\"#d8576b\"],[0.6666666666666666,\"#ed7953\"],[0.7777777777777778,\"#fb9f3a\"],[0.8888888888888888,\"#fdca26\"],[1.0,\"#f0f921\"]]}],\"heatmapgl\":[{\"type\":\"heatmapgl\",\"colorbar\":{\"outlinewidth\":0,\"ticks\":\"\"},\"colorscale\":[[0.0,\"#0d0887\"],[0.1111111111111111,\"#46039f\"],[0.2222222222222222,\"#7201a8\"],[0.3333333333333333,\"#9c179e\"],[0.4444444444444444,\"#bd3786\"],[0.5555555555555556,\"#d8576b\"],[0.6666666666666666,\"#ed7953\"],[0.7777777777777778,\"#fb9f3a\"],[0.8888888888888888,\"#fdca26\"],[1.0,\"#f0f921\"]]}],\"contourcarpet\":[{\"type\":\"contourcarpet\",\"colorbar\":{\"outlinewidth\":0,\"ticks\":\"\"}}],\"contour\":[{\"type\":\"contour\",\"colorbar\":{\"outlinewidth\":0,\"ticks\":\"\"},\"colorscale\":[[0.0,\"#0d0887\"],[0.1111111111111111,\"#46039f\"],[0.2222222222222222,\"#7201a8\"],[0.3333333333333333,\"#9c179e\"],[0.4444444444444444,\"#bd3786\"],[0.5555555555555556,\"#d8576b\"],[0.6666666666666666,\"#ed7953\"],[0.7777777777777778,\"#fb9f3a\"],[0.8888888888888888,\"#fdca26\"],[1.0,\"#f0f921\"]]}],\"surface\":[{\"type\":\"surface\",\"colorbar\":{\"outlinewidth\":0,\"ticks\":\"\"},\"colorscale\":[[0.0,\"#0d0887\"],[0.1111111111111111,\"#46039f\"],[0.2222222222222222,\"#7201a8\"],[0.3333333333333333,\"#9c179e\"],[0.4444444444444444,\"#bd3786\"],[0.5555555555555556,\"#d8576b\"],[0.6666666666666666,\"#ed7953\"],[0.7777777777777778,\"#fb9f3a\"],[0.8888888888888888,\"#fdca26\"],[1.0,\"#f0f921\"]]}],\"mesh3d\":[{\"type\":\"mesh3d\",\"colorbar\":{\"outlinewidth\":0,\"ticks\":\"\"}}],\"scatter\":[{\"fillpattern\":{\"fillmode\":\"overlay\",\"size\":10,\"solidity\":0.2},\"type\":\"scatter\"}],\"parcoords\":[{\"type\":\"parcoords\",\"line\":{\"colorbar\":{\"outlinewidth\":0,\"ticks\":\"\"}}}],\"scatterpolargl\":[{\"type\":\"scatterpolargl\",\"marker\":{\"colorbar\":{\"outlinewidth\":0,\"ticks\":\"\"}}}],\"bar\":[{\"error_x\":{\"color\":\"#2a3f5f\"},\"error_y\":{\"color\":\"#2a3f5f\"},\"marker\":{\"line\":{\"color\":\"white\",\"width\":0.5},\"pattern\":{\"fillmode\":\"overlay\",\"size\":10,\"solidity\":0.2}},\"type\":\"bar\"}],\"scattergeo\":[{\"type\":\"scattergeo\",\"marker\":{\"colorbar\":{\"outlinewidth\":0,\"ticks\":\"\"}}}],\"scatterpolar\":[{\"type\":\"scatterpolar\",\"marker\":{\"colorbar\":{\"outlinewidth\":0,\"ticks\":\"\"}}}],\"histogram\":[{\"marker\":{\"pattern\":{\"fillmode\":\"overlay\",\"size\":10,\"solidity\":0.2}},\"type\":\"histogram\"}],\"scattergl\":[{\"type\":\"scattergl\",\"marker\":{\"colorbar\":{\"outlinewidth\":0,\"ticks\":\"\"}}}],\"scatter3d\":[{\"type\":\"scatter3d\",\"line\":{\"colorbar\":{\"outlinewidth\":0,\"ticks\":\"\"}},\"marker\":{\"colorbar\":{\"outlinewidth\":0,\"ticks\":\"\"}}}],\"scattermapbox\":[{\"type\":\"scattermapbox\",\"marker\":{\"colorbar\":{\"outlinewidth\":0,\"ticks\":\"\"}}}],\"scatterternary\":[{\"type\":\"scatterternary\",\"marker\":{\"colorbar\":{\"outlinewidth\":0,\"ticks\":\"\"}}}],\"scattercarpet\":[{\"type\":\"scattercarpet\",\"marker\":{\"colorbar\":{\"outlinewidth\":0,\"ticks\":\"\"}}}],\"carpet\":[{\"aaxis\":{\"endlinecolor\":\"#2a3f5f\",\"gridcolor\":\"#C8D4E3\",\"linecolor\":\"#C8D4E3\",\"minorgridcolor\":\"#C8D4E3\",\"startlinecolor\":\"#2a3f5f\"},\"baxis\":{\"endlinecolor\":\"#2a3f5f\",\"gridcolor\":\"#C8D4E3\",\"linecolor\":\"#C8D4E3\",\"minorgridcolor\":\"#C8D4E3\",\"startlinecolor\":\"#2a3f5f\"},\"type\":\"carpet\"}],\"table\":[{\"cells\":{\"fill\":{\"color\":\"#EBF0F8\"},\"line\":{\"color\":\"white\"}},\"header\":{\"fill\":{\"color\":\"#C8D4E3\"},\"line\":{\"color\":\"white\"}},\"type\":\"table\"}],\"barpolar\":[{\"marker\":{\"line\":{\"color\":\"white\",\"width\":0.5},\"pattern\":{\"fillmode\":\"overlay\",\"size\":10,\"solidity\":0.2}},\"type\":\"barpolar\"}],\"pie\":[{\"automargin\":true,\"type\":\"pie\"}]},\"layout\":{\"autotypenumbers\":\"strict\",\"colorway\":[\"#636efa\",\"#EF553B\",\"#00cc96\",\"#ab63fa\",\"#FFA15A\",\"#19d3f3\",\"#FF6692\",\"#B6E880\",\"#FF97FF\",\"#FECB52\"],\"font\":{\"color\":\"#2a3f5f\"},\"hovermode\":\"closest\",\"hoverlabel\":{\"align\":\"left\"},\"paper_bgcolor\":\"white\",\"plot_bgcolor\":\"white\",\"polar\":{\"bgcolor\":\"white\",\"angularaxis\":{\"gridcolor\":\"#EBF0F8\",\"linecolor\":\"#EBF0F8\",\"ticks\":\"\"},\"radialaxis\":{\"gridcolor\":\"#EBF0F8\",\"linecolor\":\"#EBF0F8\",\"ticks\":\"\"}},\"ternary\":{\"bgcolor\":\"white\",\"aaxis\":{\"gridcolor\":\"#DFE8F3\",\"linecolor\":\"#A2B1C6\",\"ticks\":\"\"},\"baxis\":{\"gridcolor\":\"#DFE8F3\",\"linecolor\":\"#A2B1C6\",\"ticks\":\"\"},\"caxis\":{\"gridcolor\":\"#DFE8F3\",\"linecolor\":\"#A2B1C6\",\"ticks\":\"\"}},\"coloraxis\":{\"colorbar\":{\"outlinewidth\":0,\"ticks\":\"\"}},\"colorscale\":{\"sequential\":[[0.0,\"#0d0887\"],[0.1111111111111111,\"#46039f\"],[0.2222222222222222,\"#7201a8\"],[0.3333333333333333,\"#9c179e\"],[0.4444444444444444,\"#bd3786\"],[0.5555555555555556,\"#d8576b\"],[0.6666666666666666,\"#ed7953\"],[0.7777777777777778,\"#fb9f3a\"],[0.8888888888888888,\"#fdca26\"],[1.0,\"#f0f921\"]],\"sequentialminus\":[[0.0,\"#0d0887\"],[0.1111111111111111,\"#46039f\"],[0.2222222222222222,\"#7201a8\"],[0.3333333333333333,\"#9c179e\"],[0.4444444444444444,\"#bd3786\"],[0.5555555555555556,\"#d8576b\"],[0.6666666666666666,\"#ed7953\"],[0.7777777777777778,\"#fb9f3a\"],[0.8888888888888888,\"#fdca26\"],[1.0,\"#f0f921\"]],\"diverging\":[[0,\"#8e0152\"],[0.1,\"#c51b7d\"],[0.2,\"#de77ae\"],[0.3,\"#f1b6da\"],[0.4,\"#fde0ef\"],[0.5,\"#f7f7f7\"],[0.6,\"#e6f5d0\"],[0.7,\"#b8e186\"],[0.8,\"#7fbc41\"],[0.9,\"#4d9221\"],[1,\"#276419\"]]},\"xaxis\":{\"gridcolor\":\"#EBF0F8\",\"linecolor\":\"#EBF0F8\",\"ticks\":\"\",\"title\":{\"standoff\":15},\"zerolinecolor\":\"#EBF0F8\",\"automargin\":true,\"zerolinewidth\":2},\"yaxis\":{\"gridcolor\":\"#EBF0F8\",\"linecolor\":\"#EBF0F8\",\"ticks\":\"\",\"title\":{\"standoff\":15},\"zerolinecolor\":\"#EBF0F8\",\"automargin\":true,\"zerolinewidth\":2},\"scene\":{\"xaxis\":{\"backgroundcolor\":\"white\",\"gridcolor\":\"#DFE8F3\",\"linecolor\":\"#EBF0F8\",\"showbackground\":true,\"ticks\":\"\",\"zerolinecolor\":\"#EBF0F8\",\"gridwidth\":2},\"yaxis\":{\"backgroundcolor\":\"white\",\"gridcolor\":\"#DFE8F3\",\"linecolor\":\"#EBF0F8\",\"showbackground\":true,\"ticks\":\"\",\"zerolinecolor\":\"#EBF0F8\",\"gridwidth\":2},\"zaxis\":{\"backgroundcolor\":\"white\",\"gridcolor\":\"#DFE8F3\",\"linecolor\":\"#EBF0F8\",\"showbackground\":true,\"ticks\":\"\",\"zerolinecolor\":\"#EBF0F8\",\"gridwidth\":2}},\"shapedefaults\":{\"line\":{\"color\":\"#2a3f5f\"}},\"annotationdefaults\":{\"arrowcolor\":\"#2a3f5f\",\"arrowhead\":0,\"arrowwidth\":1},\"geo\":{\"bgcolor\":\"white\",\"landcolor\":\"white\",\"subunitcolor\":\"#C8D4E3\",\"showland\":true,\"showlakes\":true,\"lakecolor\":\"white\"},\"title\":{\"x\":0.05},\"mapbox\":{\"style\":\"light\"}}},\"annotations\":[{\"font\":{\"size\":14},\"showarrow\":false,\"text\":\"Cost & Penalty Value\",\"textangle\":-90,\"x\":-0.1,\"xanchor\":\"left\",\"xref\":\"paper\",\"y\":0.5,\"yanchor\":\"middle\",\"yref\":\"paper\"},{\"font\":{\"size\":14},\"showarrow\":false,\"text\":\"Timestep (Hour) in a Day\",\"textangle\":0,\"x\":0.5,\"xref\":\"paper\",\"y\":-0.1,\"yref\":\"paper\"}],\"title\":{\"text\":\"Prediction Costs & Penalties\",\"font\":{\"size\":24},\"xanchor\":\"center\",\"x\":0.5,\"y\":0.99},\"yaxis\":{\"title\":{\"text\":\"\"},\"nticks\":5,\"dtick\":5,\"tickformat\":\" ,.2~g\",\"type\":\"linear\"},\"barmode\":\"stack\",\"xaxis\":{\"tickformat\":\"\",\"griddash\":\"dot\",\"title\":{\"text\":\"\"},\"range\":[-0.4,24.4],\"tickvals\":[0,1,2,3,4,5,6,7,8,9,10,11,12,13,14,15,16,17,18,19,20,21,22,23,24,25,26,27],\"ticktext\":[\"0\",\"1\",\"2\",\"3\",\"4\",\"5\",\"6\",\"7\",\"8\",\"9\",\"10\",\"11\",\"12\",\"13\",\"14\",\"15\",\"16\",\"17\",\"18\",\"19\",\"20\",\"21\",\"22\",\"23\",\"0\",\"1\",\"2\",\"3\"]},\"coloraxis\":{\"colorbar\":{\"title\":{\"text\":\"Total Cost\",\"side\":\"right\"}},\"colorscale\":[[0,\"rgb(22, 22, 22)\"],[0.25,\"dimgrey\"],[0.5,\"lightgrey\"],[0.7,\"#E93556\"],[0.9,\"crimson\"],[1,\"#B81432\"]]},\"legend\":{\"x\":0.5,\"orientation\":\"h\",\"yanchor\":\"bottom\",\"entrywidth\":0,\"y\":1.01,\"xanchor\":\"center\"},\"height\":650,\"width\":980,\"showlegend\":true,\"scattermode\":\"overlay\"},                        {\"responsive\": true}                    ).then(function(){\n",
       "                            \n",
       "var gd = document.getElementById('db9eaa73-4ebe-4b46-bbf7-01fb05d57852');\n",
       "var x = new MutationObserver(function (mutations, observer) {{\n",
       "        var display = window.getComputedStyle(gd).display;\n",
       "        if (!display || display === 'none') {{\n",
       "            console.log([gd, 'removed!']);\n",
       "            Plotly.purge(gd);\n",
       "            observer.disconnect();\n",
       "        }}\n",
       "}});\n",
       "\n",
       "// Listen for the removal of the full notebook cells\n",
       "var notebookContainer = gd.closest('#notebook-container');\n",
       "if (notebookContainer) {{\n",
       "    x.observe(notebookContainer, {childList: true});\n",
       "}}\n",
       "\n",
       "// Listen for the clearing of the current output cell\n",
       "var outputEl = gd.closest('.output');\n",
       "if (outputEl) {{\n",
       "    x.observe(outputEl, {childList: true});\n",
       "}}\n",
       "\n",
       "                        })                };                });            </script>        </div>"
      ]
     },
     "metadata": {},
     "output_type": "display_data"
    }
   ],
   "source": [
    "subplot_fig = go.Figure()\n",
    "\n",
    "total_cost = costs_predictions['Total Cost']\n",
    "total_penalty = costs_predictions['Total Penalty']\n",
    "grid_cost = costs_predictions['Grid Energy Cost']\n",
    "\n",
    "subplot_fig.add_bar(y=total_penalty, showlegend=True, yaxis='y', width=0.9,\n",
    "                    marker=dict(color='crimson', opacity=0.9, line_width=1, line_color='crimson'), name='Total Penalty')\n",
    "subplot_fig.add_bar(y=grid_cost, showlegend=True, yaxis='y', width=0.9,\n",
    "                    marker=dict(color='silver', opacity=0.8, line_width=1, line_color='grey', pattern=dict(shape='/', fillmode='overlay', size=7)), name='Grid Energy Cost')\n",
    "\n",
    "subplot_fig.add_scatter(x=costs_predictions.index, y=total_cost, line_shape='linear', name='Total Cost', mode='markers',\n",
    "                        marker=dict(size=10, symbol='diamond', line=dict(width=1.5), color=total_cost, coloraxis='coloraxis'), line=dict(color='rgba(0,0,0,0.7)'),\n",
    "                        showlegend=True, yaxis='y', legendgroup='Total Cost')\n",
    "\n",
    "subplot_fig.add_annotation(x=-0.1, y=0.5, text=\"Cost & Penalty Value\", xanchor='left', yanchor='middle', textangle=-90, xref=\"paper\", yref=\"paper\", font_size=14, showarrow=False)\n",
    "subplot_fig.add_annotation(x=0.5, y=-0.1, text=\"Timestep (Hour) in a Day\", textangle=0, xref=\"paper\", yref=\"paper\", font_size=14, showarrow=False)\n",
    "\n",
    "max_timestep = int(initial_training_data.Departure.max() + 1)\n",
    "subplot_fig.update_layout(title=\"Prediction Costs & Penalties\",\n",
    "                          yaxis=dict(title=''), barmode='overlay')\n",
    "subplot_fig.update_xaxes(tickformat='', griddash=\"dot\", title='', range=[-0.4, 24.4],\n",
    "                         tickvals=[i for i in range(max_timestep)],\n",
    "                         ticktext=[str(i%24) for i in range(max_timestep)])\n",
    "\n",
    "# For plot export: w(1280)xh(720), w(1920)xh(1080)\n",
    "# For better overview in jupyter: w(850)xh(650)\n",
    "plot_width = 980\n",
    "plot_height = 650\n",
    "\n",
    "\n",
    "total_cost_max = total_cost.max()\n",
    "ytype = 'log' if total_cost_max > 10000 else 'linear'\n",
    "ymax_margin = 6 if ytype == 'log' else round(total_cost_max + total_cost_max/10)\n",
    "yyaxistext = '- log scale' if ytype == 'log' else ''\n",
    "ydtick = 1 if ytype == 'log' else 5\n",
    "subplot_fig.update_yaxes(nticks=6, dtick=0.2)\n",
    "subplot_fig.update_layout(height=plot_height, width=plot_width, title=dict(xanchor=\"center\", x=0.5, font_size=24, y=0.99), \n",
    "                          showlegend=True, coloraxis=dict(colorscale=[[0, 'rgb(22, 22, 22)'], [0.25, 'dimgrey'], [0.5, 'lightgrey'], [0.7, '#E93556'], [0.9, 'crimson'], [1, '#B81432']], \n",
    "                                                          colorbar=dict(title=dict(text='Total Cost', side='right'))), barmode='stack',\n",
    "                          legend=dict(x=0.5, orientation='h', yanchor='bottom', entrywidth=0, y=1.01, xanchor='center'), scattermode='overlay',\n",
    "                          yaxis=dict(tickformat=\" ,.2~g\", nticks=5, dtick=ydtick, type=f'{ytype}'))\n",
    "\n",
    "\n",
    "subplot_fig.show()\n",
    "\n",
    "del max_timestep, plot_width, plot_height"
   ]
  },
  {
   "cell_type": "markdown",
   "id": "f22913fe",
   "metadata": {},
   "source": [
    "#### Prediction Power Values"
   ]
  },
  {
   "cell_type": "code",
   "execution_count": 74,
   "id": "65b14d0f",
   "metadata": {},
   "outputs": [
    {
     "data": {
      "application/vnd.plotly.v1+json": {
       "config": {
        "locales": {
         "en": {
          "format": {
           "currency": [
            " € ",
            ""
           ]
          }
         }
        },
        "plotlyServerURL": "https://plot.ly"
       },
       "data": [
        {
         "legendgroup": "Grid Power",
         "line": {
          "color": "turquoise",
          "shape": "linear"
         },
         "marker": {
          "color": "turquoise",
          "coloraxis": "coloraxis",
          "line": {
           "width": 0
          },
          "size": 0,
          "symbol": "circle"
         },
         "mode": "lines+markers",
         "name": "Grid Power",
         "showlegend": true,
         "type": "scatter",
         "x": [
          0,
          1,
          2,
          3,
          4,
          5,
          6,
          7,
          8,
          9,
          10,
          11,
          12,
          13,
          14,
          15,
          16,
          17,
          18,
          19,
          20,
          21,
          22,
          23
         ],
         "y": [
          -0.7027634181082248,
          19.62905309870839,
          -2.9907244622707365,
          35.14497169554233,
          22.033900562673807,
          16.876263795047997,
          9.036932717263698,
          21.48959876357882,
          5.829272736762324,
          6.119101698795486,
          -3.700216377164102,
          20.308345180219373,
          13.713163685425297,
          6.732035958406015,
          5.1047548813136245,
          28.836326811452718,
          -11.7774837655306,
          33.366596964818356,
          19.681389641590776,
          6.778258484601974,
          6.8361516237258915,
          -3.041495722532272,
          2.8184013216756285,
          19.90363519489765
         ],
         "yaxis": "y"
        },
        {
         "legendgroup": "Solar Power",
         "line": {
          "color": "gold",
          "shape": "linear"
         },
         "marker": {
          "color": "gold",
          "coloraxis": "coloraxis",
          "line": {
           "width": 0
          },
          "size": 0,
          "symbol": "circle"
         },
         "mode": "lines+markers",
         "name": "Utilised Solar Power",
         "showlegend": true,
         "type": "scatter",
         "x": [
          0,
          1,
          2,
          3,
          4,
          5,
          6,
          7,
          8,
          9,
          10,
          11,
          12,
          13,
          14,
          15,
          16,
          17,
          18,
          19,
          20,
          21,
          22,
          23
         ],
         "y": [
          0,
          0,
          0,
          0,
          0,
          0,
          0,
          4.066955837017605,
          12.188247075523575,
          18.439357767900297,
          21.011386138583397,
          20.907308520907197,
          18.9740872602918,
          16.972027260426,
          16.78989142949265,
          15.367224151651053,
          11.525674210238472,
          3.6281703374563494,
          0.24939701574259496,
          0,
          0,
          0,
          0,
          0
         ],
         "yaxis": "y"
        },
        {
         "legendgroup": "Total Power",
         "line": {
          "color": "limegreen",
          "shape": "linear"
         },
         "marker": {
          "color": "limegreen",
          "coloraxis": "coloraxis",
          "line": {
           "width": 0
          },
          "size": 0,
          "symbol": "circle"
         },
         "mode": "lines+markers",
         "name": "Total Vehicle Power",
         "showlegend": true,
         "type": "scatter",
         "x": [
          0,
          1,
          2,
          3,
          4,
          5,
          6,
          7,
          8,
          9,
          10,
          11,
          12,
          13,
          14,
          15,
          16,
          17,
          18,
          19,
          20,
          21,
          22,
          23
         ],
         "y": [
          0,
          20.9,
          3.642040029168129,
          41.8,
          20.9,
          15.126731181144713,
          13.085704344511031,
          20.9,
          20.966414915025233,
          14.489089447259902,
          11.425655049085616,
          43.8176795437932,
          34.34419882297516,
          20.9,
          18.581710708141326,
          39.87376347482204,
          7.298653936386108,
          48.54530624747276,
          27.775494492053983,
          3.3379039108753203,
          10.721319043636322,
          0.09105777442455291,
          2.5297413259744643,
          20.9
         ],
         "yaxis": "y"
        },
        {
         "legendgroup": "Total Power",
         "line": {
          "color": "crimson",
          "shape": "linear"
         },
         "marker": {
          "color": "crimson",
          "coloraxis": "coloraxis",
          "line": {
           "width": 0
          },
          "size": 0,
          "symbol": "circle"
         },
         "mode": "lines+markers",
         "name": "Total Battery Power",
         "showlegend": true,
         "type": "scatter",
         "x": [
          0,
          1,
          2,
          3,
          4,
          5,
          6,
          7,
          8,
          9,
          10,
          11,
          12,
          13,
          14,
          15,
          16,
          17,
          18,
          19,
          20,
          21,
          22,
          23
         ],
         "y": [
          -0.7027634181082248,
          -1.2709469012916088,
          -6.6327644914388655,
          -6.655028304457664,
          1.133900562673807,
          1.749532613903284,
          -4.0487716272473335,
          4.656554600596428,
          -2.9488951027393338,
          10.069370019435882,
          5.885514712333679,
          -2.602025842666626,
          -1.6569478772580624,
          2.804063218832016,
          3.3129356026649472,
          4.329787488281727,
          -7.550463491678237,
          -11.550538945198058,
          -7.844707834720611,
          3.440354573726654,
          -3.885167419910431,
          -3.132553496956825,
          0.288659995701164,
          -0.9963648051023483
         ],
         "yaxis": "y"
        },
        {
         "legendgroup": "Day Tariff",
         "line": {
          "color": "teal",
          "shape": "hv"
         },
         "marker": {
          "color": "teal",
          "coloraxis": "coloraxis",
          "line": {
           "width": 0
          },
          "size": 0,
          "symbol": "circle"
         },
         "mode": "lines+markers",
         "name": "Electricity Day Tariff",
         "showlegend": true,
         "type": "scatter",
         "x": [
          0,
          1,
          2,
          3,
          4,
          5,
          6,
          7,
          8,
          9,
          10,
          11,
          12,
          13,
          14,
          15,
          16,
          17,
          18,
          19,
          20,
          21,
          22,
          23
         ],
         "y": [
          0.114946666,
          0.114946666,
          0.114946666,
          0.114946666,
          0.114946666,
          0.114946666,
          0.114946666,
          0.190933333,
          0.190933333,
          0.190933333,
          0.190933333,
          0.190933333,
          0.190933333,
          0.190933333,
          0.190933333,
          0.190933333,
          0.190933333,
          0.190933333,
          0.190933333,
          0.190933333,
          0.114946666,
          0.114946666,
          0.114946666,
          0.114946666
         ],
         "yaxis": "y2"
        }
       ],
       "layout": {
        "annotations": [
         {
          "font": {
           "color": "dimgrey",
           "size": 14
          },
          "showarrow": false,
          "text": "Low Demand",
          "x": 0.14583333333333334,
          "xanchor": "center",
          "xref": "paper",
          "y": 0.05,
          "yanchor": "middle",
          "yref": "paper"
         },
         {
          "font": {
           "color": "goldenrod",
           "size": 14
          },
          "showarrow": false,
          "text": "Peak Demand",
          "x": 0.5625,
          "xanchor": "center",
          "xref": "paper",
          "y": 0.05,
          "yanchor": "middle",
          "yref": "paper"
         },
         {
          "font": {
           "color": "dimgrey",
           "size": 14
          },
          "showarrow": false,
          "text": "Low Demand",
          "x": 0.9166666666666666,
          "xanchor": "center",
          "xref": "paper",
          "y": 0.05,
          "yanchor": "middle",
          "yref": "paper"
         },
         {
          "font": {
           "size": 14
          },
          "showarrow": false,
          "text": "Power [kW]",
          "textangle": -90,
          "x": -0.1,
          "xanchor": "left",
          "xref": "paper",
          "y": 0.5,
          "yanchor": "middle",
          "yref": "paper"
         },
         {
          "font": {
           "size": 14
          },
          "showarrow": false,
          "text": "Grid Tariff",
          "textangle": -90,
          "x": 1.07,
          "xanchor": "left",
          "xref": "paper",
          "y": 0.75,
          "yanchor": "middle",
          "yref": "paper"
         },
         {
          "font": {
           "size": 14
          },
          "showarrow": false,
          "text": "Timestep (Hour) in a Day",
          "textangle": 0,
          "x": 0.5,
          "xref": "paper",
          "y": -0.1,
          "yref": "paper"
         }
        ],
        "barmode": "stack",
        "coloraxis": {
         "colorbar": {
          "title": {
           "side": "right",
           "text": ""
          }
         },
         "colorscale": [
          [
           0,
           "crimson"
          ],
          [
           0.5,
           "lightgrey"
          ],
          [
           1,
           "grey"
          ]
         ]
        },
        "height": 650,
        "legend": {
         "entrywidth": 0,
         "orientation": "h",
         "x": 0.5,
         "xanchor": "center",
         "y": 1.01,
         "yanchor": "bottom"
        },
        "scattermode": "overlay",
        "shapes": [
         {
          "fillcolor": "grey",
          "layer": "above",
          "line": {
           "width": 0
          },
          "opacity": 0.1,
          "type": "rect",
          "x0": 0,
          "x1": 7,
          "xref": "x",
          "y0": 0,
          "y1": 1,
          "yref": "y domain"
         },
         {
          "fillcolor": "gold",
          "layer": "above",
          "line": {
           "width": 0
          },
          "opacity": 0.1,
          "type": "rect",
          "x0": 7,
          "x1": 20,
          "xref": "x",
          "y0": 0,
          "y1": 1,
          "yref": "y domain"
         },
         {
          "fillcolor": "grey",
          "layer": "above",
          "line": {
           "width": 0
          },
          "opacity": 0.1,
          "type": "rect",
          "x0": 20,
          "x1": 24,
          "xref": "x",
          "y0": 0,
          "y1": 1,
          "yref": "y domain"
         }
        ],
        "showlegend": true,
        "template": {
         "data": {
          "bar": [
           {
            "error_x": {
             "color": "#2a3f5f"
            },
            "error_y": {
             "color": "#2a3f5f"
            },
            "marker": {
             "line": {
              "color": "white",
              "width": 0.5
             },
             "pattern": {
              "fillmode": "overlay",
              "size": 10,
              "solidity": 0.2
             }
            },
            "type": "bar"
           }
          ],
          "barpolar": [
           {
            "marker": {
             "line": {
              "color": "white",
              "width": 0.5
             },
             "pattern": {
              "fillmode": "overlay",
              "size": 10,
              "solidity": 0.2
             }
            },
            "type": "barpolar"
           }
          ],
          "carpet": [
           {
            "aaxis": {
             "endlinecolor": "#2a3f5f",
             "gridcolor": "#C8D4E3",
             "linecolor": "#C8D4E3",
             "minorgridcolor": "#C8D4E3",
             "startlinecolor": "#2a3f5f"
            },
            "baxis": {
             "endlinecolor": "#2a3f5f",
             "gridcolor": "#C8D4E3",
             "linecolor": "#C8D4E3",
             "minorgridcolor": "#C8D4E3",
             "startlinecolor": "#2a3f5f"
            },
            "type": "carpet"
           }
          ],
          "choropleth": [
           {
            "colorbar": {
             "outlinewidth": 0,
             "ticks": ""
            },
            "type": "choropleth"
           }
          ],
          "contour": [
           {
            "colorbar": {
             "outlinewidth": 0,
             "ticks": ""
            },
            "colorscale": [
             [
              0,
              "#0d0887"
             ],
             [
              0.1111111111111111,
              "#46039f"
             ],
             [
              0.2222222222222222,
              "#7201a8"
             ],
             [
              0.3333333333333333,
              "#9c179e"
             ],
             [
              0.4444444444444444,
              "#bd3786"
             ],
             [
              0.5555555555555556,
              "#d8576b"
             ],
             [
              0.6666666666666666,
              "#ed7953"
             ],
             [
              0.7777777777777778,
              "#fb9f3a"
             ],
             [
              0.8888888888888888,
              "#fdca26"
             ],
             [
              1,
              "#f0f921"
             ]
            ],
            "type": "contour"
           }
          ],
          "contourcarpet": [
           {
            "colorbar": {
             "outlinewidth": 0,
             "ticks": ""
            },
            "type": "contourcarpet"
           }
          ],
          "heatmap": [
           {
            "colorbar": {
             "outlinewidth": 0,
             "ticks": ""
            },
            "colorscale": [
             [
              0,
              "#0d0887"
             ],
             [
              0.1111111111111111,
              "#46039f"
             ],
             [
              0.2222222222222222,
              "#7201a8"
             ],
             [
              0.3333333333333333,
              "#9c179e"
             ],
             [
              0.4444444444444444,
              "#bd3786"
             ],
             [
              0.5555555555555556,
              "#d8576b"
             ],
             [
              0.6666666666666666,
              "#ed7953"
             ],
             [
              0.7777777777777778,
              "#fb9f3a"
             ],
             [
              0.8888888888888888,
              "#fdca26"
             ],
             [
              1,
              "#f0f921"
             ]
            ],
            "type": "heatmap"
           }
          ],
          "heatmapgl": [
           {
            "colorbar": {
             "outlinewidth": 0,
             "ticks": ""
            },
            "colorscale": [
             [
              0,
              "#0d0887"
             ],
             [
              0.1111111111111111,
              "#46039f"
             ],
             [
              0.2222222222222222,
              "#7201a8"
             ],
             [
              0.3333333333333333,
              "#9c179e"
             ],
             [
              0.4444444444444444,
              "#bd3786"
             ],
             [
              0.5555555555555556,
              "#d8576b"
             ],
             [
              0.6666666666666666,
              "#ed7953"
             ],
             [
              0.7777777777777778,
              "#fb9f3a"
             ],
             [
              0.8888888888888888,
              "#fdca26"
             ],
             [
              1,
              "#f0f921"
             ]
            ],
            "type": "heatmapgl"
           }
          ],
          "histogram": [
           {
            "marker": {
             "pattern": {
              "fillmode": "overlay",
              "size": 10,
              "solidity": 0.2
             }
            },
            "type": "histogram"
           }
          ],
          "histogram2d": [
           {
            "colorbar": {
             "outlinewidth": 0,
             "ticks": ""
            },
            "colorscale": [
             [
              0,
              "#0d0887"
             ],
             [
              0.1111111111111111,
              "#46039f"
             ],
             [
              0.2222222222222222,
              "#7201a8"
             ],
             [
              0.3333333333333333,
              "#9c179e"
             ],
             [
              0.4444444444444444,
              "#bd3786"
             ],
             [
              0.5555555555555556,
              "#d8576b"
             ],
             [
              0.6666666666666666,
              "#ed7953"
             ],
             [
              0.7777777777777778,
              "#fb9f3a"
             ],
             [
              0.8888888888888888,
              "#fdca26"
             ],
             [
              1,
              "#f0f921"
             ]
            ],
            "type": "histogram2d"
           }
          ],
          "histogram2dcontour": [
           {
            "colorbar": {
             "outlinewidth": 0,
             "ticks": ""
            },
            "colorscale": [
             [
              0,
              "#0d0887"
             ],
             [
              0.1111111111111111,
              "#46039f"
             ],
             [
              0.2222222222222222,
              "#7201a8"
             ],
             [
              0.3333333333333333,
              "#9c179e"
             ],
             [
              0.4444444444444444,
              "#bd3786"
             ],
             [
              0.5555555555555556,
              "#d8576b"
             ],
             [
              0.6666666666666666,
              "#ed7953"
             ],
             [
              0.7777777777777778,
              "#fb9f3a"
             ],
             [
              0.8888888888888888,
              "#fdca26"
             ],
             [
              1,
              "#f0f921"
             ]
            ],
            "type": "histogram2dcontour"
           }
          ],
          "mesh3d": [
           {
            "colorbar": {
             "outlinewidth": 0,
             "ticks": ""
            },
            "type": "mesh3d"
           }
          ],
          "parcoords": [
           {
            "line": {
             "colorbar": {
              "outlinewidth": 0,
              "ticks": ""
             }
            },
            "type": "parcoords"
           }
          ],
          "pie": [
           {
            "automargin": true,
            "type": "pie"
           }
          ],
          "scatter": [
           {
            "fillpattern": {
             "fillmode": "overlay",
             "size": 10,
             "solidity": 0.2
            },
            "type": "scatter"
           }
          ],
          "scatter3d": [
           {
            "line": {
             "colorbar": {
              "outlinewidth": 0,
              "ticks": ""
             }
            },
            "marker": {
             "colorbar": {
              "outlinewidth": 0,
              "ticks": ""
             }
            },
            "type": "scatter3d"
           }
          ],
          "scattercarpet": [
           {
            "marker": {
             "colorbar": {
              "outlinewidth": 0,
              "ticks": ""
             }
            },
            "type": "scattercarpet"
           }
          ],
          "scattergeo": [
           {
            "marker": {
             "colorbar": {
              "outlinewidth": 0,
              "ticks": ""
             }
            },
            "type": "scattergeo"
           }
          ],
          "scattergl": [
           {
            "marker": {
             "colorbar": {
              "outlinewidth": 0,
              "ticks": ""
             }
            },
            "type": "scattergl"
           }
          ],
          "scattermapbox": [
           {
            "marker": {
             "colorbar": {
              "outlinewidth": 0,
              "ticks": ""
             }
            },
            "type": "scattermapbox"
           }
          ],
          "scatterpolar": [
           {
            "marker": {
             "colorbar": {
              "outlinewidth": 0,
              "ticks": ""
             }
            },
            "type": "scatterpolar"
           }
          ],
          "scatterpolargl": [
           {
            "marker": {
             "colorbar": {
              "outlinewidth": 0,
              "ticks": ""
             }
            },
            "type": "scatterpolargl"
           }
          ],
          "scatterternary": [
           {
            "marker": {
             "colorbar": {
              "outlinewidth": 0,
              "ticks": ""
             }
            },
            "type": "scatterternary"
           }
          ],
          "surface": [
           {
            "colorbar": {
             "outlinewidth": 0,
             "ticks": ""
            },
            "colorscale": [
             [
              0,
              "#0d0887"
             ],
             [
              0.1111111111111111,
              "#46039f"
             ],
             [
              0.2222222222222222,
              "#7201a8"
             ],
             [
              0.3333333333333333,
              "#9c179e"
             ],
             [
              0.4444444444444444,
              "#bd3786"
             ],
             [
              0.5555555555555556,
              "#d8576b"
             ],
             [
              0.6666666666666666,
              "#ed7953"
             ],
             [
              0.7777777777777778,
              "#fb9f3a"
             ],
             [
              0.8888888888888888,
              "#fdca26"
             ],
             [
              1,
              "#f0f921"
             ]
            ],
            "type": "surface"
           }
          ],
          "table": [
           {
            "cells": {
             "fill": {
              "color": "#EBF0F8"
             },
             "line": {
              "color": "white"
             }
            },
            "header": {
             "fill": {
              "color": "#C8D4E3"
             },
             "line": {
              "color": "white"
             }
            },
            "type": "table"
           }
          ]
         },
         "layout": {
          "annotationdefaults": {
           "arrowcolor": "#2a3f5f",
           "arrowhead": 0,
           "arrowwidth": 1
          },
          "autotypenumbers": "strict",
          "coloraxis": {
           "colorbar": {
            "outlinewidth": 0,
            "ticks": ""
           }
          },
          "colorscale": {
           "diverging": [
            [
             0,
             "#8e0152"
            ],
            [
             0.1,
             "#c51b7d"
            ],
            [
             0.2,
             "#de77ae"
            ],
            [
             0.3,
             "#f1b6da"
            ],
            [
             0.4,
             "#fde0ef"
            ],
            [
             0.5,
             "#f7f7f7"
            ],
            [
             0.6,
             "#e6f5d0"
            ],
            [
             0.7,
             "#b8e186"
            ],
            [
             0.8,
             "#7fbc41"
            ],
            [
             0.9,
             "#4d9221"
            ],
            [
             1,
             "#276419"
            ]
           ],
           "sequential": [
            [
             0,
             "#0d0887"
            ],
            [
             0.1111111111111111,
             "#46039f"
            ],
            [
             0.2222222222222222,
             "#7201a8"
            ],
            [
             0.3333333333333333,
             "#9c179e"
            ],
            [
             0.4444444444444444,
             "#bd3786"
            ],
            [
             0.5555555555555556,
             "#d8576b"
            ],
            [
             0.6666666666666666,
             "#ed7953"
            ],
            [
             0.7777777777777778,
             "#fb9f3a"
            ],
            [
             0.8888888888888888,
             "#fdca26"
            ],
            [
             1,
             "#f0f921"
            ]
           ],
           "sequentialminus": [
            [
             0,
             "#0d0887"
            ],
            [
             0.1111111111111111,
             "#46039f"
            ],
            [
             0.2222222222222222,
             "#7201a8"
            ],
            [
             0.3333333333333333,
             "#9c179e"
            ],
            [
             0.4444444444444444,
             "#bd3786"
            ],
            [
             0.5555555555555556,
             "#d8576b"
            ],
            [
             0.6666666666666666,
             "#ed7953"
            ],
            [
             0.7777777777777778,
             "#fb9f3a"
            ],
            [
             0.8888888888888888,
             "#fdca26"
            ],
            [
             1,
             "#f0f921"
            ]
           ]
          },
          "colorway": [
           "#636efa",
           "#EF553B",
           "#00cc96",
           "#ab63fa",
           "#FFA15A",
           "#19d3f3",
           "#FF6692",
           "#B6E880",
           "#FF97FF",
           "#FECB52"
          ],
          "font": {
           "color": "#2a3f5f"
          },
          "geo": {
           "bgcolor": "white",
           "lakecolor": "white",
           "landcolor": "white",
           "showlakes": true,
           "showland": true,
           "subunitcolor": "#C8D4E3"
          },
          "hoverlabel": {
           "align": "left"
          },
          "hovermode": "closest",
          "mapbox": {
           "style": "light"
          },
          "paper_bgcolor": "white",
          "plot_bgcolor": "white",
          "polar": {
           "angularaxis": {
            "gridcolor": "#EBF0F8",
            "linecolor": "#EBF0F8",
            "ticks": ""
           },
           "bgcolor": "white",
           "radialaxis": {
            "gridcolor": "#EBF0F8",
            "linecolor": "#EBF0F8",
            "ticks": ""
           }
          },
          "scene": {
           "xaxis": {
            "backgroundcolor": "white",
            "gridcolor": "#DFE8F3",
            "gridwidth": 2,
            "linecolor": "#EBF0F8",
            "showbackground": true,
            "ticks": "",
            "zerolinecolor": "#EBF0F8"
           },
           "yaxis": {
            "backgroundcolor": "white",
            "gridcolor": "#DFE8F3",
            "gridwidth": 2,
            "linecolor": "#EBF0F8",
            "showbackground": true,
            "ticks": "",
            "zerolinecolor": "#EBF0F8"
           },
           "zaxis": {
            "backgroundcolor": "white",
            "gridcolor": "#DFE8F3",
            "gridwidth": 2,
            "linecolor": "#EBF0F8",
            "showbackground": true,
            "ticks": "",
            "zerolinecolor": "#EBF0F8"
           }
          },
          "shapedefaults": {
           "line": {
            "color": "#2a3f5f"
           }
          },
          "ternary": {
           "aaxis": {
            "gridcolor": "#DFE8F3",
            "linecolor": "#A2B1C6",
            "ticks": ""
           },
           "baxis": {
            "gridcolor": "#DFE8F3",
            "linecolor": "#A2B1C6",
            "ticks": ""
           },
           "bgcolor": "white",
           "caxis": {
            "gridcolor": "#DFE8F3",
            "linecolor": "#A2B1C6",
            "ticks": ""
           }
          },
          "title": {
           "x": 0.05
          },
          "xaxis": {
           "automargin": true,
           "gridcolor": "#EBF0F8",
           "linecolor": "#EBF0F8",
           "ticks": "",
           "title": {
            "standoff": 15
           },
           "zerolinecolor": "#EBF0F8",
           "zerolinewidth": 2
          },
          "yaxis": {
           "automargin": true,
           "gridcolor": "#EBF0F8",
           "linecolor": "#EBF0F8",
           "ticks": "",
           "title": {
            "standoff": 15
           },
           "zerolinecolor": "#EBF0F8",
           "zerolinewidth": 2
          }
         }
        },
        "title": {
         "font": {
          "size": 24
         },
         "text": "Prediction Power Values",
         "x": 0.5,
         "xanchor": "center",
         "y": 0.99
        },
        "width": 980,
        "xaxis": {
         "griddash": "dot",
         "range": [
          -0.4,
          24
         ],
         "showspikes": true,
         "spikecolor": "black",
         "spikedash": "dot",
         "spikethickness": -2,
         "tickformat": "",
         "ticktext": [
          "0",
          "1",
          "2",
          "3",
          "4",
          "5",
          "6",
          "7",
          "8",
          "9",
          "10",
          "11",
          "12",
          "13",
          "14",
          "15",
          "16",
          "17",
          "18",
          "19",
          "20",
          "21",
          "22",
          "23",
          "0",
          "1",
          "2",
          "3"
         ],
         "tickvals": [
          0,
          1,
          2,
          3,
          4,
          5,
          6,
          7,
          8,
          9,
          10,
          11,
          12,
          13,
          14,
          15,
          16,
          17,
          18,
          19,
          20,
          21,
          22,
          23,
          24,
          25,
          26,
          27
         ],
         "title": {
          "text": ""
         }
        },
        "yaxis": {
         "dtick": 11,
         "range": [
          -55,
          55
         ],
         "showspikes": true,
         "spikecolor": "black",
         "spikedash": "dot",
         "spikethickness": -2,
         "tickformat": " ,.2~g",
         "title": {
          "text": ""
         }
        },
        "yaxis2": {
         "anchor": "free",
         "autoshift": true,
         "dtick": 0.05,
         "nticks": 11,
         "overlaying": "y",
         "range": [
          -0.25,
          0.25
         ],
         "shift": 2,
         "showspikes": true,
         "side": "right",
         "spikecolor": "black",
         "spikedash": "dot",
         "spikethickness": -2,
         "tickformat": "$,.2f",
         "tickmode": "array",
         "tickvals": [
          "0.0",
          "0.05",
          "0.1",
          "0.15",
          "0.2",
          "0.25",
          "0.3",
          "0.35",
          "0.4",
          "0.45",
          "0.5",
          "0.55"
         ]
        },
        "yaxis3": {
         "overlaying": "y",
         "range": [
          0,
          0.25
         ],
         "visible": false
        }
       }
      },
      "text/html": [
       "<div>                            <div id=\"8e1909e3-7ea7-4e33-a55c-4556bf594806\" class=\"plotly-graph-div\" style=\"height:650px; width:980px;\"></div>            <script type=\"text/javascript\">                require([\"plotly\"], function(Plotly) {                    window.PLOTLYENV=window.PLOTLYENV || {};                                    if (document.getElementById(\"8e1909e3-7ea7-4e33-a55c-4556bf594806\")) {                    Plotly.newPlot(                        \"8e1909e3-7ea7-4e33-a55c-4556bf594806\",                        [{\"legendgroup\":\"Grid Power\",\"line\":{\"color\":\"turquoise\",\"shape\":\"linear\"},\"marker\":{\"color\":\"turquoise\",\"coloraxis\":\"coloraxis\",\"line\":{\"width\":0},\"size\":0,\"symbol\":\"circle\"},\"mode\":\"lines+markers\",\"name\":\"Grid Power\",\"showlegend\":true,\"x\":[0,1,2,3,4,5,6,7,8,9,10,11,12,13,14,15,16,17,18,19,20,21,22,23],\"y\":[-0.7027634181082248,19.62905309870839,-2.9907244622707365,35.14497169554233,22.033900562673807,16.876263795047997,9.036932717263698,21.48959876357882,5.829272736762324,6.119101698795486,-3.700216377164102,20.308345180219373,13.713163685425297,6.732035958406015,5.1047548813136245,28.836326811452718,-11.7774837655306,33.366596964818356,19.681389641590776,6.778258484601974,6.8361516237258915,-3.041495722532272,2.8184013216756285,19.90363519489765],\"yaxis\":\"y\",\"type\":\"scatter\"},{\"legendgroup\":\"Solar Power\",\"line\":{\"color\":\"gold\",\"shape\":\"linear\"},\"marker\":{\"color\":\"gold\",\"coloraxis\":\"coloraxis\",\"line\":{\"width\":0},\"size\":0,\"symbol\":\"circle\"},\"mode\":\"lines+markers\",\"name\":\"Utilised Solar Power\",\"showlegend\":true,\"x\":[0,1,2,3,4,5,6,7,8,9,10,11,12,13,14,15,16,17,18,19,20,21,22,23],\"y\":[0.0,0.0,0.0,0.0,0.0,0.0,0.0,4.066955837017605,12.188247075523575,18.439357767900297,21.011386138583397,20.907308520907197,18.9740872602918,16.972027260426,16.78989142949265,15.367224151651053,11.525674210238472,3.6281703374563494,0.24939701574259496,0.0,0.0,0.0,0.0,0.0],\"yaxis\":\"y\",\"type\":\"scatter\"},{\"legendgroup\":\"Total Power\",\"line\":{\"color\":\"limegreen\",\"shape\":\"linear\"},\"marker\":{\"color\":\"limegreen\",\"coloraxis\":\"coloraxis\",\"line\":{\"width\":0},\"size\":0,\"symbol\":\"circle\"},\"mode\":\"lines+markers\",\"name\":\"Total Vehicle Power\",\"showlegend\":true,\"x\":[0,1,2,3,4,5,6,7,8,9,10,11,12,13,14,15,16,17,18,19,20,21,22,23],\"y\":[0.0,20.9,3.642040029168129,41.8,20.9,15.126731181144713,13.085704344511031,20.9,20.966414915025233,14.489089447259902,11.425655049085616,43.8176795437932,34.34419882297516,20.9,18.581710708141326,39.87376347482204,7.298653936386108,48.54530624747276,27.775494492053983,3.3379039108753203,10.721319043636322,0.09105777442455291,2.5297413259744643,20.9],\"yaxis\":\"y\",\"type\":\"scatter\"},{\"legendgroup\":\"Total Power\",\"line\":{\"color\":\"crimson\",\"shape\":\"linear\"},\"marker\":{\"color\":\"crimson\",\"coloraxis\":\"coloraxis\",\"line\":{\"width\":0},\"size\":0,\"symbol\":\"circle\"},\"mode\":\"lines+markers\",\"name\":\"Total Battery Power\",\"showlegend\":true,\"x\":[0,1,2,3,4,5,6,7,8,9,10,11,12,13,14,15,16,17,18,19,20,21,22,23],\"y\":[-0.7027634181082248,-1.2709469012916088,-6.6327644914388655,-6.655028304457664,1.133900562673807,1.749532613903284,-4.0487716272473335,4.656554600596428,-2.9488951027393338,10.069370019435882,5.885514712333679,-2.602025842666626,-1.6569478772580624,2.804063218832016,3.3129356026649472,4.329787488281727,-7.550463491678237,-11.550538945198058,-7.844707834720611,3.440354573726654,-3.885167419910431,-3.132553496956825,0.288659995701164,-0.9963648051023483],\"yaxis\":\"y\",\"type\":\"scatter\"},{\"legendgroup\":\"Day Tariff\",\"line\":{\"color\":\"teal\",\"shape\":\"hv\"},\"marker\":{\"color\":\"teal\",\"coloraxis\":\"coloraxis\",\"line\":{\"width\":0},\"size\":0,\"symbol\":\"circle\"},\"mode\":\"lines+markers\",\"name\":\"Electricity Day Tariff\",\"showlegend\":true,\"x\":[0,1,2,3,4,5,6,7,8,9,10,11,12,13,14,15,16,17,18,19,20,21,22,23],\"y\":[0.114946666,0.114946666,0.114946666,0.114946666,0.114946666,0.114946666,0.114946666,0.190933333,0.190933333,0.190933333,0.190933333,0.190933333,0.190933333,0.190933333,0.190933333,0.190933333,0.190933333,0.190933333,0.190933333,0.190933333,0.114946666,0.114946666,0.114946666,0.114946666],\"yaxis\":\"y2\",\"type\":\"scatter\"}],                        {\"template\":{\"data\":{\"histogram2dcontour\":[{\"type\":\"histogram2dcontour\",\"colorbar\":{\"outlinewidth\":0,\"ticks\":\"\"},\"colorscale\":[[0.0,\"#0d0887\"],[0.1111111111111111,\"#46039f\"],[0.2222222222222222,\"#7201a8\"],[0.3333333333333333,\"#9c179e\"],[0.4444444444444444,\"#bd3786\"],[0.5555555555555556,\"#d8576b\"],[0.6666666666666666,\"#ed7953\"],[0.7777777777777778,\"#fb9f3a\"],[0.8888888888888888,\"#fdca26\"],[1.0,\"#f0f921\"]]}],\"choropleth\":[{\"type\":\"choropleth\",\"colorbar\":{\"outlinewidth\":0,\"ticks\":\"\"}}],\"histogram2d\":[{\"type\":\"histogram2d\",\"colorbar\":{\"outlinewidth\":0,\"ticks\":\"\"},\"colorscale\":[[0.0,\"#0d0887\"],[0.1111111111111111,\"#46039f\"],[0.2222222222222222,\"#7201a8\"],[0.3333333333333333,\"#9c179e\"],[0.4444444444444444,\"#bd3786\"],[0.5555555555555556,\"#d8576b\"],[0.6666666666666666,\"#ed7953\"],[0.7777777777777778,\"#fb9f3a\"],[0.8888888888888888,\"#fdca26\"],[1.0,\"#f0f921\"]]}],\"heatmap\":[{\"type\":\"heatmap\",\"colorbar\":{\"outlinewidth\":0,\"ticks\":\"\"},\"colorscale\":[[0.0,\"#0d0887\"],[0.1111111111111111,\"#46039f\"],[0.2222222222222222,\"#7201a8\"],[0.3333333333333333,\"#9c179e\"],[0.4444444444444444,\"#bd3786\"],[0.5555555555555556,\"#d8576b\"],[0.6666666666666666,\"#ed7953\"],[0.7777777777777778,\"#fb9f3a\"],[0.8888888888888888,\"#fdca26\"],[1.0,\"#f0f921\"]]}],\"heatmapgl\":[{\"type\":\"heatmapgl\",\"colorbar\":{\"outlinewidth\":0,\"ticks\":\"\"},\"colorscale\":[[0.0,\"#0d0887\"],[0.1111111111111111,\"#46039f\"],[0.2222222222222222,\"#7201a8\"],[0.3333333333333333,\"#9c179e\"],[0.4444444444444444,\"#bd3786\"],[0.5555555555555556,\"#d8576b\"],[0.6666666666666666,\"#ed7953\"],[0.7777777777777778,\"#fb9f3a\"],[0.8888888888888888,\"#fdca26\"],[1.0,\"#f0f921\"]]}],\"contourcarpet\":[{\"type\":\"contourcarpet\",\"colorbar\":{\"outlinewidth\":0,\"ticks\":\"\"}}],\"contour\":[{\"type\":\"contour\",\"colorbar\":{\"outlinewidth\":0,\"ticks\":\"\"},\"colorscale\":[[0.0,\"#0d0887\"],[0.1111111111111111,\"#46039f\"],[0.2222222222222222,\"#7201a8\"],[0.3333333333333333,\"#9c179e\"],[0.4444444444444444,\"#bd3786\"],[0.5555555555555556,\"#d8576b\"],[0.6666666666666666,\"#ed7953\"],[0.7777777777777778,\"#fb9f3a\"],[0.8888888888888888,\"#fdca26\"],[1.0,\"#f0f921\"]]}],\"surface\":[{\"type\":\"surface\",\"colorbar\":{\"outlinewidth\":0,\"ticks\":\"\"},\"colorscale\":[[0.0,\"#0d0887\"],[0.1111111111111111,\"#46039f\"],[0.2222222222222222,\"#7201a8\"],[0.3333333333333333,\"#9c179e\"],[0.4444444444444444,\"#bd3786\"],[0.5555555555555556,\"#d8576b\"],[0.6666666666666666,\"#ed7953\"],[0.7777777777777778,\"#fb9f3a\"],[0.8888888888888888,\"#fdca26\"],[1.0,\"#f0f921\"]]}],\"mesh3d\":[{\"type\":\"mesh3d\",\"colorbar\":{\"outlinewidth\":0,\"ticks\":\"\"}}],\"scatter\":[{\"fillpattern\":{\"fillmode\":\"overlay\",\"size\":10,\"solidity\":0.2},\"type\":\"scatter\"}],\"parcoords\":[{\"type\":\"parcoords\",\"line\":{\"colorbar\":{\"outlinewidth\":0,\"ticks\":\"\"}}}],\"scatterpolargl\":[{\"type\":\"scatterpolargl\",\"marker\":{\"colorbar\":{\"outlinewidth\":0,\"ticks\":\"\"}}}],\"bar\":[{\"error_x\":{\"color\":\"#2a3f5f\"},\"error_y\":{\"color\":\"#2a3f5f\"},\"marker\":{\"line\":{\"color\":\"white\",\"width\":0.5},\"pattern\":{\"fillmode\":\"overlay\",\"size\":10,\"solidity\":0.2}},\"type\":\"bar\"}],\"scattergeo\":[{\"type\":\"scattergeo\",\"marker\":{\"colorbar\":{\"outlinewidth\":0,\"ticks\":\"\"}}}],\"scatterpolar\":[{\"type\":\"scatterpolar\",\"marker\":{\"colorbar\":{\"outlinewidth\":0,\"ticks\":\"\"}}}],\"histogram\":[{\"marker\":{\"pattern\":{\"fillmode\":\"overlay\",\"size\":10,\"solidity\":0.2}},\"type\":\"histogram\"}],\"scattergl\":[{\"type\":\"scattergl\",\"marker\":{\"colorbar\":{\"outlinewidth\":0,\"ticks\":\"\"}}}],\"scatter3d\":[{\"type\":\"scatter3d\",\"line\":{\"colorbar\":{\"outlinewidth\":0,\"ticks\":\"\"}},\"marker\":{\"colorbar\":{\"outlinewidth\":0,\"ticks\":\"\"}}}],\"scattermapbox\":[{\"type\":\"scattermapbox\",\"marker\":{\"colorbar\":{\"outlinewidth\":0,\"ticks\":\"\"}}}],\"scatterternary\":[{\"type\":\"scatterternary\",\"marker\":{\"colorbar\":{\"outlinewidth\":0,\"ticks\":\"\"}}}],\"scattercarpet\":[{\"type\":\"scattercarpet\",\"marker\":{\"colorbar\":{\"outlinewidth\":0,\"ticks\":\"\"}}}],\"carpet\":[{\"aaxis\":{\"endlinecolor\":\"#2a3f5f\",\"gridcolor\":\"#C8D4E3\",\"linecolor\":\"#C8D4E3\",\"minorgridcolor\":\"#C8D4E3\",\"startlinecolor\":\"#2a3f5f\"},\"baxis\":{\"endlinecolor\":\"#2a3f5f\",\"gridcolor\":\"#C8D4E3\",\"linecolor\":\"#C8D4E3\",\"minorgridcolor\":\"#C8D4E3\",\"startlinecolor\":\"#2a3f5f\"},\"type\":\"carpet\"}],\"table\":[{\"cells\":{\"fill\":{\"color\":\"#EBF0F8\"},\"line\":{\"color\":\"white\"}},\"header\":{\"fill\":{\"color\":\"#C8D4E3\"},\"line\":{\"color\":\"white\"}},\"type\":\"table\"}],\"barpolar\":[{\"marker\":{\"line\":{\"color\":\"white\",\"width\":0.5},\"pattern\":{\"fillmode\":\"overlay\",\"size\":10,\"solidity\":0.2}},\"type\":\"barpolar\"}],\"pie\":[{\"automargin\":true,\"type\":\"pie\"}]},\"layout\":{\"autotypenumbers\":\"strict\",\"colorway\":[\"#636efa\",\"#EF553B\",\"#00cc96\",\"#ab63fa\",\"#FFA15A\",\"#19d3f3\",\"#FF6692\",\"#B6E880\",\"#FF97FF\",\"#FECB52\"],\"font\":{\"color\":\"#2a3f5f\"},\"hovermode\":\"closest\",\"hoverlabel\":{\"align\":\"left\"},\"paper_bgcolor\":\"white\",\"plot_bgcolor\":\"white\",\"polar\":{\"bgcolor\":\"white\",\"angularaxis\":{\"gridcolor\":\"#EBF0F8\",\"linecolor\":\"#EBF0F8\",\"ticks\":\"\"},\"radialaxis\":{\"gridcolor\":\"#EBF0F8\",\"linecolor\":\"#EBF0F8\",\"ticks\":\"\"}},\"ternary\":{\"bgcolor\":\"white\",\"aaxis\":{\"gridcolor\":\"#DFE8F3\",\"linecolor\":\"#A2B1C6\",\"ticks\":\"\"},\"baxis\":{\"gridcolor\":\"#DFE8F3\",\"linecolor\":\"#A2B1C6\",\"ticks\":\"\"},\"caxis\":{\"gridcolor\":\"#DFE8F3\",\"linecolor\":\"#A2B1C6\",\"ticks\":\"\"}},\"coloraxis\":{\"colorbar\":{\"outlinewidth\":0,\"ticks\":\"\"}},\"colorscale\":{\"sequential\":[[0.0,\"#0d0887\"],[0.1111111111111111,\"#46039f\"],[0.2222222222222222,\"#7201a8\"],[0.3333333333333333,\"#9c179e\"],[0.4444444444444444,\"#bd3786\"],[0.5555555555555556,\"#d8576b\"],[0.6666666666666666,\"#ed7953\"],[0.7777777777777778,\"#fb9f3a\"],[0.8888888888888888,\"#fdca26\"],[1.0,\"#f0f921\"]],\"sequentialminus\":[[0.0,\"#0d0887\"],[0.1111111111111111,\"#46039f\"],[0.2222222222222222,\"#7201a8\"],[0.3333333333333333,\"#9c179e\"],[0.4444444444444444,\"#bd3786\"],[0.5555555555555556,\"#d8576b\"],[0.6666666666666666,\"#ed7953\"],[0.7777777777777778,\"#fb9f3a\"],[0.8888888888888888,\"#fdca26\"],[1.0,\"#f0f921\"]],\"diverging\":[[0,\"#8e0152\"],[0.1,\"#c51b7d\"],[0.2,\"#de77ae\"],[0.3,\"#f1b6da\"],[0.4,\"#fde0ef\"],[0.5,\"#f7f7f7\"],[0.6,\"#e6f5d0\"],[0.7,\"#b8e186\"],[0.8,\"#7fbc41\"],[0.9,\"#4d9221\"],[1,\"#276419\"]]},\"xaxis\":{\"gridcolor\":\"#EBF0F8\",\"linecolor\":\"#EBF0F8\",\"ticks\":\"\",\"title\":{\"standoff\":15},\"zerolinecolor\":\"#EBF0F8\",\"automargin\":true,\"zerolinewidth\":2},\"yaxis\":{\"gridcolor\":\"#EBF0F8\",\"linecolor\":\"#EBF0F8\",\"ticks\":\"\",\"title\":{\"standoff\":15},\"zerolinecolor\":\"#EBF0F8\",\"automargin\":true,\"zerolinewidth\":2},\"scene\":{\"xaxis\":{\"backgroundcolor\":\"white\",\"gridcolor\":\"#DFE8F3\",\"linecolor\":\"#EBF0F8\",\"showbackground\":true,\"ticks\":\"\",\"zerolinecolor\":\"#EBF0F8\",\"gridwidth\":2},\"yaxis\":{\"backgroundcolor\":\"white\",\"gridcolor\":\"#DFE8F3\",\"linecolor\":\"#EBF0F8\",\"showbackground\":true,\"ticks\":\"\",\"zerolinecolor\":\"#EBF0F8\",\"gridwidth\":2},\"zaxis\":{\"backgroundcolor\":\"white\",\"gridcolor\":\"#DFE8F3\",\"linecolor\":\"#EBF0F8\",\"showbackground\":true,\"ticks\":\"\",\"zerolinecolor\":\"#EBF0F8\",\"gridwidth\":2}},\"shapedefaults\":{\"line\":{\"color\":\"#2a3f5f\"}},\"annotationdefaults\":{\"arrowcolor\":\"#2a3f5f\",\"arrowhead\":0,\"arrowwidth\":1},\"geo\":{\"bgcolor\":\"white\",\"landcolor\":\"white\",\"subunitcolor\":\"#C8D4E3\",\"showland\":true,\"showlakes\":true,\"lakecolor\":\"white\"},\"title\":{\"x\":0.05},\"mapbox\":{\"style\":\"light\"}}},\"shapes\":[{\"fillcolor\":\"grey\",\"layer\":\"above\",\"line\":{\"width\":0},\"opacity\":0.1,\"type\":\"rect\",\"x0\":0,\"x1\":7,\"xref\":\"x\",\"y0\":0,\"y1\":1,\"yref\":\"y domain\"},{\"fillcolor\":\"gold\",\"layer\":\"above\",\"line\":{\"width\":0},\"opacity\":0.1,\"type\":\"rect\",\"x0\":7,\"x1\":20,\"xref\":\"x\",\"y0\":0,\"y1\":1,\"yref\":\"y domain\"},{\"fillcolor\":\"grey\",\"layer\":\"above\",\"line\":{\"width\":0},\"opacity\":0.1,\"type\":\"rect\",\"x0\":20,\"x1\":24,\"xref\":\"x\",\"y0\":0,\"y1\":1,\"yref\":\"y domain\"}],\"annotations\":[{\"font\":{\"color\":\"dimgrey\",\"size\":14},\"showarrow\":false,\"text\":\"Low Demand\",\"x\":0.14583333333333334,\"xanchor\":\"center\",\"xref\":\"paper\",\"y\":0.05,\"yanchor\":\"middle\",\"yref\":\"paper\"},{\"font\":{\"color\":\"goldenrod\",\"size\":14},\"showarrow\":false,\"text\":\"Peak Demand\",\"x\":0.5625,\"xanchor\":\"center\",\"xref\":\"paper\",\"y\":0.05,\"yanchor\":\"middle\",\"yref\":\"paper\"},{\"font\":{\"color\":\"dimgrey\",\"size\":14},\"showarrow\":false,\"text\":\"Low Demand\",\"x\":0.9166666666666666,\"xanchor\":\"center\",\"xref\":\"paper\",\"y\":0.05,\"yanchor\":\"middle\",\"yref\":\"paper\"},{\"font\":{\"size\":14},\"showarrow\":false,\"text\":\"Power [kW]\",\"textangle\":-90,\"x\":-0.1,\"xanchor\":\"left\",\"xref\":\"paper\",\"y\":0.5,\"yanchor\":\"middle\",\"yref\":\"paper\"},{\"font\":{\"size\":14},\"showarrow\":false,\"text\":\"Grid Tariff\",\"textangle\":-90,\"x\":1.07,\"xanchor\":\"left\",\"xref\":\"paper\",\"y\":0.75,\"yanchor\":\"middle\",\"yref\":\"paper\"},{\"font\":{\"size\":14},\"showarrow\":false,\"text\":\"Timestep (Hour) in a Day\",\"textangle\":0,\"x\":0.5,\"xref\":\"paper\",\"y\":-0.1,\"yref\":\"paper\"}],\"title\":{\"text\":\"Prediction Power Values\",\"font\":{\"size\":24},\"xanchor\":\"center\",\"x\":0.5,\"y\":0.99},\"yaxis\":{\"title\":{\"text\":\"\"},\"tickformat\":\" ,.2~g\",\"range\":[-55,55],\"dtick\":11,\"showspikes\":true,\"spikecolor\":\"black\",\"spikedash\":\"dot\",\"spikethickness\":-2},\"barmode\":\"stack\",\"xaxis\":{\"tickformat\":\"\",\"griddash\":\"dot\",\"title\":{\"text\":\"\"},\"range\":[-0.4,24],\"tickvals\":[0,1,2,3,4,5,6,7,8,9,10,11,12,13,14,15,16,17,18,19,20,21,22,23,24,25,26,27],\"ticktext\":[\"0\",\"1\",\"2\",\"3\",\"4\",\"5\",\"6\",\"7\",\"8\",\"9\",\"10\",\"11\",\"12\",\"13\",\"14\",\"15\",\"16\",\"17\",\"18\",\"19\",\"20\",\"21\",\"22\",\"23\",\"0\",\"1\",\"2\",\"3\"],\"showspikes\":true,\"spikecolor\":\"black\",\"spikedash\":\"dot\",\"spikethickness\":-2},\"coloraxis\":{\"colorbar\":{\"title\":{\"text\":\"\",\"side\":\"right\"}},\"colorscale\":[[0,\"crimson\"],[0.5,\"lightgrey\"],[1,\"grey\"]]},\"legend\":{\"x\":0.5,\"orientation\":\"h\",\"yanchor\":\"bottom\",\"entrywidth\":0,\"y\":1.01,\"xanchor\":\"center\"},\"yaxis2\":{\"tickformat\":\"$,.2f\",\"overlaying\":\"y\",\"anchor\":\"free\",\"nticks\":11,\"dtick\":0.05,\"tickmode\":\"array\",\"tickvals\":[\"0.0\",\"0.05\",\"0.1\",\"0.15\",\"0.2\",\"0.25\",\"0.3\",\"0.35\",\"0.4\",\"0.45\",\"0.5\",\"0.55\"],\"autoshift\":true,\"shift\":2,\"side\":\"right\",\"range\":[-0.25,0.25],\"showspikes\":true,\"spikecolor\":\"black\",\"spikedash\":\"dot\",\"spikethickness\":-2},\"yaxis3\":{\"overlaying\":\"y\",\"range\":[0,0.25],\"visible\":false},\"height\":650,\"width\":980,\"showlegend\":true,\"scattermode\":\"overlay\"},                        {\"locales\": {\"en\": {\"format\": {\"currency\": [\" \\u20ac \", \"\"]}}}, \"responsive\": true}                    ).then(function(){\n",
       "                            \n",
       "var gd = document.getElementById('8e1909e3-7ea7-4e33-a55c-4556bf594806');\n",
       "var x = new MutationObserver(function (mutations, observer) {{\n",
       "        var display = window.getComputedStyle(gd).display;\n",
       "        if (!display || display === 'none') {{\n",
       "            console.log([gd, 'removed!']);\n",
       "            Plotly.purge(gd);\n",
       "            observer.disconnect();\n",
       "        }}\n",
       "}});\n",
       "\n",
       "// Listen for the removal of the full notebook cells\n",
       "var notebookContainer = gd.closest('#notebook-container');\n",
       "if (notebookContainer) {{\n",
       "    x.observe(notebookContainer, {childList: true});\n",
       "}}\n",
       "\n",
       "// Listen for the clearing of the current output cell\n",
       "var outputEl = gd.closest('.output');\n",
       "if (outputEl) {{\n",
       "    x.observe(outputEl, {childList: true});\n",
       "}}\n",
       "\n",
       "                        })                };                });            </script>        </div>"
      ]
     },
     "metadata": {},
     "output_type": "display_data"
    }
   ],
   "source": [
    "subplot_fig = go.Figure()\n",
    "\n",
    "grid_p = energy_predictions['Grid Power']\n",
    "pv_p = energy_predictions['Utilised Solar Power']\n",
    "total_ev_p = energy_predictions['Total Charging Power'] + energy_predictions['Total Discharging Power']\n",
    "battery_p = battery_predictions['Battery Power Value']\n",
    "day_tariff = costs_predictions['Electricity Day Tariffs']\n",
    "\n",
    "subplot_fig.add_vrect(x0=0, x1=7, fillcolor='grey', opacity=0.1, layer='above', line=dict(width=0))\n",
    "subplot_fig.add_annotation(x=3.5/24, y=0.05, text=\"Low Demand\", xanchor='center', yanchor='middle', xref=\"paper\", yref=\"paper\", font=dict(size=14, color='dimgrey'), showarrow=False)\n",
    "subplot_fig.add_vrect(x0=7, x1=20, fillcolor='gold', opacity=0.1, layer='above', line=dict(width=0))\n",
    "subplot_fig.add_annotation(x=13.5/24, y=0.05, text=\"Peak Demand\", xanchor='center', yanchor='middle', xref=\"paper\", yref=\"paper\", font=dict(size=14, color='goldenrod'), showarrow=False)\n",
    "subplot_fig.add_vrect(x0=20, x1=24, fillcolor='grey', opacity=0.1, layer='above', line=dict(width=0))\n",
    "subplot_fig.add_annotation(x=22/24, y=0.05, text=\"Low Demand\", xanchor='center', yanchor='middle', xref=\"paper\", yref=\"paper\", font=dict(size=14, color='dimgrey'), showarrow=False)\n",
    "\n",
    "subplot_fig.add_scatter(x=energy_predictions.index, y=grid_p, line_shape='linear', name='Grid Power', mode='lines+markers',\n",
    "                        marker=dict(size=0, symbol='circle', line=dict(width=0), color='turquoise', coloraxis='coloraxis'), line=dict(color='turquoise'),\n",
    "                        showlegend=True, yaxis='y', legendgroup='Grid Power')\n",
    "subplot_fig.add_scatter(x=energy_predictions.index, y=pv_p, line_shape='linear', name='Utilised Solar Power', mode='lines+markers',\n",
    "                        marker=dict(size=0, symbol='circle', line=dict(width=0), color='gold', coloraxis='coloraxis'), line=dict(color='gold'),\n",
    "                        showlegend=True, yaxis='y', legendgroup='Solar Power')\n",
    "subplot_fig.add_scatter(x=energy_predictions.index, y=total_ev_p, line_shape='linear', name='Total Vehicle Power', mode='lines+markers',\n",
    "                        marker=dict(size=0, symbol='circle', line=dict(width=0), color='limegreen', coloraxis='coloraxis'), line=dict(color='limegreen'),\n",
    "                        showlegend=True, yaxis='y', legendgroup='Total Power')\n",
    "subplot_fig.add_scatter(x=battery_predictions.index, y=battery_p, line_shape='linear', name='Total Battery Power', mode='lines+markers',\n",
    "                        marker=dict(size=0, symbol='circle', line=dict(width=0), color='crimson', coloraxis='coloraxis'), line=dict(color='crimson'),\n",
    "                        showlegend=True, yaxis='y', legendgroup='Total Power')\n",
    "\n",
    "subplot_fig.add_scatter(x=costs_predictions.index, y=day_tariff, line_shape='hv', name='Electricity Day Tariff', mode='lines+markers',\n",
    "                        marker=dict(size=0, symbol='circle', line=dict(width=0), color='teal', coloraxis='coloraxis'), line=dict(color='teal'),\n",
    "                        showlegend=True, yaxis='y2', legendgroup='Day Tariff')\n",
    "\n",
    "subplot_fig.add_annotation(x=-0.1, y=0.5, text=\"Power [kW]\", xanchor='left', yanchor='middle', textangle=-90, xref=\"paper\", yref=\"paper\", font_size=14, showarrow=False)\n",
    "subplot_fig.add_annotation(x=1.07, y=0.75, text=\"Grid Tariff\", xanchor='left', yanchor='middle', textangle=-90, xref=\"paper\", yref=\"paper\", font_size=14, showarrow=False)\n",
    "subplot_fig.add_annotation(x=0.5, y=-0.1, text=\"Timestep (Hour) in a Day\", textangle=0, xref=\"paper\", yref=\"paper\", font_size=14, showarrow=False)\n",
    "\n",
    "max_timestep = int(initial_training_data.Departure.max() + 1)\n",
    "subplot_fig.update_layout(title=\"Prediction Power Values\",\n",
    "                          yaxis=dict(title=''), barmode='overlay')\n",
    "subplot_fig.update_xaxes(tickformat='', griddash=\"dot\", title='', range=[-0.4, 24],\n",
    "                         tickvals=[i for i in range(max_timestep)], ticktext=[str(i%24) for i in range(max_timestep)], \n",
    "                         showspikes=True, spikecolor='black', spikedash='dot', spikethickness=-2)\n",
    "\n",
    "# For plot export: w(1280)xh(720), w(1920)xh(1080)\n",
    "# For better overview in jupyter: w(850)xh(650)\n",
    "plot_width = 980\n",
    "plot_height = 650\n",
    "\n",
    "max_p = max(grid_p.max(), pv_p.max(), total_ev_p.max(), battery_p.max())\n",
    "power_margin = int(round(max_p/10)*10)+5\n",
    "power_ticks = int(power_margin/5)\n",
    "max_tariff = day_tariff.max()\n",
    "tariff_margin = int(max_tariff)+0.25\n",
    "\n",
    "subplot_fig.update_layout(height=plot_height, width=plot_width, title=dict(xanchor=\"center\", x=0.5, font_size=24, y=0.99), \n",
    "                          showlegend=True, coloraxis=dict(colorscale=[[0, 'crimson'], [0.5, 'lightgrey'], [1, 'grey']], \n",
    "                                                          colorbar=dict(title=dict(text='', side='right'))), barmode='stack',\n",
    "                          legend=dict(x=0.5, orientation='h', yanchor='bottom', entrywidth=0, y=1.01, xanchor='center'), scattermode='overlay',\n",
    "                          yaxis=dict(tickformat=\" ,.2~g\", range=[-power_margin, power_margin], dtick=power_ticks, showspikes=True, spikecolor='black', spikedash='dot', spikethickness=-2),\n",
    "                          yaxis2=dict(tickformat=\"$,.2f\", overlaying='y', anchor='free', nticks=11, dtick=0.05, tickmode='array', tickvals=[str(i/20) for i in range(12)],\n",
    "                                      autoshift=True, shift=2, side='right', range=[-tariff_margin, tariff_margin], showspikes=True, spikecolor='black', spikedash='dot', spikethickness=-2),\n",
    "                          yaxis3=dict(overlaying='y',\n",
    "                                      range=[0, tariff_margin], visible=False))\n",
    "\n",
    "config = {'locales': {'en': {'format': {'currency': [\" € \", \"\"]}}}}\n",
    "subplot_fig.show(config=config)\n",
    "\n",
    "del max_timestep, plot_width, plot_height"
   ]
  },
  {
   "cell_type": "markdown",
   "id": "8578636a",
   "metadata": {},
   "source": [
    "#### Prediction Power and separate State of Charge Values"
   ]
  },
  {
   "cell_type": "code",
   "execution_count": 167,
   "id": "64279998",
   "metadata": {},
   "outputs": [
    {
     "data": {
      "application/vnd.plotly.v1+json": {
       "config": {
        "locales": {
         "en": {
          "format": {
           "currency": [
            " € ",
            ""
           ]
          }
         }
        },
        "plotlyServerURL": "https://plot.ly"
       },
       "data": [
        {
         "legendgroup": "Grid Power",
         "line": {
          "color": "turquoise",
          "shape": "linear"
         },
         "marker": {
          "color": "turquoise",
          "coloraxis": "coloraxis",
          "line": {
           "width": 0
          },
          "size": 0,
          "symbol": "circle"
         },
         "mode": "lines+markers",
         "name": "Grid Power",
         "showlegend": true,
         "type": "scatter",
         "x": [
          0,
          1,
          2,
          3,
          4,
          5,
          6,
          7,
          8,
          9,
          10,
          11,
          12,
          13,
          14,
          15,
          16,
          17,
          18,
          19,
          20,
          21,
          22,
          23
         ],
         "y": [
          54.03316922783851,
          65.28252632021903,
          60.134152853488914,
          41.8419180015102,
          33.05331685841083,
          3.463276135921478,
          7.202784502506256,
          8.350521266417624,
          -0.9862491017122883,
          0.4456273577200278,
          -5.3661156389545805,
          10.551918098148109,
          22.94132482822916,
          -6.634636734710986,
          19.236465152345446,
          30.72366332063875,
          19.156464306659245,
          11.6274080041016,
          33.864387563081365,
          31.213737541437148,
          18.738151615858076,
          9.872666889429093,
          0.014779113233089447,
          5.492109698057175
         ],
         "yaxis": "y"
        },
        {
         "legendgroup": "Solar Power",
         "line": {
          "color": "gold",
          "shape": "linear"
         },
         "marker": {
          "color": "gold",
          "coloraxis": "coloraxis",
          "line": {
           "width": 0
          },
          "size": 0,
          "symbol": "circle"
         },
         "mode": "lines+markers",
         "name": "Utilised Solar Power",
         "showlegend": true,
         "type": "scatter",
         "x": [
          0,
          1,
          2,
          3,
          4,
          5,
          6,
          7,
          8,
          9,
          10,
          11,
          12,
          13,
          14,
          15,
          16,
          17,
          18,
          19,
          20,
          21,
          22,
          23
         ],
         "y": [
          0,
          0,
          0,
          0,
          0,
          0,
          0,
          2.1546785891484,
          6.457349443986001,
          9.769196168424,
          11.131860205872,
          11.076719746176,
          10.052496561744,
          8.991802522079999,
          8.895306717612,
          8.141575709484002,
          6.106317462377999,
          1.9222094503079998,
          0.13213086926759998,
          0,
          0,
          0,
          0,
          0
         ],
         "yaxis": "y"
        },
        {
         "legendgroup": "Battery SOC",
         "line": {
          "color": "limegreen",
          "shape": "linear"
         },
         "marker": {
          "color": "limegreen",
          "coloraxis": "coloraxis",
          "line": {
           "width": 0
          },
          "size": 0,
          "symbol": "circle"
         },
         "mode": "lines+markers",
         "name": "Initial Battery State of Charge",
         "showlegend": false,
         "type": "scatter",
         "x": [
          0,
          1
         ],
         "y": [
          0.5,
          0.39166461534798147
         ],
         "yaxis": "y3"
        },
        {
         "legendgroup": "Battery SOC",
         "line": {
          "color": "limegreen",
          "shape": "linear"
         },
         "marker": {
          "color": "limegreen",
          "coloraxis": "coloraxis",
          "line": {
           "width": 0
          },
          "size": 0,
          "symbol": "circle"
         },
         "mode": "lines+markers",
         "name": "Battery State of Charge",
         "showlegend": true,
         "type": "scatter",
         "x": [
          1,
          2,
          3,
          4,
          5,
          6,
          7,
          8,
          9,
          10,
          11,
          12,
          13,
          14,
          15,
          16,
          17,
          18,
          19,
          20,
          21,
          22,
          23,
          24
         ],
         "y": [
          0.39166461534798147,
          0.42394619435071945,
          0.29241001553833484,
          0.29293399055721236,
          0.307378989320714,
          0.3506699410197325,
          0.4407047473010607,
          0.572019745495636,
          0.6404084997740573,
          0.7680937938508576,
          0.5789156009373254,
          0.4780261425045318,
          0.4744512547110206,
          0.5039158270531333,
          0.5554347164207137,
          0.4735170083516277,
          0.5220396119751967,
          0.43015983015531667,
          0.44873641520040103,
          0.31640813446836535,
          0.28938502966659135,
          0.412793365784455,
          0.4129781046998686,
          0.4816294759255833
         ],
         "yaxis": "y3"
        },
        {
         "legendgroup": "Day Tariff",
         "line": {
          "color": "teal",
          "shape": "hv"
         },
         "marker": {
          "color": "teal",
          "coloraxis": "coloraxis",
          "line": {
           "width": 0
          },
          "size": 0,
          "symbol": "circle"
         },
         "mode": "lines+markers",
         "name": "Electricity Day Tariff",
         "showlegend": true,
         "type": "scatter",
         "x": [
          0,
          1,
          2,
          3,
          4,
          5,
          6,
          7,
          8,
          9,
          10,
          11,
          12,
          13,
          14,
          15,
          16,
          17,
          18,
          19,
          20,
          21,
          22,
          23
         ],
         "y": [
          0.114946666,
          0.114946666,
          0.114946666,
          0.114946666,
          0.114946666,
          0.114946666,
          0.114946666,
          0.190933333,
          0.190933333,
          0.190933333,
          0.190933333,
          0.190933333,
          0.190933333,
          0.190933333,
          0.190933333,
          0.190933333,
          0.190933333,
          0.190933333,
          0.190933333,
          0.190933333,
          0.114946666,
          0.114946666,
          0.114946666,
          0.114946666
         ],
         "yaxis": "y2"
        },
        {
         "line": {
          "color": "yellow",
          "shape": "linear"
         },
         "marker": {
          "color": 0,
          "coloraxis": "coloraxis",
          "line": {
           "width": 0
          },
          "size": 0,
          "symbol": "circle"
         },
         "mode": "lines+markers",
         "name": "Charger 0 State of Charge",
         "showlegend": true,
         "type": "scatter",
         "x": [
          0,
          1,
          2,
          3,
          4,
          5,
          6,
          7,
          8,
          9,
          10,
          11,
          12,
          13,
          14,
          15,
          16,
          17,
          18,
          19,
          20,
          21,
          22,
          23
         ],
         "y": [
          0,
          0.4474776993028967,
          0.6523796600872105,
          0.6523796600872105,
          0.6523796600872105,
          0.6523796600872105,
          0,
          0,
          0,
          0,
          0,
          0,
          0,
          0,
          0.16549123887604394,
          0.7460467944315994,
          1,
          1,
          1,
          1,
          1,
          1,
          1,
          0,
          0
         ],
         "yaxis": "y3"
        },
        {
         "line": {
          "color": "orange",
          "shape": "linear"
         },
         "marker": {
          "color": 1,
          "coloraxis": "coloraxis",
          "line": {
           "width": 0
          },
          "size": 0,
          "symbol": "circle"
         },
         "mode": "lines+markers",
         "name": "Charger 1 State of Charge",
         "showlegend": true,
         "type": "scatter",
         "x": [
          0,
          1,
          2,
          3,
          4,
          5,
          6,
          7,
          8,
          9,
          10,
          11,
          12,
          13,
          14,
          15,
          16,
          17,
          18,
          19,
          20,
          21,
          22,
          23
         ],
         "y": [
          1,
          1,
          1,
          1,
          1,
          1,
          0,
          0,
          0,
          0.8887771997910785,
          1,
          1,
          1,
          1,
          1,
          1,
          1,
          0,
          0.3908284158962173,
          0.6062923334219905,
          0.8217562509477637,
          0.8217562509477637,
          0.8217562509477637,
          0,
          0
         ],
         "yaxis": "y3"
        },
        {
         "line": {
          "color": "skyblue",
          "shape": "linear"
         },
         "marker": {
          "color": 2,
          "coloraxis": "coloraxis",
          "line": {
           "width": 0
          },
          "size": 0,
          "symbol": "circle"
         },
         "mode": "lines+markers",
         "name": "Charger 2 State of Charge",
         "showlegend": true,
         "type": "scatter",
         "x": [
          0,
          1,
          2,
          3,
          4,
          5,
          6,
          7,
          8,
          9,
          10,
          11,
          12,
          13,
          14,
          15,
          16,
          17,
          18,
          19,
          20,
          21,
          22,
          23
         ],
         "y": [
          1,
          1,
          1,
          1,
          1,
          1,
          1,
          1,
          1,
          0,
          0,
          0,
          0,
          0.6805301352403299,
          0.9878830764168005,
          1,
          1,
          1,
          1,
          1,
          0,
          0.7660876256097775,
          0.7660876256097775,
          0.7660876256097775,
          0
         ],
         "yaxis": "y3"
        },
        {
         "line": {
          "color": "chocolate",
          "shape": "linear"
         },
         "marker": {
          "color": 3,
          "coloraxis": "coloraxis",
          "line": {
           "width": 0
          },
          "size": 0,
          "symbol": "circle"
         },
         "mode": "lines+markers",
         "name": "Charger 3 State of Charge",
         "showlegend": true,
         "type": "scatter",
         "x": [
          0,
          1,
          2,
          3,
          4,
          5,
          6,
          7,
          8,
          9,
          10,
          11,
          12,
          13,
          14,
          15,
          16,
          17,
          18,
          19,
          20,
          21,
          22,
          23
         ],
         "y": [
          1,
          1,
          1,
          1,
          1,
          1,
          1,
          1,
          1,
          0,
          0.6645980109878109,
          0.7657450744239902,
          0.9477159889029498,
          0.9477159889029498,
          0.9834661121276741,
          1,
          0,
          0.45004457351438576,
          0.7477469229693143,
          0.7477469229693143,
          0.7477469229693143,
          0.7477469229693143,
          0.7477469229693143,
          0,
          0
         ],
         "yaxis": "y3"
        }
       ],
       "layout": {
        "annotations": [
         {
          "font": {
           "color": "dimgrey",
           "size": 14
          },
          "showarrow": false,
          "text": "Low Demand",
          "x": 0.14583333333333334,
          "xanchor": "center",
          "xref": "paper",
          "y": 0.05,
          "yanchor": "middle",
          "yref": "paper"
         },
         {
          "font": {
           "color": "goldenrod",
           "size": 14
          },
          "showarrow": false,
          "text": "Peak Demand",
          "x": 0.5625,
          "xanchor": "center",
          "xref": "paper",
          "y": 0.05,
          "yanchor": "middle",
          "yref": "paper"
         },
         {
          "font": {
           "color": "dimgrey",
           "size": 14
          },
          "showarrow": false,
          "text": "Low Demand",
          "x": 0.9166666666666666,
          "xanchor": "center",
          "xref": "paper",
          "y": 0.05,
          "yanchor": "middle",
          "yref": "paper"
         },
         {
          "font": {
           "size": 14
          },
          "showarrow": false,
          "text": "Power [kW]",
          "textangle": -90,
          "x": -0.1,
          "xanchor": "left",
          "xref": "paper",
          "y": 0.5,
          "yanchor": "middle",
          "yref": "paper"
         },
         {
          "font": {
           "size": 14
          },
          "showarrow": false,
          "text": "Grid Tariff",
          "textangle": -90,
          "x": 1.065,
          "xanchor": "left",
          "xref": "paper",
          "y": 0.75,
          "yanchor": "middle",
          "yref": "paper"
         },
         {
          "font": {
           "size": 14
          },
          "showarrow": false,
          "text": "State of Charge",
          "textangle": -90,
          "x": 1.14,
          "xanchor": "left",
          "xref": "paper",
          "y": 0.75,
          "yanchor": "middle",
          "yref": "paper"
         },
         {
          "font": {
           "size": 14
          },
          "showarrow": false,
          "text": "Timestep (Hour) in a Day",
          "textangle": 0,
          "x": 0.5,
          "xref": "paper",
          "y": -0.1,
          "yref": "paper"
         }
        ],
        "barmode": "stack",
        "coloraxis": {
         "colorbar": {
          "title": {
           "side": "right",
           "text": ""
          }
         },
         "colorscale": [
          [
           0,
           "crimson"
          ],
          [
           0.5,
           "lightgrey"
          ],
          [
           1,
           "grey"
          ]
         ]
        },
        "height": 650,
        "legend": {
         "entrywidth": 0,
         "orientation": "h",
         "x": 0.5,
         "xanchor": "center",
         "y": 1.05,
         "yanchor": "bottom"
        },
        "margin": {
         "r": 180,
         "t": 150
        },
        "scattermode": "overlay",
        "shapes": [
         {
          "fillcolor": "grey",
          "layer": "above",
          "line": {
           "width": 0
          },
          "opacity": 0.1,
          "type": "rect",
          "x0": 0,
          "x1": 7,
          "xref": "x",
          "y0": 0,
          "y1": 1,
          "yref": "y domain"
         },
         {
          "fillcolor": "gold",
          "layer": "above",
          "line": {
           "width": 0
          },
          "opacity": 0.1,
          "type": "rect",
          "x0": 7,
          "x1": 20,
          "xref": "x",
          "y0": 0,
          "y1": 1,
          "yref": "y domain"
         },
         {
          "fillcolor": "grey",
          "layer": "above",
          "line": {
           "width": 0
          },
          "opacity": 0.1,
          "type": "rect",
          "x0": 20,
          "x1": 24,
          "xref": "x",
          "y0": 0,
          "y1": 1,
          "yref": "y domain"
         }
        ],
        "showlegend": true,
        "template": {
         "data": {
          "bar": [
           {
            "error_x": {
             "color": "#2a3f5f"
            },
            "error_y": {
             "color": "#2a3f5f"
            },
            "marker": {
             "line": {
              "color": "white",
              "width": 0.5
             },
             "pattern": {
              "fillmode": "overlay",
              "size": 10,
              "solidity": 0.2
             }
            },
            "type": "bar"
           }
          ],
          "barpolar": [
           {
            "marker": {
             "line": {
              "color": "white",
              "width": 0.5
             },
             "pattern": {
              "fillmode": "overlay",
              "size": 10,
              "solidity": 0.2
             }
            },
            "type": "barpolar"
           }
          ],
          "carpet": [
           {
            "aaxis": {
             "endlinecolor": "#2a3f5f",
             "gridcolor": "#C8D4E3",
             "linecolor": "#C8D4E3",
             "minorgridcolor": "#C8D4E3",
             "startlinecolor": "#2a3f5f"
            },
            "baxis": {
             "endlinecolor": "#2a3f5f",
             "gridcolor": "#C8D4E3",
             "linecolor": "#C8D4E3",
             "minorgridcolor": "#C8D4E3",
             "startlinecolor": "#2a3f5f"
            },
            "type": "carpet"
           }
          ],
          "choropleth": [
           {
            "colorbar": {
             "outlinewidth": 0,
             "ticks": ""
            },
            "type": "choropleth"
           }
          ],
          "contour": [
           {
            "colorbar": {
             "outlinewidth": 0,
             "ticks": ""
            },
            "colorscale": [
             [
              0,
              "#0d0887"
             ],
             [
              0.1111111111111111,
              "#46039f"
             ],
             [
              0.2222222222222222,
              "#7201a8"
             ],
             [
              0.3333333333333333,
              "#9c179e"
             ],
             [
              0.4444444444444444,
              "#bd3786"
             ],
             [
              0.5555555555555556,
              "#d8576b"
             ],
             [
              0.6666666666666666,
              "#ed7953"
             ],
             [
              0.7777777777777778,
              "#fb9f3a"
             ],
             [
              0.8888888888888888,
              "#fdca26"
             ],
             [
              1,
              "#f0f921"
             ]
            ],
            "type": "contour"
           }
          ],
          "contourcarpet": [
           {
            "colorbar": {
             "outlinewidth": 0,
             "ticks": ""
            },
            "type": "contourcarpet"
           }
          ],
          "heatmap": [
           {
            "colorbar": {
             "outlinewidth": 0,
             "ticks": ""
            },
            "colorscale": [
             [
              0,
              "#0d0887"
             ],
             [
              0.1111111111111111,
              "#46039f"
             ],
             [
              0.2222222222222222,
              "#7201a8"
             ],
             [
              0.3333333333333333,
              "#9c179e"
             ],
             [
              0.4444444444444444,
              "#bd3786"
             ],
             [
              0.5555555555555556,
              "#d8576b"
             ],
             [
              0.6666666666666666,
              "#ed7953"
             ],
             [
              0.7777777777777778,
              "#fb9f3a"
             ],
             [
              0.8888888888888888,
              "#fdca26"
             ],
             [
              1,
              "#f0f921"
             ]
            ],
            "type": "heatmap"
           }
          ],
          "heatmapgl": [
           {
            "colorbar": {
             "outlinewidth": 0,
             "ticks": ""
            },
            "colorscale": [
             [
              0,
              "#0d0887"
             ],
             [
              0.1111111111111111,
              "#46039f"
             ],
             [
              0.2222222222222222,
              "#7201a8"
             ],
             [
              0.3333333333333333,
              "#9c179e"
             ],
             [
              0.4444444444444444,
              "#bd3786"
             ],
             [
              0.5555555555555556,
              "#d8576b"
             ],
             [
              0.6666666666666666,
              "#ed7953"
             ],
             [
              0.7777777777777778,
              "#fb9f3a"
             ],
             [
              0.8888888888888888,
              "#fdca26"
             ],
             [
              1,
              "#f0f921"
             ]
            ],
            "type": "heatmapgl"
           }
          ],
          "histogram": [
           {
            "marker": {
             "pattern": {
              "fillmode": "overlay",
              "size": 10,
              "solidity": 0.2
             }
            },
            "type": "histogram"
           }
          ],
          "histogram2d": [
           {
            "colorbar": {
             "outlinewidth": 0,
             "ticks": ""
            },
            "colorscale": [
             [
              0,
              "#0d0887"
             ],
             [
              0.1111111111111111,
              "#46039f"
             ],
             [
              0.2222222222222222,
              "#7201a8"
             ],
             [
              0.3333333333333333,
              "#9c179e"
             ],
             [
              0.4444444444444444,
              "#bd3786"
             ],
             [
              0.5555555555555556,
              "#d8576b"
             ],
             [
              0.6666666666666666,
              "#ed7953"
             ],
             [
              0.7777777777777778,
              "#fb9f3a"
             ],
             [
              0.8888888888888888,
              "#fdca26"
             ],
             [
              1,
              "#f0f921"
             ]
            ],
            "type": "histogram2d"
           }
          ],
          "histogram2dcontour": [
           {
            "colorbar": {
             "outlinewidth": 0,
             "ticks": ""
            },
            "colorscale": [
             [
              0,
              "#0d0887"
             ],
             [
              0.1111111111111111,
              "#46039f"
             ],
             [
              0.2222222222222222,
              "#7201a8"
             ],
             [
              0.3333333333333333,
              "#9c179e"
             ],
             [
              0.4444444444444444,
              "#bd3786"
             ],
             [
              0.5555555555555556,
              "#d8576b"
             ],
             [
              0.6666666666666666,
              "#ed7953"
             ],
             [
              0.7777777777777778,
              "#fb9f3a"
             ],
             [
              0.8888888888888888,
              "#fdca26"
             ],
             [
              1,
              "#f0f921"
             ]
            ],
            "type": "histogram2dcontour"
           }
          ],
          "mesh3d": [
           {
            "colorbar": {
             "outlinewidth": 0,
             "ticks": ""
            },
            "type": "mesh3d"
           }
          ],
          "parcoords": [
           {
            "line": {
             "colorbar": {
              "outlinewidth": 0,
              "ticks": ""
             }
            },
            "type": "parcoords"
           }
          ],
          "pie": [
           {
            "automargin": true,
            "type": "pie"
           }
          ],
          "scatter": [
           {
            "fillpattern": {
             "fillmode": "overlay",
             "size": 10,
             "solidity": 0.2
            },
            "type": "scatter"
           }
          ],
          "scatter3d": [
           {
            "line": {
             "colorbar": {
              "outlinewidth": 0,
              "ticks": ""
             }
            },
            "marker": {
             "colorbar": {
              "outlinewidth": 0,
              "ticks": ""
             }
            },
            "type": "scatter3d"
           }
          ],
          "scattercarpet": [
           {
            "marker": {
             "colorbar": {
              "outlinewidth": 0,
              "ticks": ""
             }
            },
            "type": "scattercarpet"
           }
          ],
          "scattergeo": [
           {
            "marker": {
             "colorbar": {
              "outlinewidth": 0,
              "ticks": ""
             }
            },
            "type": "scattergeo"
           }
          ],
          "scattergl": [
           {
            "marker": {
             "colorbar": {
              "outlinewidth": 0,
              "ticks": ""
             }
            },
            "type": "scattergl"
           }
          ],
          "scattermapbox": [
           {
            "marker": {
             "colorbar": {
              "outlinewidth": 0,
              "ticks": ""
             }
            },
            "type": "scattermapbox"
           }
          ],
          "scatterpolar": [
           {
            "marker": {
             "colorbar": {
              "outlinewidth": 0,
              "ticks": ""
             }
            },
            "type": "scatterpolar"
           }
          ],
          "scatterpolargl": [
           {
            "marker": {
             "colorbar": {
              "outlinewidth": 0,
              "ticks": ""
             }
            },
            "type": "scatterpolargl"
           }
          ],
          "scatterternary": [
           {
            "marker": {
             "colorbar": {
              "outlinewidth": 0,
              "ticks": ""
             }
            },
            "type": "scatterternary"
           }
          ],
          "surface": [
           {
            "colorbar": {
             "outlinewidth": 0,
             "ticks": ""
            },
            "colorscale": [
             [
              0,
              "#0d0887"
             ],
             [
              0.1111111111111111,
              "#46039f"
             ],
             [
              0.2222222222222222,
              "#7201a8"
             ],
             [
              0.3333333333333333,
              "#9c179e"
             ],
             [
              0.4444444444444444,
              "#bd3786"
             ],
             [
              0.5555555555555556,
              "#d8576b"
             ],
             [
              0.6666666666666666,
              "#ed7953"
             ],
             [
              0.7777777777777778,
              "#fb9f3a"
             ],
             [
              0.8888888888888888,
              "#fdca26"
             ],
             [
              1,
              "#f0f921"
             ]
            ],
            "type": "surface"
           }
          ],
          "table": [
           {
            "cells": {
             "fill": {
              "color": "#EBF0F8"
             },
             "line": {
              "color": "white"
             }
            },
            "header": {
             "fill": {
              "color": "#C8D4E3"
             },
             "line": {
              "color": "white"
             }
            },
            "type": "table"
           }
          ]
         },
         "layout": {
          "annotationdefaults": {
           "arrowcolor": "#2a3f5f",
           "arrowhead": 0,
           "arrowwidth": 1
          },
          "autotypenumbers": "strict",
          "coloraxis": {
           "colorbar": {
            "outlinewidth": 0,
            "ticks": ""
           }
          },
          "colorscale": {
           "diverging": [
            [
             0,
             "#8e0152"
            ],
            [
             0.1,
             "#c51b7d"
            ],
            [
             0.2,
             "#de77ae"
            ],
            [
             0.3,
             "#f1b6da"
            ],
            [
             0.4,
             "#fde0ef"
            ],
            [
             0.5,
             "#f7f7f7"
            ],
            [
             0.6,
             "#e6f5d0"
            ],
            [
             0.7,
             "#b8e186"
            ],
            [
             0.8,
             "#7fbc41"
            ],
            [
             0.9,
             "#4d9221"
            ],
            [
             1,
             "#276419"
            ]
           ],
           "sequential": [
            [
             0,
             "#0d0887"
            ],
            [
             0.1111111111111111,
             "#46039f"
            ],
            [
             0.2222222222222222,
             "#7201a8"
            ],
            [
             0.3333333333333333,
             "#9c179e"
            ],
            [
             0.4444444444444444,
             "#bd3786"
            ],
            [
             0.5555555555555556,
             "#d8576b"
            ],
            [
             0.6666666666666666,
             "#ed7953"
            ],
            [
             0.7777777777777778,
             "#fb9f3a"
            ],
            [
             0.8888888888888888,
             "#fdca26"
            ],
            [
             1,
             "#f0f921"
            ]
           ],
           "sequentialminus": [
            [
             0,
             "#0d0887"
            ],
            [
             0.1111111111111111,
             "#46039f"
            ],
            [
             0.2222222222222222,
             "#7201a8"
            ],
            [
             0.3333333333333333,
             "#9c179e"
            ],
            [
             0.4444444444444444,
             "#bd3786"
            ],
            [
             0.5555555555555556,
             "#d8576b"
            ],
            [
             0.6666666666666666,
             "#ed7953"
            ],
            [
             0.7777777777777778,
             "#fb9f3a"
            ],
            [
             0.8888888888888888,
             "#fdca26"
            ],
            [
             1,
             "#f0f921"
            ]
           ]
          },
          "colorway": [
           "#636efa",
           "#EF553B",
           "#00cc96",
           "#ab63fa",
           "#FFA15A",
           "#19d3f3",
           "#FF6692",
           "#B6E880",
           "#FF97FF",
           "#FECB52"
          ],
          "font": {
           "color": "#2a3f5f"
          },
          "geo": {
           "bgcolor": "white",
           "lakecolor": "white",
           "landcolor": "white",
           "showlakes": true,
           "showland": true,
           "subunitcolor": "#C8D4E3"
          },
          "hoverlabel": {
           "align": "left"
          },
          "hovermode": "closest",
          "mapbox": {
           "style": "light"
          },
          "paper_bgcolor": "white",
          "plot_bgcolor": "white",
          "polar": {
           "angularaxis": {
            "gridcolor": "#EBF0F8",
            "linecolor": "#EBF0F8",
            "ticks": ""
           },
           "bgcolor": "white",
           "radialaxis": {
            "gridcolor": "#EBF0F8",
            "linecolor": "#EBF0F8",
            "ticks": ""
           }
          },
          "scene": {
           "xaxis": {
            "backgroundcolor": "white",
            "gridcolor": "#DFE8F3",
            "gridwidth": 2,
            "linecolor": "#EBF0F8",
            "showbackground": true,
            "ticks": "",
            "zerolinecolor": "#EBF0F8"
           },
           "yaxis": {
            "backgroundcolor": "white",
            "gridcolor": "#DFE8F3",
            "gridwidth": 2,
            "linecolor": "#EBF0F8",
            "showbackground": true,
            "ticks": "",
            "zerolinecolor": "#EBF0F8"
           },
           "zaxis": {
            "backgroundcolor": "white",
            "gridcolor": "#DFE8F3",
            "gridwidth": 2,
            "linecolor": "#EBF0F8",
            "showbackground": true,
            "ticks": "",
            "zerolinecolor": "#EBF0F8"
           }
          },
          "shapedefaults": {
           "line": {
            "color": "#2a3f5f"
           }
          },
          "ternary": {
           "aaxis": {
            "gridcolor": "#DFE8F3",
            "linecolor": "#A2B1C6",
            "ticks": ""
           },
           "baxis": {
            "gridcolor": "#DFE8F3",
            "linecolor": "#A2B1C6",
            "ticks": ""
           },
           "bgcolor": "white",
           "caxis": {
            "gridcolor": "#DFE8F3",
            "linecolor": "#A2B1C6",
            "ticks": ""
           }
          },
          "title": {
           "x": 0.05
          },
          "xaxis": {
           "automargin": true,
           "gridcolor": "#EBF0F8",
           "linecolor": "#EBF0F8",
           "ticks": "",
           "title": {
            "standoff": 15
           },
           "zerolinecolor": "#EBF0F8",
           "zerolinewidth": 2
          },
          "yaxis": {
           "automargin": true,
           "gridcolor": "#EBF0F8",
           "linecolor": "#EBF0F8",
           "ticks": "",
           "title": {
            "standoff": 15
           },
           "zerolinecolor": "#EBF0F8",
           "zerolinewidth": 2
          }
         }
        },
        "title": {
         "font": {
          "size": 24
         },
         "text": "Prediction Power & State of Charge Values",
         "x": 0.5,
         "xanchor": "center",
         "y": 0.99
        },
        "width": 1000,
        "xaxis": {
         "griddash": "dot",
         "range": [
          -0.4,
          24
         ],
         "showspikes": true,
         "spikecolor": "black",
         "spikedash": "dot",
         "spikethickness": -2,
         "tickformat": "",
         "ticktext": [
          "0",
          "1",
          "2",
          "3",
          "4",
          "5",
          "6",
          "7",
          "8",
          "9",
          "10",
          "11",
          "12",
          "13",
          "14",
          "15",
          "16",
          "17",
          "18",
          "19",
          "20",
          "21",
          "22",
          "23",
          "0",
          "1"
         ],
         "tickvals": [
          0,
          1,
          2,
          3,
          4,
          5,
          6,
          7,
          8,
          9,
          10,
          11,
          12,
          13,
          14,
          15,
          16,
          17,
          18,
          19,
          20,
          21,
          22,
          23,
          24,
          25
         ],
         "title": {
          "text": ""
         }
        },
        "yaxis": {
         "dtick": 15,
         "range": [
          -90,
          90
         ],
         "showspikes": true,
         "spikecolor": "black",
         "spikedash": "dot",
         "spikethickness": -2,
         "tickformat": " ,.2~g",
         "title": {
          "text": ""
         }
        },
        "yaxis2": {
         "anchor": "free",
         "autoshift": true,
         "dtick": 0.05,
         "nticks": 11,
         "overlaying": "y",
         "range": [
          -0.3,
          0.3
         ],
         "shift": 2,
         "showspikes": true,
         "side": "right",
         "spikecolor": "black",
         "spikedash": "dot",
         "spikethickness": -2,
         "tickformat": "$,.2f",
         "tickmode": "array",
         "tickvals": [
          "0.0",
          "0.05",
          "0.1",
          "0.15",
          "0.2",
          "0.25",
          "0.3",
          "0.35",
          "0.4",
          "0.45",
          "0.5",
          "0.55"
         ]
        },
        "yaxis3": {
         "anchor": "free",
         "autoshift": true,
         "overlaying": "y",
         "range": [
          -1.2,
          1.2
         ],
         "shift": 25,
         "side": "right",
         "tickformat": "~%",
         "tickmode": "array",
         "tickvals": [
          "0.0",
          "0.2",
          "0.4",
          "0.6",
          "0.8",
          "1.0"
         ]
        }
       }
      },
      "text/html": [
       "<div>                            <div id=\"ca97553c-a5f0-485d-8492-d0636384d8bc\" class=\"plotly-graph-div\" style=\"height:650px; width:1000px;\"></div>            <script type=\"text/javascript\">                require([\"plotly\"], function(Plotly) {                    window.PLOTLYENV=window.PLOTLYENV || {};                                    if (document.getElementById(\"ca97553c-a5f0-485d-8492-d0636384d8bc\")) {                    Plotly.newPlot(                        \"ca97553c-a5f0-485d-8492-d0636384d8bc\",                        [{\"legendgroup\":\"Grid Power\",\"line\":{\"color\":\"turquoise\",\"shape\":\"linear\"},\"marker\":{\"color\":\"turquoise\",\"coloraxis\":\"coloraxis\",\"line\":{\"width\":0},\"size\":0,\"symbol\":\"circle\"},\"mode\":\"lines+markers\",\"name\":\"Grid Power\",\"showlegend\":true,\"x\":[0,1,2,3,4,5,6,7,8,9,10,11,12,13,14,15,16,17,18,19,20,21,22,23],\"y\":[54.03316922783851,65.28252632021903,60.134152853488914,41.8419180015102,33.05331685841083,3.463276135921478,7.202784502506256,8.350521266417624,-0.9862491017122883,0.4456273577200278,-5.3661156389545805,10.551918098148109,22.94132482822916,-6.634636734710986,19.236465152345446,30.72366332063875,19.156464306659245,11.6274080041016,33.864387563081365,31.213737541437148,18.738151615858076,9.872666889429093,0.014779113233089447,5.492109698057175],\"yaxis\":\"y\",\"type\":\"scatter\"},{\"legendgroup\":\"Solar Power\",\"line\":{\"color\":\"gold\",\"shape\":\"linear\"},\"marker\":{\"color\":\"gold\",\"coloraxis\":\"coloraxis\",\"line\":{\"width\":0},\"size\":0,\"symbol\":\"circle\"},\"mode\":\"lines+markers\",\"name\":\"Utilised Solar Power\",\"showlegend\":true,\"x\":[0,1,2,3,4,5,6,7,8,9,10,11,12,13,14,15,16,17,18,19,20,21,22,23],\"y\":[0.0,0.0,0.0,0.0,0.0,0.0,0.0,2.1546785891484,6.457349443986001,9.769196168424,11.131860205872,11.076719746176,10.052496561744,8.991802522079999,8.895306717612,8.141575709484002,6.106317462377999,1.9222094503079998,0.13213086926759998,0.0,0.0,0.0,0.0,0.0],\"yaxis\":\"y\",\"type\":\"scatter\"},{\"legendgroup\":\"Battery SOC\",\"line\":{\"color\":\"limegreen\",\"shape\":\"linear\"},\"marker\":{\"color\":\"limegreen\",\"coloraxis\":\"coloraxis\",\"line\":{\"width\":0},\"size\":0,\"symbol\":\"circle\"},\"mode\":\"lines+markers\",\"name\":\"Initial Battery State of Charge\",\"showlegend\":false,\"x\":[0,1],\"y\":[0.5,0.39166461534798147],\"yaxis\":\"y3\",\"type\":\"scatter\"},{\"legendgroup\":\"Battery SOC\",\"line\":{\"color\":\"limegreen\",\"shape\":\"linear\"},\"marker\":{\"color\":\"limegreen\",\"coloraxis\":\"coloraxis\",\"line\":{\"width\":0},\"size\":0,\"symbol\":\"circle\"},\"mode\":\"lines+markers\",\"name\":\"Battery State of Charge\",\"showlegend\":true,\"x\":[1,2,3,4,5,6,7,8,9,10,11,12,13,14,15,16,17,18,19,20,21,22,23,24],\"y\":[0.39166461534798147,0.42394619435071945,0.29241001553833484,0.29293399055721236,0.307378989320714,0.3506699410197325,0.4407047473010607,0.572019745495636,0.6404084997740573,0.7680937938508576,0.5789156009373254,0.4780261425045318,0.4744512547110206,0.5039158270531333,0.5554347164207137,0.4735170083516277,0.5220396119751967,0.43015983015531667,0.44873641520040103,0.31640813446836535,0.28938502966659135,0.412793365784455,0.4129781046998686,0.4816294759255833],\"yaxis\":\"y3\",\"type\":\"scatter\"},{\"legendgroup\":\"Day Tariff\",\"line\":{\"color\":\"teal\",\"shape\":\"hv\"},\"marker\":{\"color\":\"teal\",\"coloraxis\":\"coloraxis\",\"line\":{\"width\":0},\"size\":0,\"symbol\":\"circle\"},\"mode\":\"lines+markers\",\"name\":\"Electricity Day Tariff\",\"showlegend\":true,\"x\":[0,1,2,3,4,5,6,7,8,9,10,11,12,13,14,15,16,17,18,19,20,21,22,23],\"y\":[0.114946666,0.114946666,0.114946666,0.114946666,0.114946666,0.114946666,0.114946666,0.190933333,0.190933333,0.190933333,0.190933333,0.190933333,0.190933333,0.190933333,0.190933333,0.190933333,0.190933333,0.190933333,0.190933333,0.190933333,0.114946666,0.114946666,0.114946666,0.114946666],\"yaxis\":\"y2\",\"type\":\"scatter\"},{\"line\":{\"color\":\"yellow\",\"shape\":\"linear\"},\"marker\":{\"color\":0,\"coloraxis\":\"coloraxis\",\"line\":{\"width\":0},\"size\":0,\"symbol\":\"circle\"},\"mode\":\"lines+markers\",\"name\":\"Charger 0 State of Charge\",\"showlegend\":true,\"x\":[0,1,2,3,4,5,6,7,8,9,10,11,12,13,14,15,16,17,18,19,20,21,22,23],\"y\":[0.0,0.4474776993028967,0.6523796600872105,0.6523796600872105,0.6523796600872105,0.6523796600872105,0.0,0.0,0.0,0.0,0.0,0.0,0.0,0.0,0.16549123887604394,0.7460467944315994,1.0,1.0,1.0,1.0,1.0,1.0,1.0,0.0,0.0],\"yaxis\":\"y3\",\"type\":\"scatter\"},{\"line\":{\"color\":\"orange\",\"shape\":\"linear\"},\"marker\":{\"color\":1,\"coloraxis\":\"coloraxis\",\"line\":{\"width\":0},\"size\":0,\"symbol\":\"circle\"},\"mode\":\"lines+markers\",\"name\":\"Charger 1 State of Charge\",\"showlegend\":true,\"x\":[0,1,2,3,4,5,6,7,8,9,10,11,12,13,14,15,16,17,18,19,20,21,22,23],\"y\":[1.0,1.0,1.0,1.0,1.0,1.0,0.0,0.0,0.0,0.8887771997910785,1.0,1.0,1.0,1.0,1.0,1.0,1.0,0.0,0.3908284158962173,0.6062923334219905,0.8217562509477637,0.8217562509477637,0.8217562509477637,0.0,0.0],\"yaxis\":\"y3\",\"type\":\"scatter\"},{\"line\":{\"color\":\"skyblue\",\"shape\":\"linear\"},\"marker\":{\"color\":2,\"coloraxis\":\"coloraxis\",\"line\":{\"width\":0},\"size\":0,\"symbol\":\"circle\"},\"mode\":\"lines+markers\",\"name\":\"Charger 2 State of Charge\",\"showlegend\":true,\"x\":[0,1,2,3,4,5,6,7,8,9,10,11,12,13,14,15,16,17,18,19,20,21,22,23],\"y\":[1.0,1.0,1.0,1.0,1.0,1.0,1.0,1.0,1.0,0.0,0.0,0.0,0.0,0.6805301352403299,0.9878830764168005,1.0,1.0,1.0,1.0,1.0,0.0,0.7660876256097775,0.7660876256097775,0.7660876256097775,0.0],\"yaxis\":\"y3\",\"type\":\"scatter\"},{\"line\":{\"color\":\"chocolate\",\"shape\":\"linear\"},\"marker\":{\"color\":3,\"coloraxis\":\"coloraxis\",\"line\":{\"width\":0},\"size\":0,\"symbol\":\"circle\"},\"mode\":\"lines+markers\",\"name\":\"Charger 3 State of Charge\",\"showlegend\":true,\"x\":[0,1,2,3,4,5,6,7,8,9,10,11,12,13,14,15,16,17,18,19,20,21,22,23],\"y\":[1.0,1.0,1.0,1.0,1.0,1.0,1.0,1.0,1.0,0.0,0.6645980109878109,0.7657450744239902,0.9477159889029498,0.9477159889029498,0.9834661121276741,1.0,0.0,0.45004457351438576,0.7477469229693143,0.7477469229693143,0.7477469229693143,0.7477469229693143,0.7477469229693143,0.0,0.0],\"yaxis\":\"y3\",\"type\":\"scatter\"}],                        {\"template\":{\"data\":{\"histogram2dcontour\":[{\"type\":\"histogram2dcontour\",\"colorbar\":{\"outlinewidth\":0,\"ticks\":\"\"},\"colorscale\":[[0.0,\"#0d0887\"],[0.1111111111111111,\"#46039f\"],[0.2222222222222222,\"#7201a8\"],[0.3333333333333333,\"#9c179e\"],[0.4444444444444444,\"#bd3786\"],[0.5555555555555556,\"#d8576b\"],[0.6666666666666666,\"#ed7953\"],[0.7777777777777778,\"#fb9f3a\"],[0.8888888888888888,\"#fdca26\"],[1.0,\"#f0f921\"]]}],\"choropleth\":[{\"type\":\"choropleth\",\"colorbar\":{\"outlinewidth\":0,\"ticks\":\"\"}}],\"histogram2d\":[{\"type\":\"histogram2d\",\"colorbar\":{\"outlinewidth\":0,\"ticks\":\"\"},\"colorscale\":[[0.0,\"#0d0887\"],[0.1111111111111111,\"#46039f\"],[0.2222222222222222,\"#7201a8\"],[0.3333333333333333,\"#9c179e\"],[0.4444444444444444,\"#bd3786\"],[0.5555555555555556,\"#d8576b\"],[0.6666666666666666,\"#ed7953\"],[0.7777777777777778,\"#fb9f3a\"],[0.8888888888888888,\"#fdca26\"],[1.0,\"#f0f921\"]]}],\"heatmap\":[{\"type\":\"heatmap\",\"colorbar\":{\"outlinewidth\":0,\"ticks\":\"\"},\"colorscale\":[[0.0,\"#0d0887\"],[0.1111111111111111,\"#46039f\"],[0.2222222222222222,\"#7201a8\"],[0.3333333333333333,\"#9c179e\"],[0.4444444444444444,\"#bd3786\"],[0.5555555555555556,\"#d8576b\"],[0.6666666666666666,\"#ed7953\"],[0.7777777777777778,\"#fb9f3a\"],[0.8888888888888888,\"#fdca26\"],[1.0,\"#f0f921\"]]}],\"heatmapgl\":[{\"type\":\"heatmapgl\",\"colorbar\":{\"outlinewidth\":0,\"ticks\":\"\"},\"colorscale\":[[0.0,\"#0d0887\"],[0.1111111111111111,\"#46039f\"],[0.2222222222222222,\"#7201a8\"],[0.3333333333333333,\"#9c179e\"],[0.4444444444444444,\"#bd3786\"],[0.5555555555555556,\"#d8576b\"],[0.6666666666666666,\"#ed7953\"],[0.7777777777777778,\"#fb9f3a\"],[0.8888888888888888,\"#fdca26\"],[1.0,\"#f0f921\"]]}],\"contourcarpet\":[{\"type\":\"contourcarpet\",\"colorbar\":{\"outlinewidth\":0,\"ticks\":\"\"}}],\"contour\":[{\"type\":\"contour\",\"colorbar\":{\"outlinewidth\":0,\"ticks\":\"\"},\"colorscale\":[[0.0,\"#0d0887\"],[0.1111111111111111,\"#46039f\"],[0.2222222222222222,\"#7201a8\"],[0.3333333333333333,\"#9c179e\"],[0.4444444444444444,\"#bd3786\"],[0.5555555555555556,\"#d8576b\"],[0.6666666666666666,\"#ed7953\"],[0.7777777777777778,\"#fb9f3a\"],[0.8888888888888888,\"#fdca26\"],[1.0,\"#f0f921\"]]}],\"surface\":[{\"type\":\"surface\",\"colorbar\":{\"outlinewidth\":0,\"ticks\":\"\"},\"colorscale\":[[0.0,\"#0d0887\"],[0.1111111111111111,\"#46039f\"],[0.2222222222222222,\"#7201a8\"],[0.3333333333333333,\"#9c179e\"],[0.4444444444444444,\"#bd3786\"],[0.5555555555555556,\"#d8576b\"],[0.6666666666666666,\"#ed7953\"],[0.7777777777777778,\"#fb9f3a\"],[0.8888888888888888,\"#fdca26\"],[1.0,\"#f0f921\"]]}],\"mesh3d\":[{\"type\":\"mesh3d\",\"colorbar\":{\"outlinewidth\":0,\"ticks\":\"\"}}],\"scatter\":[{\"fillpattern\":{\"fillmode\":\"overlay\",\"size\":10,\"solidity\":0.2},\"type\":\"scatter\"}],\"parcoords\":[{\"type\":\"parcoords\",\"line\":{\"colorbar\":{\"outlinewidth\":0,\"ticks\":\"\"}}}],\"scatterpolargl\":[{\"type\":\"scatterpolargl\",\"marker\":{\"colorbar\":{\"outlinewidth\":0,\"ticks\":\"\"}}}],\"bar\":[{\"error_x\":{\"color\":\"#2a3f5f\"},\"error_y\":{\"color\":\"#2a3f5f\"},\"marker\":{\"line\":{\"color\":\"white\",\"width\":0.5},\"pattern\":{\"fillmode\":\"overlay\",\"size\":10,\"solidity\":0.2}},\"type\":\"bar\"}],\"scattergeo\":[{\"type\":\"scattergeo\",\"marker\":{\"colorbar\":{\"outlinewidth\":0,\"ticks\":\"\"}}}],\"scatterpolar\":[{\"type\":\"scatterpolar\",\"marker\":{\"colorbar\":{\"outlinewidth\":0,\"ticks\":\"\"}}}],\"histogram\":[{\"marker\":{\"pattern\":{\"fillmode\":\"overlay\",\"size\":10,\"solidity\":0.2}},\"type\":\"histogram\"}],\"scattergl\":[{\"type\":\"scattergl\",\"marker\":{\"colorbar\":{\"outlinewidth\":0,\"ticks\":\"\"}}}],\"scatter3d\":[{\"type\":\"scatter3d\",\"line\":{\"colorbar\":{\"outlinewidth\":0,\"ticks\":\"\"}},\"marker\":{\"colorbar\":{\"outlinewidth\":0,\"ticks\":\"\"}}}],\"scattermapbox\":[{\"type\":\"scattermapbox\",\"marker\":{\"colorbar\":{\"outlinewidth\":0,\"ticks\":\"\"}}}],\"scatterternary\":[{\"type\":\"scatterternary\",\"marker\":{\"colorbar\":{\"outlinewidth\":0,\"ticks\":\"\"}}}],\"scattercarpet\":[{\"type\":\"scattercarpet\",\"marker\":{\"colorbar\":{\"outlinewidth\":0,\"ticks\":\"\"}}}],\"carpet\":[{\"aaxis\":{\"endlinecolor\":\"#2a3f5f\",\"gridcolor\":\"#C8D4E3\",\"linecolor\":\"#C8D4E3\",\"minorgridcolor\":\"#C8D4E3\",\"startlinecolor\":\"#2a3f5f\"},\"baxis\":{\"endlinecolor\":\"#2a3f5f\",\"gridcolor\":\"#C8D4E3\",\"linecolor\":\"#C8D4E3\",\"minorgridcolor\":\"#C8D4E3\",\"startlinecolor\":\"#2a3f5f\"},\"type\":\"carpet\"}],\"table\":[{\"cells\":{\"fill\":{\"color\":\"#EBF0F8\"},\"line\":{\"color\":\"white\"}},\"header\":{\"fill\":{\"color\":\"#C8D4E3\"},\"line\":{\"color\":\"white\"}},\"type\":\"table\"}],\"barpolar\":[{\"marker\":{\"line\":{\"color\":\"white\",\"width\":0.5},\"pattern\":{\"fillmode\":\"overlay\",\"size\":10,\"solidity\":0.2}},\"type\":\"barpolar\"}],\"pie\":[{\"automargin\":true,\"type\":\"pie\"}]},\"layout\":{\"autotypenumbers\":\"strict\",\"colorway\":[\"#636efa\",\"#EF553B\",\"#00cc96\",\"#ab63fa\",\"#FFA15A\",\"#19d3f3\",\"#FF6692\",\"#B6E880\",\"#FF97FF\",\"#FECB52\"],\"font\":{\"color\":\"#2a3f5f\"},\"hovermode\":\"closest\",\"hoverlabel\":{\"align\":\"left\"},\"paper_bgcolor\":\"white\",\"plot_bgcolor\":\"white\",\"polar\":{\"bgcolor\":\"white\",\"angularaxis\":{\"gridcolor\":\"#EBF0F8\",\"linecolor\":\"#EBF0F8\",\"ticks\":\"\"},\"radialaxis\":{\"gridcolor\":\"#EBF0F8\",\"linecolor\":\"#EBF0F8\",\"ticks\":\"\"}},\"ternary\":{\"bgcolor\":\"white\",\"aaxis\":{\"gridcolor\":\"#DFE8F3\",\"linecolor\":\"#A2B1C6\",\"ticks\":\"\"},\"baxis\":{\"gridcolor\":\"#DFE8F3\",\"linecolor\":\"#A2B1C6\",\"ticks\":\"\"},\"caxis\":{\"gridcolor\":\"#DFE8F3\",\"linecolor\":\"#A2B1C6\",\"ticks\":\"\"}},\"coloraxis\":{\"colorbar\":{\"outlinewidth\":0,\"ticks\":\"\"}},\"colorscale\":{\"sequential\":[[0.0,\"#0d0887\"],[0.1111111111111111,\"#46039f\"],[0.2222222222222222,\"#7201a8\"],[0.3333333333333333,\"#9c179e\"],[0.4444444444444444,\"#bd3786\"],[0.5555555555555556,\"#d8576b\"],[0.6666666666666666,\"#ed7953\"],[0.7777777777777778,\"#fb9f3a\"],[0.8888888888888888,\"#fdca26\"],[1.0,\"#f0f921\"]],\"sequentialminus\":[[0.0,\"#0d0887\"],[0.1111111111111111,\"#46039f\"],[0.2222222222222222,\"#7201a8\"],[0.3333333333333333,\"#9c179e\"],[0.4444444444444444,\"#bd3786\"],[0.5555555555555556,\"#d8576b\"],[0.6666666666666666,\"#ed7953\"],[0.7777777777777778,\"#fb9f3a\"],[0.8888888888888888,\"#fdca26\"],[1.0,\"#f0f921\"]],\"diverging\":[[0,\"#8e0152\"],[0.1,\"#c51b7d\"],[0.2,\"#de77ae\"],[0.3,\"#f1b6da\"],[0.4,\"#fde0ef\"],[0.5,\"#f7f7f7\"],[0.6,\"#e6f5d0\"],[0.7,\"#b8e186\"],[0.8,\"#7fbc41\"],[0.9,\"#4d9221\"],[1,\"#276419\"]]},\"xaxis\":{\"gridcolor\":\"#EBF0F8\",\"linecolor\":\"#EBF0F8\",\"ticks\":\"\",\"title\":{\"standoff\":15},\"zerolinecolor\":\"#EBF0F8\",\"automargin\":true,\"zerolinewidth\":2},\"yaxis\":{\"gridcolor\":\"#EBF0F8\",\"linecolor\":\"#EBF0F8\",\"ticks\":\"\",\"title\":{\"standoff\":15},\"zerolinecolor\":\"#EBF0F8\",\"automargin\":true,\"zerolinewidth\":2},\"scene\":{\"xaxis\":{\"backgroundcolor\":\"white\",\"gridcolor\":\"#DFE8F3\",\"linecolor\":\"#EBF0F8\",\"showbackground\":true,\"ticks\":\"\",\"zerolinecolor\":\"#EBF0F8\",\"gridwidth\":2},\"yaxis\":{\"backgroundcolor\":\"white\",\"gridcolor\":\"#DFE8F3\",\"linecolor\":\"#EBF0F8\",\"showbackground\":true,\"ticks\":\"\",\"zerolinecolor\":\"#EBF0F8\",\"gridwidth\":2},\"zaxis\":{\"backgroundcolor\":\"white\",\"gridcolor\":\"#DFE8F3\",\"linecolor\":\"#EBF0F8\",\"showbackground\":true,\"ticks\":\"\",\"zerolinecolor\":\"#EBF0F8\",\"gridwidth\":2}},\"shapedefaults\":{\"line\":{\"color\":\"#2a3f5f\"}},\"annotationdefaults\":{\"arrowcolor\":\"#2a3f5f\",\"arrowhead\":0,\"arrowwidth\":1},\"geo\":{\"bgcolor\":\"white\",\"landcolor\":\"white\",\"subunitcolor\":\"#C8D4E3\",\"showland\":true,\"showlakes\":true,\"lakecolor\":\"white\"},\"title\":{\"x\":0.05},\"mapbox\":{\"style\":\"light\"}}},\"shapes\":[{\"fillcolor\":\"grey\",\"layer\":\"above\",\"line\":{\"width\":0},\"opacity\":0.1,\"type\":\"rect\",\"x0\":0,\"x1\":7,\"xref\":\"x\",\"y0\":0,\"y1\":1,\"yref\":\"y domain\"},{\"fillcolor\":\"gold\",\"layer\":\"above\",\"line\":{\"width\":0},\"opacity\":0.1,\"type\":\"rect\",\"x0\":7,\"x1\":20,\"xref\":\"x\",\"y0\":0,\"y1\":1,\"yref\":\"y domain\"},{\"fillcolor\":\"grey\",\"layer\":\"above\",\"line\":{\"width\":0},\"opacity\":0.1,\"type\":\"rect\",\"x0\":20,\"x1\":24,\"xref\":\"x\",\"y0\":0,\"y1\":1,\"yref\":\"y domain\"}],\"annotations\":[{\"font\":{\"color\":\"dimgrey\",\"size\":14},\"showarrow\":false,\"text\":\"Low Demand\",\"x\":0.14583333333333334,\"xanchor\":\"center\",\"xref\":\"paper\",\"y\":0.05,\"yanchor\":\"middle\",\"yref\":\"paper\"},{\"font\":{\"color\":\"goldenrod\",\"size\":14},\"showarrow\":false,\"text\":\"Peak Demand\",\"x\":0.5625,\"xanchor\":\"center\",\"xref\":\"paper\",\"y\":0.05,\"yanchor\":\"middle\",\"yref\":\"paper\"},{\"font\":{\"color\":\"dimgrey\",\"size\":14},\"showarrow\":false,\"text\":\"Low Demand\",\"x\":0.9166666666666666,\"xanchor\":\"center\",\"xref\":\"paper\",\"y\":0.05,\"yanchor\":\"middle\",\"yref\":\"paper\"},{\"font\":{\"size\":14},\"showarrow\":false,\"text\":\"Power [kW]\",\"textangle\":-90,\"x\":-0.1,\"xanchor\":\"left\",\"xref\":\"paper\",\"y\":0.5,\"yanchor\":\"middle\",\"yref\":\"paper\"},{\"font\":{\"size\":14},\"showarrow\":false,\"text\":\"Grid Tariff\",\"textangle\":-90,\"x\":1.065,\"xanchor\":\"left\",\"xref\":\"paper\",\"y\":0.75,\"yanchor\":\"middle\",\"yref\":\"paper\"},{\"font\":{\"size\":14},\"showarrow\":false,\"text\":\"State of Charge\",\"textangle\":-90,\"x\":1.14,\"xanchor\":\"left\",\"xref\":\"paper\",\"y\":0.75,\"yanchor\":\"middle\",\"yref\":\"paper\"},{\"font\":{\"size\":14},\"showarrow\":false,\"text\":\"Timestep (Hour) in a Day\",\"textangle\":0,\"x\":0.5,\"xref\":\"paper\",\"y\":-0.1,\"yref\":\"paper\"}],\"title\":{\"text\":\"Prediction Power & State of Charge Values\",\"font\":{\"size\":24},\"xanchor\":\"center\",\"x\":0.5,\"y\":0.99},\"yaxis\":{\"title\":{\"text\":\"\"},\"tickformat\":\" ,.2~g\",\"range\":[-90.0,90.0],\"dtick\":15,\"showspikes\":true,\"spikecolor\":\"black\",\"spikedash\":\"dot\",\"spikethickness\":-2},\"barmode\":\"stack\",\"xaxis\":{\"tickformat\":\"\",\"griddash\":\"dot\",\"title\":{\"text\":\"\"},\"range\":[-0.4,24],\"tickvals\":[0,1,2,3,4,5,6,7,8,9,10,11,12,13,14,15,16,17,18,19,20,21,22,23,24,25],\"ticktext\":[\"0\",\"1\",\"2\",\"3\",\"4\",\"5\",\"6\",\"7\",\"8\",\"9\",\"10\",\"11\",\"12\",\"13\",\"14\",\"15\",\"16\",\"17\",\"18\",\"19\",\"20\",\"21\",\"22\",\"23\",\"0\",\"1\"],\"showspikes\":true,\"spikecolor\":\"black\",\"spikedash\":\"dot\",\"spikethickness\":-2},\"margin\":{\"r\":180,\"t\":150},\"coloraxis\":{\"colorbar\":{\"title\":{\"text\":\"\",\"side\":\"right\"}},\"colorscale\":[[0,\"crimson\"],[0.5,\"lightgrey\"],[1,\"grey\"]]},\"legend\":{\"x\":0.5,\"orientation\":\"h\",\"yanchor\":\"bottom\",\"entrywidth\":0,\"y\":1.05,\"xanchor\":\"center\"},\"yaxis2\":{\"tickformat\":\"$,.2f\",\"overlaying\":\"y\",\"anchor\":\"free\",\"nticks\":11,\"dtick\":0.05,\"tickmode\":\"array\",\"tickvals\":[\"0.0\",\"0.05\",\"0.1\",\"0.15\",\"0.2\",\"0.25\",\"0.3\",\"0.35\",\"0.4\",\"0.45\",\"0.5\",\"0.55\"],\"autoshift\":true,\"shift\":2,\"side\":\"right\",\"range\":[-0.3,0.3],\"showspikes\":true,\"spikecolor\":\"black\",\"spikedash\":\"dot\",\"spikethickness\":-2},\"yaxis3\":{\"overlaying\":\"y\",\"tickformat\":\"~%\",\"autoshift\":true,\"shift\":25,\"side\":\"right\",\"anchor\":\"free\",\"range\":[-1.2,1.2],\"tickmode\":\"array\",\"tickvals\":[\"0.0\",\"0.2\",\"0.4\",\"0.6\",\"0.8\",\"1.0\"]},\"height\":650,\"width\":1000,\"showlegend\":true,\"scattermode\":\"overlay\"},                        {\"locales\": {\"en\": {\"format\": {\"currency\": [\" \\u20ac \", \"\"]}}}, \"responsive\": true}                    ).then(function(){\n",
       "                            \n",
       "var gd = document.getElementById('ca97553c-a5f0-485d-8492-d0636384d8bc');\n",
       "var x = new MutationObserver(function (mutations, observer) {{\n",
       "        var display = window.getComputedStyle(gd).display;\n",
       "        if (!display || display === 'none') {{\n",
       "            console.log([gd, 'removed!']);\n",
       "            Plotly.purge(gd);\n",
       "            observer.disconnect();\n",
       "        }}\n",
       "}});\n",
       "\n",
       "// Listen for the removal of the full notebook cells\n",
       "var notebookContainer = gd.closest('#notebook-container');\n",
       "if (notebookContainer) {{\n",
       "    x.observe(notebookContainer, {childList: true});\n",
       "}}\n",
       "\n",
       "// Listen for the clearing of the current output cell\n",
       "var outputEl = gd.closest('.output');\n",
       "if (outputEl) {{\n",
       "    x.observe(outputEl, {childList: true});\n",
       "}}\n",
       "\n",
       "                        })                };                });            </script>        </div>"
      ]
     },
     "metadata": {},
     "output_type": "display_data"
    }
   ],
   "source": [
    "subplot_fig = go.Figure()\n",
    "\n",
    "grid_p = energy_predictions['Grid Power']\n",
    "pv_p = energy_predictions['Utilised Solar Power']\n",
    "total_ev_p = energy_predictions['Total Charging Power'] + energy_predictions['Total Discharging Power']\n",
    "battery_soc = battery_predictions['Battery SOC']\n",
    "day_tariff = costs_predictions['Electricity Day Tariffs']\n",
    "\n",
    "subplot_fig.add_vrect(x0=0, x1=7, fillcolor='grey', opacity=0.1, layer='above', line=dict(width=0))\n",
    "subplot_fig.add_annotation(x=3.5/24, y=0.05, text=\"Low Demand\", xanchor='center', yanchor='middle', xref=\"paper\", yref=\"paper\", font=dict(size=14, color='dimgrey'), showarrow=False)\n",
    "subplot_fig.add_vrect(x0=7, x1=20, fillcolor='gold', opacity=0.1, layer='above', line=dict(width=0))\n",
    "subplot_fig.add_annotation(x=13.5/24, y=0.05, text=\"Peak Demand\", xanchor='center', yanchor='middle', xref=\"paper\", yref=\"paper\", font=dict(size=14, color='goldenrod'), showarrow=False)\n",
    "subplot_fig.add_vrect(x0=20, x1=24, fillcolor='grey', opacity=0.1, layer='above', line=dict(width=0))\n",
    "subplot_fig.add_annotation(x=22/24, y=0.05, text=\"Low Demand\", xanchor='center', yanchor='middle', xref=\"paper\", yref=\"paper\", font=dict(size=14, color='dimgrey'), showarrow=False)\n",
    "\n",
    "subplot_fig.add_scatter(x=energy_predictions.index, y=grid_p, line_shape='linear', name='Grid Power', mode='lines+markers',\n",
    "                        marker=dict(size=0, symbol='circle', line=dict(width=0), color='turquoise', coloraxis='coloraxis'), line=dict(color='turquoise'),\n",
    "                        showlegend=True, yaxis='y', legendgroup='Grid Power')\n",
    "subplot_fig.add_scatter(x=energy_predictions.index, y=pv_p, line_shape='linear', name='Utilised Solar Power', mode='lines+markers',\n",
    "                        marker=dict(size=0, symbol='circle', line=dict(width=0), color='gold', coloraxis='coloraxis'), line=dict(color='gold'),\n",
    "                        showlegend=True, yaxis='y', legendgroup='Solar Power')\n",
    "\n",
    "subplot_fig.add_scatter(x=[0, 1], y=[0.5, battery_soc[0]], line_shape='linear', name='Initial Battery State of Charge', mode='lines+markers',\n",
    "                        marker=dict(size=0, symbol='circle', line=dict(width=0), color='limegreen', coloraxis='coloraxis'), line=dict(color='limegreen'),\n",
    "                        showlegend=False, yaxis='y3', legendgroup='Battery SOC')\n",
    "subplot_fig.add_scatter(x=battery_predictions.index+1, y=battery_soc, line_shape='linear', name='Battery State of Charge', mode='lines+markers',\n",
    "                        marker=dict(size=0, symbol='circle', line=dict(width=0), color='limegreen', coloraxis='coloraxis'), line=dict(color='limegreen'),\n",
    "                        showlegend=True, yaxis='y3', legendgroup='Battery SOC')\n",
    "\n",
    "subplot_fig.add_scatter(x=costs_predictions.index, y=day_tariff, line_shape='hv', name='Electricity Day Tariff', mode='lines+markers',\n",
    "                        marker=dict(size=0, symbol='circle', line=dict(width=0), color='teal', coloraxis='coloraxis'), line=dict(color='teal'),\n",
    "                        showlegend=True, yaxis='y2', legendgroup='Day Tariff')\n",
    "\n",
    "color = ['yellow', 'orange', 'skyblue', 'chocolate']\n",
    "for ca in range(number_of_chargers):\n",
    "    psoc = chargers_predictions.loc[chargers_predictions['Charger ID']==ca,'Vehicle State of Charge']\n",
    "    subplot_fig.add_scatter(x=battery_predictions.index, y=psoc, line_shape='linear', name=f'Charger {ca} State of Charge', mode='lines+markers',\n",
    "                        marker=dict(size=0, symbol='circle', line=dict(width=0), color=ca, coloraxis='coloraxis'), line=dict(color=f'{color[ca]}'),\n",
    "                        showlegend=True, yaxis='y3')\n",
    "\n",
    "subplot_fig.add_annotation(x=-0.1, y=0.5, text=\"Power [kW]\", xanchor='left', yanchor='middle', textangle=-90, xref=\"paper\", yref=\"paper\", font_size=14, showarrow=False)\n",
    "subplot_fig.add_annotation(x=1.065, y=0.75, text=\"Grid Tariff\", xanchor='left', yanchor='middle', textangle=-90, xref=\"paper\", yref=\"paper\", font_size=14, showarrow=False)\n",
    "subplot_fig.add_annotation(x=1.14, y=0.75, text=\"State of Charge\", xanchor='left', yanchor='middle', textangle=-90, xref=\"paper\", yref=\"paper\", font_size=14, showarrow=False)\n",
    "subplot_fig.add_annotation(x=0.5, y=-0.1, text=\"Timestep (Hour) in a Day\", textangle=0, xref=\"paper\", yref=\"paper\", font_size=14, showarrow=False)\n",
    "\n",
    "max_timestep = int(initial_training_data.Departure.max() + 1)\n",
    "subplot_fig.update_layout(title=\"Prediction Power & State of Charge Values\",\n",
    "                          yaxis=dict(title=''), barmode='overlay')\n",
    "subplot_fig.update_xaxes(tickformat='', griddash=\"dot\", title='', range=[-0.4, 24],\n",
    "                         tickvals=[i for i in range(max_timestep)], ticktext=[str(i%24) for i in range(max_timestep)], \n",
    "                         showspikes=True, spikecolor='black', spikedash='dot', spikethickness=-2)\n",
    "\n",
    "# For plot export: w(1280)xh(720), w(1920)xh(1080)\n",
    "# For better overview in jupyter: w(850)xh(650)\n",
    "plot_width = 1000\n",
    "plot_height = 650\n",
    "\n",
    "max_p = max(grid_p.max(), pv_p.max(), total_ev_p.max(), battery_p.max())\n",
    "power_margin = int(round(max_p/10)*10)+5\n",
    "power_ticks = int(power_margin/5)\n",
    "max_tariff = day_tariff.max()\n",
    "tariff_margin = int(max_tariff)+0.25\n",
    "\n",
    "subplot_fig.update_layout(height=plot_height, width=plot_width, title=dict(xanchor=\"center\", x=0.5, font_size=24, y=0.99), margin=dict(r=180, t=150),\n",
    "                          showlegend=True, coloraxis=dict(colorscale=[[0, 'crimson'], [0.5, 'lightgrey'], [1, 'grey']],\n",
    "                                                          colorbar=dict(title=dict(text='', side='right'))), barmode='stack',\n",
    "                          legend=dict(x=0.5, orientation='h', yanchor='bottom', entrywidth=0, y=1.05, xanchor='center'), scattermode='overlay',\n",
    "                          yaxis=dict(tickformat=\" ,.2~g\", range=[-power_margin*1.2, power_margin*1.2], dtick=power_ticks, showspikes=True, spikecolor='black', spikedash='dot', spikethickness=-2),\n",
    "                          yaxis2=dict(tickformat=\"$,.2f\", overlaying='y', anchor='free', nticks=11, dtick=0.05, tickmode='array', tickvals=[str(i/20) for i in range(12)],\n",
    "                                      autoshift=True, shift=2, side='right', range=[-tariff_margin*1.2, tariff_margin*1.2], showspikes=True, spikecolor='black', spikedash='dot', spikethickness=-2),\n",
    "                          yaxis3=dict(overlaying='y', tickformat='~%', autoshift=True, shift=25, side='right', anchor='free',\n",
    "                                      range=[-1*1.2, 1*1.2], tickmode='array', tickvals=[str(i/100) for i in range(0, 120, 20)]))\n",
    "\n",
    "\n",
    "config = {'locales': {'en': {'format': {'currency': [\" € \", \"\"]}}}}\n",
    "subplot_fig.show(config=config)\n",
    "\n",
    "del max_timestep, plot_width, plot_height"
   ]
  },
  {
   "cell_type": "markdown",
   "id": "47ea8495",
   "metadata": {},
   "source": [
    "#### Available Solar Energy and Utilised Solar Power"
   ]
  },
  {
   "cell_type": "code",
   "execution_count": 122,
   "id": "9f9505f2",
   "metadata": {},
   "outputs": [
    {
     "data": {
      "application/vnd.plotly.v1+json": {
       "config": {
        "locales": {
         "en": {
          "format": {
           "currency": [
            " € ",
            ""
           ]
          }
         }
        },
        "plotlyServerURL": "https://plot.ly"
       },
       "data": [
        {
         "legendgroup": "PV",
         "line": {
          "color": "darkturquoise",
          "shape": "linear"
         },
         "marker": {
          "color": "darkturquoise",
          "line": {
           "width": 0.5
          },
          "size": 8,
          "symbol": "circle"
         },
         "mode": "lines+markers",
         "name": "Utilised Solar Power",
         "showlegend": true,
         "type": "scatter",
         "x": [
          0,
          1,
          2,
          3,
          4,
          5,
          6,
          7,
          8,
          9,
          10,
          11,
          12,
          13,
          14,
          15,
          16,
          17,
          18,
          19,
          20,
          21,
          22,
          23
         ],
         "y": [
          0,
          0,
          0,
          0,
          0,
          0,
          0,
          0.59253661201581,
          1.77577109709615,
          2.6865289463165998,
          3.0612615566147996,
          3.0460979301983997,
          2.7644365544796,
          2.4727456935719996,
          2.4462093473432995,
          2.2389333201081003,
          1.6792373021539497,
          0.5286075988347,
          0.03633598904858999,
          0,
          0,
          0,
          0,
          0
         ],
         "yaxis": "y"
        },
        {
         "legendgroup": "Solar",
         "line": {
          "color": "gold",
          "shape": "linear"
         },
         "marker": {
          "color": "gold",
          "line": {
           "width": 0.5
          },
          "size": 8,
          "symbol": "diamond"
         },
         "mode": "lines+markers",
         "name": "Available Solar Energy",
         "showlegend": true,
         "type": "scatter",
         "x": [
          0,
          1,
          2,
          3,
          4,
          5,
          6,
          7,
          8,
          9,
          10,
          11,
          12,
          13,
          14,
          15,
          16,
          17,
          18,
          19,
          20,
          21,
          22,
          23
         ],
         "y": [
          0,
          0,
          0,
          0,
          0,
          0,
          0,
          2.6933482364355,
          8.0716868049825,
          12.211495210529998,
          13.914825257339999,
          13.845899682719999,
          12.565620702179999,
          11.239753152599999,
          11.119133397014998,
          10.176969636855002,
          7.632896827972498,
          2.4027618128849997,
          0.16516358658449998,
          0,
          0,
          0,
          0,
          0
         ],
         "yaxis": "y2"
        },
        {
         "legendgroup": "Day Tariff",
         "line": {
          "color": "teal",
          "shape": "hv"
         },
         "marker": {
          "color": "teal",
          "coloraxis": "coloraxis",
          "line": {
           "width": 0
          },
          "size": 0,
          "symbol": "circle"
         },
         "mode": "lines+markers",
         "name": "Electricity Day Tariff",
         "showlegend": true,
         "type": "scatter",
         "x": [
          0,
          1,
          2,
          3,
          4,
          5,
          6,
          7,
          8,
          9,
          10,
          11,
          12,
          13,
          14,
          15,
          16,
          17,
          18,
          19,
          20,
          21,
          22,
          23
         ],
         "y": [
          0.114946666,
          0.114946666,
          0.114946666,
          0.114946666,
          0.114946666,
          0.114946666,
          0.114946666,
          0.190933333,
          0.190933333,
          0.190933333,
          0.190933333,
          0.190933333,
          0.190933333,
          0.190933333,
          0.190933333,
          0.190933333,
          0.190933333,
          0.190933333,
          0.190933333,
          0.190933333,
          0.114946666,
          0.114946666,
          0.114946666,
          0.114946666
         ],
         "yaxis": "y3"
        }
       ],
       "layout": {
        "annotations": [
         {
          "font": {
           "color": "dimgrey",
           "size": 14
          },
          "showarrow": false,
          "text": "Low Demand",
          "x": 0.14583333333333334,
          "xanchor": "center",
          "xref": "paper",
          "y": 0.05,
          "yanchor": "middle",
          "yref": "paper"
         },
         {
          "font": {
           "color": "goldenrod",
           "size": 14
          },
          "showarrow": false,
          "text": "Peak Demand",
          "x": 0.5625,
          "xanchor": "center",
          "xref": "paper",
          "y": 0.05,
          "yanchor": "middle",
          "yref": "paper"
         },
         {
          "font": {
           "color": "dimgrey",
           "size": 14
          },
          "showarrow": false,
          "text": "Low Demand",
          "x": 0.9166666666666666,
          "xanchor": "center",
          "xref": "paper",
          "y": 0.05,
          "yanchor": "middle",
          "yref": "paper"
         }
        ],
        "barmode": "stack",
        "height": 650,
        "legend": {
         "entrywidth": 0,
         "orientation": "h",
         "x": 0.5,
         "xanchor": "center",
         "y": 1.01,
         "yanchor": "bottom"
        },
        "margin": {
         "r": 180
        },
        "scattermode": "overlay",
        "shapes": [
         {
          "fillcolor": "grey",
          "layer": "above",
          "line": {
           "width": 0
          },
          "opacity": 0.1,
          "type": "rect",
          "x0": 0,
          "x1": 7,
          "xref": "x",
          "y0": 0,
          "y1": 1,
          "yref": "y domain"
         },
         {
          "fillcolor": "gold",
          "layer": "above",
          "line": {
           "width": 0
          },
          "opacity": 0.1,
          "type": "rect",
          "x0": 7,
          "x1": 20,
          "xref": "x",
          "y0": 0,
          "y1": 1,
          "yref": "y domain"
         },
         {
          "fillcolor": "grey",
          "layer": "above",
          "line": {
           "width": 0
          },
          "opacity": 0.1,
          "type": "rect",
          "x0": 20,
          "x1": 24,
          "xref": "x",
          "y0": 0,
          "y1": 1,
          "yref": "y domain"
         }
        ],
        "showlegend": true,
        "template": {
         "data": {
          "bar": [
           {
            "error_x": {
             "color": "#2a3f5f"
            },
            "error_y": {
             "color": "#2a3f5f"
            },
            "marker": {
             "line": {
              "color": "white",
              "width": 0.5
             },
             "pattern": {
              "fillmode": "overlay",
              "size": 10,
              "solidity": 0.2
             }
            },
            "type": "bar"
           }
          ],
          "barpolar": [
           {
            "marker": {
             "line": {
              "color": "white",
              "width": 0.5
             },
             "pattern": {
              "fillmode": "overlay",
              "size": 10,
              "solidity": 0.2
             }
            },
            "type": "barpolar"
           }
          ],
          "carpet": [
           {
            "aaxis": {
             "endlinecolor": "#2a3f5f",
             "gridcolor": "#C8D4E3",
             "linecolor": "#C8D4E3",
             "minorgridcolor": "#C8D4E3",
             "startlinecolor": "#2a3f5f"
            },
            "baxis": {
             "endlinecolor": "#2a3f5f",
             "gridcolor": "#C8D4E3",
             "linecolor": "#C8D4E3",
             "minorgridcolor": "#C8D4E3",
             "startlinecolor": "#2a3f5f"
            },
            "type": "carpet"
           }
          ],
          "choropleth": [
           {
            "colorbar": {
             "outlinewidth": 0,
             "ticks": ""
            },
            "type": "choropleth"
           }
          ],
          "contour": [
           {
            "colorbar": {
             "outlinewidth": 0,
             "ticks": ""
            },
            "colorscale": [
             [
              0,
              "#0d0887"
             ],
             [
              0.1111111111111111,
              "#46039f"
             ],
             [
              0.2222222222222222,
              "#7201a8"
             ],
             [
              0.3333333333333333,
              "#9c179e"
             ],
             [
              0.4444444444444444,
              "#bd3786"
             ],
             [
              0.5555555555555556,
              "#d8576b"
             ],
             [
              0.6666666666666666,
              "#ed7953"
             ],
             [
              0.7777777777777778,
              "#fb9f3a"
             ],
             [
              0.8888888888888888,
              "#fdca26"
             ],
             [
              1,
              "#f0f921"
             ]
            ],
            "type": "contour"
           }
          ],
          "contourcarpet": [
           {
            "colorbar": {
             "outlinewidth": 0,
             "ticks": ""
            },
            "type": "contourcarpet"
           }
          ],
          "heatmap": [
           {
            "colorbar": {
             "outlinewidth": 0,
             "ticks": ""
            },
            "colorscale": [
             [
              0,
              "#0d0887"
             ],
             [
              0.1111111111111111,
              "#46039f"
             ],
             [
              0.2222222222222222,
              "#7201a8"
             ],
             [
              0.3333333333333333,
              "#9c179e"
             ],
             [
              0.4444444444444444,
              "#bd3786"
             ],
             [
              0.5555555555555556,
              "#d8576b"
             ],
             [
              0.6666666666666666,
              "#ed7953"
             ],
             [
              0.7777777777777778,
              "#fb9f3a"
             ],
             [
              0.8888888888888888,
              "#fdca26"
             ],
             [
              1,
              "#f0f921"
             ]
            ],
            "type": "heatmap"
           }
          ],
          "heatmapgl": [
           {
            "colorbar": {
             "outlinewidth": 0,
             "ticks": ""
            },
            "colorscale": [
             [
              0,
              "#0d0887"
             ],
             [
              0.1111111111111111,
              "#46039f"
             ],
             [
              0.2222222222222222,
              "#7201a8"
             ],
             [
              0.3333333333333333,
              "#9c179e"
             ],
             [
              0.4444444444444444,
              "#bd3786"
             ],
             [
              0.5555555555555556,
              "#d8576b"
             ],
             [
              0.6666666666666666,
              "#ed7953"
             ],
             [
              0.7777777777777778,
              "#fb9f3a"
             ],
             [
              0.8888888888888888,
              "#fdca26"
             ],
             [
              1,
              "#f0f921"
             ]
            ],
            "type": "heatmapgl"
           }
          ],
          "histogram": [
           {
            "marker": {
             "pattern": {
              "fillmode": "overlay",
              "size": 10,
              "solidity": 0.2
             }
            },
            "type": "histogram"
           }
          ],
          "histogram2d": [
           {
            "colorbar": {
             "outlinewidth": 0,
             "ticks": ""
            },
            "colorscale": [
             [
              0,
              "#0d0887"
             ],
             [
              0.1111111111111111,
              "#46039f"
             ],
             [
              0.2222222222222222,
              "#7201a8"
             ],
             [
              0.3333333333333333,
              "#9c179e"
             ],
             [
              0.4444444444444444,
              "#bd3786"
             ],
             [
              0.5555555555555556,
              "#d8576b"
             ],
             [
              0.6666666666666666,
              "#ed7953"
             ],
             [
              0.7777777777777778,
              "#fb9f3a"
             ],
             [
              0.8888888888888888,
              "#fdca26"
             ],
             [
              1,
              "#f0f921"
             ]
            ],
            "type": "histogram2d"
           }
          ],
          "histogram2dcontour": [
           {
            "colorbar": {
             "outlinewidth": 0,
             "ticks": ""
            },
            "colorscale": [
             [
              0,
              "#0d0887"
             ],
             [
              0.1111111111111111,
              "#46039f"
             ],
             [
              0.2222222222222222,
              "#7201a8"
             ],
             [
              0.3333333333333333,
              "#9c179e"
             ],
             [
              0.4444444444444444,
              "#bd3786"
             ],
             [
              0.5555555555555556,
              "#d8576b"
             ],
             [
              0.6666666666666666,
              "#ed7953"
             ],
             [
              0.7777777777777778,
              "#fb9f3a"
             ],
             [
              0.8888888888888888,
              "#fdca26"
             ],
             [
              1,
              "#f0f921"
             ]
            ],
            "type": "histogram2dcontour"
           }
          ],
          "mesh3d": [
           {
            "colorbar": {
             "outlinewidth": 0,
             "ticks": ""
            },
            "type": "mesh3d"
           }
          ],
          "parcoords": [
           {
            "line": {
             "colorbar": {
              "outlinewidth": 0,
              "ticks": ""
             }
            },
            "type": "parcoords"
           }
          ],
          "pie": [
           {
            "automargin": true,
            "type": "pie"
           }
          ],
          "scatter": [
           {
            "fillpattern": {
             "fillmode": "overlay",
             "size": 10,
             "solidity": 0.2
            },
            "type": "scatter"
           }
          ],
          "scatter3d": [
           {
            "line": {
             "colorbar": {
              "outlinewidth": 0,
              "ticks": ""
             }
            },
            "marker": {
             "colorbar": {
              "outlinewidth": 0,
              "ticks": ""
             }
            },
            "type": "scatter3d"
           }
          ],
          "scattercarpet": [
           {
            "marker": {
             "colorbar": {
              "outlinewidth": 0,
              "ticks": ""
             }
            },
            "type": "scattercarpet"
           }
          ],
          "scattergeo": [
           {
            "marker": {
             "colorbar": {
              "outlinewidth": 0,
              "ticks": ""
             }
            },
            "type": "scattergeo"
           }
          ],
          "scattergl": [
           {
            "marker": {
             "colorbar": {
              "outlinewidth": 0,
              "ticks": ""
             }
            },
            "type": "scattergl"
           }
          ],
          "scattermapbox": [
           {
            "marker": {
             "colorbar": {
              "outlinewidth": 0,
              "ticks": ""
             }
            },
            "type": "scattermapbox"
           }
          ],
          "scatterpolar": [
           {
            "marker": {
             "colorbar": {
              "outlinewidth": 0,
              "ticks": ""
             }
            },
            "type": "scatterpolar"
           }
          ],
          "scatterpolargl": [
           {
            "marker": {
             "colorbar": {
              "outlinewidth": 0,
              "ticks": ""
             }
            },
            "type": "scatterpolargl"
           }
          ],
          "scatterternary": [
           {
            "marker": {
             "colorbar": {
              "outlinewidth": 0,
              "ticks": ""
             }
            },
            "type": "scatterternary"
           }
          ],
          "surface": [
           {
            "colorbar": {
             "outlinewidth": 0,
             "ticks": ""
            },
            "colorscale": [
             [
              0,
              "#0d0887"
             ],
             [
              0.1111111111111111,
              "#46039f"
             ],
             [
              0.2222222222222222,
              "#7201a8"
             ],
             [
              0.3333333333333333,
              "#9c179e"
             ],
             [
              0.4444444444444444,
              "#bd3786"
             ],
             [
              0.5555555555555556,
              "#d8576b"
             ],
             [
              0.6666666666666666,
              "#ed7953"
             ],
             [
              0.7777777777777778,
              "#fb9f3a"
             ],
             [
              0.8888888888888888,
              "#fdca26"
             ],
             [
              1,
              "#f0f921"
             ]
            ],
            "type": "surface"
           }
          ],
          "table": [
           {
            "cells": {
             "fill": {
              "color": "#EBF0F8"
             },
             "line": {
              "color": "white"
             }
            },
            "header": {
             "fill": {
              "color": "#C8D4E3"
             },
             "line": {
              "color": "white"
             }
            },
            "type": "table"
           }
          ]
         },
         "layout": {
          "annotationdefaults": {
           "arrowcolor": "#2a3f5f",
           "arrowhead": 0,
           "arrowwidth": 1
          },
          "autotypenumbers": "strict",
          "coloraxis": {
           "colorbar": {
            "outlinewidth": 0,
            "ticks": ""
           }
          },
          "colorscale": {
           "diverging": [
            [
             0,
             "#8e0152"
            ],
            [
             0.1,
             "#c51b7d"
            ],
            [
             0.2,
             "#de77ae"
            ],
            [
             0.3,
             "#f1b6da"
            ],
            [
             0.4,
             "#fde0ef"
            ],
            [
             0.5,
             "#f7f7f7"
            ],
            [
             0.6,
             "#e6f5d0"
            ],
            [
             0.7,
             "#b8e186"
            ],
            [
             0.8,
             "#7fbc41"
            ],
            [
             0.9,
             "#4d9221"
            ],
            [
             1,
             "#276419"
            ]
           ],
           "sequential": [
            [
             0,
             "#0d0887"
            ],
            [
             0.1111111111111111,
             "#46039f"
            ],
            [
             0.2222222222222222,
             "#7201a8"
            ],
            [
             0.3333333333333333,
             "#9c179e"
            ],
            [
             0.4444444444444444,
             "#bd3786"
            ],
            [
             0.5555555555555556,
             "#d8576b"
            ],
            [
             0.6666666666666666,
             "#ed7953"
            ],
            [
             0.7777777777777778,
             "#fb9f3a"
            ],
            [
             0.8888888888888888,
             "#fdca26"
            ],
            [
             1,
             "#f0f921"
            ]
           ],
           "sequentialminus": [
            [
             0,
             "#0d0887"
            ],
            [
             0.1111111111111111,
             "#46039f"
            ],
            [
             0.2222222222222222,
             "#7201a8"
            ],
            [
             0.3333333333333333,
             "#9c179e"
            ],
            [
             0.4444444444444444,
             "#bd3786"
            ],
            [
             0.5555555555555556,
             "#d8576b"
            ],
            [
             0.6666666666666666,
             "#ed7953"
            ],
            [
             0.7777777777777778,
             "#fb9f3a"
            ],
            [
             0.8888888888888888,
             "#fdca26"
            ],
            [
             1,
             "#f0f921"
            ]
           ]
          },
          "colorway": [
           "#636efa",
           "#EF553B",
           "#00cc96",
           "#ab63fa",
           "#FFA15A",
           "#19d3f3",
           "#FF6692",
           "#B6E880",
           "#FF97FF",
           "#FECB52"
          ],
          "font": {
           "color": "#2a3f5f"
          },
          "geo": {
           "bgcolor": "white",
           "lakecolor": "white",
           "landcolor": "white",
           "showlakes": true,
           "showland": true,
           "subunitcolor": "#C8D4E3"
          },
          "hoverlabel": {
           "align": "left"
          },
          "hovermode": "closest",
          "mapbox": {
           "style": "light"
          },
          "paper_bgcolor": "white",
          "plot_bgcolor": "white",
          "polar": {
           "angularaxis": {
            "gridcolor": "#EBF0F8",
            "linecolor": "#EBF0F8",
            "ticks": ""
           },
           "bgcolor": "white",
           "radialaxis": {
            "gridcolor": "#EBF0F8",
            "linecolor": "#EBF0F8",
            "ticks": ""
           }
          },
          "scene": {
           "xaxis": {
            "backgroundcolor": "white",
            "gridcolor": "#DFE8F3",
            "gridwidth": 2,
            "linecolor": "#EBF0F8",
            "showbackground": true,
            "ticks": "",
            "zerolinecolor": "#EBF0F8"
           },
           "yaxis": {
            "backgroundcolor": "white",
            "gridcolor": "#DFE8F3",
            "gridwidth": 2,
            "linecolor": "#EBF0F8",
            "showbackground": true,
            "ticks": "",
            "zerolinecolor": "#EBF0F8"
           },
           "zaxis": {
            "backgroundcolor": "white",
            "gridcolor": "#DFE8F3",
            "gridwidth": 2,
            "linecolor": "#EBF0F8",
            "showbackground": true,
            "ticks": "",
            "zerolinecolor": "#EBF0F8"
           }
          },
          "shapedefaults": {
           "line": {
            "color": "#2a3f5f"
           }
          },
          "ternary": {
           "aaxis": {
            "gridcolor": "#DFE8F3",
            "linecolor": "#A2B1C6",
            "ticks": ""
           },
           "baxis": {
            "gridcolor": "#DFE8F3",
            "linecolor": "#A2B1C6",
            "ticks": ""
           },
           "bgcolor": "white",
           "caxis": {
            "gridcolor": "#DFE8F3",
            "linecolor": "#A2B1C6",
            "ticks": ""
           }
          },
          "title": {
           "x": 0.05
          },
          "xaxis": {
           "automargin": true,
           "gridcolor": "#EBF0F8",
           "linecolor": "#EBF0F8",
           "ticks": "",
           "title": {
            "standoff": 15
           },
           "zerolinecolor": "#EBF0F8",
           "zerolinewidth": 2
          },
          "yaxis": {
           "automargin": true,
           "gridcolor": "#EBF0F8",
           "linecolor": "#EBF0F8",
           "ticks": "",
           "title": {
            "standoff": 15
           },
           "zerolinecolor": "#EBF0F8",
           "zerolinewidth": 2
          }
         }
        },
        "title": {
         "font": {
          "size": 24
         },
         "text": "Available Solar Energy and Utilised Solar Power",
         "x": 0.5,
         "xanchor": "center",
         "y": 0.99
        },
        "width": 980,
        "xaxis": {
         "griddash": "dot",
         "range": [
          -0.4,
          24.4
         ],
         "showspikes": true,
         "spikecolor": "black",
         "spikedash": "dot",
         "spikethickness": -2,
         "tickformat": "",
         "ticktext": [
          "0",
          "1",
          "2",
          "3",
          "4",
          "5",
          "6",
          "7",
          "8",
          "9",
          "10",
          "11",
          "12",
          "13",
          "14",
          "15",
          "16",
          "17",
          "18",
          "19",
          "20",
          "21",
          "22",
          "23",
          "0",
          "1",
          "2",
          "3"
         ],
         "tickvals": [
          0,
          1,
          2,
          3,
          4,
          5,
          6,
          7,
          8,
          9,
          10,
          11,
          12,
          13,
          14,
          15,
          16,
          17,
          18,
          19,
          20,
          21,
          22,
          23,
          24,
          25,
          26,
          27
         ],
         "title": {
          "text": "Timestep (Hour) in a Day"
         }
        },
        "yaxis": {
         "dtick": 2,
         "range": [
          0,
          11
         ],
         "showspikes": true,
         "spikecolor": "black",
         "spikedash": "dot",
         "spikethickness": -2,
         "tickformat": " ,.2~g",
         "title": {
          "text": "Power [kW]"
         }
        },
        "yaxis2": {
         "dtick": 2,
         "overlaying": "y",
         "range": [
          0,
          19
         ],
         "showspikes": true,
         "side": "right",
         "spikecolor": "black",
         "spikedash": "dot",
         "spikethickness": -2,
         "tickformat": " ,.2~g",
         "title": {
          "text": "Energy [kWh]"
         }
        },
        "yaxis3": {
         "anchor": "free",
         "autoshift": true,
         "dtick": 0.02,
         "overlaying": "y",
         "range": [
          0,
          0.25
         ],
         "shift": 10,
         "showspikes": true,
         "side": "right",
         "spikecolor": "black",
         "spikedash": "dot",
         "spikethickness": -2,
         "tickformat": "$,.2f",
         "title": {
          "text": "Grid Tariff"
         }
        }
       }
      },
      "text/html": [
       "<div>                            <div id=\"4ae1ff50-4d2a-491d-90c8-5ea96b32e2ba\" class=\"plotly-graph-div\" style=\"height:650px; width:980px;\"></div>            <script type=\"text/javascript\">                require([\"plotly\"], function(Plotly) {                    window.PLOTLYENV=window.PLOTLYENV || {};                                    if (document.getElementById(\"4ae1ff50-4d2a-491d-90c8-5ea96b32e2ba\")) {                    Plotly.newPlot(                        \"4ae1ff50-4d2a-491d-90c8-5ea96b32e2ba\",                        [{\"legendgroup\":\"PV\",\"line\":{\"color\":\"darkturquoise\",\"shape\":\"linear\"},\"marker\":{\"color\":\"darkturquoise\",\"line\":{\"width\":0.5},\"size\":8,\"symbol\":\"circle\"},\"mode\":\"lines+markers\",\"name\":\"Utilised Solar Power\",\"showlegend\":true,\"x\":[0,1,2,3,4,5,6,7,8,9,10,11,12,13,14,15,16,17,18,19,20,21,22,23],\"y\":[0.0,0.0,0.0,0.0,0.0,0.0,0.0,0.59253661201581,1.77577109709615,2.6865289463165998,3.0612615566147996,3.0460979301983997,2.7644365544796,2.4727456935719996,2.4462093473432995,2.2389333201081003,1.6792373021539497,0.5286075988347,0.03633598904858999,0.0,0.0,0.0,0.0,0.0],\"yaxis\":\"y\",\"type\":\"scatter\"},{\"legendgroup\":\"Solar\",\"line\":{\"color\":\"gold\",\"shape\":\"linear\"},\"marker\":{\"color\":\"gold\",\"line\":{\"width\":0.5},\"size\":8,\"symbol\":\"diamond\"},\"mode\":\"lines+markers\",\"name\":\"Available Solar Energy\",\"showlegend\":true,\"x\":[0,1,2,3,4,5,6,7,8,9,10,11,12,13,14,15,16,17,18,19,20,21,22,23],\"y\":[0.0,0.0,0.0,0.0,0.0,0.0,0.0,2.6933482364355,8.0716868049825,12.211495210529998,13.914825257339999,13.845899682719999,12.565620702179999,11.239753152599999,11.119133397014998,10.176969636855002,7.632896827972498,2.4027618128849997,0.16516358658449998,0.0,0.0,0.0,0.0,0.0],\"yaxis\":\"y2\",\"type\":\"scatter\"},{\"legendgroup\":\"Day Tariff\",\"line\":{\"color\":\"teal\",\"shape\":\"hv\"},\"marker\":{\"color\":\"teal\",\"coloraxis\":\"coloraxis\",\"line\":{\"width\":0},\"size\":0,\"symbol\":\"circle\"},\"mode\":\"lines+markers\",\"name\":\"Electricity Day Tariff\",\"showlegend\":true,\"x\":[0,1,2,3,4,5,6,7,8,9,10,11,12,13,14,15,16,17,18,19,20,21,22,23],\"y\":[0.114946666,0.114946666,0.114946666,0.114946666,0.114946666,0.114946666,0.114946666,0.190933333,0.190933333,0.190933333,0.190933333,0.190933333,0.190933333,0.190933333,0.190933333,0.190933333,0.190933333,0.190933333,0.190933333,0.190933333,0.114946666,0.114946666,0.114946666,0.114946666],\"yaxis\":\"y3\",\"type\":\"scatter\"}],                        {\"template\":{\"data\":{\"histogram2dcontour\":[{\"type\":\"histogram2dcontour\",\"colorbar\":{\"outlinewidth\":0,\"ticks\":\"\"},\"colorscale\":[[0.0,\"#0d0887\"],[0.1111111111111111,\"#46039f\"],[0.2222222222222222,\"#7201a8\"],[0.3333333333333333,\"#9c179e\"],[0.4444444444444444,\"#bd3786\"],[0.5555555555555556,\"#d8576b\"],[0.6666666666666666,\"#ed7953\"],[0.7777777777777778,\"#fb9f3a\"],[0.8888888888888888,\"#fdca26\"],[1.0,\"#f0f921\"]]}],\"choropleth\":[{\"type\":\"choropleth\",\"colorbar\":{\"outlinewidth\":0,\"ticks\":\"\"}}],\"histogram2d\":[{\"type\":\"histogram2d\",\"colorbar\":{\"outlinewidth\":0,\"ticks\":\"\"},\"colorscale\":[[0.0,\"#0d0887\"],[0.1111111111111111,\"#46039f\"],[0.2222222222222222,\"#7201a8\"],[0.3333333333333333,\"#9c179e\"],[0.4444444444444444,\"#bd3786\"],[0.5555555555555556,\"#d8576b\"],[0.6666666666666666,\"#ed7953\"],[0.7777777777777778,\"#fb9f3a\"],[0.8888888888888888,\"#fdca26\"],[1.0,\"#f0f921\"]]}],\"heatmap\":[{\"type\":\"heatmap\",\"colorbar\":{\"outlinewidth\":0,\"ticks\":\"\"},\"colorscale\":[[0.0,\"#0d0887\"],[0.1111111111111111,\"#46039f\"],[0.2222222222222222,\"#7201a8\"],[0.3333333333333333,\"#9c179e\"],[0.4444444444444444,\"#bd3786\"],[0.5555555555555556,\"#d8576b\"],[0.6666666666666666,\"#ed7953\"],[0.7777777777777778,\"#fb9f3a\"],[0.8888888888888888,\"#fdca26\"],[1.0,\"#f0f921\"]]}],\"heatmapgl\":[{\"type\":\"heatmapgl\",\"colorbar\":{\"outlinewidth\":0,\"ticks\":\"\"},\"colorscale\":[[0.0,\"#0d0887\"],[0.1111111111111111,\"#46039f\"],[0.2222222222222222,\"#7201a8\"],[0.3333333333333333,\"#9c179e\"],[0.4444444444444444,\"#bd3786\"],[0.5555555555555556,\"#d8576b\"],[0.6666666666666666,\"#ed7953\"],[0.7777777777777778,\"#fb9f3a\"],[0.8888888888888888,\"#fdca26\"],[1.0,\"#f0f921\"]]}],\"contourcarpet\":[{\"type\":\"contourcarpet\",\"colorbar\":{\"outlinewidth\":0,\"ticks\":\"\"}}],\"contour\":[{\"type\":\"contour\",\"colorbar\":{\"outlinewidth\":0,\"ticks\":\"\"},\"colorscale\":[[0.0,\"#0d0887\"],[0.1111111111111111,\"#46039f\"],[0.2222222222222222,\"#7201a8\"],[0.3333333333333333,\"#9c179e\"],[0.4444444444444444,\"#bd3786\"],[0.5555555555555556,\"#d8576b\"],[0.6666666666666666,\"#ed7953\"],[0.7777777777777778,\"#fb9f3a\"],[0.8888888888888888,\"#fdca26\"],[1.0,\"#f0f921\"]]}],\"surface\":[{\"type\":\"surface\",\"colorbar\":{\"outlinewidth\":0,\"ticks\":\"\"},\"colorscale\":[[0.0,\"#0d0887\"],[0.1111111111111111,\"#46039f\"],[0.2222222222222222,\"#7201a8\"],[0.3333333333333333,\"#9c179e\"],[0.4444444444444444,\"#bd3786\"],[0.5555555555555556,\"#d8576b\"],[0.6666666666666666,\"#ed7953\"],[0.7777777777777778,\"#fb9f3a\"],[0.8888888888888888,\"#fdca26\"],[1.0,\"#f0f921\"]]}],\"mesh3d\":[{\"type\":\"mesh3d\",\"colorbar\":{\"outlinewidth\":0,\"ticks\":\"\"}}],\"scatter\":[{\"fillpattern\":{\"fillmode\":\"overlay\",\"size\":10,\"solidity\":0.2},\"type\":\"scatter\"}],\"parcoords\":[{\"type\":\"parcoords\",\"line\":{\"colorbar\":{\"outlinewidth\":0,\"ticks\":\"\"}}}],\"scatterpolargl\":[{\"type\":\"scatterpolargl\",\"marker\":{\"colorbar\":{\"outlinewidth\":0,\"ticks\":\"\"}}}],\"bar\":[{\"error_x\":{\"color\":\"#2a3f5f\"},\"error_y\":{\"color\":\"#2a3f5f\"},\"marker\":{\"line\":{\"color\":\"white\",\"width\":0.5},\"pattern\":{\"fillmode\":\"overlay\",\"size\":10,\"solidity\":0.2}},\"type\":\"bar\"}],\"scattergeo\":[{\"type\":\"scattergeo\",\"marker\":{\"colorbar\":{\"outlinewidth\":0,\"ticks\":\"\"}}}],\"scatterpolar\":[{\"type\":\"scatterpolar\",\"marker\":{\"colorbar\":{\"outlinewidth\":0,\"ticks\":\"\"}}}],\"histogram\":[{\"marker\":{\"pattern\":{\"fillmode\":\"overlay\",\"size\":10,\"solidity\":0.2}},\"type\":\"histogram\"}],\"scattergl\":[{\"type\":\"scattergl\",\"marker\":{\"colorbar\":{\"outlinewidth\":0,\"ticks\":\"\"}}}],\"scatter3d\":[{\"type\":\"scatter3d\",\"line\":{\"colorbar\":{\"outlinewidth\":0,\"ticks\":\"\"}},\"marker\":{\"colorbar\":{\"outlinewidth\":0,\"ticks\":\"\"}}}],\"scattermapbox\":[{\"type\":\"scattermapbox\",\"marker\":{\"colorbar\":{\"outlinewidth\":0,\"ticks\":\"\"}}}],\"scatterternary\":[{\"type\":\"scatterternary\",\"marker\":{\"colorbar\":{\"outlinewidth\":0,\"ticks\":\"\"}}}],\"scattercarpet\":[{\"type\":\"scattercarpet\",\"marker\":{\"colorbar\":{\"outlinewidth\":0,\"ticks\":\"\"}}}],\"carpet\":[{\"aaxis\":{\"endlinecolor\":\"#2a3f5f\",\"gridcolor\":\"#C8D4E3\",\"linecolor\":\"#C8D4E3\",\"minorgridcolor\":\"#C8D4E3\",\"startlinecolor\":\"#2a3f5f\"},\"baxis\":{\"endlinecolor\":\"#2a3f5f\",\"gridcolor\":\"#C8D4E3\",\"linecolor\":\"#C8D4E3\",\"minorgridcolor\":\"#C8D4E3\",\"startlinecolor\":\"#2a3f5f\"},\"type\":\"carpet\"}],\"table\":[{\"cells\":{\"fill\":{\"color\":\"#EBF0F8\"},\"line\":{\"color\":\"white\"}},\"header\":{\"fill\":{\"color\":\"#C8D4E3\"},\"line\":{\"color\":\"white\"}},\"type\":\"table\"}],\"barpolar\":[{\"marker\":{\"line\":{\"color\":\"white\",\"width\":0.5},\"pattern\":{\"fillmode\":\"overlay\",\"size\":10,\"solidity\":0.2}},\"type\":\"barpolar\"}],\"pie\":[{\"automargin\":true,\"type\":\"pie\"}]},\"layout\":{\"autotypenumbers\":\"strict\",\"colorway\":[\"#636efa\",\"#EF553B\",\"#00cc96\",\"#ab63fa\",\"#FFA15A\",\"#19d3f3\",\"#FF6692\",\"#B6E880\",\"#FF97FF\",\"#FECB52\"],\"font\":{\"color\":\"#2a3f5f\"},\"hovermode\":\"closest\",\"hoverlabel\":{\"align\":\"left\"},\"paper_bgcolor\":\"white\",\"plot_bgcolor\":\"white\",\"polar\":{\"bgcolor\":\"white\",\"angularaxis\":{\"gridcolor\":\"#EBF0F8\",\"linecolor\":\"#EBF0F8\",\"ticks\":\"\"},\"radialaxis\":{\"gridcolor\":\"#EBF0F8\",\"linecolor\":\"#EBF0F8\",\"ticks\":\"\"}},\"ternary\":{\"bgcolor\":\"white\",\"aaxis\":{\"gridcolor\":\"#DFE8F3\",\"linecolor\":\"#A2B1C6\",\"ticks\":\"\"},\"baxis\":{\"gridcolor\":\"#DFE8F3\",\"linecolor\":\"#A2B1C6\",\"ticks\":\"\"},\"caxis\":{\"gridcolor\":\"#DFE8F3\",\"linecolor\":\"#A2B1C6\",\"ticks\":\"\"}},\"coloraxis\":{\"colorbar\":{\"outlinewidth\":0,\"ticks\":\"\"}},\"colorscale\":{\"sequential\":[[0.0,\"#0d0887\"],[0.1111111111111111,\"#46039f\"],[0.2222222222222222,\"#7201a8\"],[0.3333333333333333,\"#9c179e\"],[0.4444444444444444,\"#bd3786\"],[0.5555555555555556,\"#d8576b\"],[0.6666666666666666,\"#ed7953\"],[0.7777777777777778,\"#fb9f3a\"],[0.8888888888888888,\"#fdca26\"],[1.0,\"#f0f921\"]],\"sequentialminus\":[[0.0,\"#0d0887\"],[0.1111111111111111,\"#46039f\"],[0.2222222222222222,\"#7201a8\"],[0.3333333333333333,\"#9c179e\"],[0.4444444444444444,\"#bd3786\"],[0.5555555555555556,\"#d8576b\"],[0.6666666666666666,\"#ed7953\"],[0.7777777777777778,\"#fb9f3a\"],[0.8888888888888888,\"#fdca26\"],[1.0,\"#f0f921\"]],\"diverging\":[[0,\"#8e0152\"],[0.1,\"#c51b7d\"],[0.2,\"#de77ae\"],[0.3,\"#f1b6da\"],[0.4,\"#fde0ef\"],[0.5,\"#f7f7f7\"],[0.6,\"#e6f5d0\"],[0.7,\"#b8e186\"],[0.8,\"#7fbc41\"],[0.9,\"#4d9221\"],[1,\"#276419\"]]},\"xaxis\":{\"gridcolor\":\"#EBF0F8\",\"linecolor\":\"#EBF0F8\",\"ticks\":\"\",\"title\":{\"standoff\":15},\"zerolinecolor\":\"#EBF0F8\",\"automargin\":true,\"zerolinewidth\":2},\"yaxis\":{\"gridcolor\":\"#EBF0F8\",\"linecolor\":\"#EBF0F8\",\"ticks\":\"\",\"title\":{\"standoff\":15},\"zerolinecolor\":\"#EBF0F8\",\"automargin\":true,\"zerolinewidth\":2},\"scene\":{\"xaxis\":{\"backgroundcolor\":\"white\",\"gridcolor\":\"#DFE8F3\",\"linecolor\":\"#EBF0F8\",\"showbackground\":true,\"ticks\":\"\",\"zerolinecolor\":\"#EBF0F8\",\"gridwidth\":2},\"yaxis\":{\"backgroundcolor\":\"white\",\"gridcolor\":\"#DFE8F3\",\"linecolor\":\"#EBF0F8\",\"showbackground\":true,\"ticks\":\"\",\"zerolinecolor\":\"#EBF0F8\",\"gridwidth\":2},\"zaxis\":{\"backgroundcolor\":\"white\",\"gridcolor\":\"#DFE8F3\",\"linecolor\":\"#EBF0F8\",\"showbackground\":true,\"ticks\":\"\",\"zerolinecolor\":\"#EBF0F8\",\"gridwidth\":2}},\"shapedefaults\":{\"line\":{\"color\":\"#2a3f5f\"}},\"annotationdefaults\":{\"arrowcolor\":\"#2a3f5f\",\"arrowhead\":0,\"arrowwidth\":1},\"geo\":{\"bgcolor\":\"white\",\"landcolor\":\"white\",\"subunitcolor\":\"#C8D4E3\",\"showland\":true,\"showlakes\":true,\"lakecolor\":\"white\"},\"title\":{\"x\":0.05},\"mapbox\":{\"style\":\"light\"}}},\"shapes\":[{\"fillcolor\":\"grey\",\"layer\":\"above\",\"line\":{\"width\":0},\"opacity\":0.1,\"type\":\"rect\",\"x0\":0,\"x1\":7,\"xref\":\"x\",\"y0\":0,\"y1\":1,\"yref\":\"y domain\"},{\"fillcolor\":\"gold\",\"layer\":\"above\",\"line\":{\"width\":0},\"opacity\":0.1,\"type\":\"rect\",\"x0\":7,\"x1\":20,\"xref\":\"x\",\"y0\":0,\"y1\":1,\"yref\":\"y domain\"},{\"fillcolor\":\"grey\",\"layer\":\"above\",\"line\":{\"width\":0},\"opacity\":0.1,\"type\":\"rect\",\"x0\":20,\"x1\":24,\"xref\":\"x\",\"y0\":0,\"y1\":1,\"yref\":\"y domain\"}],\"annotations\":[{\"font\":{\"color\":\"dimgrey\",\"size\":14},\"showarrow\":false,\"text\":\"Low Demand\",\"x\":0.14583333333333334,\"xanchor\":\"center\",\"xref\":\"paper\",\"y\":0.05,\"yanchor\":\"middle\",\"yref\":\"paper\"},{\"font\":{\"color\":\"goldenrod\",\"size\":14},\"showarrow\":false,\"text\":\"Peak Demand\",\"x\":0.5625,\"xanchor\":\"center\",\"xref\":\"paper\",\"y\":0.05,\"yanchor\":\"middle\",\"yref\":\"paper\"},{\"font\":{\"color\":\"dimgrey\",\"size\":14},\"showarrow\":false,\"text\":\"Low Demand\",\"x\":0.9166666666666666,\"xanchor\":\"center\",\"xref\":\"paper\",\"y\":0.05,\"yanchor\":\"middle\",\"yref\":\"paper\"}],\"title\":{\"text\":\"Available Solar Energy and Utilised Solar Power\",\"font\":{\"size\":24},\"xanchor\":\"center\",\"x\":0.5,\"y\":0.99},\"yaxis\":{\"title\":{\"text\":\"Power [kW]\"},\"tickformat\":\" ,.2~g\",\"dtick\":2,\"range\":[0,11],\"showspikes\":true,\"spikecolor\":\"black\",\"spikedash\":\"dot\",\"spikethickness\":-2},\"barmode\":\"stack\",\"xaxis\":{\"tickformat\":\"\",\"griddash\":\"dot\",\"title\":{\"text\":\"Timestep (Hour) in a Day\"},\"range\":[-0.4,24.4],\"tickvals\":[0,1,2,3,4,5,6,7,8,9,10,11,12,13,14,15,16,17,18,19,20,21,22,23,24,25,26,27],\"ticktext\":[\"0\",\"1\",\"2\",\"3\",\"4\",\"5\",\"6\",\"7\",\"8\",\"9\",\"10\",\"11\",\"12\",\"13\",\"14\",\"15\",\"16\",\"17\",\"18\",\"19\",\"20\",\"21\",\"22\",\"23\",\"0\",\"1\",\"2\",\"3\"],\"showspikes\":true,\"spikecolor\":\"black\",\"spikedash\":\"dot\",\"spikethickness\":-2},\"margin\":{\"r\":180},\"legend\":{\"x\":0.5,\"orientation\":\"h\",\"yanchor\":\"bottom\",\"entrywidth\":0,\"y\":1.01,\"xanchor\":\"center\"},\"yaxis2\":{\"tickformat\":\" ,.2~g\",\"overlaying\":\"y\",\"dtick\":2,\"range\":[0,19],\"side\":\"right\",\"title\":{\"text\":\"Energy [kWh]\"},\"showspikes\":true,\"spikecolor\":\"black\",\"spikedash\":\"dot\",\"spikethickness\":-2},\"yaxis3\":{\"tickformat\":\"$,.2f\",\"overlaying\":\"y\",\"anchor\":\"free\",\"dtick\":0.02,\"title\":{\"text\":\"Grid Tariff\"},\"autoshift\":true,\"shift\":10,\"side\":\"right\",\"range\":[0,0.25],\"showspikes\":true,\"spikecolor\":\"black\",\"spikedash\":\"dot\",\"spikethickness\":-2},\"height\":650,\"width\":980,\"showlegend\":true,\"scattermode\":\"overlay\"},                        {\"locales\": {\"en\": {\"format\": {\"currency\": [\" \\u20ac \", \"\"]}}}, \"responsive\": true}                    ).then(function(){\n",
       "                            \n",
       "var gd = document.getElementById('4ae1ff50-4d2a-491d-90c8-5ea96b32e2ba');\n",
       "var x = new MutationObserver(function (mutations, observer) {{\n",
       "        var display = window.getComputedStyle(gd).display;\n",
       "        if (!display || display === 'none') {{\n",
       "            console.log([gd, 'removed!']);\n",
       "            Plotly.purge(gd);\n",
       "            observer.disconnect();\n",
       "        }}\n",
       "}});\n",
       "\n",
       "// Listen for the removal of the full notebook cells\n",
       "var notebookContainer = gd.closest('#notebook-container');\n",
       "if (notebookContainer) {{\n",
       "    x.observe(notebookContainer, {childList: true});\n",
       "}}\n",
       "\n",
       "// Listen for the clearing of the current output cell\n",
       "var outputEl = gd.closest('.output');\n",
       "if (outputEl) {{\n",
       "    x.observe(outputEl, {childList: true});\n",
       "}}\n",
       "\n",
       "                        })                };                });            </script>        </div>"
      ]
     },
     "metadata": {},
     "output_type": "display_data"
    }
   ],
   "source": [
    "subplot_fig = go.Figure()\n",
    "\n",
    "upv = energy_predictions['Utilised Solar Power']\n",
    "apv = energy_predictions['Available Solar Energy - 0-24h']\n",
    "\n",
    "subplot_fig.add_vrect(x0=0, x1=7, fillcolor='grey', opacity=0.1, layer='above', line=dict(width=0))\n",
    "subplot_fig.add_annotation(x=3.5/24, y=0.05, text=\"Low Demand\", xanchor='center', yanchor='middle', xref=\"paper\", yref=\"paper\", font=dict(size=14, color='dimgrey'), showarrow=False)\n",
    "subplot_fig.add_vrect(x0=7, x1=20, fillcolor='gold', opacity=0.1, layer='above', line=dict(width=0))\n",
    "subplot_fig.add_annotation(x=13.5/24, y=0.05, text=\"Peak Demand\", xanchor='center', yanchor='middle', xref=\"paper\", yref=\"paper\", font=dict(size=14, color='goldenrod'), showarrow=False)\n",
    "subplot_fig.add_vrect(x0=20, x1=24, fillcolor='grey', opacity=0.1, layer='above', line=dict(width=0))\n",
    "subplot_fig.add_annotation(x=22/24, y=0.05, text=\"Low Demand\", xanchor='center', yanchor='middle', xref=\"paper\", yref=\"paper\", font=dict(size=14, color='dimgrey'), showarrow=False)\n",
    "\n",
    "subplot_fig.add_scatter(x=energy_predictions.index, y=upv, line_shape='linear', name='Utilised Solar Power', mode='lines+markers',\n",
    "                        marker=dict(size=8, symbol='circle', line=dict(width=0.5), color='darkturquoise'), line=dict(color='darkturquoise'),\n",
    "                        showlegend=True, yaxis='y', legendgroup='PV')\n",
    "subplot_fig.add_scatter(x=energy_predictions.index, y=apv, line_shape='linear', name='Available Solar Energy', mode='lines+markers',\n",
    "                        marker=dict(size=8, symbol='diamond', line=dict(width=0.5), color='gold'), line=dict(color='gold'),\n",
    "                        showlegend=True, yaxis='y2', legendgroup='Solar')\n",
    "\n",
    "subplot_fig.add_scatter(x=costs_predictions.index, y=day_tariff, line_shape='hv', name='Electricity Day Tariff', mode='lines+markers',\n",
    "                        marker=dict(size=0, symbol='circle', line=dict(width=0), color='teal', coloraxis='coloraxis'), line=dict(color='teal'),\n",
    "                        showlegend=True, yaxis='y3', legendgroup='Day Tariff')\n",
    "\n",
    "max_timestep = int(initial_training_data.Departure.max() + 1)\n",
    "subplot_fig.update_layout(title=\"Available Solar Energy and Utilised Solar Power\",\n",
    "                          yaxis=dict(title=''), barmode='overlay')\n",
    "subplot_fig.update_xaxes(tickformat='', griddash=\"dot\", title=\"Timestep (Hour) in a Day\", range=[-0.4, 24.4],\n",
    "                         tickvals=[i for i in range(max_timestep)],\n",
    "                         ticktext=[str(i%24) for i in range(max_timestep)],\n",
    "                         showspikes=True, spikecolor='black', spikedash='dot', spikethickness=-2)\n",
    "\n",
    "# For plot export: w(1280)xh(720), w(1920)xh(1080)\n",
    "# For better overview in jupyter: w(850)xh(650)\n",
    "plot_width = 980\n",
    "plot_height = 650\n",
    "\n",
    "max_solar_power = energy_predictions['Utilised Solar Power'].max()\n",
    "solar_margin = int(round(max_solar_power/2)*2)+2\n",
    "\n",
    "max_solar_energy = energy_predictions['Available Solar Energy - 0-24h'].max()\n",
    "solar_e_margin = int(round(max_solar_energy/2)*2)+2\n",
    "\n",
    "subplot_fig.update_layout(height=plot_height, width=plot_width, title=dict(xanchor=\"center\", x=0.5, font_size=24, y=0.99), \n",
    "                          showlegend=True, barmode='stack', margin=dict(r=180),\n",
    "                          legend=dict(x=0.5, orientation='h', yanchor='bottom', entrywidth=0, y=1.01, xanchor='center'), scattermode='overlay',\n",
    "                          yaxis=dict(tickformat=\" ,.2~g\", dtick=2, range=[0, solar_margin+5], title='Power [kW]', showspikes=True, spikecolor='black', spikedash='dot', spikethickness=-2),\n",
    "                          yaxis2=dict(tickformat=\" ,.2~g\", overlaying='y', dtick=2, range=[0, solar_e_margin+3], \n",
    "                                      side='right', title='Energy [kWh]', showspikes=True, spikecolor='black', spikedash='dot', spikethickness=-2),\n",
    "                          yaxis3=dict(tickformat=\"$,.2f\", overlaying='y', anchor='free', dtick=0.02, title='Grid Tariff',\n",
    "                                      autoshift=True, shift=10, side='right', range=[0, tariff_margin], showspikes=True, spikecolor='black', spikedash='dot', spikethickness=-2))\n",
    "\n",
    "config = {'locales': {'en': {'format': {'currency': [\" € \", \"\"]}}}}\n",
    "subplot_fig.show(config=config)\n",
    "\n",
    "del max_timestep, plot_width, plot_height"
   ]
  },
  {
   "cell_type": "code",
   "execution_count": null,
   "id": "5715dd7c",
   "metadata": {},
   "outputs": [],
   "source": []
  }
 ],
 "metadata": {
  "kernelspec": {
   "display_name": "Python 3 (ipykernel)",
   "language": "python",
   "name": "python3"
  },
  "language_info": {
   "codemirror_mode": {
    "name": "ipython",
    "version": 3
   },
   "file_extension": ".py",
   "mimetype": "text/x-python",
   "name": "python",
   "nbconvert_exporter": "python",
   "pygments_lexer": "ipython3",
   "version": "3.8.3"
  }
 },
 "nbformat": 4,
 "nbformat_minor": 5
}
